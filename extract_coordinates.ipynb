{
 "cells": [
  {
   "cell_type": "code",
   "execution_count": 17,
   "id": "439e73bf-ed7b-4d07-b211-7b57da85ab01",
   "metadata": {},
   "outputs": [
    {
     "name": "stderr",
     "output_type": "stream",
     "text": [
      "<>:58: SyntaxWarning: invalid escape sequence '\\d'\n",
      "<>:59: SyntaxWarning: invalid escape sequence '\\d'\n",
      "<>:58: SyntaxWarning: invalid escape sequence '\\d'\n",
      "<>:59: SyntaxWarning: invalid escape sequence '\\d'\n",
      "C:\\Users\\user\\AppData\\Local\\Temp\\ipykernel_10552\\632736589.py:58: SyntaxWarning: invalid escape sequence '\\d'\n",
      "  df['Latitude'] = df['Latitude'].str.replace('[^\\d.-]', '', regex=True)\n",
      "C:\\Users\\user\\AppData\\Local\\Temp\\ipykernel_10552\\632736589.py:59: SyntaxWarning: invalid escape sequence '\\d'\n",
      "  df['Longitude'] = df['Longitude'].str.replace('[^\\d.-]', '', regex=True)\n"
     ]
    },
    {
     "name": "stdout",
     "output_type": "stream",
     "text": [
      "\n",
      "=== ANALISIS DATA AWAL ===\n",
      "Total data: 1088\n",
      "\n",
      "Data dengan koordinat NULL: 293\n",
      "\n",
      "Memulai proses update koordinat dari API...\n",
      "\n",
      "Mengambil data untuk kelurahan: CIPAYUNG\n",
      "\n",
      "Mengambil data untuk kelurahan: CIPUTAT\n",
      "\n",
      "Mengambil data untuk kelurahan: JOMBANG\n",
      "\n",
      "Mengambil data untuk kelurahan: SAWAH\n",
      "\n",
      "Mengambil data untuk kelurahan: SAWAH BARU\n",
      "\n",
      "Mengambil data untuk kelurahan: SERUA\n",
      "\n",
      "Mengambil data untuk kelurahan: SERUA INDAH\n",
      "\n",
      "Mengambil data untuk kelurahan: CEMPAKA PUTIH\n",
      "\n",
      "Mengambil data untuk kelurahan: CIREUNDEU\n",
      "\n",
      "Mengambil data untuk kelurahan: PISANGAN\n",
      "\n",
      "Mengambil data untuk kelurahan: PONDOK RANJI\n",
      "\n",
      "Mengambil data untuk kelurahan: REMPOA\n",
      "\n",
      "Mengambil data untuk kelurahan: RENGAS\n",
      "\n",
      "Mengambil data untuk kelurahan: BAMBUAPUS\n",
      "\n",
      "Mengambil data untuk kelurahan: BENDA BARU\n",
      "\n",
      "Mengambil data untuk kelurahan: KEDAUNG\n",
      "\n",
      "Mengambil data untuk kelurahan: PAMULANG BARAT\n",
      "\n",
      "Mengambil data untuk kelurahan: PAMULANG TIMUR\n",
      "\n",
      "Mengambil data untuk kelurahan: PONDOK BENDA\n",
      "\n",
      "Mengambil data untuk kelurahan: PONDOK CABE ILIR\n",
      "\n",
      "Mengambil data untuk kelurahan: PONDOK CABE UDIK\n",
      "\n",
      "Mengambil data untuk kelurahan: JURANGMANGU BARAT\n",
      "\n",
      "Mengambil data untuk kelurahan: JURANGMANGU TIMUR\n",
      "\n",
      "Mengambil data untuk kelurahan: PARIGI\n",
      "\n",
      "Mengambil data untuk kelurahan: PARIGI BARU\n",
      "\n",
      "Mengambil data untuk kelurahan: PONDOK AREN\n",
      "\n",
      "Mengambil data untuk kelurahan: PONDOK BETUNG\n",
      "\n",
      "Mengambil data untuk kelurahan: PONDOK JAYA\n",
      "\n",
      "Mengambil data untuk kelurahan: PONDOK KACANG BARAT\n",
      "\n",
      "Mengambil data untuk kelurahan: PONDOK KACANG TIMUR\n",
      "\n",
      "Mengambil data untuk kelurahan: PONDOK KARYA\n",
      "\n",
      "Mengambil data untuk kelurahan: PONDOK PUCUNG\n",
      "\n",
      "Mengambil data untuk kelurahan: BUARAN\n",
      "\n",
      "Mengambil data untuk kelurahan: CIATER\n",
      "\n",
      "Mengambil data untuk kelurahan: CILENGGANG\n",
      "\n",
      "Mengambil data untuk kelurahan: LENGKONG GUDANG\n",
      "\n",
      "Mengambil data untuk kelurahan: LENGKONG GUDANG TIMUR\n",
      "\n",
      "Mengambil data untuk kelurahan: LENGKONG WETAN\n",
      "\n",
      "Mengambil data untuk kelurahan: RAWA MEKARJAYA\n",
      "\n",
      "Mengambil data untuk kelurahan: RAWABUNTU\n",
      "\n",
      "Mengambil data untuk kelurahan: SERPONG\n",
      "\n",
      "Mengambil data untuk kelurahan: JELUPANG\n",
      "\n",
      "Mengambil data untuk kelurahan: PAKUALAM\n",
      "\n",
      "Mengambil data untuk kelurahan: PAKUJAYA\n",
      "\n",
      "Mengambil data untuk kelurahan: PAKULONAN\n",
      "\n",
      "Mengambil data untuk kelurahan: PONDOK JAGUNG TIMUR\n",
      "\n",
      "Mengambil data untuk kelurahan: BABAKAN\n",
      "\n",
      "Mengambil data untuk kelurahan: BAKTI JAYA\n",
      "\n",
      "Mengambil data untuk kelurahan: KADEMANGAN\n",
      "\n",
      "Mengambil data untuk kelurahan: KERANGGAN\n",
      "\n",
      "Mengambil data untuk kelurahan: MUNCUL\n",
      "\n",
      "Mengambil data untuk kelurahan: SETU\n",
      "\n",
      "Berhasil mengupdate 0 dari 293 data koordinat NULL\n",
      "\n",
      "Data telah disimpan ke merchants_tangsel_updated.csv\n",
      "\n",
      "Masih terdapat 293 data dengan koordinat NULL\n",
      "Data tersebut telah disimpan ke koordinat_masih_null.csv\n"
     ]
    }
   ],
   "source": [
    "import pandas as pd\n",
    "import requests\n",
    "import time\n",
    "from typing import Dict, List, Optional\n",
    "\n",
    "class PertaminaAPIScraper:\n",
    "    def __init__(self):\n",
    "        self.base_url = \"https://subsiditepatlpg.mypertamina.id/infolpg3kg/api\"\n",
    "        self.headers = {\n",
    "            \"User-Agent\": \"Mozilla/5.0 (Windows NT 10.0; Win64; x64) AppleWebKit/537.36 (KHTML, like Gecko) Chrome/91.0.4472.124 Safari/537.36\",\n",
    "            \"Accept\": \"application/json\",\n",
    "            \"Content-Type\": \"application/json\"\n",
    "        }\n",
    "    \n",
    "    def get_merchants(self, village_id: str, page: int = 1, size: int = 100) -> Optional[Dict]:\n",
    "        try:\n",
    "            url = f\"{self.base_url}/general/users/v1/merchants\"\n",
    "            params = {\n",
    "                \"page\": page,\n",
    "                \"size\": size,\n",
    "                \"villageId\": village_id\n",
    "            }\n",
    "            \n",
    "            response = requests.get(url, params=params, headers=self.headers)\n",
    "            time.sleep(1)  # Delay untuk menghindari rate limiting\n",
    "            \n",
    "            if response.status_code == 200:\n",
    "                return response.json()\n",
    "            else:\n",
    "                print(f\"Error {response.status_code}: {response.text}\")\n",
    "                return None\n",
    "                \n",
    "        except Exception as e:\n",
    "            print(f\"Error getting merchants: {str(e)}\")\n",
    "            return None\n",
    "\n",
    "def analyze_and_update_coordinates():\n",
    "    \"\"\"\n",
    "    Menganalisis data koordinat NULL dan mengupdate menggunakan API\n",
    "    \"\"\"\n",
    "    try:\n",
    "        # Baca CSV dengan separator semicolon\n",
    "        df = pd.read_csv('merchants_tangsel.csv', \n",
    "                        sep=';',\n",
    "                        encoding='utf-8',\n",
    "                        on_bad_lines='warn')\n",
    "        \n",
    "        print(\"\\n=== ANALISIS DATA AWAL ===\")\n",
    "        print(f\"Total data: {len(df)}\")\n",
    "        \n",
    "        # Bersihkan data koordinat\n",
    "        df['Koordinat'] = df['Koordinat'].astype(str).str.replace('\"', '').str.strip()\n",
    "        \n",
    "        # Pisahkan koordinat menjadi latitude dan longitude\n",
    "        df[['Latitude', 'Longitude']] = df['Koordinat'].str.split(',', expand=True)\n",
    "        \n",
    "        # Bersihkan nilai latitude dan longitude\n",
    "        df['Latitude'] = df['Latitude'].str.replace('[^\\d.-]', '', regex=True)\n",
    "        df['Longitude'] = df['Longitude'].str.replace('[^\\d.-]', '', regex=True)\n",
    "        \n",
    "        # Konversi ke float\n",
    "        df['Latitude'] = pd.to_numeric(df['Latitude'], errors='coerce')\n",
    "        df['Longitude'] = pd.to_numeric(df['Longitude'], errors='coerce')\n",
    "        \n",
    "        # Identifikasi data NULL\n",
    "        null_coords = df[df['Latitude'].isna() | df['Longitude'].isna()].copy()\n",
    "        print(f\"\\nData dengan koordinat NULL: {len(null_coords)}\")\n",
    "        \n",
    "        if len(null_coords) > 0:\n",
    "            print(\"\\nMemulai proses update koordinat dari API...\")\n",
    "            \n",
    "            # Inisialisasi scraper\n",
    "            scraper = PertaminaAPIScraper()\n",
    "            updated_count = 0\n",
    "            \n",
    "            # Dapatkan data dari API untuk setiap kelurahan\n",
    "            unique_villages = null_coords['Kelurahan'].unique()\n",
    "            \n",
    "            for village in unique_villages:\n",
    "                print(f\"\\nMengambil data untuk kelurahan: {village}\")\n",
    "                \n",
    "                # Gunakan village ID sesuai dengan data Anda\n",
    "                village_id = \"608605d4-7864-11ed-8cf6-4201c0a80002\"  # Sesuaikan dengan ID yang benar\n",
    "                \n",
    "                # Ambil data merchants\n",
    "                page = 1\n",
    "                merchant_data = {}\n",
    "                \n",
    "                while True:\n",
    "                    result = scraper.get_merchants(village_id, page)\n",
    "                    if not result or not result.get('content'):\n",
    "                        break\n",
    "                    \n",
    "                    # Proses setiap merchant\n",
    "                    for merchant in result['content']:\n",
    "                        merchant_name = merchant.get('name', '').upper()\n",
    "                        if merchant.get('latitude') and merchant.get('longitude'):\n",
    "                            merchant_data[merchant_name] = {\n",
    "                                'latitude': merchant['latitude'],\n",
    "                                'longitude': merchant['longitude']\n",
    "                            }\n",
    "                    \n",
    "                    if page >= result.get('totalPages', 1):\n",
    "                        break\n",
    "                    page += 1\n",
    "                \n",
    "                # Update koordinat untuk merchants di kelurahan ini\n",
    "                village_nulls = null_coords[null_coords['Kelurahan'] == village]\n",
    "                for idx in village_nulls.index:\n",
    "                    merchant_name = df.loc[idx, 'Nama Pemilik']\n",
    "                    if merchant_name in merchant_data:\n",
    "                        df.loc[idx, 'Latitude'] = merchant_data[merchant_name]['latitude']\n",
    "                        df.loc[idx, 'Longitude'] = merchant_data[merchant_name]['longitude']\n",
    "                        updated_count += 1\n",
    "            \n",
    "            print(f\"\\nBerhasil mengupdate {updated_count} dari {len(null_coords)} data koordinat NULL\")\n",
    "            \n",
    "            # Update kolom Koordinat dengan format yang benar\n",
    "            df['Koordinat'] = df.apply(\n",
    "                lambda x: f\"{x['Latitude']}, {x['Longitude']}\" if pd.notnull(x['Latitude']) and pd.notnull(x['Longitude']) else x['Koordinat'],\n",
    "                axis=1\n",
    "            )\n",
    "            \n",
    "            # Simpan hasil\n",
    "            df.to_csv('merchants_tangsel_updated.csv', sep=';', index=False)\n",
    "            print(\"\\nData telah disimpan ke merchants_tangsel_updated.csv\")\n",
    "            \n",
    "            # Simpan data yang masih NULL untuk pengecekan manual\n",
    "            still_null = df[df['Latitude'].isna() | df['Longitude'].isna()]\n",
    "            if len(still_null) > 0:\n",
    "                still_null.to_csv('koordinat_masih_null.csv', sep=';', index=False)\n",
    "                print(f\"\\nMasih terdapat {len(still_null)} data dengan koordinat NULL\")\n",
    "                print(\"Data tersebut telah disimpan ke koordinat_masih_null.csv\")\n",
    "        \n",
    "    except Exception as e:\n",
    "        print(f\"Error dalam pemrosesan data: {str(e)}\")\n",
    "\n",
    "if __name__ == \"__main__\":\n",
    "    analyze_and_update_coordinates()"
   ]
  },
  {
   "cell_type": "code",
   "execution_count": 19,
   "id": "19e285ff-a8e6-4bbf-9c22-e9f0676a22e2",
   "metadata": {},
   "outputs": [
    {
     "name": "stderr",
     "output_type": "stream",
     "text": [
      "<>:77: SyntaxWarning: invalid escape sequence '\\d'\n",
      "<>:78: SyntaxWarning: invalid escape sequence '\\d'\n",
      "<>:77: SyntaxWarning: invalid escape sequence '\\d'\n",
      "<>:78: SyntaxWarning: invalid escape sequence '\\d'\n",
      "C:\\Users\\user\\AppData\\Local\\Temp\\ipykernel_10552\\2109954341.py:77: SyntaxWarning: invalid escape sequence '\\d'\n",
      "  df['Latitude'] = df['Latitude'].str.replace('[^\\d.-]', '', regex=True)\n",
      "C:\\Users\\user\\AppData\\Local\\Temp\\ipykernel_10552\\2109954341.py:78: SyntaxWarning: invalid escape sequence '\\d'\n",
      "  df['Longitude'] = df['Longitude'].str.replace('[^\\d.-]', '', regex=True)\n"
     ]
    },
    {
     "name": "stdout",
     "output_type": "stream",
     "text": [
      "\n",
      "=== ANALISIS DATA AWAL ===\n",
      "Total data: 1088\n",
      "\n",
      "Data dengan koordinat NULL: 293\n",
      "\n",
      "Memulai proses update koordinat dari OpenStreetMap...\n",
      "\n",
      "Mencari koordinat untuk: JL. DUTA LESTARI, CIPUTAT\n",
      "Tidak ditemukan\n",
      "\n",
      "Mencari koordinat untuk: JL. CIMANDIRI VI, CIPUTAT\n",
      "Tidak ditemukan\n",
      "\n",
      "Mencari koordinat untuk: JL CIMANDIRI RAYA RT 001 / RW 008, CIPUTAT\n",
      "Tidak ditemukan\n",
      "\n",
      "Mencari koordinat untuk: Jl.Cendrawasih no.69, CIPUTAT\n",
      "Tidak ditemukan\n",
      "\n",
      "Mencari koordinat untuk: Jl Citarum lll, CIPUTAT\n",
      "Tidak ditemukan\n",
      "\n",
      "Mencari koordinat untuk: Jl kesehatan 2 no 53, CIPUTAT\n",
      "Tidak ditemukan\n",
      "\n",
      "Mencari koordinat untuk: Jl Cimandiri, CIPUTAT\n",
      "Tidak ditemukan\n",
      "\n",
      "Mencari koordinat untuk: Jl Makmur Rt.04 RW.05 Kel. Cipayung, CIPUTAT\n",
      "Tidak ditemukan\n",
      "\n",
      "Mencari koordinat untuk: Jl Cimandiri Raya RT.04 RW.05 Kel. Cipayung, CIPUTAT\n",
      "Tidak ditemukan\n",
      "\n",
      "Mencari koordinat untuk: Jl. Ir. H. Juanda No. 06, CIPUTAT\n",
      "Tidak ditemukan\n",
      "\n",
      "Mencari koordinat untuk: JL. CIMANDIRI RT 05 RW 05, CIPUTAT\n",
      "Tidak ditemukan\n",
      "\n",
      "Mencari koordinat untuk: JL KEBON DUREN RT 003 / RW 013, CIPUTAT\n",
      "Tidak ditemukan\n",
      "\n",
      "Mencari koordinat untuk: JL OTISTA SASAK TINGGI RT 001/ RW 011, CIPUTAT\n",
      "Tidak ditemukan\n",
      "\n",
      "Mencari koordinat untuk: Jl KH Dewantoro RT.01 RW.04 Kel. Ciputat, CIPUTAT\n",
      "Tidak ditemukan\n",
      "\n",
      "Mencari koordinat untuk: Jl. Pendidikan No. 20, CIPUTAT\n",
      "Tidak ditemukan\n",
      "\n",
      "Mencari koordinat untuk: Jl KH Dewantoro RT.03 RW.03 Kel. Ciputat, CIPUTAT\n",
      "Tidak ditemukan\n",
      "\n",
      "Mencari koordinat untuk: Jl. Bawang Putih Raya No. 1, CIPUTAT\n",
      "Tidak ditemukan\n",
      "\n",
      "Mencari koordinat untuk: JL. ARIA PUTRA D BLOK D NO. 9, CIPUTAT\n",
      "Tidak ditemukan\n",
      "\n",
      "Mencari koordinat untuk: Jl. Dewi Sartika, Gg Nangka, CIPUTAT\n",
      "Tidak ditemukan\n",
      "\n",
      "Mencari koordinat untuk: Jl. Otista Raya No. 51, CIPUTAT\n",
      "Tidak ditemukan\n",
      "\n",
      "Mencari koordinat untuk: Ko.gunung jombang ciputat, CIPUTAT\n",
      "Tidak ditemukan\n",
      "\n",
      "Mencari koordinat untuk: Kp.Cilalung, CIPUTAT\n",
      "Tidak ditemukan\n",
      "\n",
      "Mencari koordinat untuk: Jl. Pertanian No. 80B, CIPUTAT\n",
      "Tidak ditemukan\n",
      "\n",
      "Mencari koordinat untuk: Jln Rawa lele Rt.005 RW.07, CIPUTAT\n",
      "Tidak ditemukan\n",
      "\n",
      "Mencari koordinat untuk: Jl raya jombang rt 002 rw 004, CIPUTAT\n",
      "Tidak ditemukan\n",
      "\n",
      "Mencari koordinat untuk: Kp. Gunung, CIPUTAT\n",
      "Tidak ditemukan\n",
      "\n",
      "Mencari koordinat untuk: KP. GUNUNG, CIPUTAT\n",
      "Tidak ditemukan\n",
      "\n",
      "Mencari koordinat untuk: Jalan Jombang rawa lele tpu Jombang, CIPUTAT\n",
      "Tidak ditemukan\n",
      "\n",
      "Mencari koordinat untuk: GG. HIDAYAH JL. H. BOANG, CIPUTAT\n",
      "Tidak ditemukan\n",
      "\n",
      "Mencari koordinat untuk: Jl aria putra no 23 sarua ciputat, CIPUTAT\n",
      "Tidak ditemukan\n",
      "\n",
      "Mencari koordinat untuk: Jl Musyawarah No.90, CIPUTAT\n",
      "Tidak ditemukan\n",
      "\n",
      "Mencari koordinat untuk: Jl Merpati Raya Gg Elang I, CIPUTAT\n",
      "Tidak ditemukan\n",
      "\n",
      "Mencari koordinat untuk: Jl Ki Hajar Dewantoro No.94, CIPUTAT\n",
      "Tidak ditemukan\n",
      "\n",
      "Mencari koordinat untuk: Jl kh dewantoro, CIPUTAT\n",
      "Tidak ditemukan\n",
      "\n",
      "Mencari koordinat untuk: Jl. Cendrawasih VA no. 57, CIPUTAT\n",
      "Tidak ditemukan\n",
      "\n",
      "Mencari koordinat untuk: Jl cendrawasih vA, CIPUTAT\n",
      "Tidak ditemukan\n",
      "\n",
      "Mencari koordinat untuk: Jln murai no 214, CIPUTAT\n",
      "Tidak ditemukan\n",
      "\n",
      "Mencari koordinat untuk: Jl. Palem Indah No.90, CIPUTAT\n",
      "Tidak ditemukan\n",
      "\n",
      "Mencari koordinat untuk: Jl. Palem Puri 12, CIPUTAT\n",
      "Tidak ditemukan\n",
      "\n",
      "Mencari koordinat untuk: Jl. Masjid Nurul Qomar RW. 06, CIPUTAT\n"
     ]
    },
    {
     "name": "stderr",
     "output_type": "stream",
     "text": [
      "C:\\Users\\user\\AppData\\Local\\Temp\\ipykernel_10552\\2109954341.py:77: SyntaxWarning: invalid escape sequence '\\d'\n",
      "  df['Latitude'] = df['Latitude'].str.replace('[^\\d.-]', '', regex=True)\n",
      "C:\\Users\\user\\AppData\\Local\\Temp\\ipykernel_10552\\2109954341.py:78: SyntaxWarning: invalid escape sequence '\\d'\n",
      "  df['Longitude'] = df['Longitude'].str.replace('[^\\d.-]', '', regex=True)\n"
     ]
    },
    {
     "ename": "KeyboardInterrupt",
     "evalue": "",
     "output_type": "error",
     "traceback": [
      "\u001b[1;31m---------------------------------------------------------------------------\u001b[0m",
      "\u001b[1;31mKeyboardInterrupt\u001b[0m                         Traceback (most recent call last)",
      "Cell \u001b[1;32mIn[19], line 145\u001b[0m\n\u001b[0;32m    142\u001b[0m         \u001b[38;5;28mprint\u001b[39m(\u001b[38;5;124mf\u001b[39m\u001b[38;5;124m\"\u001b[39m\u001b[38;5;124mError dalam pemrosesan data: \u001b[39m\u001b[38;5;132;01m{\u001b[39;00m\u001b[38;5;28mstr\u001b[39m(e)\u001b[38;5;132;01m}\u001b[39;00m\u001b[38;5;124m\"\u001b[39m)\n\u001b[0;32m    144\u001b[0m \u001b[38;5;28;01mif\u001b[39;00m \u001b[38;5;18m__name__\u001b[39m \u001b[38;5;241m==\u001b[39m \u001b[38;5;124m\"\u001b[39m\u001b[38;5;124m__main__\u001b[39m\u001b[38;5;124m\"\u001b[39m:\n\u001b[1;32m--> 145\u001b[0m     analyze_and_update_coordinates()\n",
      "Cell \u001b[1;32mIn[19], line 103\u001b[0m, in \u001b[0;36manalyze_and_update_coordinates\u001b[1;34m()\u001b[0m\n\u001b[0;32m    100\u001b[0m \u001b[38;5;28mprint\u001b[39m(\u001b[38;5;124mf\u001b[39m\u001b[38;5;124m\"\u001b[39m\u001b[38;5;130;01m\\n\u001b[39;00m\u001b[38;5;124mMencari koordinat untuk: \u001b[39m\u001b[38;5;132;01m{\u001b[39;00malamat\u001b[38;5;132;01m}\u001b[39;00m\u001b[38;5;124m, \u001b[39m\u001b[38;5;132;01m{\u001b[39;00mkecamatan\u001b[38;5;132;01m}\u001b[39;00m\u001b[38;5;124m\"\u001b[39m)\n\u001b[0;32m    102\u001b[0m \u001b[38;5;66;03m# Dapatkan koordinat\u001b[39;00m\n\u001b[1;32m--> 103\u001b[0m result \u001b[38;5;241m=\u001b[39m geocoder\u001b[38;5;241m.\u001b[39mget_coordinates(\n\u001b[0;32m    104\u001b[0m     address\u001b[38;5;241m=\u001b[39m\u001b[38;5;124mf\u001b[39m\u001b[38;5;124m\"\u001b[39m\u001b[38;5;132;01m{\u001b[39;00malamat\u001b[38;5;132;01m}\u001b[39;00m\u001b[38;5;124m, \u001b[39m\u001b[38;5;132;01m{\u001b[39;00mkecamatan\u001b[38;5;132;01m}\u001b[39;00m\u001b[38;5;124m\"\u001b[39m\n\u001b[0;32m    105\u001b[0m )\n\u001b[0;32m    107\u001b[0m \u001b[38;5;28;01mif\u001b[39;00m result:\n\u001b[0;32m    108\u001b[0m     df\u001b[38;5;241m.\u001b[39mloc[idx, \u001b[38;5;124m'\u001b[39m\u001b[38;5;124mLatitude\u001b[39m\u001b[38;5;124m'\u001b[39m] \u001b[38;5;241m=\u001b[39m result[\u001b[38;5;241m0\u001b[39m]\n",
      "Cell \u001b[1;32mIn[19], line 34\u001b[0m, in \u001b[0;36mGeocodingService.get_coordinates\u001b[1;34m(self, address, city)\u001b[0m\n\u001b[0;32m     26\u001b[0m params \u001b[38;5;241m=\u001b[39m {\n\u001b[0;32m     27\u001b[0m     \u001b[38;5;124m\"\u001b[39m\u001b[38;5;124mq\u001b[39m\u001b[38;5;124m\"\u001b[39m: encoded_address,\n\u001b[0;32m     28\u001b[0m     \u001b[38;5;124m\"\u001b[39m\u001b[38;5;124mformat\u001b[39m\u001b[38;5;124m\"\u001b[39m: \u001b[38;5;124m\"\u001b[39m\u001b[38;5;124mjson\u001b[39m\u001b[38;5;124m\"\u001b[39m,\n\u001b[0;32m     29\u001b[0m     \u001b[38;5;124m\"\u001b[39m\u001b[38;5;124mlimit\u001b[39m\u001b[38;5;124m\"\u001b[39m: \u001b[38;5;241m1\u001b[39m,\n\u001b[0;32m     30\u001b[0m     \u001b[38;5;124m\"\u001b[39m\u001b[38;5;124mcountrycodes\u001b[39m\u001b[38;5;124m\"\u001b[39m: \u001b[38;5;124m\"\u001b[39m\u001b[38;5;124mid\u001b[39m\u001b[38;5;124m\"\u001b[39m\n\u001b[0;32m     31\u001b[0m }\n\u001b[0;32m     33\u001b[0m \u001b[38;5;66;03m# Kirim request\u001b[39;00m\n\u001b[1;32m---> 34\u001b[0m response \u001b[38;5;241m=\u001b[39m requests\u001b[38;5;241m.\u001b[39mget(\n\u001b[0;32m     35\u001b[0m     \u001b[38;5;28mself\u001b[39m\u001b[38;5;241m.\u001b[39mbase_url,\n\u001b[0;32m     36\u001b[0m     params\u001b[38;5;241m=\u001b[39mparams,\n\u001b[0;32m     37\u001b[0m     headers\u001b[38;5;241m=\u001b[39m\u001b[38;5;28mself\u001b[39m\u001b[38;5;241m.\u001b[39mheaders\n\u001b[0;32m     38\u001b[0m )\n\u001b[0;32m     40\u001b[0m \u001b[38;5;66;03m# Delay untuk menghormati rate limit\u001b[39;00m\n\u001b[0;32m     41\u001b[0m time\u001b[38;5;241m.\u001b[39msleep(\u001b[38;5;241m1\u001b[39m)\n",
      "File \u001b[1;32mC:\\ProgramData\\anaconda3\\Lib\\site-packages\\requests\\api.py:73\u001b[0m, in \u001b[0;36mget\u001b[1;34m(url, params, **kwargs)\u001b[0m\n\u001b[0;32m     62\u001b[0m \u001b[38;5;28;01mdef\u001b[39;00m \u001b[38;5;21mget\u001b[39m(url, params\u001b[38;5;241m=\u001b[39m\u001b[38;5;28;01mNone\u001b[39;00m, \u001b[38;5;241m*\u001b[39m\u001b[38;5;241m*\u001b[39mkwargs):\n\u001b[0;32m     63\u001b[0m \u001b[38;5;250m    \u001b[39m\u001b[38;5;124mr\u001b[39m\u001b[38;5;124;03m\"\"\"Sends a GET request.\u001b[39;00m\n\u001b[0;32m     64\u001b[0m \n\u001b[0;32m     65\u001b[0m \u001b[38;5;124;03m    :param url: URL for the new :class:`Request` object.\u001b[39;00m\n\u001b[1;32m   (...)\u001b[0m\n\u001b[0;32m     70\u001b[0m \u001b[38;5;124;03m    :rtype: requests.Response\u001b[39;00m\n\u001b[0;32m     71\u001b[0m \u001b[38;5;124;03m    \"\"\"\u001b[39;00m\n\u001b[1;32m---> 73\u001b[0m     \u001b[38;5;28;01mreturn\u001b[39;00m request(\u001b[38;5;124m\"\u001b[39m\u001b[38;5;124mget\u001b[39m\u001b[38;5;124m\"\u001b[39m, url, params\u001b[38;5;241m=\u001b[39mparams, \u001b[38;5;241m*\u001b[39m\u001b[38;5;241m*\u001b[39mkwargs)\n",
      "File \u001b[1;32mC:\\ProgramData\\anaconda3\\Lib\\site-packages\\requests\\api.py:59\u001b[0m, in \u001b[0;36mrequest\u001b[1;34m(method, url, **kwargs)\u001b[0m\n\u001b[0;32m     55\u001b[0m \u001b[38;5;66;03m# By using the 'with' statement we are sure the session is closed, thus we\u001b[39;00m\n\u001b[0;32m     56\u001b[0m \u001b[38;5;66;03m# avoid leaving sockets open which can trigger a ResourceWarning in some\u001b[39;00m\n\u001b[0;32m     57\u001b[0m \u001b[38;5;66;03m# cases, and look like a memory leak in others.\u001b[39;00m\n\u001b[0;32m     58\u001b[0m \u001b[38;5;28;01mwith\u001b[39;00m sessions\u001b[38;5;241m.\u001b[39mSession() \u001b[38;5;28;01mas\u001b[39;00m session:\n\u001b[1;32m---> 59\u001b[0m     \u001b[38;5;28;01mreturn\u001b[39;00m session\u001b[38;5;241m.\u001b[39mrequest(method\u001b[38;5;241m=\u001b[39mmethod, url\u001b[38;5;241m=\u001b[39murl, \u001b[38;5;241m*\u001b[39m\u001b[38;5;241m*\u001b[39mkwargs)\n",
      "File \u001b[1;32mC:\\ProgramData\\anaconda3\\Lib\\site-packages\\requests\\sessions.py:589\u001b[0m, in \u001b[0;36mSession.request\u001b[1;34m(self, method, url, params, data, headers, cookies, files, auth, timeout, allow_redirects, proxies, hooks, stream, verify, cert, json)\u001b[0m\n\u001b[0;32m    584\u001b[0m send_kwargs \u001b[38;5;241m=\u001b[39m {\n\u001b[0;32m    585\u001b[0m     \u001b[38;5;124m\"\u001b[39m\u001b[38;5;124mtimeout\u001b[39m\u001b[38;5;124m\"\u001b[39m: timeout,\n\u001b[0;32m    586\u001b[0m     \u001b[38;5;124m\"\u001b[39m\u001b[38;5;124mallow_redirects\u001b[39m\u001b[38;5;124m\"\u001b[39m: allow_redirects,\n\u001b[0;32m    587\u001b[0m }\n\u001b[0;32m    588\u001b[0m send_kwargs\u001b[38;5;241m.\u001b[39mupdate(settings)\n\u001b[1;32m--> 589\u001b[0m resp \u001b[38;5;241m=\u001b[39m \u001b[38;5;28mself\u001b[39m\u001b[38;5;241m.\u001b[39msend(prep, \u001b[38;5;241m*\u001b[39m\u001b[38;5;241m*\u001b[39msend_kwargs)\n\u001b[0;32m    591\u001b[0m \u001b[38;5;28;01mreturn\u001b[39;00m resp\n",
      "File \u001b[1;32mC:\\ProgramData\\anaconda3\\Lib\\site-packages\\requests\\sessions.py:703\u001b[0m, in \u001b[0;36mSession.send\u001b[1;34m(self, request, **kwargs)\u001b[0m\n\u001b[0;32m    700\u001b[0m start \u001b[38;5;241m=\u001b[39m preferred_clock()\n\u001b[0;32m    702\u001b[0m \u001b[38;5;66;03m# Send the request\u001b[39;00m\n\u001b[1;32m--> 703\u001b[0m r \u001b[38;5;241m=\u001b[39m adapter\u001b[38;5;241m.\u001b[39msend(request, \u001b[38;5;241m*\u001b[39m\u001b[38;5;241m*\u001b[39mkwargs)\n\u001b[0;32m    705\u001b[0m \u001b[38;5;66;03m# Total elapsed time of the request (approximately)\u001b[39;00m\n\u001b[0;32m    706\u001b[0m elapsed \u001b[38;5;241m=\u001b[39m preferred_clock() \u001b[38;5;241m-\u001b[39m start\n",
      "File \u001b[1;32mC:\\ProgramData\\anaconda3\\Lib\\site-packages\\requests\\adapters.py:667\u001b[0m, in \u001b[0;36mHTTPAdapter.send\u001b[1;34m(self, request, stream, timeout, verify, cert, proxies)\u001b[0m\n\u001b[0;32m    664\u001b[0m     timeout \u001b[38;5;241m=\u001b[39m TimeoutSauce(connect\u001b[38;5;241m=\u001b[39mtimeout, read\u001b[38;5;241m=\u001b[39mtimeout)\n\u001b[0;32m    666\u001b[0m \u001b[38;5;28;01mtry\u001b[39;00m:\n\u001b[1;32m--> 667\u001b[0m     resp \u001b[38;5;241m=\u001b[39m conn\u001b[38;5;241m.\u001b[39murlopen(\n\u001b[0;32m    668\u001b[0m         method\u001b[38;5;241m=\u001b[39mrequest\u001b[38;5;241m.\u001b[39mmethod,\n\u001b[0;32m    669\u001b[0m         url\u001b[38;5;241m=\u001b[39murl,\n\u001b[0;32m    670\u001b[0m         body\u001b[38;5;241m=\u001b[39mrequest\u001b[38;5;241m.\u001b[39mbody,\n\u001b[0;32m    671\u001b[0m         headers\u001b[38;5;241m=\u001b[39mrequest\u001b[38;5;241m.\u001b[39mheaders,\n\u001b[0;32m    672\u001b[0m         redirect\u001b[38;5;241m=\u001b[39m\u001b[38;5;28;01mFalse\u001b[39;00m,\n\u001b[0;32m    673\u001b[0m         assert_same_host\u001b[38;5;241m=\u001b[39m\u001b[38;5;28;01mFalse\u001b[39;00m,\n\u001b[0;32m    674\u001b[0m         preload_content\u001b[38;5;241m=\u001b[39m\u001b[38;5;28;01mFalse\u001b[39;00m,\n\u001b[0;32m    675\u001b[0m         decode_content\u001b[38;5;241m=\u001b[39m\u001b[38;5;28;01mFalse\u001b[39;00m,\n\u001b[0;32m    676\u001b[0m         retries\u001b[38;5;241m=\u001b[39m\u001b[38;5;28mself\u001b[39m\u001b[38;5;241m.\u001b[39mmax_retries,\n\u001b[0;32m    677\u001b[0m         timeout\u001b[38;5;241m=\u001b[39mtimeout,\n\u001b[0;32m    678\u001b[0m         chunked\u001b[38;5;241m=\u001b[39mchunked,\n\u001b[0;32m    679\u001b[0m     )\n\u001b[0;32m    681\u001b[0m \u001b[38;5;28;01mexcept\u001b[39;00m (ProtocolError, \u001b[38;5;167;01mOSError\u001b[39;00m) \u001b[38;5;28;01mas\u001b[39;00m err:\n\u001b[0;32m    682\u001b[0m     \u001b[38;5;28;01mraise\u001b[39;00m \u001b[38;5;167;01mConnectionError\u001b[39;00m(err, request\u001b[38;5;241m=\u001b[39mrequest)\n",
      "File \u001b[1;32mC:\\ProgramData\\anaconda3\\Lib\\site-packages\\urllib3\\connectionpool.py:789\u001b[0m, in \u001b[0;36mHTTPConnectionPool.urlopen\u001b[1;34m(self, method, url, body, headers, retries, redirect, assert_same_host, timeout, pool_timeout, release_conn, chunked, body_pos, preload_content, decode_content, **response_kw)\u001b[0m\n\u001b[0;32m    786\u001b[0m response_conn \u001b[38;5;241m=\u001b[39m conn \u001b[38;5;28;01mif\u001b[39;00m \u001b[38;5;129;01mnot\u001b[39;00m release_conn \u001b[38;5;28;01melse\u001b[39;00m \u001b[38;5;28;01mNone\u001b[39;00m\n\u001b[0;32m    788\u001b[0m \u001b[38;5;66;03m# Make the request on the HTTPConnection object\u001b[39;00m\n\u001b[1;32m--> 789\u001b[0m response \u001b[38;5;241m=\u001b[39m \u001b[38;5;28mself\u001b[39m\u001b[38;5;241m.\u001b[39m_make_request(\n\u001b[0;32m    790\u001b[0m     conn,\n\u001b[0;32m    791\u001b[0m     method,\n\u001b[0;32m    792\u001b[0m     url,\n\u001b[0;32m    793\u001b[0m     timeout\u001b[38;5;241m=\u001b[39mtimeout_obj,\n\u001b[0;32m    794\u001b[0m     body\u001b[38;5;241m=\u001b[39mbody,\n\u001b[0;32m    795\u001b[0m     headers\u001b[38;5;241m=\u001b[39mheaders,\n\u001b[0;32m    796\u001b[0m     chunked\u001b[38;5;241m=\u001b[39mchunked,\n\u001b[0;32m    797\u001b[0m     retries\u001b[38;5;241m=\u001b[39mretries,\n\u001b[0;32m    798\u001b[0m     response_conn\u001b[38;5;241m=\u001b[39mresponse_conn,\n\u001b[0;32m    799\u001b[0m     preload_content\u001b[38;5;241m=\u001b[39mpreload_content,\n\u001b[0;32m    800\u001b[0m     decode_content\u001b[38;5;241m=\u001b[39mdecode_content,\n\u001b[0;32m    801\u001b[0m     \u001b[38;5;241m*\u001b[39m\u001b[38;5;241m*\u001b[39mresponse_kw,\n\u001b[0;32m    802\u001b[0m )\n\u001b[0;32m    804\u001b[0m \u001b[38;5;66;03m# Everything went great!\u001b[39;00m\n\u001b[0;32m    805\u001b[0m clean_exit \u001b[38;5;241m=\u001b[39m \u001b[38;5;28;01mTrue\u001b[39;00m\n",
      "File \u001b[1;32mC:\\ProgramData\\anaconda3\\Lib\\site-packages\\urllib3\\connectionpool.py:536\u001b[0m, in \u001b[0;36mHTTPConnectionPool._make_request\u001b[1;34m(self, conn, method, url, body, headers, retries, timeout, chunked, response_conn, preload_content, decode_content, enforce_content_length)\u001b[0m\n\u001b[0;32m    534\u001b[0m \u001b[38;5;66;03m# Receive the response from the server\u001b[39;00m\n\u001b[0;32m    535\u001b[0m \u001b[38;5;28;01mtry\u001b[39;00m:\n\u001b[1;32m--> 536\u001b[0m     response \u001b[38;5;241m=\u001b[39m conn\u001b[38;5;241m.\u001b[39mgetresponse()\n\u001b[0;32m    537\u001b[0m \u001b[38;5;28;01mexcept\u001b[39;00m (BaseSSLError, \u001b[38;5;167;01mOSError\u001b[39;00m) \u001b[38;5;28;01mas\u001b[39;00m e:\n\u001b[0;32m    538\u001b[0m     \u001b[38;5;28mself\u001b[39m\u001b[38;5;241m.\u001b[39m_raise_timeout(err\u001b[38;5;241m=\u001b[39me, url\u001b[38;5;241m=\u001b[39murl, timeout_value\u001b[38;5;241m=\u001b[39mread_timeout)\n",
      "File \u001b[1;32mC:\\ProgramData\\anaconda3\\Lib\\site-packages\\urllib3\\connection.py:507\u001b[0m, in \u001b[0;36mHTTPConnection.getresponse\u001b[1;34m(self)\u001b[0m\n\u001b[0;32m    504\u001b[0m \u001b[38;5;28;01mfrom\u001b[39;00m \u001b[38;5;21;01m.\u001b[39;00m\u001b[38;5;21;01mresponse\u001b[39;00m \u001b[38;5;28;01mimport\u001b[39;00m HTTPResponse\n\u001b[0;32m    506\u001b[0m \u001b[38;5;66;03m# Get the response from http.client.HTTPConnection\u001b[39;00m\n\u001b[1;32m--> 507\u001b[0m httplib_response \u001b[38;5;241m=\u001b[39m \u001b[38;5;28msuper\u001b[39m()\u001b[38;5;241m.\u001b[39mgetresponse()\n\u001b[0;32m    509\u001b[0m \u001b[38;5;28;01mtry\u001b[39;00m:\n\u001b[0;32m    510\u001b[0m     assert_header_parsing(httplib_response\u001b[38;5;241m.\u001b[39mmsg)\n",
      "File \u001b[1;32mC:\\ProgramData\\anaconda3\\Lib\\http\\client.py:1428\u001b[0m, in \u001b[0;36mHTTPConnection.getresponse\u001b[1;34m(self)\u001b[0m\n\u001b[0;32m   1426\u001b[0m \u001b[38;5;28;01mtry\u001b[39;00m:\n\u001b[0;32m   1427\u001b[0m     \u001b[38;5;28;01mtry\u001b[39;00m:\n\u001b[1;32m-> 1428\u001b[0m         response\u001b[38;5;241m.\u001b[39mbegin()\n\u001b[0;32m   1429\u001b[0m     \u001b[38;5;28;01mexcept\u001b[39;00m \u001b[38;5;167;01mConnectionError\u001b[39;00m:\n\u001b[0;32m   1430\u001b[0m         \u001b[38;5;28mself\u001b[39m\u001b[38;5;241m.\u001b[39mclose()\n",
      "File \u001b[1;32mC:\\ProgramData\\anaconda3\\Lib\\http\\client.py:331\u001b[0m, in \u001b[0;36mHTTPResponse.begin\u001b[1;34m(self)\u001b[0m\n\u001b[0;32m    329\u001b[0m \u001b[38;5;66;03m# read until we get a non-100 response\u001b[39;00m\n\u001b[0;32m    330\u001b[0m \u001b[38;5;28;01mwhile\u001b[39;00m \u001b[38;5;28;01mTrue\u001b[39;00m:\n\u001b[1;32m--> 331\u001b[0m     version, status, reason \u001b[38;5;241m=\u001b[39m \u001b[38;5;28mself\u001b[39m\u001b[38;5;241m.\u001b[39m_read_status()\n\u001b[0;32m    332\u001b[0m     \u001b[38;5;28;01mif\u001b[39;00m status \u001b[38;5;241m!=\u001b[39m CONTINUE:\n\u001b[0;32m    333\u001b[0m         \u001b[38;5;28;01mbreak\u001b[39;00m\n",
      "File \u001b[1;32mC:\\ProgramData\\anaconda3\\Lib\\http\\client.py:292\u001b[0m, in \u001b[0;36mHTTPResponse._read_status\u001b[1;34m(self)\u001b[0m\n\u001b[0;32m    291\u001b[0m \u001b[38;5;28;01mdef\u001b[39;00m \u001b[38;5;21m_read_status\u001b[39m(\u001b[38;5;28mself\u001b[39m):\n\u001b[1;32m--> 292\u001b[0m     line \u001b[38;5;241m=\u001b[39m \u001b[38;5;28mstr\u001b[39m(\u001b[38;5;28mself\u001b[39m\u001b[38;5;241m.\u001b[39mfp\u001b[38;5;241m.\u001b[39mreadline(_MAXLINE \u001b[38;5;241m+\u001b[39m \u001b[38;5;241m1\u001b[39m), \u001b[38;5;124m\"\u001b[39m\u001b[38;5;124miso-8859-1\u001b[39m\u001b[38;5;124m\"\u001b[39m)\n\u001b[0;32m    293\u001b[0m     \u001b[38;5;28;01mif\u001b[39;00m \u001b[38;5;28mlen\u001b[39m(line) \u001b[38;5;241m>\u001b[39m _MAXLINE:\n\u001b[0;32m    294\u001b[0m         \u001b[38;5;28;01mraise\u001b[39;00m LineTooLong(\u001b[38;5;124m\"\u001b[39m\u001b[38;5;124mstatus line\u001b[39m\u001b[38;5;124m\"\u001b[39m)\n",
      "File \u001b[1;32mC:\\ProgramData\\anaconda3\\Lib\\socket.py:720\u001b[0m, in \u001b[0;36mSocketIO.readinto\u001b[1;34m(self, b)\u001b[0m\n\u001b[0;32m    718\u001b[0m \u001b[38;5;28;01mwhile\u001b[39;00m \u001b[38;5;28;01mTrue\u001b[39;00m:\n\u001b[0;32m    719\u001b[0m     \u001b[38;5;28;01mtry\u001b[39;00m:\n\u001b[1;32m--> 720\u001b[0m         \u001b[38;5;28;01mreturn\u001b[39;00m \u001b[38;5;28mself\u001b[39m\u001b[38;5;241m.\u001b[39m_sock\u001b[38;5;241m.\u001b[39mrecv_into(b)\n\u001b[0;32m    721\u001b[0m     \u001b[38;5;28;01mexcept\u001b[39;00m timeout:\n\u001b[0;32m    722\u001b[0m         \u001b[38;5;28mself\u001b[39m\u001b[38;5;241m.\u001b[39m_timeout_occurred \u001b[38;5;241m=\u001b[39m \u001b[38;5;28;01mTrue\u001b[39;00m\n",
      "File \u001b[1;32mC:\\ProgramData\\anaconda3\\Lib\\ssl.py:1251\u001b[0m, in \u001b[0;36mSSLSocket.recv_into\u001b[1;34m(self, buffer, nbytes, flags)\u001b[0m\n\u001b[0;32m   1247\u001b[0m     \u001b[38;5;28;01mif\u001b[39;00m flags \u001b[38;5;241m!=\u001b[39m \u001b[38;5;241m0\u001b[39m:\n\u001b[0;32m   1248\u001b[0m         \u001b[38;5;28;01mraise\u001b[39;00m \u001b[38;5;167;01mValueError\u001b[39;00m(\n\u001b[0;32m   1249\u001b[0m           \u001b[38;5;124m\"\u001b[39m\u001b[38;5;124mnon-zero flags not allowed in calls to recv_into() on \u001b[39m\u001b[38;5;132;01m%s\u001b[39;00m\u001b[38;5;124m\"\u001b[39m \u001b[38;5;241m%\u001b[39m\n\u001b[0;32m   1250\u001b[0m           \u001b[38;5;28mself\u001b[39m\u001b[38;5;241m.\u001b[39m\u001b[38;5;18m__class__\u001b[39m)\n\u001b[1;32m-> 1251\u001b[0m     \u001b[38;5;28;01mreturn\u001b[39;00m \u001b[38;5;28mself\u001b[39m\u001b[38;5;241m.\u001b[39mread(nbytes, buffer)\n\u001b[0;32m   1252\u001b[0m \u001b[38;5;28;01melse\u001b[39;00m:\n\u001b[0;32m   1253\u001b[0m     \u001b[38;5;28;01mreturn\u001b[39;00m \u001b[38;5;28msuper\u001b[39m()\u001b[38;5;241m.\u001b[39mrecv_into(buffer, nbytes, flags)\n",
      "File \u001b[1;32mC:\\ProgramData\\anaconda3\\Lib\\ssl.py:1103\u001b[0m, in \u001b[0;36mSSLSocket.read\u001b[1;34m(self, len, buffer)\u001b[0m\n\u001b[0;32m   1101\u001b[0m \u001b[38;5;28;01mtry\u001b[39;00m:\n\u001b[0;32m   1102\u001b[0m     \u001b[38;5;28;01mif\u001b[39;00m buffer \u001b[38;5;129;01mis\u001b[39;00m \u001b[38;5;129;01mnot\u001b[39;00m \u001b[38;5;28;01mNone\u001b[39;00m:\n\u001b[1;32m-> 1103\u001b[0m         \u001b[38;5;28;01mreturn\u001b[39;00m \u001b[38;5;28mself\u001b[39m\u001b[38;5;241m.\u001b[39m_sslobj\u001b[38;5;241m.\u001b[39mread(\u001b[38;5;28mlen\u001b[39m, buffer)\n\u001b[0;32m   1104\u001b[0m     \u001b[38;5;28;01melse\u001b[39;00m:\n\u001b[0;32m   1105\u001b[0m         \u001b[38;5;28;01mreturn\u001b[39;00m \u001b[38;5;28mself\u001b[39m\u001b[38;5;241m.\u001b[39m_sslobj\u001b[38;5;241m.\u001b[39mread(\u001b[38;5;28mlen\u001b[39m)\n",
      "\u001b[1;31mKeyboardInterrupt\u001b[0m: "
     ]
    }
   ],
   "source": [
    "import pandas as pd\n",
    "import requests\n",
    "import time\n",
    "from typing import Dict, Optional, Tuple\n",
    "from urllib.parse import quote\n",
    "\n",
    "class GeocodingService:\n",
    "    def __init__(self):\n",
    "        self.base_url = \"https://nominatim.openstreetmap.org/search\"\n",
    "        self.headers = {\n",
    "            \"User-Agent\": \"Mozilla/5.0 (Windows NT 10.0; Win64; x64) AppleWebKit/537.36 (KHTML, like Gecko) Chrome/91.0.4472.124 Safari/537.36\"\n",
    "        }\n",
    "    \n",
    "    def get_coordinates(self, address: str, city: str = \"Tangerang Selatan\") -> Optional[Tuple[float, float]]:\n",
    "        \"\"\"\n",
    "        Mendapatkan koordinat dari alamat menggunakan OpenStreetMap Nominatim\n",
    "        \"\"\"\n",
    "        try:\n",
    "            # Format alamat lengkap\n",
    "            full_address = f\"{address}, {city}, Banten, Indonesia\"\n",
    "            \n",
    "            # Encode alamat untuk URL\n",
    "            encoded_address = quote(full_address)\n",
    "            \n",
    "            # Parameters untuk request\n",
    "            params = {\n",
    "                \"q\": encoded_address,\n",
    "                \"format\": \"json\",\n",
    "                \"limit\": 1,\n",
    "                \"countrycodes\": \"id\"\n",
    "            }\n",
    "            \n",
    "            # Kirim request\n",
    "            response = requests.get(\n",
    "                self.base_url,\n",
    "                params=params,\n",
    "                headers=self.headers\n",
    "            )\n",
    "            \n",
    "            # Delay untuk menghormati rate limit\n",
    "            time.sleep(1)\n",
    "            \n",
    "            if response.status_code == 200:\n",
    "                results = response.json()\n",
    "                if results:\n",
    "                    return (\n",
    "                        float(results[0][\"lat\"]),\n",
    "                        float(results[0][\"lon\"])\n",
    "                    )\n",
    "            return None\n",
    "            \n",
    "        except Exception as e:\n",
    "            print(f\"Error getting coordinates for {address}: {str(e)}\")\n",
    "            return None\n",
    "\n",
    "def analyze_and_update_coordinates():\n",
    "    \"\"\"\n",
    "    Menganalisis data koordinat NULL dan mengupdate menggunakan OpenStreetMap\n",
    "    \"\"\"\n",
    "    try:\n",
    "        # Baca CSV dengan separator semicolon\n",
    "        df = pd.read_csv('merchants_tangsel.csv', \n",
    "                        sep=';',\n",
    "                        encoding='utf-8',\n",
    "                        on_bad_lines='warn')\n",
    "        \n",
    "        print(\"\\n=== ANALISIS DATA AWAL ===\")\n",
    "        print(f\"Total data: {len(df)}\")\n",
    "        \n",
    "        # Bersihkan data koordinat\n",
    "        df['Koordinat'] = df['Koordinat'].astype(str).str.replace('\"', '').str.strip()\n",
    "        \n",
    "        # Pisahkan koordinat menjadi latitude dan longitude\n",
    "        df[['Latitude', 'Longitude']] = df['Koordinat'].str.split(',', expand=True)\n",
    "        \n",
    "        # Bersihkan nilai latitude dan longitude\n",
    "        df['Latitude'] = df['Latitude'].str.replace('[^\\d.-]', '', regex=True)\n",
    "        df['Longitude'] = df['Longitude'].str.replace('[^\\d.-]', '', regex=True)\n",
    "        \n",
    "        # Konversi ke float\n",
    "        df['Latitude'] = pd.to_numeric(df['Latitude'], errors='coerce')\n",
    "        df['Longitude'] = pd.to_numeric(df['Longitude'], errors='coerce')\n",
    "        \n",
    "        # Identifikasi data NULL\n",
    "        null_coords = df[df['Latitude'].isna() | df['Longitude'].isna()].copy()\n",
    "        print(f\"\\nData dengan koordinat NULL: {len(null_coords)}\")\n",
    "        \n",
    "        if len(null_coords) > 0:\n",
    "            print(\"\\nMemulai proses update koordinat dari OpenStreetMap...\")\n",
    "            \n",
    "            # Inisialisasi geocoding service\n",
    "            geocoder = GeocodingService()\n",
    "            updated_count = 0\n",
    "            \n",
    "            # Proses setiap baris dengan koordinat NULL\n",
    "            for idx in null_coords.index:\n",
    "                alamat = df.loc[idx, 'Alamat']\n",
    "                kecamatan = df.loc[idx, 'Kecamatan']\n",
    "                \n",
    "                print(f\"\\nMencari koordinat untuk: {alamat}, {kecamatan}\")\n",
    "                \n",
    "                # Dapatkan koordinat\n",
    "                result = geocoder.get_coordinates(\n",
    "                    address=f\"{alamat}, {kecamatan}\"\n",
    "                )\n",
    "                \n",
    "                if result:\n",
    "                    df.loc[idx, 'Latitude'] = result[0]\n",
    "                    df.loc[idx, 'Longitude'] = result[1]\n",
    "                    updated_count += 1\n",
    "                    print(f\"Berhasil: {result[0]}, {result[1]}\")\n",
    "                else:\n",
    "                    print(\"Tidak ditemukan\")\n",
    "            \n",
    "            print(f\"\\nBerhasil mengupdate {updated_count} dari {len(null_coords)} data koordinat NULL\")\n",
    "            \n",
    "            # Update kolom Koordinat dengan format yang benar\n",
    "            df['Koordinat'] = df.apply(\n",
    "                lambda x: f\"{x['Latitude']}, {x['Longitude']}\" if pd.notnull(x['Latitude']) and pd.notnull(x['Longitude']) else x['Koordinat'],\n",
    "                axis=1\n",
    "            )\n",
    "            \n",
    "            # Simpan hasil\n",
    "            df.to_csv('merchants_tangsel_updated.csv', sep=';', index=False)\n",
    "            print(\"\\nData telah disimpan ke merchants_tangsel_updated.csv\")\n",
    "            \n",
    "            # Simpan data yang masih NULL untuk pengecekan manual\n",
    "            still_null = df[df['Latitude'].isna() | df['Longitude'].isna()]\n",
    "            if len(still_null) > 0:\n",
    "                still_null.to_csv('koordinat_masih_null.csv', sep=';', index=False)\n",
    "                print(f\"\\nMasih terdapat {len(still_null)} data dengan koordinat NULL\")\n",
    "                print(\"Data tersebut telah disimpan ke koordinat_masih_null.csv\")\n",
    "            \n",
    "            # Simpan log pencarian\n",
    "            with open('geocoding_log.txt', 'w', encoding='utf-8') as f:\n",
    "                f.write(f\"Total data: {len(df)}\\n\")\n",
    "                f.write(f\"Data NULL awal: {len(null_coords)}\\n\")\n",
    "                f.write(f\"Berhasil diupdate: {updated_count}\\n\")\n",
    "                f.write(f\"Gagal diupdate: {len(null_coords) - updated_count}\\n\")\n",
    "        \n",
    "    except Exception as e:\n",
    "        print(f\"Error dalam pemrosesan data: {str(e)}\")\n",
    "\n",
    "if __name__ == \"__main__\":\n",
    "    analyze_and_update_coordinates()"
   ]
  },
  {
   "cell_type": "code",
   "execution_count": 26,
   "id": "a024bffc-1e5e-4398-aa2b-4e63c8090f85",
   "metadata": {},
   "outputs": [
    {
     "name": "stdout",
     "output_type": "stream",
     "text": [
      "\n",
      "=== ANALISIS DATA AWAL ===\n",
      "Total data: 1088\n",
      "\n",
      "Data dengan koordinat NULL: 293\n",
      "\n",
      "Memulai proses update koordinat...\n",
      "\n",
      "Mencari koordinat untuk: JL. DUTA LESTARI\n"
     ]
    },
    {
     "name": "stderr",
     "output_type": "stream",
     "text": [
      "Status code 403 from https://nominatim.openstreetmap.org/search: ERROR - 403 Client Error: Forbidden for url: https://nominatim.openstreetmap.org/search?q=Jalan+DUTA+LESTARI%2C+CIPUTAT%2C+Tangerang+Selatan%2C+Banten%2C+Indonesia&format=jsonv2&addressdetails=1&limit=1\n"
     ]
    },
    {
     "name": "stdout",
     "output_type": "stream",
     "text": [
      "Error with bing: Provide API Key\n",
      "Berhasil: -6.317860776061319, 106.75162488233585\n",
      "\n",
      "Mencari koordinat untuk: JL. CIMANDIRI VI\n"
     ]
    },
    {
     "name": "stderr",
     "output_type": "stream",
     "text": [
      "Status code 403 from https://nominatim.openstreetmap.org/search: ERROR - 403 Client Error: Forbidden for url: https://nominatim.openstreetmap.org/search?q=Jalan+CIMANDIRI+VI%2C+CIPUTAT%2C+Tangerang+Selatan%2C+Banten%2C+Indonesia&format=jsonv2&addressdetails=1&limit=1\n"
     ]
    },
    {
     "name": "stdout",
     "output_type": "stream",
     "text": [
      "Error with bing: Provide API Key\n",
      "Berhasil: -6.331229121855491, 106.75559835058559\n",
      "\n",
      "Mencari koordinat untuk: JL CIMANDIRI RAYA RT 001 / RW 008\n"
     ]
    },
    {
     "name": "stderr",
     "output_type": "stream",
     "text": [
      "Status code 403 from https://nominatim.openstreetmap.org/search: ERROR - 403 Client Error: Forbidden for url: https://nominatim.openstreetmap.org/search?q=Jalan+CIMANDIRI+RAYA+001+%2F+008%2C+CIPUTAT%2C+Tangerang+Selatan%2C+Banten%2C+Indonesia&format=jsonv2&addressdetails=1&limit=1\n"
     ]
    },
    {
     "name": "stdout",
     "output_type": "stream",
     "text": [
      "Error with bing: Provide API Key\n",
      "Berhasil: -6.332469008086463, 106.75014799775096\n",
      "\n",
      "Mencari koordinat untuk: Jl.Cendrawasih no.69\n"
     ]
    },
    {
     "name": "stderr",
     "output_type": "stream",
     "text": [
      "Status code 403 from https://nominatim.openstreetmap.org/search: ERROR - 403 Client Error: Forbidden for url: https://nominatim.openstreetmap.org/search?q=JalanCendrawasih+no.69%2C+CIPUTAT%2C+Tangerang+Selatan%2C+Banten%2C+Indonesia&format=jsonv2&addressdetails=1&limit=1\n"
     ]
    },
    {
     "name": "stdout",
     "output_type": "stream",
     "text": [
      "Error with bing: Provide API Key\n",
      "Berhasil: -6.293396012062857, 106.73322200157367\n",
      "\n",
      "Mencari koordinat untuk: Jl Citarum lll\n"
     ]
    },
    {
     "name": "stderr",
     "output_type": "stream",
     "text": [
      "Status code 403 from https://nominatim.openstreetmap.org/search: ERROR - 403 Client Error: Forbidden for url: https://nominatim.openstreetmap.org/search?q=Jalan+Citarum+lll%2C+CIPUTAT%2C+Tangerang+Selatan%2C+Banten%2C+Indonesia&format=jsonv2&addressdetails=1&limit=1\n"
     ]
    },
    {
     "name": "stdout",
     "output_type": "stream",
     "text": [
      "Error with bing: Provide API Key\n",
      "Berhasil: -6.32129920773071, 106.72008700086913\n",
      "\n",
      "Mencari koordinat untuk: Jl kesehatan 2 no 53\n"
     ]
    },
    {
     "name": "stderr",
     "output_type": "stream",
     "text": [
      "Status code 403 from https://nominatim.openstreetmap.org/search: ERROR - 403 Client Error: Forbidden for url: https://nominatim.openstreetmap.org/search?q=Jalan+kesehatan+2+no+53%2C+CIPUTAT%2C+Tangerang+Selatan%2C+Banten%2C+Indonesia&format=jsonv2&addressdetails=1&limit=1\n"
     ]
    },
    {
     "name": "stdout",
     "output_type": "stream",
     "text": [
      "Error with bing: Provide API Key\n",
      "Berhasil: -6.338501576843545, 106.75423722765983\n",
      "\n",
      "Mencari koordinat untuk: Jl Cimandiri\n"
     ]
    },
    {
     "name": "stderr",
     "output_type": "stream",
     "text": [
      "Status code 403 from https://nominatim.openstreetmap.org/search: ERROR - 403 Client Error: Forbidden for url: https://nominatim.openstreetmap.org/search?q=Jalan+Cimandiri%2C+CIPUTAT%2C+Tangerang+Selatan%2C+Banten%2C+Indonesia&format=jsonv2&addressdetails=1&limit=1\n"
     ]
    },
    {
     "name": "stdout",
     "output_type": "stream",
     "text": [
      "Error with bing: Provide API Key\n",
      "Berhasil: -6.331229121855491, 106.75559835058559\n",
      "\n",
      "Mencari koordinat untuk: Jl Makmur Rt.04 RW.05 Kel. Cipayung\n"
     ]
    },
    {
     "name": "stderr",
     "output_type": "stream",
     "text": [
      "Status code 403 from https://nominatim.openstreetmap.org/search: ERROR - 403 Client Error: Forbidden for url: https://nominatim.openstreetmap.org/search?q=Jalan+Makmur+Rt.04+Kel.+Cipayung%2C+CIPUTAT%2C+Tangerang+Selatan%2C+Banten%2C+Indonesia&format=jsonv2&addressdetails=1&limit=1\n"
     ]
    },
    {
     "name": "stdout",
     "output_type": "stream",
     "text": [
      "Error with bing: Provide API Key\n",
      "Berhasil: -6.332246307883523, 106.75139604280784\n",
      "\n",
      "Mencari koordinat untuk: Jl Cimandiri Raya RT.04 RW.05 Kel. Cipayung\n"
     ]
    },
    {
     "name": "stderr",
     "output_type": "stream",
     "text": [
      "Status code 403 from https://nominatim.openstreetmap.org/search: ERROR - 403 Client Error: Forbidden for url: https://nominatim.openstreetmap.org/search?q=Jalan+Cimandiri+Raya+Kel.+Cipayung%2C+CIPUTAT%2C+Tangerang+Selatan%2C+Banten%2C+Indonesia&format=jsonv2&addressdetails=1&limit=1\n"
     ]
    },
    {
     "name": "stdout",
     "output_type": "stream",
     "text": [
      "Error with bing: Provide API Key\n",
      "Berhasil: -6.332772763518695, 106.75498635301557\n",
      "\n",
      "Mencari koordinat untuk: Jl. Ir. H. Juanda No. 06\n"
     ]
    },
    {
     "name": "stderr",
     "output_type": "stream",
     "text": [
      "Status code 403 from https://nominatim.openstreetmap.org/search: ERROR - 403 Client Error: Forbidden for url: https://nominatim.openstreetmap.org/search?q=Jalan+Ir.+H.+Juanda+No.+06%2C+CIPUTAT%2C+Tangerang+Selatan%2C+Banten%2C+Indonesia&format=jsonv2&addressdetails=1&limit=1\n"
     ]
    },
    {
     "name": "stdout",
     "output_type": "stream",
     "text": [
      "Error with bing: Provide API Key\n",
      "Berhasil: -6.3068708, 106.7468727\n",
      "\n",
      "Mencari koordinat untuk: JL. CIMANDIRI RT 05 RW 05\n"
     ]
    },
    {
     "name": "stderr",
     "output_type": "stream",
     "text": [
      "Status code 403 from https://nominatim.openstreetmap.org/search: ERROR - 403 Client Error: Forbidden for url: https://nominatim.openstreetmap.org/search?q=Jalan+CIMANDIRI+05+05%2C+CIPUTAT%2C+Tangerang+Selatan%2C+Banten%2C+Indonesia&format=jsonv2&addressdetails=1&limit=1\n"
     ]
    },
    {
     "name": "stdout",
     "output_type": "stream",
     "text": [
      "Error with bing: Provide API Key\n",
      "Berhasil: -6.331229121855491, 106.75559835058559\n",
      "\n",
      "Mencari koordinat untuk: JL KEBON DUREN RT 003 / RW 013\n"
     ]
    },
    {
     "name": "stderr",
     "output_type": "stream",
     "text": [
      "Status code 403 from https://nominatim.openstreetmap.org/search: ERROR - 403 Client Error: Forbidden for url: https://nominatim.openstreetmap.org/search?q=Jalan+KEBON+DUREN+003+%2F+013%2C+CIPUTAT%2C+Tangerang+Selatan%2C+Banten%2C+Indonesia&format=jsonv2&addressdetails=1&limit=1\n"
     ]
    },
    {
     "name": "stdout",
     "output_type": "stream",
     "text": [
      "Error with bing: Provide API Key\n",
      "Berhasil: -6.337608473864829, 106.75338063640724\n",
      "\n",
      "Mencari koordinat untuk: JL OTISTA SASAK TINGGI RT 001/ RW 011\n"
     ]
    },
    {
     "name": "stderr",
     "output_type": "stream",
     "text": [
      "Status code 403 from https://nominatim.openstreetmap.org/search: ERROR - 403 Client Error: Forbidden for url: https://nominatim.openstreetmap.org/search?q=Jalan+OTISTA+SASAK+TINGGI+001%2F+011%2C+CIPUTAT%2C+Tangerang+Selatan%2C+Banten%2C+Indonesia&format=jsonv2&addressdetails=1&limit=1\n"
     ]
    },
    {
     "name": "stdout",
     "output_type": "stream",
     "text": [
      "Error with bing: Provide API Key\n",
      "Berhasil: -6.337608473864829, 106.75338063640724\n",
      "\n",
      "Mencari koordinat untuk: Jl KH Dewantoro RT.01 RW.04 Kel. Ciputat\n"
     ]
    },
    {
     "name": "stderr",
     "output_type": "stream",
     "text": [
      "Status code 403 from https://nominatim.openstreetmap.org/search: ERROR - 403 Client Error: Forbidden for url: https://nominatim.openstreetmap.org/search?q=Jalan+KH+Dewantoro+Kel.+Ciputat%2C+CIPUTAT%2C+Tangerang+Selatan%2C+Banten%2C+Indonesia&format=jsonv2&addressdetails=1&limit=1\n"
     ]
    },
    {
     "name": "stdout",
     "output_type": "stream",
     "text": [
      "Error with bing: Provide API Key\n",
      "Berhasil: -6.337608473864829, 106.75338063640724\n",
      "\n",
      "Mencari koordinat untuk: Jl. Pendidikan No. 20\n"
     ]
    },
    {
     "name": "stderr",
     "output_type": "stream",
     "text": [
      "Status code 403 from https://nominatim.openstreetmap.org/search: ERROR - 403 Client Error: Forbidden for url: https://nominatim.openstreetmap.org/search?q=Jalan+Pendidikan+No.+20%2C+CIPUTAT%2C+Tangerang+Selatan%2C+Banten%2C+Indonesia&format=jsonv2&addressdetails=1&limit=1\n"
     ]
    },
    {
     "name": "stdout",
     "output_type": "stream",
     "text": [
      "Error with bing: Provide API Key\n",
      "Berhasil: -6.309081612298769, 106.74704929196605\n",
      "\n",
      "Mencari koordinat untuk: Jl KH Dewantoro RT.03 RW.03 Kel. Ciputat\n"
     ]
    },
    {
     "name": "stderr",
     "output_type": "stream",
     "text": [
      "Status code 403 from https://nominatim.openstreetmap.org/search: ERROR - 403 Client Error: Forbidden for url: https://nominatim.openstreetmap.org/search?q=Jalan+KH+Dewantoro+Kel.+Ciputat%2C+CIPUTAT%2C+Tangerang+Selatan%2C+Banten%2C+Indonesia&format=jsonv2&addressdetails=1&limit=1\n"
     ]
    },
    {
     "name": "stdout",
     "output_type": "stream",
     "text": [
      "Error with bing: Provide API Key\n",
      "Berhasil: -6.337608473864829, 106.75338063640724\n",
      "\n",
      "Mencari koordinat untuk: Jl. Bawang Putih Raya No. 1\n"
     ]
    },
    {
     "name": "stderr",
     "output_type": "stream",
     "text": [
      "Status code 403 from https://nominatim.openstreetmap.org/search: ERROR - 403 Client Error: Forbidden for url: https://nominatim.openstreetmap.org/search?q=Jalan+Bawang+Putih+Raya+No.+1%2C+CIPUTAT%2C+Tangerang+Selatan%2C+Banten%2C+Indonesia&format=jsonv2&addressdetails=1&limit=1\n"
     ]
    },
    {
     "name": "stdout",
     "output_type": "stream",
     "text": [
      "Error with bing: Provide API Key\n",
      "Berhasil: -6.311446884905308, 106.74510679028114\n",
      "\n",
      "Mencari koordinat untuk: JL. ARIA PUTRA D BLOK D NO. 9\n"
     ]
    },
    {
     "name": "stderr",
     "output_type": "stream",
     "text": [
      "Status code 403 from https://nominatim.openstreetmap.org/search: ERROR - 403 Client Error: Forbidden for url: https://nominatim.openstreetmap.org/search?q=Jalan+ARIA+PUTRA+D+BLOK+D+NO.+9%2C+CIPUTAT%2C+Tangerang+Selatan%2C+Banten%2C+Indonesia&format=jsonv2&addressdetails=1&limit=1\n"
     ]
    },
    {
     "name": "stdout",
     "output_type": "stream",
     "text": [
      "Error with bing: Provide API Key\n",
      "Berhasil: -6.312200015556158, 106.72724796772343\n",
      "\n",
      "Mencari koordinat untuk: Jl. Dewi Sartika, Gg Nangka\n"
     ]
    },
    {
     "name": "stderr",
     "output_type": "stream",
     "text": [
      "Status code 403 from https://nominatim.openstreetmap.org/search: ERROR - 403 Client Error: Forbidden for url: https://nominatim.openstreetmap.org/search?q=Jalan+Dewi+Sartika%2C+Gg+Nangka%2C+CIPUTAT%2C+Tangerang+Selatan%2C+Banten%2C+Indonesia&format=jsonv2&addressdetails=1&limit=1\n"
     ]
    },
    {
     "name": "stdout",
     "output_type": "stream",
     "text": [
      "Error with bing: Provide API Key\n",
      "Berhasil: -6.314845407537733, 106.74701563621012\n",
      "\n",
      "Mencari koordinat untuk: Jl. Otista Raya No. 51\n"
     ]
    },
    {
     "name": "stderr",
     "output_type": "stream",
     "text": [
      "Status code 403 from https://nominatim.openstreetmap.org/search: ERROR - 403 Client Error: Forbidden for url: https://nominatim.openstreetmap.org/search?q=Jalan+Otista+Raya+No.+51%2C+CIPUTAT%2C+Tangerang+Selatan%2C+Banten%2C+Indonesia&format=jsonv2&addressdetails=1&limit=1\n"
     ]
    },
    {
     "name": "stdout",
     "output_type": "stream",
     "text": [
      "Error with bing: Provide API Key\n",
      "Berhasil: -6.3068708, 106.7468727\n",
      "\n",
      "Mencari koordinat untuk: Ko.gunung jombang ciputat\n"
     ]
    },
    {
     "name": "stderr",
     "output_type": "stream",
     "text": [
      "Status code 403 from https://nominatim.openstreetmap.org/search: ERROR - 403 Client Error: Forbidden for url: https://nominatim.openstreetmap.org/search?q=Ko.gunung+jombang+ciputat%2C+CIPUTAT%2C+Tangerang+Selatan%2C+Banten%2C+Indonesia&format=jsonv2&addressdetails=1&limit=1\n"
     ]
    },
    {
     "name": "stdout",
     "output_type": "stream",
     "text": [
      "Error with bing: Provide API Key\n",
      "Berhasil: -6.2928997, 106.7003817\n",
      "\n",
      "Mencari koordinat untuk: Kp.Cilalung\n"
     ]
    },
    {
     "name": "stderr",
     "output_type": "stream",
     "text": [
      "Status code 403 from https://nominatim.openstreetmap.org/search: ERROR - 403 Client Error: Forbidden for url: https://nominatim.openstreetmap.org/search?q=Kp.Cilalung%2C+CIPUTAT%2C+Tangerang+Selatan%2C+Banten%2C+Indonesia&format=jsonv2&addressdetails=1&limit=1\n"
     ]
    },
    {
     "name": "stdout",
     "output_type": "stream",
     "text": [
      "Error with bing: Provide API Key\n",
      "Berhasil: -6.3068708, 106.7468727\n",
      "\n",
      "Mencari koordinat untuk: Jl. Pertanian No. 80B\n"
     ]
    },
    {
     "name": "stderr",
     "output_type": "stream",
     "text": [
      "Status code 403 from https://nominatim.openstreetmap.org/search: ERROR - 403 Client Error: Forbidden for url: https://nominatim.openstreetmap.org/search?q=Jalan+Pertanian+No.+80B%2C+CIPUTAT%2C+Tangerang+Selatan%2C+Banten%2C+Indonesia&format=jsonv2&addressdetails=1&limit=1\n"
     ]
    },
    {
     "name": "stdout",
     "output_type": "stream",
     "text": [
      "Error with bing: Provide API Key\n",
      "Berhasil: -6.284243175476134, 106.6958785275141\n",
      "\n",
      "Mencari koordinat untuk: Jln Rawa lele Rt.005 RW.07\n"
     ]
    },
    {
     "name": "stderr",
     "output_type": "stream",
     "text": [
      "Status code 403 from https://nominatim.openstreetmap.org/search: ERROR - 403 Client Error: Forbidden for url: https://nominatim.openstreetmap.org/search?q=Jln+Rawa+lele+Rt.005%2C+CIPUTAT%2C+Tangerang+Selatan%2C+Banten%2C+Indonesia&format=jsonv2&addressdetails=1&limit=1\n"
     ]
    },
    {
     "name": "stdout",
     "output_type": "stream",
     "text": [
      "Error with bing: Provide API Key\n",
      "Berhasil: -6.337608473864829, 106.75338063640724\n",
      "\n",
      "Mencari koordinat untuk: Jl raya jombang rt 002 rw 004\n"
     ]
    },
    {
     "name": "stderr",
     "output_type": "stream",
     "text": [
      "Status code 403 from https://nominatim.openstreetmap.org/search: ERROR - 403 Client Error: Forbidden for url: https://nominatim.openstreetmap.org/search?q=Jalan+raya+jombang+rt+002+rw+004%2C+CIPUTAT%2C+Tangerang+Selatan%2C+Banten%2C+Indonesia&format=jsonv2&addressdetails=1&limit=1\n"
     ]
    },
    {
     "name": "stdout",
     "output_type": "stream",
     "text": [
      "Error with bing: Provide API Key\n",
      "Berhasil: -6.303114493518649, 106.71609509117718\n",
      "\n",
      "Mencari koordinat untuk: Kp. Gunung\n"
     ]
    },
    {
     "name": "stderr",
     "output_type": "stream",
     "text": [
      "Status code 403 from https://nominatim.openstreetmap.org/search: ERROR - 403 Client Error: Forbidden for url: https://nominatim.openstreetmap.org/search?q=Kp.+Gunung%2C+CIPUTAT%2C+Tangerang+Selatan%2C+Banten%2C+Indonesia&format=jsonv2&addressdetails=1&limit=1\n"
     ]
    },
    {
     "name": "stdout",
     "output_type": "stream",
     "text": [
      "Error with bing: Provide API Key\n",
      "Berhasil: -6.3068708, 106.7468727\n",
      "\n",
      "Mencari koordinat untuk: KP. GUNUNG\n"
     ]
    },
    {
     "name": "stderr",
     "output_type": "stream",
     "text": [
      "Status code 403 from https://nominatim.openstreetmap.org/search: ERROR - 403 Client Error: Forbidden for url: https://nominatim.openstreetmap.org/search?q=KP.+GUNUNG%2C+CIPUTAT%2C+Tangerang+Selatan%2C+Banten%2C+Indonesia&format=jsonv2&addressdetails=1&limit=1\n"
     ]
    },
    {
     "name": "stdout",
     "output_type": "stream",
     "text": [
      "Error with bing: Provide API Key\n",
      "Berhasil: -6.3068708, 106.7468727\n",
      "\n",
      "Mencari koordinat untuk: Jalan Jombang rawa lele tpu Jombang\n"
     ]
    },
    {
     "name": "stderr",
     "output_type": "stream",
     "text": [
      "Status code 403 from https://nominatim.openstreetmap.org/search: ERROR - 403 Client Error: Forbidden for url: https://nominatim.openstreetmap.org/search?q=Jalan+Jombang+rawa+lele+tpu+Jombang%2C+CIPUTAT%2C+Tangerang+Selatan%2C+Banten%2C+Indonesia&format=jsonv2&addressdetails=1&limit=1\n"
     ]
    },
    {
     "name": "stdout",
     "output_type": "stream",
     "text": [
      "Error with bing: Provide API Key\n",
      "Berhasil: -6.292577171497009, 106.70667445109449\n",
      "\n",
      "Mencari koordinat untuk: GG. HIDAYAH JL. H. BOANG\n"
     ]
    },
    {
     "name": "stderr",
     "output_type": "stream",
     "text": [
      "Status code 403 from https://nominatim.openstreetmap.org/search: ERROR - 403 Client Error: Forbidden for url: https://nominatim.openstreetmap.org/search?q=GG.+HIDAYAH+Jalan+H.+BOANG%2C+CIPUTAT%2C+Tangerang+Selatan%2C+Banten%2C+Indonesia&format=jsonv2&addressdetails=1&limit=1\n"
     ]
    },
    {
     "name": "stdout",
     "output_type": "stream",
     "text": [
      "Error with bing: Provide API Key\n",
      "Berhasil: -6.272216829961802, 106.72032851795699\n",
      "\n",
      "Mencari koordinat untuk: Jl aria putra no 23 sarua ciputat\n"
     ]
    },
    {
     "name": "stderr",
     "output_type": "stream",
     "text": [
      "Status code 403 from https://nominatim.openstreetmap.org/search: ERROR - 403 Client Error: Forbidden for url: https://nominatim.openstreetmap.org/search?q=Jalan+aria+putra+no+23+sarua+ciputat%2C+CIPUTAT%2C+Tangerang+Selatan%2C+Banten%2C+Indonesia&format=jsonv2&addressdetails=1&limit=1\n"
     ]
    },
    {
     "name": "stdout",
     "output_type": "stream",
     "text": [
      "Error with bing: Provide API Key\n",
      "Berhasil: -6.310518982964808, 106.72111803047409\n",
      "\n",
      "Mencari koordinat untuk: Jl Musyawarah No.90\n"
     ]
    },
    {
     "name": "stderr",
     "output_type": "stream",
     "text": [
      "Status code 403 from https://nominatim.openstreetmap.org/search: ERROR - 403 Client Error: Forbidden for url: https://nominatim.openstreetmap.org/search?q=Jalan+Musyawarah+No.90%2C+CIPUTAT%2C+Tangerang+Selatan%2C+Banten%2C+Indonesia&format=jsonv2&addressdetails=1&limit=1\n"
     ]
    },
    {
     "name": "stdout",
     "output_type": "stream",
     "text": [
      "Error with bing: Provide API Key\n",
      "Berhasil: -6.302479480534089, 106.73851441905765\n",
      "\n",
      "Mencari koordinat untuk: Jl Merpati Raya Gg Elang I\n"
     ]
    },
    {
     "name": "stderr",
     "output_type": "stream",
     "text": [
      "Status code 403 from https://nominatim.openstreetmap.org/search: ERROR - 403 Client Error: Forbidden for url: https://nominatim.openstreetmap.org/search?q=Jalan+Merpati+Raya+Gg+Elang+I%2C+CIPUTAT%2C+Tangerang+Selatan%2C+Banten%2C+Indonesia&format=jsonv2&addressdetails=1&limit=1\n"
     ]
    },
    {
     "name": "stdout",
     "output_type": "stream",
     "text": [
      "Error with bing: Provide API Key\n",
      "Berhasil: -6.307996777003126, 106.71509238654097\n",
      "\n",
      "Mencari koordinat untuk: Jl Ki Hajar Dewantoro No.94\n"
     ]
    },
    {
     "name": "stderr",
     "output_type": "stream",
     "text": [
      "Status code 403 from https://nominatim.openstreetmap.org/search: ERROR - 403 Client Error: Forbidden for url: https://nominatim.openstreetmap.org/search?q=Jalan+Ki+Hajar+Dewantoro+No.94%2C+CIPUTAT%2C+Tangerang+Selatan%2C+Banten%2C+Indonesia&format=jsonv2&addressdetails=1&limit=1\n"
     ]
    },
    {
     "name": "stdout",
     "output_type": "stream",
     "text": [
      "Error with bing: Provide API Key\n",
      "Berhasil: -6.306808267920929, 106.74778148286325\n",
      "\n",
      "Mencari koordinat untuk: Jl kh dewantoro\n"
     ]
    },
    {
     "name": "stderr",
     "output_type": "stream",
     "text": [
      "Status code 403 from https://nominatim.openstreetmap.org/search: ERROR - 403 Client Error: Forbidden for url: https://nominatim.openstreetmap.org/search?q=Jalan+kh+dewantoro%2C+CIPUTAT%2C+Tangerang+Selatan%2C+Banten%2C+Indonesia&format=jsonv2&addressdetails=1&limit=1\n"
     ]
    },
    {
     "name": "stdout",
     "output_type": "stream",
     "text": [
      "Error with bing: Provide API Key\n",
      "Berhasil: -6.337608473864829, 106.75338063640724\n",
      "\n",
      "Mencari koordinat untuk: Jl. Cendrawasih VA no. 57\n"
     ]
    },
    {
     "name": "stderr",
     "output_type": "stream",
     "text": [
      "Status code 403 from https://nominatim.openstreetmap.org/search: ERROR - 403 Client Error: Forbidden for url: https://nominatim.openstreetmap.org/search?q=Jalan+Cendrawasih+VA+no.+57%2C+CIPUTAT%2C+Tangerang+Selatan%2C+Banten%2C+Indonesia&format=jsonv2&addressdetails=1&limit=1\n"
     ]
    },
    {
     "name": "stdout",
     "output_type": "stream",
     "text": [
      "Error with bing: Provide API Key\n",
      "Berhasil: -6.329704991695337, 106.75636200548911\n",
      "\n",
      "Mencari koordinat untuk: Jl cendrawasih vA\n"
     ]
    },
    {
     "name": "stderr",
     "output_type": "stream",
     "text": [
      "Status code 403 from https://nominatim.openstreetmap.org/search: ERROR - 403 Client Error: Forbidden for url: https://nominatim.openstreetmap.org/search?q=Jalan+cendrawasih+vA%2C+CIPUTAT%2C+Tangerang+Selatan%2C+Banten%2C+Indonesia&format=jsonv2&addressdetails=1&limit=1\n"
     ]
    },
    {
     "name": "stdout",
     "output_type": "stream",
     "text": [
      "Error with bing: Provide API Key\n",
      "Berhasil: -6.328848168684007, 106.75441593335114\n",
      "\n",
      "Mencari koordinat untuk: Jln murai no 214\n"
     ]
    },
    {
     "name": "stderr",
     "output_type": "stream",
     "text": [
      "Status code 403 from https://nominatim.openstreetmap.org/search: ERROR - 403 Client Error: Forbidden for url: https://nominatim.openstreetmap.org/search?q=Jln+murai+no+214%2C+CIPUTAT%2C+Tangerang+Selatan%2C+Banten%2C+Indonesia&format=jsonv2&addressdetails=1&limit=1\n"
     ]
    },
    {
     "name": "stdout",
     "output_type": "stream",
     "text": [
      "Error with bing: Provide API Key\n",
      "Berhasil: -6.293040435571505, 106.6978412440343\n",
      "\n",
      "Mencari koordinat untuk: Jl. Palem Indah No.90\n"
     ]
    },
    {
     "name": "stderr",
     "output_type": "stream",
     "text": [
      "Status code 403 from https://nominatim.openstreetmap.org/search: ERROR - 403 Client Error: Forbidden for url: https://nominatim.openstreetmap.org/search?q=Jalan+Palem+Indah+No.90%2C+CIPUTAT%2C+Tangerang+Selatan%2C+Banten%2C+Indonesia&format=jsonv2&addressdetails=1&limit=1\n"
     ]
    },
    {
     "name": "stdout",
     "output_type": "stream",
     "text": [
      "Error with bing: Provide API Key\n",
      "Berhasil: -6.282762107356768, 106.71705290085242\n",
      "\n",
      "Mencari koordinat untuk: Jl. Palem Puri 12\n"
     ]
    },
    {
     "name": "stderr",
     "output_type": "stream",
     "text": [
      "Status code 403 from https://nominatim.openstreetmap.org/search: ERROR - 403 Client Error: Forbidden for url: https://nominatim.openstreetmap.org/search?q=Jalan+Palem+Puri+12%2C+CIPUTAT%2C+Tangerang+Selatan%2C+Banten%2C+Indonesia&format=jsonv2&addressdetails=1&limit=1\n"
     ]
    },
    {
     "name": "stdout",
     "output_type": "stream",
     "text": [
      "Error with bing: Provide API Key\n",
      "Berhasil: -6.293940584312168, 106.71524499855713\n",
      "\n",
      "Mencari koordinat untuk: Jl. Masjid Nurul Qomar RW. 06\n"
     ]
    },
    {
     "name": "stderr",
     "output_type": "stream",
     "text": [
      "Status code 403 from https://nominatim.openstreetmap.org/search: ERROR - 403 Client Error: Forbidden for url: https://nominatim.openstreetmap.org/search?q=Jalan+Masjid+Nurul+Qomar+06%2C+CIPUTAT%2C+Tangerang+Selatan%2C+Banten%2C+Indonesia&format=jsonv2&addressdetails=1&limit=1\n"
     ]
    },
    {
     "name": "stdout",
     "output_type": "stream",
     "text": [
      "Error with bing: Provide API Key\n",
      "Berhasil: -6.291793685542316, 106.71934173755318\n",
      "\n",
      "Mencari koordinat untuk: Jl. Nusa Indah kav 446\n"
     ]
    },
    {
     "name": "stderr",
     "output_type": "stream",
     "text": [
      "Status code 403 from https://nominatim.openstreetmap.org/search: ERROR - 403 Client Error: Forbidden for url: https://nominatim.openstreetmap.org/search?q=Jalan+Nusa+Indah+kav+446%2C+CIPUTAT%2C+Tangerang+Selatan%2C+Banten%2C+Indonesia&format=jsonv2&addressdetails=1&limit=1\n"
     ]
    },
    {
     "name": "stdout",
     "output_type": "stream",
     "text": [
      "Error with bing: Provide API Key\n",
      "Berhasil: -6.309482364230689, 106.71484150803103\n",
      "\n",
      "Mencari koordinat untuk: Bukit indah blok a6 no 10 kelurahan serua\n"
     ]
    },
    {
     "name": "stderr",
     "output_type": "stream",
     "text": [
      "Status code 403 from https://nominatim.openstreetmap.org/search: ERROR - 403 Client Error: Forbidden for url: https://nominatim.openstreetmap.org/search?q=Bukit+indah+blok+a6+no+10+kelurahan+serua%2C+CIPUTAT%2C+Tangerang+Selatan%2C+Banten%2C+Indonesia&format=jsonv2&addressdetails=1&limit=1\n"
     ]
    },
    {
     "name": "stdout",
     "output_type": "stream",
     "text": [
      "Error with bing: Provide API Key\n",
      "Berhasil: -6.319485984891415, 106.71545999437359\n",
      "\n",
      "Mencari koordinat untuk: Jl Bougenville atas no.17\n"
     ]
    },
    {
     "name": "stderr",
     "output_type": "stream",
     "text": [
      "Status code 403 from https://nominatim.openstreetmap.org/search: ERROR - 403 Client Error: Forbidden for url: https://nominatim.openstreetmap.org/search?q=Jalan+Bougenville+atas+no.17%2C+CIPUTAT%2C+Tangerang+Selatan%2C+Banten%2C+Indonesia&format=jsonv2&addressdetails=1&limit=1\n"
     ]
    },
    {
     "name": "stdout",
     "output_type": "stream",
     "text": [
      "Error with bing: Provide API Key\n",
      "Berhasil: -6.312575895396086, 106.71575651604917\n",
      "\n",
      "Mencari koordinat untuk: JLN KP BUARAN RT 004 RW 002\n"
     ]
    },
    {
     "name": "stderr",
     "output_type": "stream",
     "text": [
      "Status code 403 from https://nominatim.openstreetmap.org/search: ERROR - 403 Client Error: Forbidden for url: https://nominatim.openstreetmap.org/search?q=JLN+KP+BUARAN+004+002%2C+CIPUTAT%2C+Tangerang+Selatan%2C+Banten%2C+Indonesia&format=jsonv2&addressdetails=1&limit=1\n"
     ]
    },
    {
     "name": "stdout",
     "output_type": "stream",
     "text": [
      "Error with bing: Provide API Key\n",
      "Berhasil: -6.337608473864829, 106.75338063640724\n",
      "\n",
      "Mencari koordinat untuk: Jl. Nusa indah Kav AA6\n"
     ]
    },
    {
     "name": "stderr",
     "output_type": "stream",
     "text": [
      "Status code 403 from https://nominatim.openstreetmap.org/search: ERROR - 403 Client Error: Forbidden for url: https://nominatim.openstreetmap.org/search?q=Jalan+Nusa+indah+Kav+AA6%2C+CIPUTAT%2C+Tangerang+Selatan%2C+Banten%2C+Indonesia&format=jsonv2&addressdetails=1&limit=1\n"
     ]
    },
    {
     "name": "stdout",
     "output_type": "stream",
     "text": [
      "Error with bing: Provide API Key\n",
      "Berhasil: -6.309482364230689, 106.71484150803103\n",
      "\n",
      "Mencari koordinat untuk: Jl parung benying\n"
     ]
    },
    {
     "name": "stderr",
     "output_type": "stream",
     "text": [
      "Status code 403 from https://nominatim.openstreetmap.org/search: ERROR - 403 Client Error: Forbidden for url: https://nominatim.openstreetmap.org/search?q=Jalan+parung+benying%2C+CIPUTAT%2C+Tangerang+Selatan%2C+Banten%2C+Indonesia&format=jsonv2&addressdetails=1&limit=1\n"
     ]
    },
    {
     "name": "stdout",
     "output_type": "stream",
     "text": [
      "Error with bing: Provide API Key\n",
      "Berhasil: -6.337608473864829, 106.75338063640724\n",
      "\n",
      "Mencari koordinat untuk: Jl.serua indah\n"
     ]
    },
    {
     "name": "stderr",
     "output_type": "stream",
     "text": [
      "Status code 403 from https://nominatim.openstreetmap.org/search: ERROR - 403 Client Error: Forbidden for url: https://nominatim.openstreetmap.org/search?q=Jalanserua+indah%2C+CIPUTAT%2C+Tangerang+Selatan%2C+Banten%2C+Indonesia&format=jsonv2&addressdetails=1&limit=1\n"
     ]
    },
    {
     "name": "stdout",
     "output_type": "stream",
     "text": [
      "Error with bing: Provide API Key\n",
      "Berhasil: -6.3170256, 106.7240433\n",
      "\n",
      "Mencari koordinat untuk: Kp. Kedaung\n"
     ]
    },
    {
     "name": "stderr",
     "output_type": "stream",
     "text": [
      "Status code 403 from https://nominatim.openstreetmap.org/search: ERROR - 403 Client Error: Forbidden for url: https://nominatim.openstreetmap.org/search?q=Kp.+Kedaung%2C+CIPUTAT%2C+Tangerang+Selatan%2C+Banten%2C+Indonesia&format=jsonv2&addressdetails=1&limit=1\n"
     ]
    },
    {
     "name": "stdout",
     "output_type": "stream",
     "text": [
      "Error with bing: Provide API Key\n",
      "Berhasil: -6.3148487, 106.7381253\n",
      "\n",
      "Mencari koordinat untuk: Jln kp. Buaran no 49\n"
     ]
    },
    {
     "name": "stderr",
     "output_type": "stream",
     "text": [
      "Status code 403 from https://nominatim.openstreetmap.org/search: ERROR - 403 Client Error: Forbidden for url: https://nominatim.openstreetmap.org/search?q=Jln+kp.+Buaran+no+49%2C+CIPUTAT%2C+Tangerang+Selatan%2C+Banten%2C+Indonesia&format=jsonv2&addressdetails=1&limit=1\n"
     ]
    },
    {
     "name": "stdout",
     "output_type": "stream",
     "text": [
      "Error with bing: Provide API Key\n",
      "Berhasil: -6.337608473864829, 106.75338063640724\n",
      "\n",
      "Mencari koordinat untuk: Jalan murai 2 no 32\n"
     ]
    },
    {
     "name": "stderr",
     "output_type": "stream",
     "text": [
      "Status code 403 from https://nominatim.openstreetmap.org/search: ERROR - 403 Client Error: Forbidden for url: https://nominatim.openstreetmap.org/search?q=Jalan+murai+2+no+32%2C+CIPUTAT%2C+Tangerang+Selatan%2C+Banten%2C+Indonesia&format=jsonv2&addressdetails=1&limit=1\n"
     ]
    },
    {
     "name": "stdout",
     "output_type": "stream",
     "text": [
      "Error with bing: Provide API Key\n",
      "Berhasil: -6.301836504741502, 106.72971492946601\n",
      "\n",
      "Mencari koordinat untuk: Jl. WR. Supratman, Cemp. Putih\n"
     ]
    },
    {
     "name": "stderr",
     "output_type": "stream",
     "text": [
      "Status code 403 from https://nominatim.openstreetmap.org/search: ERROR - 403 Client Error: Forbidden for url: https://nominatim.openstreetmap.org/search?q=Jalan+WR.+Supratman%2C+Cemp.+Putih%2C+CIPUTAT+TIMUR%2C+Tangerang+Selatan%2C+Banten%2C+Indonesia&format=jsonv2&addressdetails=1&limit=1\n"
     ]
    },
    {
     "name": "stdout",
     "output_type": "stream",
     "text": [
      "Error with bing: Provide API Key\n",
      "Berhasil: -6.2849751, 106.7364081\n",
      "\n",
      "Mencari koordinat untuk: Jl kuningan no 7a\n"
     ]
    },
    {
     "name": "stderr",
     "output_type": "stream",
     "text": [
      "Status code 403 from https://nominatim.openstreetmap.org/search: ERROR - 403 Client Error: Forbidden for url: https://nominatim.openstreetmap.org/search?q=Jalan+kuningan+no+7a%2C+CIPUTAT+TIMUR%2C+Tangerang+Selatan%2C+Banten%2C+Indonesia&format=jsonv2&addressdetails=1&limit=1\n"
     ]
    },
    {
     "name": "stdout",
     "output_type": "stream",
     "text": [
      "Error with bing: Provide API Key\n",
      "Berhasil: -6.298726971659776, 106.76039158061737\n",
      "\n",
      "Mencari koordinat untuk: Jl wr. Supratman no 51\n"
     ]
    },
    {
     "name": "stderr",
     "output_type": "stream",
     "text": [
      "Status code 403 from https://nominatim.openstreetmap.org/search: ERROR - 403 Client Error: Forbidden for url: https://nominatim.openstreetmap.org/search?q=Jalan+wr.+Supratman+no+51%2C+CIPUTAT+TIMUR%2C+Tangerang+Selatan%2C+Banten%2C+Indonesia&format=jsonv2&addressdetails=1&limit=1\n"
     ]
    },
    {
     "name": "stdout",
     "output_type": "stream",
     "text": [
      "Error with bing: Provide API Key\n",
      "Berhasil: -6.2849751, 106.7364081\n",
      "\n",
      "Mencari koordinat untuk: JLN. WR SUPRATMAN RT 002 RW.009\n"
     ]
    },
    {
     "name": "stderr",
     "output_type": "stream",
     "text": [
      "Status code 403 from https://nominatim.openstreetmap.org/search: ERROR - 403 Client Error: Forbidden for url: https://nominatim.openstreetmap.org/search?q=JLN.+WR+SUPRATMAN+002%2C+CIPUTAT+TIMUR%2C+Tangerang+Selatan%2C+Banten%2C+Indonesia&format=jsonv2&addressdetails=1&limit=1\n"
     ]
    },
    {
     "name": "stdout",
     "output_type": "stream",
     "text": [
      "Error with bing: Provide API Key\n",
      "Berhasil: -6.337608473864829, 106.75338063640724\n",
      "\n",
      "Mencari koordinat untuk: JL. H. ABDUL GHANI\n"
     ]
    },
    {
     "name": "stderr",
     "output_type": "stream",
     "text": [
      "Status code 403 from https://nominatim.openstreetmap.org/search: ERROR - 403 Client Error: Forbidden for url: https://nominatim.openstreetmap.org/search?q=Jalan+H.+ABDUL+GHANI%2C+CIPUTAT+TIMUR%2C+Tangerang+Selatan%2C+Banten%2C+Indonesia&format=jsonv2&addressdetails=1&limit=1\n"
     ]
    },
    {
     "name": "stdout",
     "output_type": "stream",
     "text": [
      "Error with bing: Provide API Key\n",
      "Berhasil: -6.302728725705311, 106.7573516914276\n",
      "\n",
      "Mencari koordinat untuk: Jln. Kp utan\n"
     ]
    },
    {
     "name": "stderr",
     "output_type": "stream",
     "text": [
      "Status code 403 from https://nominatim.openstreetmap.org/search: ERROR - 403 Client Error: Forbidden for url: https://nominatim.openstreetmap.org/search?q=Jln.+Kp+utan%2C+CIPUTAT+TIMUR%2C+Tangerang+Selatan%2C+Banten%2C+Indonesia&format=jsonv2&addressdetails=1&limit=1\n"
     ]
    },
    {
     "name": "stdout",
     "output_type": "stream",
     "text": [
      "Error with bing: Provide API Key\n",
      "Berhasil: -6.337608473864829, 106.75338063640724\n",
      "\n",
      "Mencari koordinat untuk: Jln.kompas\n"
     ]
    },
    {
     "name": "stderr",
     "output_type": "stream",
     "text": [
      "Status code 403 from https://nominatim.openstreetmap.org/search: ERROR - 403 Client Error: Forbidden for url: https://nominatim.openstreetmap.org/search?q=Jln.kompas%2C+CIPUTAT+TIMUR%2C+Tangerang+Selatan%2C+Banten%2C+Indonesia&format=jsonv2&addressdetails=1&limit=1\n"
     ]
    },
    {
     "name": "stdout",
     "output_type": "stream",
     "text": [
      "Error with bing: Provide API Key\n",
      "Berhasil: -6.291884289534151, 106.74450826538073\n",
      "\n",
      "Mencari koordinat untuk: Jln. H tuin no. 29 A\n"
     ]
    },
    {
     "name": "stderr",
     "output_type": "stream",
     "text": [
      "Status code 403 from https://nominatim.openstreetmap.org/search: ERROR - 403 Client Error: Forbidden for url: https://nominatim.openstreetmap.org/search?q=Jln.+H+tuin+no.+29+A%2C+CIPUTAT+TIMUR%2C+Tangerang+Selatan%2C+Banten%2C+Indonesia&format=jsonv2&addressdetails=1&limit=1\n"
     ]
    },
    {
     "name": "stdout",
     "output_type": "stream",
     "text": [
      "Error with bing: Provide API Key\n",
      "Berhasil: -6.337608473864829, 106.75338063640724\n",
      "\n",
      "Mencari koordinat untuk: JL. GUNUNG RAYA CIRENDEU 81 RT04\n"
     ]
    },
    {
     "name": "stderr",
     "output_type": "stream",
     "text": [
      "Status code 403 from https://nominatim.openstreetmap.org/search: ERROR - 403 Client Error: Forbidden for url: https://nominatim.openstreetmap.org/search?q=Jalan+GUNUNG+RAYA+CIRENDEU+81%2C+CIPUTAT+TIMUR%2C+Tangerang+Selatan%2C+Banten%2C+Indonesia&format=jsonv2&addressdetails=1&limit=1\n"
     ]
    },
    {
     "name": "stdout",
     "output_type": "stream",
     "text": [
      "Error with bing: Provide API Key\n",
      "Berhasil: -6.306120879633041, 106.7657030613732\n",
      "\n",
      "Mencari koordinat untuk: Jln cirenundeu indah 2 no 10 A\n"
     ]
    },
    {
     "name": "stderr",
     "output_type": "stream",
     "text": [
      "Status code 403 from https://nominatim.openstreetmap.org/search: ERROR - 403 Client Error: Forbidden for url: https://nominatim.openstreetmap.org/search?q=Jln+cirenundeu+indah+2+no+10+A%2C+CIPUTAT+TIMUR%2C+Tangerang+Selatan%2C+Banten%2C+Indonesia&format=jsonv2&addressdetails=1&limit=1\n"
     ]
    },
    {
     "name": "stdout",
     "output_type": "stream",
     "text": [
      "Error with bing: Provide API Key\n",
      "Berhasil: -6.313157019351223, 106.76773297915594\n",
      "\n",
      "Mencari koordinat untuk: Jl. Legoso Raya\n"
     ]
    },
    {
     "name": "stderr",
     "output_type": "stream",
     "text": [
      "Status code 403 from https://nominatim.openstreetmap.org/search: ERROR - 403 Client Error: Forbidden for url: https://nominatim.openstreetmap.org/search?q=Jalan+Legoso+Raya%2C+CIPUTAT+TIMUR%2C+Tangerang+Selatan%2C+Banten%2C+Indonesia&format=jsonv2&addressdetails=1&limit=1\n"
     ]
    },
    {
     "name": "stdout",
     "output_type": "stream",
     "text": [
      "Error with bing: Provide API Key\n",
      "Berhasil: -6.31781612997939, 106.75435544989259\n",
      "\n",
      "Mencari koordinat untuk: JL PISANGAN RAYA no 10\n"
     ]
    },
    {
     "name": "stderr",
     "output_type": "stream",
     "text": [
      "Status code 403 from https://nominatim.openstreetmap.org/search: ERROR - 403 Client Error: Forbidden for url: https://nominatim.openstreetmap.org/search?q=Jalan+PISANGAN+RAYA+no+10%2C+CIPUTAT+TIMUR%2C+Tangerang+Selatan%2C+Banten%2C+Indonesia&format=jsonv2&addressdetails=1&limit=1\n"
     ]
    },
    {
     "name": "stdout",
     "output_type": "stream",
     "text": [
      "Error with bing: Provide API Key\n",
      "Berhasil: -6.312528438575822, 106.76317741576057\n",
      "\n",
      "Mencari koordinat untuk: JL. KERTAMUKTI PISANGAN\n"
     ]
    },
    {
     "name": "stderr",
     "output_type": "stream",
     "text": [
      "Status code 403 from https://nominatim.openstreetmap.org/search: ERROR - 403 Client Error: Forbidden for url: https://nominatim.openstreetmap.org/search?q=Jalan+PISANGAN%2C+CIPUTAT+TIMUR%2C+Tangerang+Selatan%2C+Banten%2C+Indonesia&format=jsonv2&addressdetails=1&limit=1\n"
     ]
    },
    {
     "name": "stdout",
     "output_type": "stream",
     "text": [
      "Error with bing: Provide API Key\n",
      "Berhasil: -6.337608473864829, 106.75338063640724\n",
      "\n",
      "Mencari koordinat untuk: Jl legeso raya\n"
     ]
    },
    {
     "name": "stderr",
     "output_type": "stream",
     "text": [
      "Status code 403 from https://nominatim.openstreetmap.org/search: ERROR - 403 Client Error: Forbidden for url: https://nominatim.openstreetmap.org/search?q=Jalan+legeso+raya%2C+CIPUTAT+TIMUR%2C+Tangerang+Selatan%2C+Banten%2C+Indonesia&format=jsonv2&addressdetails=1&limit=1\n"
     ]
    },
    {
     "name": "stdout",
     "output_type": "stream",
     "text": [
      "Error with bing: Provide API Key\n",
      "Berhasil: -6.31781612997939, 106.75435544989259\n",
      "\n",
      "Mencari koordinat untuk: Jl Legoso raya no 74\n"
     ]
    },
    {
     "name": "stderr",
     "output_type": "stream",
     "text": [
      "Status code 403 from https://nominatim.openstreetmap.org/search: ERROR - 403 Client Error: Forbidden for url: https://nominatim.openstreetmap.org/search?q=Jalan+Legoso+raya+no+74%2C+CIPUTAT+TIMUR%2C+Tangerang+Selatan%2C+Banten%2C+Indonesia&format=jsonv2&addressdetails=1&limit=1\n"
     ]
    },
    {
     "name": "stdout",
     "output_type": "stream",
     "text": [
      "Error with bing: Provide API Key\n",
      "Berhasil: -6.31781612997939, 106.75435544989259\n",
      "\n",
      "Mencari koordinat untuk: Jln. Purnawarman RT.003 Rw.02\n"
     ]
    },
    {
     "name": "stderr",
     "output_type": "stream",
     "text": [
      "Status code 403 from https://nominatim.openstreetmap.org/search: ERROR - 403 Client Error: Forbidden for url: https://nominatim.openstreetmap.org/search?q=Jln.+Purnawarman+Rw.02%2C+CIPUTAT+TIMUR%2C+Tangerang+Selatan%2C+Banten%2C+Indonesia&format=jsonv2&addressdetails=1&limit=1\n"
     ]
    },
    {
     "name": "stdout",
     "output_type": "stream",
     "text": [
      "Error with bing: Provide API Key\n",
      "Berhasil: -6.32257899098218, 106.76311698125818\n",
      "\n",
      "Mencari koordinat untuk: Jl. Legoso Selatan II\n"
     ]
    },
    {
     "name": "stderr",
     "output_type": "stream",
     "text": [
      "Status code 403 from https://nominatim.openstreetmap.org/search: ERROR - 403 Client Error: Forbidden for url: https://nominatim.openstreetmap.org/search?q=Jalan+Legoso+Selatan+II%2C+CIPUTAT+TIMUR%2C+Tangerang+Selatan%2C+Banten%2C+Indonesia&format=jsonv2&addressdetails=1&limit=1\n"
     ]
    },
    {
     "name": "stdout",
     "output_type": "stream",
     "text": [
      "Error with bing: Provide API Key\n",
      "Berhasil: -6.323769104886606, 106.75971139683\n",
      "\n",
      "Mencari koordinat untuk: Jln. Ibu batutah\n"
     ]
    },
    {
     "name": "stderr",
     "output_type": "stream",
     "text": [
      "Status code 403 from https://nominatim.openstreetmap.org/search: ERROR - 403 Client Error: Forbidden for url: https://nominatim.openstreetmap.org/search?q=Jln.+Ibu+batutah%2C+CIPUTAT+TIMUR%2C+Tangerang+Selatan%2C+Banten%2C+Indonesia&format=jsonv2&addressdetails=1&limit=1\n"
     ]
    },
    {
     "name": "stdout",
     "output_type": "stream",
     "text": [
      "Error with bing: Provide API Key\n",
      "Berhasil: -6.310412171310056, 106.7560192664484\n",
      "\n",
      "Mencari koordinat untuk: Jl. Kerosin 1 No. 7\n"
     ]
    },
    {
     "name": "stderr",
     "output_type": "stream",
     "text": [
      "Status code 403 from https://nominatim.openstreetmap.org/search: ERROR - 403 Client Error: Forbidden for url: https://nominatim.openstreetmap.org/search?q=Jalan+Kerosin+1+No.+7%2C+CIPUTAT+TIMUR%2C+Tangerang+Selatan%2C+Banten%2C+Indonesia&format=jsonv2&addressdetails=1&limit=1\n"
     ]
    },
    {
     "name": "stdout",
     "output_type": "stream",
     "text": [
      "Error with bing: Provide API Key\n",
      "Berhasil: -6.2874016101879135, 106.74186810233715\n",
      "\n",
      "Mencari koordinat untuk: Jl kerosin blok k5\n"
     ]
    },
    {
     "name": "stderr",
     "output_type": "stream",
     "text": [
      "Status code 403 from https://nominatim.openstreetmap.org/search: ERROR - 403 Client Error: Forbidden for url: https://nominatim.openstreetmap.org/search?q=Jalan+kerosin+blok+k5%2C+CIPUTAT+TIMUR%2C+Tangerang+Selatan%2C+Banten%2C+Indonesia&format=jsonv2&addressdetails=1&limit=1\n"
     ]
    },
    {
     "name": "stdout",
     "output_type": "stream",
     "text": [
      "Error with bing: Provide API Key\n",
      "Berhasil: -6.337608473864829, 106.75338063640724\n",
      "\n",
      "Mencari koordinat untuk: Jalan yaktapena raya\n"
     ]
    },
    {
     "name": "stderr",
     "output_type": "stream",
     "text": [
      "Status code 403 from https://nominatim.openstreetmap.org/search: ERROR - 403 Client Error: Forbidden for url: https://nominatim.openstreetmap.org/search?q=Jalan+yaktapena+raya%2C+CIPUTAT+TIMUR%2C+Tangerang+Selatan%2C+Banten%2C+Indonesia&format=jsonv2&addressdetails=1&limit=1\n"
     ]
    },
    {
     "name": "stdout",
     "output_type": "stream",
     "text": [
      "Error with bing: Provide API Key\n",
      "Berhasil: -6.286358257007385, 106.74352395110944\n",
      "\n",
      "Mencari koordinat untuk: Jln rusa 4 no. 42\n"
     ]
    },
    {
     "name": "stderr",
     "output_type": "stream",
     "text": [
      "Status code 403 from https://nominatim.openstreetmap.org/search: ERROR - 403 Client Error: Forbidden for url: https://nominatim.openstreetmap.org/search?q=Jln+rusa+4+no.+42%2C+CIPUTAT+TIMUR%2C+Tangerang+Selatan%2C+Banten%2C+Indonesia&format=jsonv2&addressdetails=1&limit=1\n"
     ]
    },
    {
     "name": "stdout",
     "output_type": "stream",
     "text": [
      "Error with bing: Provide API Key\n",
      "Berhasil: -6.2875249918026554, 106.73369398654143\n",
      "\n",
      "Mencari koordinat untuk: JALAN MAWAR II\n"
     ]
    },
    {
     "name": "stderr",
     "output_type": "stream",
     "text": [
      "Status code 403 from https://nominatim.openstreetmap.org/search: ERROR - 403 Client Error: Forbidden for url: https://nominatim.openstreetmap.org/search?q=JALAN+MAWAR+II%2C+CIPUTAT+TIMUR%2C+Tangerang+Selatan%2C+Banten%2C+Indonesia&format=jsonv2&addressdetails=1&limit=1\n"
     ]
    },
    {
     "name": "stdout",
     "output_type": "stream",
     "text": [
      "Error with bing: Provide API Key\n",
      "Berhasil: -6.286882060528018, 106.76158033741703\n",
      "\n",
      "Mencari koordinat untuk: Jlan kesatriaan no2 B\n"
     ]
    },
    {
     "name": "stderr",
     "output_type": "stream",
     "text": [
      "Status code 403 from https://nominatim.openstreetmap.org/search: ERROR - 403 Client Error: Forbidden for url: https://nominatim.openstreetmap.org/search?q=Jlan+kesatriaan+no2+B%2C+CIPUTAT+TIMUR%2C+Tangerang+Selatan%2C+Banten%2C+Indonesia&format=jsonv2&addressdetails=1&limit=1\n"
     ]
    },
    {
     "name": "stdout",
     "output_type": "stream",
     "text": [
      "Error with bing: Provide API Key\n",
      "Berhasil: -6.294820013593338, 106.75307370105435\n",
      "\n",
      "Mencari koordinat untuk: Jln kesatriaan no2 B\n"
     ]
    },
    {
     "name": "stderr",
     "output_type": "stream",
     "text": [
      "Status code 403 from https://nominatim.openstreetmap.org/search: ERROR - 403 Client Error: Forbidden for url: https://nominatim.openstreetmap.org/search?q=Jln+kesatriaan+no2+B%2C+CIPUTAT+TIMUR%2C+Tangerang+Selatan%2C+Banten%2C+Indonesia&format=jsonv2&addressdetails=1&limit=1\n"
     ]
    },
    {
     "name": "stdout",
     "output_type": "stream",
     "text": [
      "Error with bing: Provide API Key\n",
      "Berhasil: -6.294820013593338, 106.75307370105435\n",
      "\n",
      "Mencari koordinat untuk: Jl.Delima Jaya II\n"
     ]
    },
    {
     "name": "stderr",
     "output_type": "stream",
     "text": [
      "Status code 403 from https://nominatim.openstreetmap.org/search: ERROR - 403 Client Error: Forbidden for url: https://nominatim.openstreetmap.org/search?q=JalanDelima+Jaya+II%2C+CIPUTAT+TIMUR%2C+Tangerang+Selatan%2C+Banten%2C+Indonesia&format=jsonv2&addressdetails=1&limit=1\n"
     ]
    },
    {
     "name": "stdout",
     "output_type": "stream",
     "text": [
      "Error with bing: Provide API Key\n",
      "Berhasil: -6.289420051936941, 106.75862798646232\n",
      "\n",
      "Mencari koordinat untuk: JALAN KENANGAN\n"
     ]
    },
    {
     "name": "stderr",
     "output_type": "stream",
     "text": [
      "Status code 403 from https://nominatim.openstreetmap.org/search: ERROR - 403 Client Error: Forbidden for url: https://nominatim.openstreetmap.org/search?q=JALAN+KENANGAN%2C+CIPUTAT+TIMUR%2C+Tangerang+Selatan%2C+Banten%2C+Indonesia&format=jsonv2&addressdetails=1&limit=1\n"
     ]
    },
    {
     "name": "stdout",
     "output_type": "stream",
     "text": [
      "Error with bing: Provide API Key\n",
      "Berhasil: -6.296692186549004, 106.7604430300177\n",
      "\n",
      "Mencari koordinat untuk: Jln H toran rT 005 rw.01\n"
     ]
    },
    {
     "name": "stderr",
     "output_type": "stream",
     "text": [
      "Status code 403 from https://nominatim.openstreetmap.org/search: ERROR - 403 Client Error: Forbidden for url: https://nominatim.openstreetmap.org/search?q=Jln+H+toran+rT+005+rw.01%2C+CIPUTAT+TIMUR%2C+Tangerang+Selatan%2C+Banten%2C+Indonesia&format=jsonv2&addressdetails=1&limit=1\n"
     ]
    },
    {
     "name": "stdout",
     "output_type": "stream",
     "text": [
      "Error with bing: Provide API Key\n",
      "Berhasil: -6.337608473864829, 106.75338063640724\n",
      "\n",
      "Mencari koordinat untuk: JALAN TERATAI PUTIH\n"
     ]
    },
    {
     "name": "stderr",
     "output_type": "stream",
     "text": [
      "Status code 403 from https://nominatim.openstreetmap.org/search: ERROR - 403 Client Error: Forbidden for url: https://nominatim.openstreetmap.org/search?q=JALAN+TERATAI+PUTIH%2C+CIPUTAT+TIMUR%2C+Tangerang+Selatan%2C+Banten%2C+Indonesia&format=jsonv2&addressdetails=1&limit=1\n"
     ]
    },
    {
     "name": "stdout",
     "output_type": "stream",
     "text": [
      "Error with bing: Provide API Key\n",
      "Berhasil: -6.278110904384474, 106.75623393348839\n",
      "\n",
      "Mencari koordinat untuk: Jl. Wr Supratman Rt.07 rw.06\n"
     ]
    },
    {
     "name": "stderr",
     "output_type": "stream",
     "text": [
      "Status code 403 from https://nominatim.openstreetmap.org/search: ERROR - 403 Client Error: Forbidden for url: https://nominatim.openstreetmap.org/search?q=Jalan+Wr+Supratman+Rt.07+rw.06%2C+CIPUTAT+TIMUR%2C+Tangerang+Selatan%2C+Banten%2C+Indonesia&format=jsonv2&addressdetails=1&limit=1\n"
     ]
    },
    {
     "name": "stdout",
     "output_type": "stream",
     "text": [
      "Error with bing: Provide API Key\n",
      "Berhasil: -6.2849751, 106.7364081\n",
      "\n",
      "Mencari koordinat untuk: JL. KRAMAT NO .47 RT 007/010\n"
     ]
    },
    {
     "name": "stderr",
     "output_type": "stream",
     "text": [
      "Status code 403 from https://nominatim.openstreetmap.org/search: ERROR - 403 Client Error: Forbidden for url: https://nominatim.openstreetmap.org/search?q=Jalan+KRAMAT+NO+.47+007%2F010%2C+CIPUTAT+TIMUR%2C+Tangerang+Selatan%2C+Banten%2C+Indonesia&format=jsonv2&addressdetails=1&limit=1\n"
     ]
    },
    {
     "name": "stdout",
     "output_type": "stream",
     "text": [
      "Error with bing: Provide API Key\n",
      "Berhasil: -6.284273316284768, 106.74759453476759\n",
      "\n",
      "Mencari koordinat untuk: Jalan lele raya bambu apus\n"
     ]
    },
    {
     "name": "stderr",
     "output_type": "stream",
     "text": [
      "Status code 403 from https://nominatim.openstreetmap.org/search: ERROR - 403 Client Error: Forbidden for url: https://nominatim.openstreetmap.org/search?q=Jalan+lele+raya+bambu+apus%2C+PAMULANG%2C+Tangerang+Selatan%2C+Banten%2C+Indonesia&format=jsonv2&addressdetails=1&limit=1\n"
     ]
    },
    {
     "name": "stdout",
     "output_type": "stream",
     "text": [
      "Error with bing: Provide API Key\n",
      "Berhasil: -6.332340400633365, 106.72872353798854\n",
      "\n",
      "Mencari koordinat untuk: Jalan gurame 3\n"
     ]
    },
    {
     "name": "stderr",
     "output_type": "stream",
     "text": [
      "Status code 403 from https://nominatim.openstreetmap.org/search: ERROR - 403 Client Error: Forbidden for url: https://nominatim.openstreetmap.org/search?q=Jalan+gurame+3%2C+PAMULANG%2C+Tangerang+Selatan%2C+Banten%2C+Indonesia&format=jsonv2&addressdetails=1&limit=1\n"
     ]
    },
    {
     "name": "stdout",
     "output_type": "stream",
     "text": [
      "Error with bing: Provide API Key\n",
      "Berhasil: -6.32364089429548, 106.73226998501099\n",
      "\n",
      "Mencari koordinat untuk: Jl Lele Kp. Ciledug\n"
     ]
    },
    {
     "name": "stderr",
     "output_type": "stream",
     "text": [
      "Status code 403 from https://nominatim.openstreetmap.org/search: ERROR - 403 Client Error: Forbidden for url: https://nominatim.openstreetmap.org/search?q=Jalan+Lele+Kp.+Ciledug%2C+PAMULANG%2C+Tangerang+Selatan%2C+Banten%2C+Indonesia&format=jsonv2&addressdetails=1&limit=1\n"
     ]
    },
    {
     "name": "stdout",
     "output_type": "stream",
     "text": [
      "Error with bing: Provide API Key\n",
      "Berhasil: -6.332340400633365, 106.72872353798854\n",
      "\n",
      "Mencari koordinat untuk: Jl lelev V\n"
     ]
    },
    {
     "name": "stderr",
     "output_type": "stream",
     "text": [
      "Status code 403 from https://nominatim.openstreetmap.org/search: ERROR - 403 Client Error: Forbidden for url: https://nominatim.openstreetmap.org/search?q=Jalan+lelev+V%2C+PAMULANG%2C+Tangerang+Selatan%2C+Banten%2C+Indonesia&format=jsonv2&addressdetails=1&limit=1\n"
     ]
    },
    {
     "name": "stdout",
     "output_type": "stream",
     "text": [
      "Error with bing: Provide API Key\n",
      "Berhasil: -6.318097364264928, 106.73142790739055\n",
      "\n",
      "Mencari koordinat untuk: Jl lele kp ciledug rt 006/rw005\n"
     ]
    },
    {
     "name": "stderr",
     "output_type": "stream",
     "text": [
      "Status code 403 from https://nominatim.openstreetmap.org/search: ERROR - 403 Client Error: Forbidden for url: https://nominatim.openstreetmap.org/search?q=Jalan+lele+kp+ciledug+rt+006%2Frw005%2C+PAMULANG%2C+Tangerang+Selatan%2C+Banten%2C+Indonesia&format=jsonv2&addressdetails=1&limit=1\n"
     ]
    },
    {
     "name": "stdout",
     "output_type": "stream",
     "text": [
      "Error with bing: Provide API Key\n",
      "Berhasil: -6.332340400633365, 106.72872353798854\n",
      "\n",
      "Mencari koordinat untuk: Jl Oscar raya no.101B\n"
     ]
    },
    {
     "name": "stderr",
     "output_type": "stream",
     "text": [
      "Status code 403 from https://nominatim.openstreetmap.org/search: ERROR - 403 Client Error: Forbidden for url: https://nominatim.openstreetmap.org/search?q=Jalan+Oscar+raya+no.101B%2C+PAMULANG%2C+Tangerang+Selatan%2C+Banten%2C+Indonesia&format=jsonv2&addressdetails=1&limit=1\n"
     ]
    },
    {
     "name": "stdout",
     "output_type": "stream",
     "text": [
      "Error with bing: Provide API Key\n",
      "Berhasil: -6.316888, 106.740404\n",
      "\n",
      "Mencari koordinat untuk: BAMBU APUS\n"
     ]
    },
    {
     "name": "stderr",
     "output_type": "stream",
     "text": [
      "Status code 403 from https://nominatim.openstreetmap.org/search: ERROR - 403 Client Error: Forbidden for url: https://nominatim.openstreetmap.org/search?q=BAMBU+APUS%2C+PAMULANG%2C+Tangerang+Selatan%2C+Banten%2C+Indonesia&format=jsonv2&addressdetails=1&limit=1\n"
     ]
    },
    {
     "name": "stdout",
     "output_type": "stream",
     "text": [
      "Error with bing: Provide API Key\n",
      "Berhasil: -6.3267409, 106.7300354\n",
      "\n",
      "Mencari koordinat untuk: Jl. Mujair 6\n"
     ]
    },
    {
     "name": "stderr",
     "output_type": "stream",
     "text": [
      "Status code 403 from https://nominatim.openstreetmap.org/search: ERROR - 403 Client Error: Forbidden for url: https://nominatim.openstreetmap.org/search?q=Jalan+Mujair+6%2C+PAMULANG%2C+Tangerang+Selatan%2C+Banten%2C+Indonesia&format=jsonv2&addressdetails=1&limit=1\n"
     ]
    },
    {
     "name": "stdout",
     "output_type": "stream",
     "text": [
      "Error with bing: Provide API Key\n",
      "Berhasil: -6.321575376364312, 106.72844096400235\n",
      "\n",
      "Mencari koordinat untuk: Jl h rean no 92\n"
     ]
    },
    {
     "name": "stderr",
     "output_type": "stream",
     "text": [
      "Status code 403 from https://nominatim.openstreetmap.org/search: ERROR - 403 Client Error: Forbidden for url: https://nominatim.openstreetmap.org/search?q=Jalan+h+rean+no+92%2C+PAMULANG%2C+Tangerang+Selatan%2C+Banten%2C+Indonesia&format=jsonv2&addressdetails=1&limit=1\n"
     ]
    },
    {
     "name": "stdout",
     "output_type": "stream",
     "text": [
      "Error with bing: Provide API Key\n",
      "Berhasil: -6.316888, 106.740404\n",
      "\n",
      "Mencari koordinat untuk: Jl. H. Rean\n"
     ]
    },
    {
     "name": "stderr",
     "output_type": "stream",
     "text": [
      "Status code 403 from https://nominatim.openstreetmap.org/search: ERROR - 403 Client Error: Forbidden for url: https://nominatim.openstreetmap.org/search?q=Jalan+H.+Rean%2C+PAMULANG%2C+Tangerang+Selatan%2C+Banten%2C+Indonesia&format=jsonv2&addressdetails=1&limit=1\n"
     ]
    },
    {
     "name": "stdout",
     "output_type": "stream",
     "text": [
      "Error with bing: Provide API Key\n",
      "Berhasil: -6.318097364264928, 106.73142790739055\n",
      "\n",
      "Mencari koordinat untuk: Pasar bukit Pamulang 11\n"
     ]
    },
    {
     "name": "stderr",
     "output_type": "stream",
     "text": [
      "Status code 403 from https://nominatim.openstreetmap.org/search: ERROR - 403 Client Error: Forbidden for url: https://nominatim.openstreetmap.org/search?q=Pasar+bukit+Pamulang+11%2C+PAMULANG%2C+Tangerang+Selatan%2C+Banten%2C+Indonesia&format=jsonv2&addressdetails=1&limit=1\n"
     ]
    },
    {
     "name": "stdout",
     "output_type": "stream",
     "text": [
      "Error with bing: Provide API Key\n",
      "Berhasil: -6.348281887522106, 106.73981202148826\n",
      "\n",
      "Mencari koordinat untuk: JL. ANGGREK II CILEDUG BARAT\n"
     ]
    },
    {
     "name": "stderr",
     "output_type": "stream",
     "text": [
      "Status code 403 from https://nominatim.openstreetmap.org/search: ERROR - 403 Client Error: Forbidden for url: https://nominatim.openstreetmap.org/search?q=Jalan+ANGGREK+II+CILEDUG+BARAT%2C+PAMULANG%2C+Tangerang+Selatan%2C+Banten%2C+Indonesia&format=jsonv2&addressdetails=1&limit=1\n"
     ]
    },
    {
     "name": "stdout",
     "output_type": "stream",
     "text": [
      "Error with bing: Provide API Key\n",
      "Berhasil: -6.3324563959891, 106.7330372511405\n",
      "\n",
      "Mencari koordinat untuk: Jl Inpres kp bulak\n"
     ]
    },
    {
     "name": "stderr",
     "output_type": "stream",
     "text": [
      "Status code 403 from https://nominatim.openstreetmap.org/search: ERROR - 403 Client Error: Forbidden for url: https://nominatim.openstreetmap.org/search?q=Jalan+Inpres+kp+bulak%2C+PAMULANG%2C+Tangerang+Selatan%2C+Banten%2C+Indonesia&format=jsonv2&addressdetails=1&limit=1\n"
     ]
    },
    {
     "name": "stdout",
     "output_type": "stream",
     "text": [
      "Error with bing: Provide API Key\n",
      "Berhasil: -6.335882837449848, 106.71443651762232\n",
      "\n",
      "Mencari koordinat untuk: Jl alam asri raya blok k.55 vila Dago\n"
     ]
    },
    {
     "name": "stderr",
     "output_type": "stream",
     "text": [
      "Status code 403 from https://nominatim.openstreetmap.org/search: ERROR - 403 Client Error: Forbidden for url: https://nominatim.openstreetmap.org/search?q=Jalan+alam+asri+raya+blok+k.55+vila+Dago%2C+PAMULANG%2C+Tangerang+Selatan%2C+Banten%2C+Indonesia&format=jsonv2&addressdetails=1&limit=1\n"
     ]
    },
    {
     "name": "stdout",
     "output_type": "stream",
     "text": [
      "Error with bing: Provide API Key\n",
      "Berhasil: -6.3282424357420375, 106.71405428860952\n",
      "\n",
      "Mencari koordinat untuk: Jl mendut 2 blok c32 non6\n"
     ]
    },
    {
     "name": "stderr",
     "output_type": "stream",
     "text": [
      "Status code 403 from https://nominatim.openstreetmap.org/search: ERROR - 403 Client Error: Forbidden for url: https://nominatim.openstreetmap.org/search?q=Jalan+mendut+2+blok+c32+non6%2C+PAMULANG%2C+Tangerang+Selatan%2C+Banten%2C+Indonesia&format=jsonv2&addressdetails=1&limit=1\n"
     ]
    },
    {
     "name": "stdout",
     "output_type": "stream",
     "text": [
      "Error with bing: Provide API Key\n",
      "Berhasil: -6.32650641553407, 106.71791668828479\n",
      "\n",
      "Mencari koordinat untuk: Jl. H Rean\n"
     ]
    },
    {
     "name": "stderr",
     "output_type": "stream",
     "text": [
      "Status code 403 from https://nominatim.openstreetmap.org/search: ERROR - 403 Client Error: Forbidden for url: https://nominatim.openstreetmap.org/search?q=Jalan+H+Rean%2C+PAMULANG%2C+Tangerang+Selatan%2C+Banten%2C+Indonesia&format=jsonv2&addressdetails=1&limit=1\n"
     ]
    },
    {
     "name": "stdout",
     "output_type": "stream",
     "text": [
      "Error with bing: Provide API Key\n",
      "Berhasil: -6.318097364264928, 106.73142790739055\n",
      "\n",
      "Mencari koordinat untuk: Jl. Alam asri raya Blok K\n"
     ]
    },
    {
     "name": "stderr",
     "output_type": "stream",
     "text": [
      "Status code 403 from https://nominatim.openstreetmap.org/search: ERROR - 403 Client Error: Forbidden for url: https://nominatim.openstreetmap.org/search?q=Jalan+Alam+asri+raya+Blok+K%2C+PAMULANG%2C+Tangerang+Selatan%2C+Banten%2C+Indonesia&format=jsonv2&addressdetails=1&limit=1\n"
     ]
    },
    {
     "name": "stdout",
     "output_type": "stream",
     "text": [
      "Error with bing: Provide API Key\n",
      "Berhasil: -6.3282424357420375, 106.71405428860952\n",
      "\n",
      "Mencari koordinat untuk: Perum Pamulang regency\n"
     ]
    },
    {
     "name": "stderr",
     "output_type": "stream",
     "text": [
      "Status code 403 from https://nominatim.openstreetmap.org/search: ERROR - 403 Client Error: Forbidden for url: https://nominatim.openstreetmap.org/search?q=Perum+Pamulang+regency%2C+PAMULANG%2C+Tangerang+Selatan%2C+Banten%2C+Indonesia&format=jsonv2&addressdetails=1&limit=1\n"
     ]
    },
    {
     "name": "stdout",
     "output_type": "stream",
     "text": [
      "Error with bing: Provide API Key\n",
      "Berhasil: -6.3266259, 106.721724\n",
      "\n",
      "Mencari koordinat untuk: Jl ciledug barat rt.004/ rw 001\n"
     ]
    },
    {
     "name": "stderr",
     "output_type": "stream",
     "text": [
      "Status code 403 from https://nominatim.openstreetmap.org/search: ERROR - 403 Client Error: Forbidden for url: https://nominatim.openstreetmap.org/search?q=Jalan+ciledug+barat+rt.004%2F+rw+001%2C+PAMULANG%2C+Tangerang+Selatan%2C+Banten%2C+Indonesia&format=jsonv2&addressdetails=1&limit=1\n"
     ]
    },
    {
     "name": "stdout",
     "output_type": "stream",
     "text": [
      "Error with bing: Provide API Key\n",
      "Berhasil: -6.318097364264928, 106.73142790739055\n",
      "\n",
      "Mencari koordinat untuk: Jl. Masjid Al-Amin No. 38\n"
     ]
    },
    {
     "name": "stderr",
     "output_type": "stream",
     "text": [
      "Status code 403 from https://nominatim.openstreetmap.org/search: ERROR - 403 Client Error: Forbidden for url: https://nominatim.openstreetmap.org/search?q=Jalan+Masjid+Al-Amin+No.+38%2C+PAMULANG%2C+Tangerang+Selatan%2C+Banten%2C+Indonesia&format=jsonv2&addressdetails=1&limit=1\n"
     ]
    },
    {
     "name": "stdout",
     "output_type": "stream",
     "text": [
      "Error with bing: Provide API Key\n",
      "Berhasil: -6.337697794296535, 106.71495377251873\n",
      "\n",
      "Mencari koordinat untuk: Jl graha indah 2\n"
     ]
    },
    {
     "name": "stderr",
     "output_type": "stream",
     "text": [
      "Status code 403 from https://nominatim.openstreetmap.org/search: ERROR - 403 Client Error: Forbidden for url: https://nominatim.openstreetmap.org/search?q=Jalan+graha+indah+2%2C+PAMULANG%2C+Tangerang+Selatan%2C+Banten%2C+Indonesia&format=jsonv2&addressdetails=1&limit=1\n"
     ]
    },
    {
     "name": "stdout",
     "output_type": "stream",
     "text": [
      "Error with bing: Provide API Key\n",
      "Berhasil: -6.316888, 106.740404\n",
      "\n",
      "Mencari koordinat untuk: Jl h sala no 23\n"
     ]
    },
    {
     "name": "stderr",
     "output_type": "stream",
     "text": [
      "Status code 403 from https://nominatim.openstreetmap.org/search: ERROR - 403 Client Error: Forbidden for url: https://nominatim.openstreetmap.org/search?q=Jalan+h+sala+no+23%2C+PAMULANG%2C+Tangerang+Selatan%2C+Banten%2C+Indonesia&format=jsonv2&addressdetails=1&limit=1\n"
     ]
    },
    {
     "name": "stdout",
     "output_type": "stream",
     "text": [
      "Error with bing: Provide API Key\n",
      "Berhasil: -6.316888, 106.740404\n",
      "\n",
      "Mencari koordinat untuk: GANG HAJI MANAFE\n"
     ]
    },
    {
     "name": "stderr",
     "output_type": "stream",
     "text": [
      "Status code 403 from https://nominatim.openstreetmap.org/search: ERROR - 403 Client Error: Forbidden for url: https://nominatim.openstreetmap.org/search?q=GANG+HAJI+MANAFE%2C+PAMULANG%2C+Tangerang+Selatan%2C+Banten%2C+Indonesia&format=jsonv2&addressdetails=1&limit=1\n"
     ]
    },
    {
     "name": "stdout",
     "output_type": "stream",
     "text": [
      "Error with bing: Provide API Key\n",
      "Berhasil: -6.316888, 106.740404\n",
      "\n",
      "Mencari koordinat untuk: Bukit pamulang indah B14 no7\n"
     ]
    },
    {
     "name": "stderr",
     "output_type": "stream",
     "text": [
      "Status code 403 from https://nominatim.openstreetmap.org/search: ERROR - 403 Client Error: Forbidden for url: https://nominatim.openstreetmap.org/search?q=Bukit+pamulang+indah+B14+no7%2C+PAMULANG%2C+Tangerang+Selatan%2C+Banten%2C+Indonesia&format=jsonv2&addressdetails=1&limit=1\n"
     ]
    },
    {
     "name": "stdout",
     "output_type": "stream",
     "text": [
      "Error with bing: Provide API Key\n",
      "Berhasil: -6.348910907445898, 106.73934799932846\n",
      "\n",
      "Mencari koordinat untuk: Jl. Haji taip no. 78 rt 05 rw 019\n"
     ]
    },
    {
     "name": "stderr",
     "output_type": "stream",
     "text": [
      "Status code 403 from https://nominatim.openstreetmap.org/search: ERROR - 403 Client Error: Forbidden for url: https://nominatim.openstreetmap.org/search?q=Jalan+Haji+taip+no.+78+rt+05+rw+019%2C+PAMULANG%2C+Tangerang+Selatan%2C+Banten%2C+Indonesia&format=jsonv2&addressdetails=1&limit=1\n"
     ]
    },
    {
     "name": "stdout",
     "output_type": "stream",
     "text": [
      "Error with bing: Provide API Key\n",
      "Berhasil: -6.324543338980809, 106.73622427196307\n",
      "\n",
      "Mencari koordinat untuk: Jl. Abdul aziz, kp bulak barat\n"
     ]
    },
    {
     "name": "stderr",
     "output_type": "stream",
     "text": [
      "Status code 403 from https://nominatim.openstreetmap.org/search: ERROR - 403 Client Error: Forbidden for url: https://nominatim.openstreetmap.org/search?q=Jalan+Abdul+aziz%2C+kp+bulak+barat%2C+PAMULANG%2C+Tangerang+Selatan%2C+Banten%2C+Indonesia&format=jsonv2&addressdetails=1&limit=1\n"
     ]
    },
    {
     "name": "stdout",
     "output_type": "stream",
     "text": [
      "Error with bing: Provide API Key\n",
      "Berhasil: -6.318097364264928, 106.73142790739055\n",
      "\n",
      "Mencari koordinat untuk: Kp bulak Timur\n"
     ]
    },
    {
     "name": "stderr",
     "output_type": "stream",
     "text": [
      "Status code 403 from https://nominatim.openstreetmap.org/search: ERROR - 403 Client Error: Forbidden for url: https://nominatim.openstreetmap.org/search?q=Kp+bulak+Timur%2C+PAMULANG%2C+Tangerang+Selatan%2C+Banten%2C+Indonesia&format=jsonv2&addressdetails=1&limit=1\n"
     ]
    },
    {
     "name": "stdout",
     "output_type": "stream",
     "text": [
      "Error with bing: Provide API Key\n",
      "Berhasil: -6.3449151, 106.7449032\n",
      "\n",
      "Mencari koordinat untuk: Jl masjid Darussalam\n"
     ]
    },
    {
     "name": "stderr",
     "output_type": "stream",
     "text": [
      "Status code 403 from https://nominatim.openstreetmap.org/search: ERROR - 403 Client Error: Forbidden for url: https://nominatim.openstreetmap.org/search?q=Jalan+masjid+Darussalam%2C+PAMULANG%2C+Tangerang+Selatan%2C+Banten%2C+Indonesia&format=jsonv2&addressdetails=1&limit=1\n"
     ]
    },
    {
     "name": "stdout",
     "output_type": "stream",
     "text": [
      "Error with bing: Provide API Key\n",
      "Berhasil: -6.311827010063286, 106.73852683209493\n",
      "\n",
      "Mencari koordinat untuk: Jl. Sumber hidup No.69\n"
     ]
    },
    {
     "name": "stderr",
     "output_type": "stream",
     "text": [
      "Status code 403 from https://nominatim.openstreetmap.org/search: ERROR - 403 Client Error: Forbidden for url: https://nominatim.openstreetmap.org/search?q=Jalan+Sumber+hidup+No.69%2C+PAMULANG%2C+Tangerang+Selatan%2C+Banten%2C+Indonesia&format=jsonv2&addressdetails=1&limit=1\n"
     ]
    },
    {
     "name": "stdout",
     "output_type": "stream",
     "text": [
      "Error with bing: Provide API Key\n",
      "Berhasil: -6.318097364264928, 106.73142790739055\n",
      "\n",
      "Mencari koordinat untuk: Jl surya kencana RT 001/ RW 004\n"
     ]
    },
    {
     "name": "stderr",
     "output_type": "stream",
     "text": [
      "Status code 403 from https://nominatim.openstreetmap.org/search: ERROR - 403 Client Error: Forbidden for url: https://nominatim.openstreetmap.org/search?q=Jalan+surya+kencana+001%2F+004%2C+PAMULANG%2C+Tangerang+Selatan%2C+Banten%2C+Indonesia&format=jsonv2&addressdetails=1&limit=1\n"
     ]
    },
    {
     "name": "stdout",
     "output_type": "stream",
     "text": [
      "Error with bing: Provide API Key\n",
      "Berhasil: -6.14995998151133, 106.57384899750997\n",
      "\n",
      "Mencari koordinat untuk: Pasar kita pamulang K17/3 , jl raya pajajaran\n"
     ]
    },
    {
     "name": "stderr",
     "output_type": "stream",
     "text": [
      "Status code 403 from https://nominatim.openstreetmap.org/search: ERROR - 403 Client Error: Forbidden for url: https://nominatim.openstreetmap.org/search?q=Pasar+kita+pamulang+K17%2F3+%2C+jl+raya+pajajaran%2C+PAMULANG%2C+Tangerang+Selatan%2C+Banten%2C+Indonesia&format=jsonv2&addressdetails=1&limit=1\n"
     ]
    },
    {
     "name": "stdout",
     "output_type": "stream",
     "text": [
      "Error with bing: Provide API Key\n",
      "Berhasil: -6.287680015101884, 106.70475202924791\n",
      "\n",
      "Mencari koordinat untuk: JL BERINGIN 1 RT 004 RW 007\n"
     ]
    },
    {
     "name": "stderr",
     "output_type": "stream",
     "text": [
      "Status code 403 from https://nominatim.openstreetmap.org/search: ERROR - 403 Client Error: Forbidden for url: https://nominatim.openstreetmap.org/search?q=Jalan+BERINGIN+1+004+007%2C+PAMULANG%2C+Tangerang+Selatan%2C+Banten%2C+Indonesia&format=jsonv2&addressdetails=1&limit=1\n"
     ]
    },
    {
     "name": "stdout",
     "output_type": "stream",
     "text": [
      "Error with bing: Provide API Key\n",
      "Berhasil: -6.328647991795393, 106.7167030306145\n",
      "\n",
      "Mencari koordinat untuk: Jl.Surya Kencana No 17\n"
     ]
    },
    {
     "name": "stderr",
     "output_type": "stream",
     "text": [
      "Status code 403 from https://nominatim.openstreetmap.org/search: ERROR - 403 Client Error: Forbidden for url: https://nominatim.openstreetmap.org/search?q=JalanSurya+Kencana+No+17%2C+PAMULANG%2C+Tangerang+Selatan%2C+Banten%2C+Indonesia&format=jsonv2&addressdetails=1&limit=1\n"
     ]
    },
    {
     "name": "stdout",
     "output_type": "stream",
     "text": [
      "Error with bing: Provide API Key\n",
      "Berhasil: -6.149933997611484, 106.57428804159832\n",
      "\n",
      "Mencari koordinat untuk: JL. PAJAJARAN NO 17 PAMULANG PERMAI I\n"
     ]
    },
    {
     "name": "stderr",
     "output_type": "stream",
     "text": [
      "Status code 403 from https://nominatim.openstreetmap.org/search: ERROR - 403 Client Error: Forbidden for url: https://nominatim.openstreetmap.org/search?q=Jalan+PAJAJARAN+NO+17+PAMULANG+PERMAI+I%2C+PAMULANG%2C+Tangerang+Selatan%2C+Banten%2C+Indonesia&format=jsonv2&addressdetails=1&limit=1\n"
     ]
    },
    {
     "name": "stdout",
     "output_type": "stream",
     "text": [
      "Error with bing: Provide API Key\n",
      "Berhasil: -6.338184673034696, 106.7390734659614\n",
      "\n",
      "Mencari koordinat untuk: Jl candi Borobudur blok AJ 1 No 7\n"
     ]
    },
    {
     "name": "stderr",
     "output_type": "stream",
     "text": [
      "Status code 403 from https://nominatim.openstreetmap.org/search: ERROR - 403 Client Error: Forbidden for url: https://nominatim.openstreetmap.org/search?q=Jalan+candi+Borobudur+blok+AJ+1+No+7%2C+PAMULANG%2C+Tangerang+Selatan%2C+Banten%2C+Indonesia&format=jsonv2&addressdetails=1&limit=1\n"
     ]
    },
    {
     "name": "stdout",
     "output_type": "stream",
     "text": [
      "Error with bing: Provide API Key\n",
      "Berhasil: -6.347407990297029, 106.72620199002614\n",
      "\n",
      "Mencari koordinat untuk: Jln pajajaran rt.001 rw.02\n"
     ]
    },
    {
     "name": "stderr",
     "output_type": "stream",
     "text": [
      "Status code 403 from https://nominatim.openstreetmap.org/search: ERROR - 403 Client Error: Forbidden for url: https://nominatim.openstreetmap.org/search?q=Jln+pajajaran+rt.001+rw.02%2C+PAMULANG%2C+Tangerang+Selatan%2C+Banten%2C+Indonesia&format=jsonv2&addressdetails=1&limit=1\n"
     ]
    },
    {
     "name": "stdout",
     "output_type": "stream",
     "text": [
      "Error with bing: Provide API Key\n",
      "Berhasil: -6.328867018647065, 106.74022685639301\n",
      "\n",
      "Mencari koordinat untuk: Jl. Surya Kencana\n"
     ]
    },
    {
     "name": "stderr",
     "output_type": "stream",
     "text": [
      "Status code 403 from https://nominatim.openstreetmap.org/search: ERROR - 403 Client Error: Forbidden for url: https://nominatim.openstreetmap.org/search?q=Jalan+Surya+Kencana%2C+PAMULANG%2C+Tangerang+Selatan%2C+Banten%2C+Indonesia&format=jsonv2&addressdetails=1&limit=1\n"
     ]
    },
    {
     "name": "stdout",
     "output_type": "stream",
     "text": [
      "Error with bing: Provide API Key\n",
      "Berhasil: -6.352401265062388, 106.73422417162952\n",
      "\n",
      "Mencari koordinat untuk: PAMULANG BARAT\n"
     ]
    },
    {
     "name": "stderr",
     "output_type": "stream",
     "text": [
      "Status code 403 from https://nominatim.openstreetmap.org/search: ERROR - 403 Client Error: Forbidden for url: https://nominatim.openstreetmap.org/search?q=PAMULANG+BARAT%2C+PAMULANG%2C+Tangerang+Selatan%2C+Banten%2C+Indonesia&format=jsonv2&addressdetails=1&limit=1\n"
     ]
    },
    {
     "name": "stdout",
     "output_type": "stream",
     "text": [
      "Error with bing: Provide API Key\n",
      "Berhasil: -6.3418368, 106.7296486\n",
      "\n",
      "Mencari koordinat untuk: RENI JAYA BLOK AG 5 No.32\n"
     ]
    },
    {
     "name": "stderr",
     "output_type": "stream",
     "text": [
      "Status code 403 from https://nominatim.openstreetmap.org/search: ERROR - 403 Client Error: Forbidden for url: https://nominatim.openstreetmap.org/search?q=RENI+JAYA+BLOK+AG+5+No.32%2C+PAMULANG%2C+Tangerang+Selatan%2C+Banten%2C+Indonesia&format=jsonv2&addressdetails=1&limit=1\n"
     ]
    },
    {
     "name": "stdout",
     "output_type": "stream",
     "text": [
      "Error with bing: Provide API Key\n",
      "Berhasil: -6.357185983265367, 106.72514603786408\n",
      "\n",
      "Mencari koordinat untuk: JL. SURYA KENCANA NO. 12A\n"
     ]
    },
    {
     "name": "stderr",
     "output_type": "stream",
     "text": [
      "Status code 403 from https://nominatim.openstreetmap.org/search: ERROR - 403 Client Error: Forbidden for url: https://nominatim.openstreetmap.org/search?q=Jalan+SURYA+KENCANA+NO.+12A%2C+PAMULANG%2C+Tangerang+Selatan%2C+Banten%2C+Indonesia&format=jsonv2&addressdetails=1&limit=1\n"
     ]
    },
    {
     "name": "stdout",
     "output_type": "stream",
     "text": [
      "Error with bing: Provide API Key\n",
      "Berhasil: -6.352401265062388, 106.73422417162952\n",
      "\n",
      "Mencari koordinat untuk: Jl pinang, Gg likik\n"
     ]
    },
    {
     "name": "stderr",
     "output_type": "stream",
     "text": [
      "Status code 403 from https://nominatim.openstreetmap.org/search: ERROR - 403 Client Error: Forbidden for url: https://nominatim.openstreetmap.org/search?q=Jalan+pinang%2C+Gg+likik%2C+PAMULANG%2C+Tangerang+Selatan%2C+Banten%2C+Indonesia&format=jsonv2&addressdetails=1&limit=1\n"
     ]
    },
    {
     "name": "stdout",
     "output_type": "stream",
     "text": [
      "Error with bing: Provide API Key\n",
      "Berhasil: -6.353631507617187, 106.74014181766236\n",
      "\n",
      "Mencari koordinat untuk: Griya Pinang Jl.dr.setiabudi no.1\n"
     ]
    },
    {
     "name": "stderr",
     "output_type": "stream",
     "text": [
      "Status code 403 from https://nominatim.openstreetmap.org/search: ERROR - 403 Client Error: Forbidden for url: https://nominatim.openstreetmap.org/search?q=Griya+Pinang+Jalandr.setiabudi+no.1%2C+PAMULANG%2C+Tangerang+Selatan%2C+Banten%2C+Indonesia&format=jsonv2&addressdetails=1&limit=1\n"
     ]
    },
    {
     "name": "stdout",
     "output_type": "stream",
     "text": [
      "Error with bing: Provide API Key\n",
      "Berhasil: -6.353631507617187, 106.74014181766236\n",
      "\n",
      "Mencari koordinat untuk: Jl.Lembah Pinus Raya Blok A17\n"
     ]
    },
    {
     "name": "stderr",
     "output_type": "stream",
     "text": [
      "Status code 403 from https://nominatim.openstreetmap.org/search: ERROR - 403 Client Error: Forbidden for url: https://nominatim.openstreetmap.org/search?q=JalanLembah+Pinus+Raya+Blok+A17%2C+PAMULANG%2C+Tangerang+Selatan%2C+Banten%2C+Indonesia&format=jsonv2&addressdetails=1&limit=1\n"
     ]
    },
    {
     "name": "stdout",
     "output_type": "stream",
     "text": [
      "Error with bing: Provide API Key\n",
      "Berhasil: -6.323681527441865, 106.77941866673297\n",
      "\n",
      "Mencari koordinat untuk: Komplek pamulang estate jl duku 2 blok h3/21\n"
     ]
    },
    {
     "name": "stderr",
     "output_type": "stream",
     "text": [
      "Status code 403 from https://nominatim.openstreetmap.org/search: ERROR - 403 Client Error: Forbidden for url: https://nominatim.openstreetmap.org/search?q=Komplek+pamulang+estate+jl+duku+2+blok+h3%2F21%2C+PAMULANG%2C+Tangerang+Selatan%2C+Banten%2C+Indonesia&format=jsonv2&addressdetails=1&limit=1\n"
     ]
    },
    {
     "name": "stdout",
     "output_type": "stream",
     "text": [
      "Error with bing: Provide API Key\n",
      "Berhasil: -6.1547804140275275, 106.5752828896862\n",
      "\n",
      "Mencari koordinat untuk: Jl duku raya blok h1 no 29\n"
     ]
    },
    {
     "name": "stderr",
     "output_type": "stream",
     "text": [
      "Status code 403 from https://nominatim.openstreetmap.org/search: ERROR - 403 Client Error: Forbidden for url: https://nominatim.openstreetmap.org/search?q=Jalan+duku+raya+blok+h1+no+29%2C+PAMULANG%2C+Tangerang+Selatan%2C+Banten%2C+Indonesia&format=jsonv2&addressdetails=1&limit=1\n"
     ]
    },
    {
     "name": "stdout",
     "output_type": "stream",
     "text": [
      "Error with bing: Provide API Key\n",
      "Berhasil: -6.356089621391015, 106.74130418209369\n",
      "\n",
      "Mencari koordinat untuk: Bukit Pamulang indah B14/7\n"
     ]
    },
    {
     "name": "stderr",
     "output_type": "stream",
     "text": [
      "Status code 403 from https://nominatim.openstreetmap.org/search: ERROR - 403 Client Error: Forbidden for url: https://nominatim.openstreetmap.org/search?q=Bukit+Pamulang+indah+B14%2F7%2C+PAMULANG%2C+Tangerang+Selatan%2C+Banten%2C+Indonesia&format=jsonv2&addressdetails=1&limit=1\n"
     ]
    },
    {
     "name": "stdout",
     "output_type": "stream",
     "text": [
      "Error with bing: Provide API Key\n",
      "Berhasil: -6.348910907445898, 106.73934799932846\n",
      "\n",
      "Mencari koordinat untuk: Jl Angsana\n"
     ]
    },
    {
     "name": "stderr",
     "output_type": "stream",
     "text": [
      "Status code 403 from https://nominatim.openstreetmap.org/search: ERROR - 403 Client Error: Forbidden for url: https://nominatim.openstreetmap.org/search?q=Jalan+Angsana%2C+PAMULANG%2C+Tangerang+Selatan%2C+Banten%2C+Indonesia&format=jsonv2&addressdetails=1&limit=1\n"
     ]
    },
    {
     "name": "stdout",
     "output_type": "stream",
     "text": [
      "Error with bing: Provide API Key\n",
      "Berhasil: -6.294265169206551, 106.73739810027958\n",
      "\n",
      "Mencari koordinat untuk: Komple Pamulang Indah MA jl. Flamboyan Blok C2 No.20\n"
     ]
    },
    {
     "name": "stderr",
     "output_type": "stream",
     "text": [
      "Status code 403 from https://nominatim.openstreetmap.org/search: ERROR - 403 Client Error: Forbidden for url: https://nominatim.openstreetmap.org/search?q=Komple+Pamulang+Indah+MA+jl.+Flamboyan+Blok+C2+No.20%2C+PAMULANG%2C+Tangerang+Selatan%2C+Banten%2C+Indonesia&format=jsonv2&addressdetails=1&limit=1\n"
     ]
    },
    {
     "name": "stdout",
     "output_type": "stream",
     "text": [
      "Error with bing: Provide API Key\n",
      "Berhasil: -6.331660992620357, 106.73367998876313\n",
      "\n",
      "Mencari koordinat untuk: Jl Pinang Raya No A14\n"
     ]
    },
    {
     "name": "stderr",
     "output_type": "stream",
     "text": [
      "Status code 403 from https://nominatim.openstreetmap.org/search: ERROR - 403 Client Error: Forbidden for url: https://nominatim.openstreetmap.org/search?q=Jalan+Pinang+Raya+No+A14%2C+PAMULANG%2C+Tangerang+Selatan%2C+Banten%2C+Indonesia&format=jsonv2&addressdetails=1&limit=1\n"
     ]
    },
    {
     "name": "stdout",
     "output_type": "stream",
     "text": [
      "Error with bing: Provide API Key\n",
      "Berhasil: -6.353631507617187, 106.74014181766236\n",
      "\n",
      "Mencari koordinat untuk: JL. PERUMAHAN BUKIT PAMULANG INDAH BLOK E 19 NO. 8\n"
     ]
    },
    {
     "name": "stderr",
     "output_type": "stream",
     "text": [
      "Status code 403 from https://nominatim.openstreetmap.org/search: ERROR - 403 Client Error: Forbidden for url: https://nominatim.openstreetmap.org/search?q=Jalan+PERUMAHAN+BUKIT+PAMULANG+INDAH+BLOK+E+19+NO.+8%2C+PAMULANG%2C+Tangerang+Selatan%2C+Banten%2C+Indonesia&format=jsonv2&addressdetails=1&limit=1\n"
     ]
    },
    {
     "name": "stdout",
     "output_type": "stream",
     "text": [
      "Error with bing: Provide API Key\n",
      "Berhasil: -6.3394473, 106.7425027\n",
      "\n",
      "Mencari koordinat untuk: JL.PINANG\n"
     ]
    },
    {
     "name": "stderr",
     "output_type": "stream",
     "text": [
      "Status code 403 from https://nominatim.openstreetmap.org/search: ERROR - 403 Client Error: Forbidden for url: https://nominatim.openstreetmap.org/search?q=JalanPINANG%2C+PAMULANG%2C+Tangerang+Selatan%2C+Banten%2C+Indonesia&format=jsonv2&addressdetails=1&limit=1\n"
     ]
    },
    {
     "name": "stdout",
     "output_type": "stream",
     "text": [
      "Error with bing: Provide API Key\n",
      "Berhasil: -6.353631507617187, 106.74014181766236\n",
      "\n",
      "Mencari koordinat untuk: Benda Timur 13 blok E 32 no.16\n"
     ]
    },
    {
     "name": "stderr",
     "output_type": "stream",
     "text": [
      "Status code 403 from https://nominatim.openstreetmap.org/search: ERROR - 403 Client Error: Forbidden for url: https://nominatim.openstreetmap.org/search?q=Benda+Timur+13+blok+E+32+no.16%2C+PAMULANG%2C+Tangerang+Selatan%2C+Banten%2C+Indonesia&format=jsonv2&addressdetails=1&limit=1\n"
     ]
    },
    {
     "name": "stdout",
     "output_type": "stream",
     "text": [
      "Error with bing: Provide API Key\n",
      "Berhasil: -6.326081879115439, 106.71025642399533\n",
      "\n",
      "Mencari koordinat untuk: Jl lurah\n"
     ]
    },
    {
     "name": "stderr",
     "output_type": "stream",
     "text": [
      "Status code 403 from https://nominatim.openstreetmap.org/search: ERROR - 403 Client Error: Forbidden for url: https://nominatim.openstreetmap.org/search?q=Jalan+lurah%2C+PAMULANG%2C+Tangerang+Selatan%2C+Banten%2C+Indonesia&format=jsonv2&addressdetails=1&limit=1\n"
     ]
    },
    {
     "name": "stdout",
     "output_type": "stream",
     "text": [
      "Error with bing: Provide API Key\n",
      "Berhasil: -6.348894862149573, 106.71810171858762\n",
      "\n",
      "Mencari koordinat untuk: Griya pamulang extension jl tpu parakan\n"
     ]
    },
    {
     "name": "stderr",
     "output_type": "stream",
     "text": [
      "Status code 403 from https://nominatim.openstreetmap.org/search: ERROR - 403 Client Error: Forbidden for url: https://nominatim.openstreetmap.org/search?q=Griya+pamulang+extension+jl+tpu+parakan%2C+PAMULANG%2C+Tangerang+Selatan%2C+Banten%2C+Indonesia&format=jsonv2&addressdetails=1&limit=1\n"
     ]
    },
    {
     "name": "stdout",
     "output_type": "stream",
     "text": [
      "Error with bing: Provide API Key\n",
      "Berhasil: -6.3311331, 106.70662\n",
      "\n",
      "Mencari koordinat untuk: Jl pendidikan rt 003/009\n"
     ]
    },
    {
     "name": "stderr",
     "output_type": "stream",
     "text": [
      "Status code 403 from https://nominatim.openstreetmap.org/search: ERROR - 403 Client Error: Forbidden for url: https://nominatim.openstreetmap.org/search?q=Jalan+pendidikan+rt+003%2F009%2C+PAMULANG%2C+Tangerang+Selatan%2C+Banten%2C+Indonesia&format=jsonv2&addressdetails=1&limit=1\n"
     ]
    },
    {
     "name": "stdout",
     "output_type": "stream",
     "text": [
      "Error with bing: Provide API Key\n",
      "Berhasil: -6.308813012325013, 106.74374460601274\n",
      "\n",
      "Mencari koordinat untuk: Jl. BRATASENA 3 BLOK BB1\n"
     ]
    },
    {
     "name": "stderr",
     "output_type": "stream",
     "text": [
      "Status code 403 from https://nominatim.openstreetmap.org/search: ERROR - 403 Client Error: Forbidden for url: https://nominatim.openstreetmap.org/search?q=Jalan+BRATASENA+3+BLOK+BB1%2C+PAMULANG%2C+Tangerang+Selatan%2C+Banten%2C+Indonesia&format=jsonv2&addressdetails=1&limit=1\n"
     ]
    },
    {
     "name": "stdout",
     "output_type": "stream",
     "text": [
      "Error with bing: Provide API Key\n",
      "Berhasil: -6.3544189912986155, 106.7245560356996\n",
      "\n",
      "Mencari koordinat untuk: Jl. Salak 5 no. 42\n"
     ]
    },
    {
     "name": "stderr",
     "output_type": "stream",
     "text": [
      "Status code 403 from https://nominatim.openstreetmap.org/search: ERROR - 403 Client Error: Forbidden for url: https://nominatim.openstreetmap.org/search?q=Jalan+Salak+5+no.+42%2C+PAMULANG%2C+Tangerang+Selatan%2C+Banten%2C+Indonesia&format=jsonv2&addressdetails=1&limit=1\n"
     ]
    },
    {
     "name": "stdout",
     "output_type": "stream",
     "text": [
      "Error with bing: Provide API Key\n",
      "Berhasil: -6.3513720018562765, 106.72023399114619\n",
      "\n",
      "Mencari koordinat untuk: JL. BRATASENA RAYA\n"
     ]
    },
    {
     "name": "stderr",
     "output_type": "stream",
     "text": [
      "Status code 403 from https://nominatim.openstreetmap.org/search: ERROR - 403 Client Error: Forbidden for url: https://nominatim.openstreetmap.org/search?q=Jalan+BRATASENA+RAYA%2C+PAMULANG%2C+Tangerang+Selatan%2C+Banten%2C+Indonesia&format=jsonv2&addressdetails=1&limit=1\n"
     ]
    },
    {
     "name": "stdout",
     "output_type": "stream",
     "text": [
      "Error with bing: Provide API Key\n",
      "Berhasil: -6.352849800297455, 106.72831327286559\n",
      "\n",
      "Mencari koordinat untuk: Jl. Lobak\n"
     ]
    },
    {
     "name": "stderr",
     "output_type": "stream",
     "text": [
      "Status code 403 from https://nominatim.openstreetmap.org/search: ERROR - 403 Client Error: Forbidden for url: https://nominatim.openstreetmap.org/search?q=Jalan+Lobak%2C+PAMULANG%2C+Tangerang+Selatan%2C+Banten%2C+Indonesia&format=jsonv2&addressdetails=1&limit=1\n"
     ]
    },
    {
     "name": "stdout",
     "output_type": "stream",
     "text": [
      "Error with bing: Provide API Key\n",
      "Berhasil: -6.318097364264928, 106.73142790739055\n",
      "\n",
      "Mencari koordinat untuk: Pd cabe 1\n"
     ]
    },
    {
     "name": "stderr",
     "output_type": "stream",
     "text": [
      "Status code 403 from https://nominatim.openstreetmap.org/search: ERROR - 403 Client Error: Forbidden for url: https://nominatim.openstreetmap.org/search?q=Pd+cabe+1%2C+PAMULANG%2C+Tangerang+Selatan%2C+Banten%2C+Indonesia&format=jsonv2&addressdetails=1&limit=1\n"
     ]
    },
    {
     "name": "stdout",
     "output_type": "stream",
     "text": [
      "Error with bing: Provide API Key\n",
      "Berhasil: -6.3488207, 106.7541018\n",
      "\n",
      "Mencari koordinat untuk: Jln talas II RT.003 rw.01\n"
     ]
    },
    {
     "name": "stderr",
     "output_type": "stream",
     "text": [
      "Status code 403 from https://nominatim.openstreetmap.org/search: ERROR - 403 Client Error: Forbidden for url: https://nominatim.openstreetmap.org/search?q=Jln+talas+II+rw.01%2C+PAMULANG%2C+Tangerang+Selatan%2C+Banten%2C+Indonesia&format=jsonv2&addressdetails=1&limit=1\n"
     ]
    },
    {
     "name": "stdout",
     "output_type": "stream",
     "text": [
      "Error with bing: Provide API Key\n",
      "Berhasil: -6.329053178790379, 106.7638510557724\n",
      "\n",
      "Mencari koordinat untuk: JL.TALAS 002/010\n"
     ]
    },
    {
     "name": "stderr",
     "output_type": "stream",
     "text": [
      "Status code 403 from https://nominatim.openstreetmap.org/search: ERROR - 403 Client Error: Forbidden for url: https://nominatim.openstreetmap.org/search?q=JalanTALAS+002%2F010%2C+PAMULANG%2C+Tangerang+Selatan%2C+Banten%2C+Indonesia&format=jsonv2&addressdetails=1&limit=1\n"
     ]
    },
    {
     "name": "stdout",
     "output_type": "stream",
     "text": [
      "Error with bing: Provide API Key\n",
      "Berhasil: -6.3245729126257295, 106.75831547496372\n",
      "\n",
      "Mencari koordinat untuk: JALAN TALAS III\n"
     ]
    },
    {
     "name": "stderr",
     "output_type": "stream",
     "text": [
      "Status code 403 from https://nominatim.openstreetmap.org/search: ERROR - 403 Client Error: Forbidden for url: https://nominatim.openstreetmap.org/search?q=JALAN+TALAS+III%2C+PAMULANG%2C+Tangerang+Selatan%2C+Banten%2C+Indonesia&format=jsonv2&addressdetails=1&limit=1\n"
     ]
    },
    {
     "name": "stdout",
     "output_type": "stream",
     "text": [
      "Error with bing: Provide API Key\n",
      "Berhasil: -6.334254613986169, 106.7607999666597\n",
      "\n",
      "Mencari koordinat untuk: JL. SELADA II\n"
     ]
    },
    {
     "name": "stderr",
     "output_type": "stream",
     "text": [
      "Status code 403 from https://nominatim.openstreetmap.org/search: ERROR - 403 Client Error: Forbidden for url: https://nominatim.openstreetmap.org/search?q=Jalan+SELADA+II%2C+PAMULANG%2C+Tangerang+Selatan%2C+Banten%2C+Indonesia&format=jsonv2&addressdetails=1&limit=1\n"
     ]
    },
    {
     "name": "stdout",
     "output_type": "stream",
     "text": [
      "Error with bing: Provide API Key\n",
      "Berhasil: -6.337880676083962, 106.7687765109573\n",
      "\n",
      "Mencari koordinat untuk: Jl talas 3\n"
     ]
    },
    {
     "name": "stderr",
     "output_type": "stream",
     "text": [
      "Status code 403 from https://nominatim.openstreetmap.org/search: ERROR - 403 Client Error: Forbidden for url: https://nominatim.openstreetmap.org/search?q=Jalan+talas+3%2C+PAMULANG%2C+Tangerang+Selatan%2C+Banten%2C+Indonesia&format=jsonv2&addressdetails=1&limit=1\n"
     ]
    },
    {
     "name": "stdout",
     "output_type": "stream",
     "text": [
      "Error with bing: Provide API Key\n",
      "Berhasil: -6.334254613986169, 106.7607999666597\n",
      "\n",
      "Mencari koordinat untuk: Pasar modrn pondok cabe\n"
     ]
    },
    {
     "name": "stderr",
     "output_type": "stream",
     "text": [
      "Status code 403 from https://nominatim.openstreetmap.org/search: ERROR - 403 Client Error: Forbidden for url: https://nominatim.openstreetmap.org/search?q=Pasar+modrn+pondok+cabe%2C+PAMULANG%2C+Tangerang+Selatan%2C+Banten%2C+Indonesia&format=jsonv2&addressdetails=1&limit=1\n"
     ]
    },
    {
     "name": "stdout",
     "output_type": "stream",
     "text": [
      "Error with bing: Provide API Key\n",
      "Berhasil: -6.3562, 106.7672\n",
      "\n",
      "Mencari koordinat untuk: Jl.talas 2\n"
     ]
    },
    {
     "name": "stderr",
     "output_type": "stream",
     "text": [
      "Status code 403 from https://nominatim.openstreetmap.org/search: ERROR - 403 Client Error: Forbidden for url: https://nominatim.openstreetmap.org/search?q=Jalantalas+2%2C+PAMULANG%2C+Tangerang+Selatan%2C+Banten%2C+Indonesia&format=jsonv2&addressdetails=1&limit=1\n"
     ]
    },
    {
     "name": "stdout",
     "output_type": "stream",
     "text": [
      "Error with bing: Provide API Key\n",
      "Berhasil: -6.329053178790379, 106.7638510557724\n",
      "\n",
      "Mencari koordinat untuk: jl kentang RT 04 RW 07 no 105\n"
     ]
    },
    {
     "name": "stderr",
     "output_type": "stream",
     "text": [
      "Status code 403 from https://nominatim.openstreetmap.org/search: ERROR - 403 Client Error: Forbidden for url: https://nominatim.openstreetmap.org/search?q=jl+kentang+04+07+no+105%2C+PAMULANG%2C+Tangerang+Selatan%2C+Banten%2C+Indonesia&format=jsonv2&addressdetails=1&limit=1\n"
     ]
    },
    {
     "name": "stdout",
     "output_type": "stream",
     "text": [
      "Error with bing: Provide API Key\n",
      "Berhasil: -6.318097364264928, 106.73142790739055\n",
      "\n",
      "Mencari koordinat untuk: Jl. Kunir pondok cabe udik\n"
     ]
    },
    {
     "name": "stderr",
     "output_type": "stream",
     "text": [
      "Status code 403 from https://nominatim.openstreetmap.org/search: ERROR - 403 Client Error: Forbidden for url: https://nominatim.openstreetmap.org/search?q=Jalan+Kunir+pondok+cabe+udik%2C+PAMULANG%2C+Tangerang+Selatan%2C+Banten%2C+Indonesia&format=jsonv2&addressdetails=1&limit=1\n"
     ]
    },
    {
     "name": "stdout",
     "output_type": "stream",
     "text": [
      "Error with bing: Provide API Key\n",
      "Berhasil: -6.351579035484605, 106.75336137979542\n",
      "\n",
      "Mencari koordinat untuk: JL. Kemiri VI\n"
     ]
    },
    {
     "name": "stderr",
     "output_type": "stream",
     "text": [
      "Status code 403 from https://nominatim.openstreetmap.org/search: ERROR - 403 Client Error: Forbidden for url: https://nominatim.openstreetmap.org/search?q=Jalan+Kemiri+VI%2C+PAMULANG%2C+Tangerang+Selatan%2C+Banten%2C+Indonesia&format=jsonv2&addressdetails=1&limit=1\n"
     ]
    },
    {
     "name": "stdout",
     "output_type": "stream",
     "text": [
      "Error with bing: Provide API Key\n",
      "Berhasil: -6.353958589262835, 106.75451086599764\n",
      "\n",
      "Mencari koordinat untuk: JL. Kemiri gang pelita\n"
     ]
    },
    {
     "name": "stderr",
     "output_type": "stream",
     "text": [
      "Status code 403 from https://nominatim.openstreetmap.org/search: ERROR - 403 Client Error: Forbidden for url: https://nominatim.openstreetmap.org/search?q=Jalan+Kemiri+gang+pelita%2C+PAMULANG%2C+Tangerang+Selatan%2C+Banten%2C+Indonesia&format=jsonv2&addressdetails=1&limit=1\n"
     ]
    },
    {
     "name": "stdout",
     "output_type": "stream",
     "text": [
      "Error with bing: Provide API Key\n",
      "Berhasil: -6.35473129968361, 106.75544126309335\n",
      "\n",
      "Mencari koordinat untuk: JL. GOTONG ROYONG\n"
     ]
    },
    {
     "name": "stderr",
     "output_type": "stream",
     "text": [
      "Status code 403 from https://nominatim.openstreetmap.org/search: ERROR - 403 Client Error: Forbidden for url: https://nominatim.openstreetmap.org/search?q=Jalan+GOTONG+ROYONG%2C+PAMULANG%2C+Tangerang+Selatan%2C+Banten%2C+Indonesia&format=jsonv2&addressdetails=1&limit=1\n"
     ]
    },
    {
     "name": "stdout",
     "output_type": "stream",
     "text": [
      "Error with bing: Provide API Key\n",
      "Berhasil: -6.354074977591653, 106.75146405902706\n",
      "\n",
      "Mencari koordinat untuk: JL. GOTONG ROYONG\n"
     ]
    },
    {
     "name": "stderr",
     "output_type": "stream",
     "text": [
      "Status code 403 from https://nominatim.openstreetmap.org/search: ERROR - 403 Client Error: Forbidden for url: https://nominatim.openstreetmap.org/search?q=Jalan+GOTONG+ROYONG%2C+PAMULANG%2C+Tangerang+Selatan%2C+Banten%2C+Indonesia&format=jsonv2&addressdetails=1&limit=1\n"
     ]
    },
    {
     "name": "stdout",
     "output_type": "stream",
     "text": [
      "Error with bing: Provide API Key\n",
      "Berhasil: -6.354074977591653, 106.75146405902706\n",
      "\n",
      "Mencari koordinat untuk: Jl ujung kenari\n"
     ]
    },
    {
     "name": "stderr",
     "output_type": "stream",
     "text": [
      "Status code 403 from https://nominatim.openstreetmap.org/search: ERROR - 403 Client Error: Forbidden for url: https://nominatim.openstreetmap.org/search?q=Jalan+ujung+kenari%2C+PONDOK+AREN%2C+Tangerang+Selatan%2C+Banten%2C+Indonesia&format=jsonv2&addressdetails=1&limit=1\n"
     ]
    },
    {
     "name": "stdout",
     "output_type": "stream",
     "text": [
      "Error with bing: Provide API Key\n",
      "Berhasil: -6.257150244659041, 106.72856901563\n",
      "\n",
      "Mencari koordinat untuk: Jln. Ujung kenari RT.003 RW.08\n"
     ]
    },
    {
     "name": "stderr",
     "output_type": "stream",
     "text": [
      "Status code 403 from https://nominatim.openstreetmap.org/search: ERROR - 403 Client Error: Forbidden for url: https://nominatim.openstreetmap.org/search?q=Jln.+Ujung+kenari%2C+PONDOK+AREN%2C+Tangerang+Selatan%2C+Banten%2C+Indonesia&format=jsonv2&addressdetails=1&limit=1\n"
     ]
    },
    {
     "name": "stdout",
     "output_type": "stream",
     "text": [
      "Error with bing: Provide API Key\n",
      "Berhasil: -6.257150244659041, 106.72856901563\n",
      "\n",
      "Mencari koordinat untuk: Jl Ceger Raya no. 59 rt 002 rw 001\n"
     ]
    },
    {
     "name": "stderr",
     "output_type": "stream",
     "text": [
      "Status code 403 from https://nominatim.openstreetmap.org/search: ERROR - 403 Client Error: Forbidden for url: https://nominatim.openstreetmap.org/search?q=Jalan+Ceger+Raya+no.+59+rt+002+rw+001%2C+PONDOK+AREN%2C+Tangerang+Selatan%2C+Banten%2C+Indonesia&format=jsonv2&addressdetails=1&limit=1\n"
     ]
    },
    {
     "name": "stdout",
     "output_type": "stream",
     "text": [
      "Error with bing: Provide API Key\n",
      "Berhasil: -6.262521913138013, 106.73030819021704\n",
      "\n",
      "Mencari koordinat untuk: JALAN PESANTREN\n"
     ]
    },
    {
     "name": "stderr",
     "output_type": "stream",
     "text": [
      "Status code 403 from https://nominatim.openstreetmap.org/search: ERROR - 403 Client Error: Forbidden for url: https://nominatim.openstreetmap.org/search?q=JALAN+PESANTREN%2C+PONDOK+AREN%2C+Tangerang+Selatan%2C+Banten%2C+Indonesia&format=jsonv2&addressdetails=1&limit=1\n"
     ]
    },
    {
     "name": "stdout",
     "output_type": "stream",
     "text": [
      "Error with bing: Provide API Key\n",
      "Berhasil: -6.256863771973615, 106.73257430035406\n",
      "\n",
      "Mencari koordinat untuk: Jl. Ceger Raya No. 57 Rt. 2/Rw. 1\n"
     ]
    },
    {
     "name": "stderr",
     "output_type": "stream",
     "text": [
      "Status code 403 from https://nominatim.openstreetmap.org/search: ERROR - 403 Client Error: Forbidden for url: https://nominatim.openstreetmap.org/search?q=Jalan+Ceger+Raya+No.+57+Rt.+2%2FRw.+1%2C+PONDOK+AREN%2C+Tangerang+Selatan%2C+Banten%2C+Indonesia&format=jsonv2&addressdetails=1&limit=1\n"
     ]
    },
    {
     "name": "stdout",
     "output_type": "stream",
     "text": [
      "Error with bing: Provide API Key\n",
      "Berhasil: -6.262521913138013, 106.73030819021704\n",
      "\n",
      "Mencari koordinat untuk: Kp pondok aren rt 005 rw 002\n"
     ]
    },
    {
     "name": "stderr",
     "output_type": "stream",
     "text": [
      "Status code 403 from https://nominatim.openstreetmap.org/search: ERROR - 403 Client Error: Forbidden for url: https://nominatim.openstreetmap.org/search?q=Kp+pondok+aren+rt+005+rw+002%2C+PONDOK+AREN%2C+Tangerang+Selatan%2C+Banten%2C+Indonesia&format=jsonv2&addressdetails=1&limit=1\n"
     ]
    },
    {
     "name": "stdout",
     "output_type": "stream",
     "text": [
      "Error with bing: Provide API Key\n",
      "Berhasil: -6.267317, 106.7132756\n",
      "\n",
      "Mencari koordinat untuk: Kp pondok aren rt 005 rw 002 parigi\n"
     ]
    },
    {
     "name": "stderr",
     "output_type": "stream",
     "text": [
      "Status code 403 from https://nominatim.openstreetmap.org/search: ERROR - 403 Client Error: Forbidden for url: https://nominatim.openstreetmap.org/search?q=Kp+pondok+aren+rt+005+rw+002+parigi%2C+PONDOK+AREN%2C+Tangerang+Selatan%2C+Banten%2C+Indonesia&format=jsonv2&addressdetails=1&limit=1\n"
     ]
    },
    {
     "name": "stdout",
     "output_type": "stream",
     "text": [
      "Error with bing: Provide API Key\n",
      "Berhasil: -6.260679518775957, 106.71126207591526\n",
      "\n",
      "Mencari koordinat untuk: JL. PERTANIAN RT.002/021\n"
     ]
    },
    {
     "name": "stderr",
     "output_type": "stream",
     "text": [
      "Status code 403 from https://nominatim.openstreetmap.org/search: ERROR - 403 Client Error: Forbidden for url: https://nominatim.openstreetmap.org/search?q=Jalan%2C+PONDOK+AREN%2C+Tangerang+Selatan%2C+Banten%2C+Indonesia&format=jsonv2&addressdetails=1&limit=1\n"
     ]
    },
    {
     "name": "stdout",
     "output_type": "stream",
     "text": [
      "Error with bing: Provide API Key\n",
      "Berhasil: -6.260990098290655, 106.70977864279983\n",
      "\n",
      "Mencari koordinat untuk: Jl permata utama ll no.7\n"
     ]
    },
    {
     "name": "stderr",
     "output_type": "stream",
     "text": [
      "Status code 403 from https://nominatim.openstreetmap.org/search: ERROR - 403 Client Error: Forbidden for url: https://nominatim.openstreetmap.org/search?q=Jalan+permata+utama+ll+no.7%2C+PONDOK+AREN%2C+Tangerang+Selatan%2C+Banten%2C+Indonesia&format=jsonv2&addressdetails=1&limit=1\n"
     ]
    },
    {
     "name": "stdout",
     "output_type": "stream",
     "text": [
      "Error with bing: Provide API Key\n",
      "Berhasil: -6.285495984500969, 106.69520101821757\n",
      "\n",
      "Mencari koordinat untuk: Jl.salih jikun no.6\n"
     ]
    },
    {
     "name": "stderr",
     "output_type": "stream",
     "text": [
      "Status code 403 from https://nominatim.openstreetmap.org/search: ERROR - 403 Client Error: Forbidden for url: https://nominatim.openstreetmap.org/search?q=Jalansalih+jikun+no.6%2C+PONDOK+AREN%2C+Tangerang+Selatan%2C+Banten%2C+Indonesia&format=jsonv2&addressdetails=1&limit=1\n"
     ]
    },
    {
     "name": "stdout",
     "output_type": "stream",
     "text": [
      "Error with bing: Provide API Key\n",
      "Berhasil: -6.262847788754314, 106.71506042904923\n",
      "\n",
      "Mencari koordinat untuk: Jl.salih jikun no.17\n"
     ]
    },
    {
     "name": "stderr",
     "output_type": "stream",
     "text": [
      "Status code 403 from https://nominatim.openstreetmap.org/search: ERROR - 403 Client Error: Forbidden for url: https://nominatim.openstreetmap.org/search?q=Jalansalih+jikun+no.17%2C+PONDOK+AREN%2C+Tangerang+Selatan%2C+Banten%2C+Indonesia&format=jsonv2&addressdetails=1&limit=1\n"
     ]
    },
    {
     "name": "stdout",
     "output_type": "stream",
     "text": [
      "Error with bing: Provide API Key\n",
      "Berhasil: -6.262343994463947, 106.71163499667853\n",
      "\n",
      "Mencari koordinat untuk: KP LIO\n"
     ]
    },
    {
     "name": "stderr",
     "output_type": "stream",
     "text": [
      "Status code 403 from https://nominatim.openstreetmap.org/search: ERROR - 403 Client Error: Forbidden for url: https://nominatim.openstreetmap.org/search?q=KP+LIO%2C+PONDOK+AREN%2C+Tangerang+Selatan%2C+Banten%2C+Indonesia&format=jsonv2&addressdetails=1&limit=1\n"
     ]
    },
    {
     "name": "stdout",
     "output_type": "stream",
     "text": [
      "Error with bing: Provide API Key\n",
      "Berhasil: -6.2631282, 106.7140394\n",
      "\n",
      "Mencari koordinat untuk: JL. H. SARMAH\n"
     ]
    },
    {
     "name": "stderr",
     "output_type": "stream",
     "text": [
      "Status code 403 from https://nominatim.openstreetmap.org/search: ERROR - 403 Client Error: Forbidden for url: https://nominatim.openstreetmap.org/search?q=Jalan+H.+SARMAH%2C+PONDOK+AREN%2C+Tangerang+Selatan%2C+Banten%2C+Indonesia&format=jsonv2&addressdetails=1&limit=1\n"
     ]
    },
    {
     "name": "stdout",
     "output_type": "stream",
     "text": [
      "Error with bing: Provide API Key\n",
      "Berhasil: -6.260990098290655, 106.70977864279983\n",
      "\n",
      "Mencari koordinat untuk: Jl. Kali baru Rt. 003 / 006 Kel. Parigi Baru Kec. Pondok aren .\n"
     ]
    },
    {
     "name": "stderr",
     "output_type": "stream",
     "text": [
      "Status code 403 from https://nominatim.openstreetmap.org/search: ERROR - 403 Client Error: Forbidden for url: https://nominatim.openstreetmap.org/search?q=Jalan+Kali+baru+Rt.+003+%2F+006+Kel.+Parigi+Baru+Kec.+Pondok+aren+.%2C+PONDOK+AREN%2C+Tangerang+Selatan%2C+Banten%2C+Indonesia&format=jsonv2&addressdetails=1&limit=1\n"
     ]
    },
    {
     "name": "stdout",
     "output_type": "stream",
     "text": [
      "Error with bing: Provide API Key\n",
      "Berhasil: -6.273681214946153, 106.68273188476579\n",
      "\n",
      "Mencari koordinat untuk: Jln setu raya\n"
     ]
    },
    {
     "name": "stderr",
     "output_type": "stream",
     "text": [
      "Status code 403 from https://nominatim.openstreetmap.org/search: ERROR - 403 Client Error: Forbidden for url: https://nominatim.openstreetmap.org/search?q=Jln+setu+raya%2C+PONDOK+AREN%2C+Tangerang+Selatan%2C+Banten%2C+Indonesia&format=jsonv2&addressdetails=1&limit=1\n"
     ]
    },
    {
     "name": "stdout",
     "output_type": "stream",
     "text": [
      "Error with bing: Provide API Key\n",
      "Berhasil: -6.281442508179829, 106.69206969961026\n",
      "\n",
      "Mencari koordinat untuk: JL. MANUNGGAL 5\n"
     ]
    },
    {
     "name": "stderr",
     "output_type": "stream",
     "text": [
      "Status code 403 from https://nominatim.openstreetmap.org/search: ERROR - 403 Client Error: Forbidden for url: https://nominatim.openstreetmap.org/search?q=Jalan+MANUNGGAL+5%2C+PONDOK+AREN%2C+Tangerang+Selatan%2C+Banten%2C+Indonesia&format=jsonv2&addressdetails=1&limit=1\n"
     ]
    },
    {
     "name": "stdout",
     "output_type": "stream",
     "text": [
      "Error with bing: Provide API Key\n",
      "Berhasil: -6.26671269588697, 106.67870898842172\n",
      "\n",
      "Mencari koordinat untuk: Jl.Pintu Air No.28\n"
     ]
    },
    {
     "name": "stderr",
     "output_type": "stream",
     "text": [
      "Status code 403 from https://nominatim.openstreetmap.org/search: ERROR - 403 Client Error: Forbidden for url: https://nominatim.openstreetmap.org/search?q=JalanPintu+Air+No.28%2C+PONDOK+AREN%2C+Tangerang+Selatan%2C+Banten%2C+Indonesia&format=jsonv2&addressdetails=1&limit=1\n"
     ]
    },
    {
     "name": "stdout",
     "output_type": "stream",
     "text": [
      "Error with bing: Provide API Key\n",
      "Berhasil: -6.262180002528325, 106.71932799123198\n",
      "\n",
      "Mencari koordinat untuk: JL. H. SAPRI KAV .1 No.37\n"
     ]
    },
    {
     "name": "stderr",
     "output_type": "stream",
     "text": [
      "Status code 403 from https://nominatim.openstreetmap.org/search: ERROR - 403 Client Error: Forbidden for url: https://nominatim.openstreetmap.org/search?q=Jalan+H.+SAPRI+KAV+.1+No.37%2C+PONDOK+AREN%2C+Tangerang+Selatan%2C+Banten%2C+Indonesia&format=jsonv2&addressdetails=1&limit=1\n"
     ]
    },
    {
     "name": "stdout",
     "output_type": "stream",
     "text": [
      "Error with bing: Provide API Key\n",
      "Berhasil: -6.2631282, 106.7140394\n",
      "\n",
      "Mencari koordinat untuk: Jln kp Kebantenan RT.001 RW.08\n"
     ]
    },
    {
     "name": "stderr",
     "output_type": "stream",
     "text": [
      "Status code 403 from https://nominatim.openstreetmap.org/search: ERROR - 403 Client Error: Forbidden for url: https://nominatim.openstreetmap.org/search?q=Jln+kp+Kebantenan%2C+PONDOK+AREN%2C+Tangerang+Selatan%2C+Banten%2C+Indonesia&format=jsonv2&addressdetails=1&limit=1\n"
     ]
    },
    {
     "name": "stdout",
     "output_type": "stream",
     "text": [
      "Error with bing: Provide API Key\n",
      "Berhasil: -6.254654268117837, 106.7122737939505\n",
      "\n",
      "Mencari koordinat untuk: JLN. KEBON KOPI\n"
     ]
    },
    {
     "name": "stderr",
     "output_type": "stream",
     "text": [
      "Status code 403 from https://nominatim.openstreetmap.org/search: ERROR - 403 Client Error: Forbidden for url: https://nominatim.openstreetmap.org/search?q=JLN.+KEBON+KOPI%2C+PONDOK+AREN%2C+Tangerang+Selatan%2C+Banten%2C+Indonesia&format=jsonv2&addressdetails=1&limit=1\n"
     ]
    },
    {
     "name": "stdout",
     "output_type": "stream",
     "text": [
      "Error with bing: Provide API Key\n",
      "Berhasil: -6.265582456621202, 106.74991685136233\n",
      "\n",
      "Mencari koordinat untuk: Jln kebun kopi\n"
     ]
    },
    {
     "name": "stderr",
     "output_type": "stream",
     "text": [
      "Status code 403 from https://nominatim.openstreetmap.org/search: ERROR - 403 Client Error: Forbidden for url: https://nominatim.openstreetmap.org/search?q=Jln+kebun+kopi%2C+PONDOK+AREN%2C+Tangerang+Selatan%2C+Banten%2C+Indonesia&format=jsonv2&addressdetails=1&limit=1\n"
     ]
    },
    {
     "name": "stdout",
     "output_type": "stream",
     "text": [
      "Error with bing: Provide API Key\n",
      "Berhasil: -6.265582456621202, 106.74991685136233\n",
      "\n",
      "Mencari koordinat untuk: Kp. Pladen\n"
     ]
    },
    {
     "name": "stderr",
     "output_type": "stream",
     "text": [
      "Status code 403 from https://nominatim.openstreetmap.org/search: ERROR - 403 Client Error: Forbidden for url: https://nominatim.openstreetmap.org/search?q=Kp.+Pladen%2C+PONDOK+AREN%2C+Tangerang+Selatan%2C+Banten%2C+Indonesia&format=jsonv2&addressdetails=1&limit=1\n"
     ]
    },
    {
     "name": "stdout",
     "output_type": "stream",
     "text": [
      "Error with bing: Provide API Key\n",
      "Berhasil: -6.2631282, 106.7140394\n",
      "\n",
      "Mencari koordinat untuk: JL. AREN II NO.37, PD. BETUNG\n"
     ]
    },
    {
     "name": "stderr",
     "output_type": "stream",
     "text": [
      "Status code 403 from https://nominatim.openstreetmap.org/search: ERROR - 403 Client Error: Forbidden for url: https://nominatim.openstreetmap.org/search?q=Jalan+AREN+II+NO.37%2C+PD.+BETUNG%2C+PONDOK+AREN%2C+Tangerang+Selatan%2C+Banten%2C+Indonesia&format=jsonv2&addressdetails=1&limit=1\n"
     ]
    },
    {
     "name": "stdout",
     "output_type": "stream",
     "text": [
      "Error with bing: Provide API Key\n",
      "Berhasil: -6.25926200996325, 106.74923439438044\n",
      "\n",
      "Mencari koordinat untuk: KP. PONDOK AREN JL. AREN II NO.5\n"
     ]
    },
    {
     "name": "stderr",
     "output_type": "stream",
     "text": [
      "Status code 403 from https://nominatim.openstreetmap.org/search: ERROR - 403 Client Error: Forbidden for url: https://nominatim.openstreetmap.org/search?q=KP.+PONDOK+AREN+Jalan+AREN+II+NO.5%2C+PONDOK+AREN%2C+Tangerang+Selatan%2C+Banten%2C+Indonesia&format=jsonv2&addressdetails=1&limit=1\n"
     ]
    },
    {
     "name": "stdout",
     "output_type": "stream",
     "text": [
      "Error with bing: Provide API Key\n",
      "Berhasil: -6.25926200996325, 106.74923439438044\n",
      "\n",
      "Mencari koordinat untuk: Jl Kebon kopi RT.004 RW.04\n"
     ]
    },
    {
     "name": "stderr",
     "output_type": "stream",
     "text": [
      "Status code 403 from https://nominatim.openstreetmap.org/search: ERROR - 403 Client Error: Forbidden for url: https://nominatim.openstreetmap.org/search?q=Jalan+Kebon+kopi%2C+PONDOK+AREN%2C+Tangerang+Selatan%2C+Banten%2C+Indonesia&format=jsonv2&addressdetails=1&limit=1\n"
     ]
    },
    {
     "name": "stdout",
     "output_type": "stream",
     "text": [
      "Error with bing: Provide API Key\n",
      "Berhasil: -6.265582456621202, 106.74991685136233\n",
      "\n",
      "Mencari koordinat untuk: JL. PEMANCAR I\n"
     ]
    },
    {
     "name": "stderr",
     "output_type": "stream",
     "text": [
      "Status code 403 from https://nominatim.openstreetmap.org/search: ERROR - 403 Client Error: Forbidden for url: https://nominatim.openstreetmap.org/search?q=Jalan+PEMANCAR+I%2C+PONDOK+AREN%2C+Tangerang+Selatan%2C+Banten%2C+Indonesia&format=jsonv2&addressdetails=1&limit=1\n"
     ]
    },
    {
     "name": "stdout",
     "output_type": "stream",
     "text": [
      "Error with bing: Provide API Key\n",
      "Berhasil: -6.2650480423181065, 106.74783197361839\n",
      "\n",
      "Mencari koordinat untuk: JALAN GARDU NO. 26 RT.03/04\n"
     ]
    },
    {
     "name": "stderr",
     "output_type": "stream",
     "text": [
      "Status code 403 from https://nominatim.openstreetmap.org/search: ERROR - 403 Client Error: Forbidden for url: https://nominatim.openstreetmap.org/search?q=JALAN+GARDU+NO.+26%2C+PONDOK+AREN%2C+Tangerang+Selatan%2C+Banten%2C+Indonesia&format=jsonv2&addressdetails=1&limit=1\n"
     ]
    },
    {
     "name": "stdout",
     "output_type": "stream",
     "text": [
      "Error with bing: Provide API Key\n",
      "Berhasil: -6.274538871211777, 106.7462235912056\n",
      "\n",
      "Mencari koordinat untuk: Jl pondok betung raya no 5\n"
     ]
    },
    {
     "name": "stderr",
     "output_type": "stream",
     "text": [
      "Status code 403 from https://nominatim.openstreetmap.org/search: ERROR - 403 Client Error: Forbidden for url: https://nominatim.openstreetmap.org/search?q=Jalan+pondok+betung+raya+no+5%2C+PONDOK+AREN%2C+Tangerang+Selatan%2C+Banten%2C+Indonesia&format=jsonv2&addressdetails=1&limit=1\n"
     ]
    },
    {
     "name": "stdout",
     "output_type": "stream",
     "text": [
      "Error with bing: Provide API Key\n",
      "Berhasil: -6.266769304064454, 106.74341012106436\n",
      "\n",
      "Mencari koordinat untuk: Jl. Jurang Mangu no.5 RT 02/01\n"
     ]
    },
    {
     "name": "stderr",
     "output_type": "stream",
     "text": [
      "Status code 403 from https://nominatim.openstreetmap.org/search: ERROR - 403 Client Error: Forbidden for url: https://nominatim.openstreetmap.org/search?q=Jalan+Jurang+Mangu+no.5+02%2F01%2C+PONDOK+AREN%2C+Tangerang+Selatan%2C+Banten%2C+Indonesia&format=jsonv2&addressdetails=1&limit=1\n"
     ]
    },
    {
     "name": "stdout",
     "output_type": "stream",
     "text": [
      "Error with bing: Provide API Key\n",
      "Berhasil: -6.263240019913411, 106.72251998759924\n",
      "\n",
      "Mencari koordinat untuk: JL. MAKAM JATI NO.87\n"
     ]
    },
    {
     "name": "stderr",
     "output_type": "stream",
     "text": [
      "Status code 403 from https://nominatim.openstreetmap.org/search: ERROR - 403 Client Error: Forbidden for url: https://nominatim.openstreetmap.org/search?q=Jalan+MAKAM+JATI+NO.87%2C+PONDOK+AREN%2C+Tangerang+Selatan%2C+Banten%2C+Indonesia&format=jsonv2&addressdetails=1&limit=1\n"
     ]
    },
    {
     "name": "stdout",
     "output_type": "stream",
     "text": [
      "Error with bing: Provide API Key\n",
      "Berhasil: -6.239859308693497, 106.68843191894166\n",
      "\n",
      "Mencari koordinat untuk: JL PONDOK SERUT 2 RT 005 RW 003\n"
     ]
    },
    {
     "name": "stderr",
     "output_type": "stream",
     "text": [
      "Status code 403 from https://nominatim.openstreetmap.org/search: ERROR - 403 Client Error: Forbidden for url: https://nominatim.openstreetmap.org/search?q=Jalan+PONDOK+SERUT+2+005+003%2C+PONDOK+AREN%2C+Tangerang+Selatan%2C+Banten%2C+Indonesia&format=jsonv2&addressdetails=1&limit=1\n"
     ]
    },
    {
     "name": "stdout",
     "output_type": "stream",
     "text": [
      "Error with bing: Provide API Key\n",
      "Berhasil: -6.244424675281083, 106.68765245997163\n",
      "\n",
      "Mencari koordinat untuk: Jl. Pondok Kacang Barat\n"
     ]
    },
    {
     "name": "stderr",
     "output_type": "stream",
     "text": [
      "Status code 403 from https://nominatim.openstreetmap.org/search: ERROR - 403 Client Error: Forbidden for url: https://nominatim.openstreetmap.org/search?q=Jalan+Pondok+Kacang+Barat%2C+PONDOK+AREN%2C+Tangerang+Selatan%2C+Banten%2C+Indonesia&format=jsonv2&addressdetails=1&limit=1\n"
     ]
    },
    {
     "name": "stdout",
     "output_type": "stream",
     "text": [
      "Error with bing: Provide API Key\n",
      "Berhasil: -6.2483653, 106.6842902\n",
      "\n",
      "Mencari koordinat untuk: Jl. Pondok Kacang Barat\n"
     ]
    },
    {
     "name": "stderr",
     "output_type": "stream",
     "text": [
      "Status code 403 from https://nominatim.openstreetmap.org/search: ERROR - 403 Client Error: Forbidden for url: https://nominatim.openstreetmap.org/search?q=Jalan+Pondok+Kacang+Barat%2C+PONDOK+AREN%2C+Tangerang+Selatan%2C+Banten%2C+Indonesia&format=jsonv2&addressdetails=1&limit=1\n"
     ]
    },
    {
     "name": "stdout",
     "output_type": "stream",
     "text": [
      "Error with bing: Provide API Key\n",
      "Berhasil: -6.2483653, 106.6842902\n",
      "\n",
      "Mencari koordinat untuk: Jl. Rawa bunga IX no. 26\n"
     ]
    },
    {
     "name": "stderr",
     "output_type": "stream",
     "text": [
      "Status code 403 from https://nominatim.openstreetmap.org/search: ERROR - 403 Client Error: Forbidden for url: https://nominatim.openstreetmap.org/search?q=Jalan+Rawa+bunga+IX+no.+26%2C+PONDOK+AREN%2C+Tangerang+Selatan%2C+Banten%2C+Indonesia&format=jsonv2&addressdetails=1&limit=1\n"
     ]
    },
    {
     "name": "stdout",
     "output_type": "stream",
     "text": [
      "Error with bing: Provide API Key\n",
      "Berhasil: -6.260990098290655, 106.70977864279983\n",
      "\n",
      "Mencari koordinat untuk: Jl. H. Sarmah\n"
     ]
    },
    {
     "name": "stderr",
     "output_type": "stream",
     "text": [
      "Status code 403 from https://nominatim.openstreetmap.org/search: ERROR - 403 Client Error: Forbidden for url: https://nominatim.openstreetmap.org/search?q=Jalan+H.+Sarmah%2C+PONDOK+AREN%2C+Tangerang+Selatan%2C+Banten%2C+Indonesia&format=jsonv2&addressdetails=1&limit=1\n"
     ]
    },
    {
     "name": "stdout",
     "output_type": "stream",
     "text": [
      "Error with bing: Provide API Key\n",
      "Berhasil: -6.260990098290655, 106.70977864279983\n",
      "\n",
      "Mencari koordinat untuk: PONDOK MAHARTA BLOK C1 NO 11 B , JL MAHARTA RAYA RT 05 / RW 11\n"
     ]
    },
    {
     "name": "stderr",
     "output_type": "stream",
     "text": [
      "Status code 403 from https://nominatim.openstreetmap.org/search: ERROR - 403 Client Error: Forbidden for url: https://nominatim.openstreetmap.org/search?q=PONDOK+BLOK+C1+NO+11+B+%2C+Jalan+RAYA+05+%2F+11%2C+PONDOK+AREN%2C+Tangerang+Selatan%2C+Banten%2C+Indonesia&format=jsonv2&addressdetails=1&limit=1\n"
     ]
    },
    {
     "name": "stdout",
     "output_type": "stream",
     "text": [
      "Error with bing: Provide API Key\n",
      "Berhasil: -6.25528601289507, 106.68512001944947\n",
      "\n",
      "Mencari koordinat untuk: Jl. Raya Prima samping apotiksumber berkat\n"
     ]
    },
    {
     "name": "stderr",
     "output_type": "stream",
     "text": [
      "Status code 403 from https://nominatim.openstreetmap.org/search: ERROR - 403 Client Error: Forbidden for url: https://nominatim.openstreetmap.org/search?q=Jalan+Raya+Prima+samping+apotiksumber+berkat%2C+PONDOK+AREN%2C+Tangerang+Selatan%2C+Banten%2C+Indonesia&format=jsonv2&addressdetails=1&limit=1\n"
     ]
    },
    {
     "name": "stdout",
     "output_type": "stream",
     "text": [
      "Error with bing: Provide API Key\n",
      "Berhasil: -6.2631282, 106.7140394\n",
      "\n",
      "Mencari koordinat untuk: Jl Bintaro Gallery 7\n"
     ]
    },
    {
     "name": "stderr",
     "output_type": "stream",
     "text": [
      "Status code 403 from https://nominatim.openstreetmap.org/search: ERROR - 403 Client Error: Forbidden for url: https://nominatim.openstreetmap.org/search?q=Jalan+Bintaro+Gallery+7%2C+PONDOK+AREN%2C+Tangerang+Selatan%2C+Banten%2C+Indonesia&format=jsonv2&addressdetails=1&limit=1\n"
     ]
    },
    {
     "name": "stdout",
     "output_type": "stream",
     "text": [
      "Error with bing: Provide API Key\n",
      "Berhasil: -6.255931986292943, 106.70188828068372\n",
      "\n",
      "Mencari koordinat untuk: Jl perumahan maharta 6 , blok A, ruko nomer 1\n"
     ]
    },
    {
     "name": "stderr",
     "output_type": "stream",
     "text": [
      "Status code 403 from https://nominatim.openstreetmap.org/search: ERROR - 403 Client Error: Forbidden for url: https://nominatim.openstreetmap.org/search?q=Jalan+perumahan+maharta+6+%2C+blok+A%2C+ruko+nomer+1%2C+PONDOK+AREN%2C+Tangerang+Selatan%2C+Banten%2C+Indonesia&format=jsonv2&addressdetails=1&limit=1\n"
     ]
    },
    {
     "name": "stdout",
     "output_type": "stream",
     "text": [
      "Error with bing: Provide API Key\n",
      "Berhasil: -6.260990098290655, 106.70977864279983\n",
      "\n",
      "Mencari koordinat untuk: Jl. Pondok Kacang Prima Blok B5 No 22\n"
     ]
    },
    {
     "name": "stderr",
     "output_type": "stream",
     "text": [
      "Status code 403 from https://nominatim.openstreetmap.org/search: ERROR - 403 Client Error: Forbidden for url: https://nominatim.openstreetmap.org/search?q=Jalan+Pondok+Kacang+Prima+Blok+B5+No+22%2C+PONDOK+AREN%2C+Tangerang+Selatan%2C+Banten%2C+Indonesia&format=jsonv2&addressdetails=1&limit=1\n"
     ]
    },
    {
     "name": "stdout",
     "output_type": "stream",
     "text": [
      "Error with bing: Provide API Key\n",
      "Berhasil: -6.253863677602518, 106.69988067623875\n",
      "\n",
      "Mencari koordinat untuk: Pondok kacang prima G1/3\n"
     ]
    },
    {
     "name": "stderr",
     "output_type": "stream",
     "text": [
      "Status code 403 from https://nominatim.openstreetmap.org/search: ERROR - 403 Client Error: Forbidden for url: https://nominatim.openstreetmap.org/search?q=Pondok+kacang+prima+G1%2F3%2C+PONDOK+AREN%2C+Tangerang+Selatan%2C+Banten%2C+Indonesia&format=jsonv2&addressdetails=1&limit=1\n"
     ]
    },
    {
     "name": "stdout",
     "output_type": "stream",
     "text": [
      "Error with bing: Provide API Key\n",
      "Berhasil: -6.2553, 106.6999\n",
      "\n",
      "Mencari koordinat untuk: JL. HJ. SARMAH\n"
     ]
    },
    {
     "name": "stderr",
     "output_type": "stream",
     "text": [
      "Status code 403 from https://nominatim.openstreetmap.org/search: ERROR - 403 Client Error: Forbidden for url: https://nominatim.openstreetmap.org/search?q=Jalan+HJ.+SARMAH%2C+PONDOK+AREN%2C+Tangerang+Selatan%2C+Banten%2C+Indonesia&format=jsonv2&addressdetails=1&limit=1\n"
     ]
    },
    {
     "name": "stdout",
     "output_type": "stream",
     "text": [
      "Error with bing: Provide API Key\n",
      "Berhasil: -6.260990098290655, 106.70977864279983\n",
      "\n",
      "Mencari koordinat untuk: Jl. PLN NO. 11 A\n"
     ]
    },
    {
     "name": "stderr",
     "output_type": "stream",
     "text": [
      "Status code 403 from https://nominatim.openstreetmap.org/search: ERROR - 403 Client Error: Forbidden for url: https://nominatim.openstreetmap.org/search?q=Jalan+PLN+NO.+11+A%2C+PONDOK+AREN%2C+Tangerang+Selatan%2C+Banten%2C+Indonesia&format=jsonv2&addressdetails=1&limit=1\n"
     ]
    },
    {
     "name": "stdout",
     "output_type": "stream",
     "text": [
      "Error with bing: Provide API Key\n",
      "Berhasil: -6.255809798024501, 106.74446909071156\n",
      "\n",
      "Mencari koordinat untuk: Jl Masjid Al Abror no. 2\n"
     ]
    },
    {
     "name": "stderr",
     "output_type": "stream",
     "text": [
      "Status code 403 from https://nominatim.openstreetmap.org/search: ERROR - 403 Client Error: Forbidden for url: https://nominatim.openstreetmap.org/search?q=Jalan+Masjid+Al+Abror+no.+2%2C+PONDOK+AREN%2C+Tangerang+Selatan%2C+Banten%2C+Indonesia&format=jsonv2&addressdetails=1&limit=1\n"
     ]
    },
    {
     "name": "stdout",
     "output_type": "stream",
     "text": [
      "Error with bing: Provide API Key\n",
      "Berhasil: -6.257655912198899, 106.74604916327917\n",
      "\n",
      "Mencari koordinat untuk: JLN PLADEN RT 002 RW 005\n"
     ]
    },
    {
     "name": "stderr",
     "output_type": "stream",
     "text": [
      "Status code 403 from https://nominatim.openstreetmap.org/search: ERROR - 403 Client Error: Forbidden for url: https://nominatim.openstreetmap.org/search?q=JLN+PLADEN+002+005%2C+PONDOK+AREN%2C+Tangerang+Selatan%2C+Banten%2C+Indonesia&format=jsonv2&addressdetails=1&limit=1\n"
     ]
    },
    {
     "name": "stdout",
     "output_type": "stream",
     "text": [
      "Error with bing: Provide API Key\n",
      "Berhasil: -6.261601986485346, 106.70880602053779\n",
      "\n",
      "Mencari koordinat untuk: JL. RAYA PONDOK AREN RT.01/05 NO.189\n"
     ]
    },
    {
     "name": "stderr",
     "output_type": "stream",
     "text": [
      "Status code 403 from https://nominatim.openstreetmap.org/search: ERROR - 403 Client Error: Forbidden for url: https://nominatim.openstreetmap.org/search?q=Jalan+RAYA+PONDOK+AREN+NO.189%2C+PONDOK+AREN%2C+Tangerang+Selatan%2C+Banten%2C+Indonesia&format=jsonv2&addressdetails=1&limit=1\n"
     ]
    },
    {
     "name": "stdout",
     "output_type": "stream",
     "text": [
      "Error with bing: Provide API Key\n",
      "Berhasil: -6.262213234002048, 106.72155805447082\n",
      "\n",
      "Mencari koordinat untuk: JL. CAMAT\n"
     ]
    },
    {
     "name": "stderr",
     "output_type": "stream",
     "text": [
      "Status code 403 from https://nominatim.openstreetmap.org/search: ERROR - 403 Client Error: Forbidden for url: https://nominatim.openstreetmap.org/search?q=Jalan+CAMAT%2C+PONDOK+AREN%2C+Tangerang+Selatan%2C+Banten%2C+Indonesia&format=jsonv2&addressdetails=1&limit=1\n"
     ]
    },
    {
     "name": "stdout",
     "output_type": "stream",
     "text": [
      "Error with bing: Provide API Key\n",
      "Berhasil: -6.260990098290655, 106.70977864279983\n",
      "\n",
      "Mencari koordinat untuk: Jl. Karya Usaha No. 37\n"
     ]
    },
    {
     "name": "stderr",
     "output_type": "stream",
     "text": [
      "Status code 403 from https://nominatim.openstreetmap.org/search: ERROR - 403 Client Error: Forbidden for url: https://nominatim.openstreetmap.org/search?q=Jalan+Karya+Usaha+No.+37%2C+PONDOK+AREN%2C+Tangerang+Selatan%2C+Banten%2C+Indonesia&format=jsonv2&addressdetails=1&limit=1\n"
     ]
    },
    {
     "name": "stdout",
     "output_type": "stream",
     "text": [
      "Error with bing: Provide API Key\n",
      "Berhasil: -6.2631282, 106.7140394\n",
      "\n",
      "Mencari koordinat untuk: Jl. Madrasah Rt. 06/02\n"
     ]
    },
    {
     "name": "stderr",
     "output_type": "stream",
     "text": [
      "Status code 403 from https://nominatim.openstreetmap.org/search: ERROR - 403 Client Error: Forbidden for url: https://nominatim.openstreetmap.org/search?q=Jalan+Madrasah+Rt.+06%2F02%2C+PONDOK+AREN%2C+Tangerang+Selatan%2C+Banten%2C+Indonesia&format=jsonv2&addressdetails=1&limit=1\n"
     ]
    },
    {
     "name": "stdout",
     "output_type": "stream",
     "text": [
      "Error with bing: Provide API Key\n",
      "Berhasil: -6.287171385027986, 106.70549320808482\n",
      "\n",
      "Mencari koordinat untuk: Kp buaran\n"
     ]
    },
    {
     "name": "stderr",
     "output_type": "stream",
     "text": [
      "Status code 403 from https://nominatim.openstreetmap.org/search: ERROR - 403 Client Error: Forbidden for url: https://nominatim.openstreetmap.org/search?q=Kp+buaran%2C+SERPONG%2C+Tangerang+Selatan%2C+Banten%2C+Indonesia&format=jsonv2&addressdetails=1&limit=1\n"
     ]
    },
    {
     "name": "stdout",
     "output_type": "stream",
     "text": [
      "Error with bing: Provide API Key\n",
      "Berhasil: -6.3378002, 106.6989848\n",
      "\n",
      "Mencari koordinat untuk: Gardu\n"
     ]
    },
    {
     "name": "stderr",
     "output_type": "stream",
     "text": [
      "Status code 403 from https://nominatim.openstreetmap.org/search: ERROR - 403 Client Error: Forbidden for url: https://nominatim.openstreetmap.org/search?q=Gardu%2C+SERPONG%2C+Tangerang+Selatan%2C+Banten%2C+Indonesia&format=jsonv2&addressdetails=1&limit=1\n"
     ]
    },
    {
     "name": "stdout",
     "output_type": "stream",
     "text": [
      "Error with bing: Provide API Key\n",
      "Berhasil: -6.3189062, 106.6683414\n",
      "\n",
      "Mencari koordinat untuk: JL. H. Jamat, RT.002/005, Kp. Jati Buaran serpong, tangerang selatan\n"
     ]
    },
    {
     "name": "stderr",
     "output_type": "stream",
     "text": [
      "Status code 403 from https://nominatim.openstreetmap.org/search: ERROR - 403 Client Error: Forbidden for url: https://nominatim.openstreetmap.org/search?q=Jalan+H.+Jamat%2C+Kp.+Jati+Buaran+serpong%2C+tangerang+selatan%2C+SERPONG%2C+Tangerang+Selatan%2C+Banten%2C+Indonesia&format=jsonv2&addressdetails=1&limit=1\n"
     ]
    },
    {
     "name": "stdout",
     "output_type": "stream",
     "text": [
      "Error with bing: Provide API Key\n",
      "Berhasil: -6.3378002, 106.6989848\n",
      "\n",
      "Mencari koordinat untuk: Kp. Buaran RT.002/006 Kel. Buaran Kec. Serpong\n"
     ]
    },
    {
     "name": "stderr",
     "output_type": "stream",
     "text": [
      "Status code 403 from https://nominatim.openstreetmap.org/search: ERROR - 403 Client Error: Forbidden for url: https://nominatim.openstreetmap.org/search?q=Kp.+Buaran+Kel.+Buaran+Kec.+Serpong%2C+SERPONG%2C+Tangerang+Selatan%2C+Banten%2C+Indonesia&format=jsonv2&addressdetails=1&limit=1\n"
     ]
    },
    {
     "name": "stdout",
     "output_type": "stream",
     "text": [
      "Error with bing: Provide API Key\n",
      "Berhasil: -6.319928566536792, 106.66581833583011\n",
      "\n",
      "Mencari koordinat untuk: Jalan kelurahan buaran no 1\n"
     ]
    },
    {
     "name": "stderr",
     "output_type": "stream",
     "text": [
      "Status code 403 from https://nominatim.openstreetmap.org/search: ERROR - 403 Client Error: Forbidden for url: https://nominatim.openstreetmap.org/search?q=Jalan+kelurahan+buaran+no+1%2C+SERPONG%2C+Tangerang+Selatan%2C+Banten%2C+Indonesia&format=jsonv2&addressdetails=1&limit=1\n"
     ]
    },
    {
     "name": "stdout",
     "output_type": "stream",
     "text": [
      "Error with bing: Provide API Key\n",
      "Berhasil: -6.337205890444825, 106.72013113574972\n",
      "\n",
      "Mencari koordinat untuk: PERUM GREEN SELARAS SERPONG\n"
     ]
    },
    {
     "name": "stderr",
     "output_type": "stream",
     "text": [
      "Status code 403 from https://nominatim.openstreetmap.org/search: ERROR - 403 Client Error: Forbidden for url: https://nominatim.openstreetmap.org/search?q=PERUM+GREEN+SELARAS+SERPONG%2C+SERPONG%2C+Tangerang+Selatan%2C+Banten%2C+Indonesia&format=jsonv2&addressdetails=1&limit=1\n"
     ]
    },
    {
     "name": "stdout",
     "output_type": "stream",
     "text": [
      "Error with bing: Provide API Key\n",
      "Berhasil: -6.3461, 106.707\n",
      "\n",
      "Mencari koordinat untuk: Jl. Masjid kp pondok sentul\n"
     ]
    },
    {
     "name": "stderr",
     "output_type": "stream",
     "text": [
      "Status code 403 from https://nominatim.openstreetmap.org/search: ERROR - 403 Client Error: Forbidden for url: https://nominatim.openstreetmap.org/search?q=Jalan+Masjid+kp+pondok+sentul%2C+SERPONG%2C+Tangerang+Selatan%2C+Banten%2C+Indonesia&format=jsonv2&addressdetails=1&limit=1\n"
     ]
    },
    {
     "name": "stdout",
     "output_type": "stream",
     "text": [
      "Error with bing: Provide API Key\n",
      "Berhasil: -6.290657452145425, 106.7074885781549\n",
      "\n",
      "Mencari koordinat untuk: Kp ciater tengah\n"
     ]
    },
    {
     "name": "stderr",
     "output_type": "stream",
     "text": [
      "Status code 403 from https://nominatim.openstreetmap.org/search: ERROR - 403 Client Error: Forbidden for url: https://nominatim.openstreetmap.org/search?q=Kp+ciater+tengah%2C+SERPONG%2C+Tangerang+Selatan%2C+Banten%2C+Indonesia&format=jsonv2&addressdetails=1&limit=1\n"
     ]
    },
    {
     "name": "stdout",
     "output_type": "stream",
     "text": [
      "Error with bing: Provide API Key\n",
      "Berhasil: -6.314358865698776, 106.69871489393316\n",
      "\n",
      "Mencari koordinat untuk: Jl. Ciater\n"
     ]
    },
    {
     "name": "stderr",
     "output_type": "stream",
     "text": [
      "Status code 403 from https://nominatim.openstreetmap.org/search: ERROR - 403 Client Error: Forbidden for url: https://nominatim.openstreetmap.org/search?q=Jalan+Ciater%2C+SERPONG%2C+Tangerang+Selatan%2C+Banten%2C+Indonesia&format=jsonv2&addressdetails=1&limit=1\n"
     ]
    },
    {
     "name": "stdout",
     "output_type": "stream",
     "text": [
      "Error with bing: Provide API Key\n",
      "Berhasil: -6.314358865698776, 106.69871489393316\n",
      "\n",
      "Mencari koordinat untuk: Ciater Barat\n"
     ]
    },
    {
     "name": "stderr",
     "output_type": "stream",
     "text": [
      "Status code 403 from https://nominatim.openstreetmap.org/search: ERROR - 403 Client Error: Forbidden for url: https://nominatim.openstreetmap.org/search?q=Ciater+Barat%2C+SERPONG%2C+Tangerang+Selatan%2C+Banten%2C+Indonesia&format=jsonv2&addressdetails=1&limit=1\n"
     ]
    },
    {
     "name": "stdout",
     "output_type": "stream",
     "text": [
      "Error with bing: Provide API Key\n",
      "Berhasil: -6.336298013714485, 106.68688150253581\n",
      "\n",
      "Mencari koordinat untuk: Jl h saran\n"
     ]
    },
    {
     "name": "stderr",
     "output_type": "stream",
     "text": [
      "Status code 403 from https://nominatim.openstreetmap.org/search: ERROR - 403 Client Error: Forbidden for url: https://nominatim.openstreetmap.org/search?q=Jalan+h+saran%2C+SERPONG%2C+Tangerang+Selatan%2C+Banten%2C+Indonesia&format=jsonv2&addressdetails=1&limit=1\n"
     ]
    },
    {
     "name": "stdout",
     "output_type": "stream",
     "text": [
      "Error with bing: Provide API Key\n",
      "Berhasil: -6.3189062, 106.6683414\n",
      "\n",
      "Mencari koordinat untuk: Kp jati\n"
     ]
    },
    {
     "name": "stderr",
     "output_type": "stream",
     "text": [
      "Status code 403 from https://nominatim.openstreetmap.org/search: ERROR - 403 Client Error: Forbidden for url: https://nominatim.openstreetmap.org/search?q=Kp+jati%2C+SERPONG%2C+Tangerang+Selatan%2C+Banten%2C+Indonesia&format=jsonv2&addressdetails=1&limit=1\n"
     ]
    },
    {
     "name": "stdout",
     "output_type": "stream",
     "text": [
      "Error with bing: Provide API Key\n",
      "Berhasil: -6.3189062, 106.6683414\n",
      "\n",
      "Mencari koordinat untuk: Ciater barat\n"
     ]
    },
    {
     "name": "stderr",
     "output_type": "stream",
     "text": [
      "Status code 403 from https://nominatim.openstreetmap.org/search: ERROR - 403 Client Error: Forbidden for url: https://nominatim.openstreetmap.org/search?q=Ciater+barat%2C+SERPONG%2C+Tangerang+Selatan%2C+Banten%2C+Indonesia&format=jsonv2&addressdetails=1&limit=1\n"
     ]
    },
    {
     "name": "stdout",
     "output_type": "stream",
     "text": [
      "Error with bing: Provide API Key\n",
      "Berhasil: -6.336298013714485, 106.68688150253581\n",
      "\n",
      "Mencari koordinat untuk: Jl waru\n"
     ]
    },
    {
     "name": "stderr",
     "output_type": "stream",
     "text": [
      "Status code 403 from https://nominatim.openstreetmap.org/search: ERROR - 403 Client Error: Forbidden for url: https://nominatim.openstreetmap.org/search?q=Jalan+waru%2C+SERPONG%2C+Tangerang+Selatan%2C+Banten%2C+Indonesia&format=jsonv2&addressdetails=1&limit=1\n"
     ]
    },
    {
     "name": "stdout",
     "output_type": "stream",
     "text": [
      "Error with bing: Provide API Key\n",
      "Berhasil: -6.3217768086165105, 106.69728501253853\n",
      "\n",
      "Mencari koordinat untuk: JL. H JAMAT\n"
     ]
    },
    {
     "name": "stderr",
     "output_type": "stream",
     "text": [
      "Status code 403 from https://nominatim.openstreetmap.org/search: ERROR - 403 Client Error: Forbidden for url: https://nominatim.openstreetmap.org/search?q=Jalan+H+JAMAT%2C+SERPONG%2C+Tangerang+Selatan%2C+Banten%2C+Indonesia&format=jsonv2&addressdetails=1&limit=1\n"
     ]
    },
    {
     "name": "stdout",
     "output_type": "stream",
     "text": [
      "Error with bing: Provide API Key\n",
      "Berhasil: -6.3189062, 106.6683414\n",
      "\n",
      "Mencari koordinat untuk: Maruga ciater\n"
     ]
    },
    {
     "name": "stderr",
     "output_type": "stream",
     "text": [
      "Status code 403 from https://nominatim.openstreetmap.org/search: ERROR - 403 Client Error: Forbidden for url: https://nominatim.openstreetmap.org/search?q=Maruga+ciater%2C+SERPONG%2C+Tangerang+Selatan%2C+Banten%2C+Indonesia&format=jsonv2&addressdetails=1&limit=1\n"
     ]
    },
    {
     "name": "stdout",
     "output_type": "stream",
     "text": [
      "Error with bing: Provide API Key\n",
      "Berhasil: -6.322193, 106.696076\n",
      "\n",
      "Mencari koordinat untuk: Jl. PDAM persatuan Kp maruga\n"
     ]
    },
    {
     "name": "stderr",
     "output_type": "stream",
     "text": [
      "Status code 403 from https://nominatim.openstreetmap.org/search: ERROR - 403 Client Error: Forbidden for url: https://nominatim.openstreetmap.org/search?q=Jalan+PDAM+persatuan+Kp+maruga%2C+SERPONG%2C+Tangerang+Selatan%2C+Banten%2C+Indonesia&format=jsonv2&addressdetails=1&limit=1\n"
     ]
    },
    {
     "name": "stdout",
     "output_type": "stream",
     "text": [
      "Error with bing: Provide API Key\n",
      "Berhasil: -6.310084924334013, 106.6999119053582\n",
      "\n",
      "Mencari koordinat untuk: Jl. Ciater permai raya\n"
     ]
    },
    {
     "name": "stderr",
     "output_type": "stream",
     "text": [
      "Status code 403 from https://nominatim.openstreetmap.org/search: ERROR - 403 Client Error: Forbidden for url: https://nominatim.openstreetmap.org/search?q=Jalan+Ciater+permai+raya%2C+SERPONG%2C+Tangerang+Selatan%2C+Banten%2C+Indonesia&format=jsonv2&addressdetails=1&limit=1\n"
     ]
    },
    {
     "name": "stdout",
     "output_type": "stream",
     "text": [
      "Error with bing: Provide API Key\n",
      "Berhasil: -6.315352600295608, 106.6967771965158\n",
      "\n",
      "Mencari koordinat untuk: Kp. Ciater tengah\n"
     ]
    },
    {
     "name": "stderr",
     "output_type": "stream",
     "text": [
      "Status code 403 from https://nominatim.openstreetmap.org/search: ERROR - 403 Client Error: Forbidden for url: https://nominatim.openstreetmap.org/search?q=Kp.+Ciater+tengah%2C+SERPONG%2C+Tangerang+Selatan%2C+Banten%2C+Indonesia&format=jsonv2&addressdetails=1&limit=1\n"
     ]
    },
    {
     "name": "stdout",
     "output_type": "stream",
     "text": [
      "Error with bing: Provide API Key\n",
      "Berhasil: -6.314358865698776, 106.69871489393316\n",
      "\n",
      "Mencari koordinat untuk: Jl.raya Ciater barat\n"
     ]
    },
    {
     "name": "stderr",
     "output_type": "stream",
     "text": [
      "Status code 403 from https://nominatim.openstreetmap.org/search: ERROR - 403 Client Error: Forbidden for url: https://nominatim.openstreetmap.org/search?q=Jalanraya+Ciater+barat%2C+SERPONG%2C+Tangerang+Selatan%2C+Banten%2C+Indonesia&format=jsonv2&addressdetails=1&limit=1\n"
     ]
    },
    {
     "name": "stdout",
     "output_type": "stream",
     "text": [
      "Error with bing: Provide API Key\n",
      "Berhasil: -6.314358865698776, 106.69871489393316\n",
      "\n",
      "Mencari koordinat untuk: kp kademangan\n"
     ]
    },
    {
     "name": "stderr",
     "output_type": "stream",
     "text": [
      "Status code 403 from https://nominatim.openstreetmap.org/search: ERROR - 403 Client Error: Forbidden for url: https://nominatim.openstreetmap.org/search?q=kp+kademangan%2C+SERPONG%2C+Tangerang+Selatan%2C+Banten%2C+Indonesia&format=jsonv2&addressdetails=1&limit=1\n"
     ]
    },
    {
     "name": "stdout",
     "output_type": "stream",
     "text": [
      "Error with bing: Provide API Key\n",
      "Berhasil: -6.3323142, 106.6670913\n",
      "\n",
      "Mencari koordinat untuk: Jl cilenggang 1\n"
     ]
    },
    {
     "name": "stderr",
     "output_type": "stream",
     "text": [
      "Status code 403 from https://nominatim.openstreetmap.org/search: ERROR - 403 Client Error: Forbidden for url: https://nominatim.openstreetmap.org/search?q=Jalan+cilenggang+1%2C+SERPONG%2C+Tangerang+Selatan%2C+Banten%2C+Indonesia&format=jsonv2&addressdetails=1&limit=1\n"
     ]
    },
    {
     "name": "stdout",
     "output_type": "stream",
     "text": [
      "Error with bing: Provide API Key\n",
      "Berhasil: -6.30873842238447, 106.66837884704655\n",
      "\n",
      "Mencari koordinat untuk: Jalan Salim II\n"
     ]
    },
    {
     "name": "stderr",
     "output_type": "stream",
     "text": [
      "Status code 403 from https://nominatim.openstreetmap.org/search: ERROR - 403 Client Error: Forbidden for url: https://nominatim.openstreetmap.org/search?q=Jalan+Salim+II%2C+SERPONG%2C+Tangerang+Selatan%2C+Banten%2C+Indonesia&format=jsonv2&addressdetails=1&limit=1\n"
     ]
    },
    {
     "name": "stdout",
     "output_type": "stream",
     "text": [
      "Error with bing: Provide API Key\n",
      "Berhasil: -6.3244109197249605, 106.66907195419924\n",
      "\n",
      "Mencari koordinat untuk: JL. KAVLING SERPONG NO 9\n"
     ]
    },
    {
     "name": "stderr",
     "output_type": "stream",
     "text": [
      "Status code 403 from https://nominatim.openstreetmap.org/search: ERROR - 403 Client Error: Forbidden for url: https://nominatim.openstreetmap.org/search?q=Jalan+KAVLING+SERPONG+NO+9%2C+SERPONG%2C+Tangerang+Selatan%2C+Banten%2C+Indonesia&format=jsonv2&addressdetails=1&limit=1\n"
     ]
    },
    {
     "name": "stdout",
     "output_type": "stream",
     "text": [
      "Error with bing: Provide API Key\n",
      "Berhasil: -6.321586908922342, 106.66129404057807\n",
      "\n",
      "Mencari koordinat untuk: Jl astek Lengkong gudang\n"
     ]
    },
    {
     "name": "stderr",
     "output_type": "stream",
     "text": [
      "Status code 403 from https://nominatim.openstreetmap.org/search: ERROR - 403 Client Error: Forbidden for url: https://nominatim.openstreetmap.org/search?q=Jalan+astek+Lengkong+gudang%2C+SERPONG%2C+Tangerang+Selatan%2C+Banten%2C+Indonesia&format=jsonv2&addressdetails=1&limit=1\n"
     ]
    },
    {
     "name": "stdout",
     "output_type": "stream",
     "text": [
      "Error with bing: Provide API Key\n",
      "Berhasil: -6.294891700845602, 106.68705740159895\n",
      "\n",
      "Mencari koordinat untuk: Jalan Baru\n"
     ]
    },
    {
     "name": "stderr",
     "output_type": "stream",
     "text": [
      "Status code 403 from https://nominatim.openstreetmap.org/search: ERROR - 403 Client Error: Forbidden for url: https://nominatim.openstreetmap.org/search?q=Jalan+Baru%2C+SERPONG%2C+Tangerang+Selatan%2C+Banten%2C+Indonesia&format=jsonv2&addressdetails=1&limit=1\n"
     ]
    },
    {
     "name": "stdout",
     "output_type": "stream",
     "text": [
      "Error with bing: Provide API Key\n",
      "Berhasil: -6.3189062, 106.6683414\n",
      "\n",
      "Mencari koordinat untuk: Kp.Jombang\n"
     ]
    },
    {
     "name": "stderr",
     "output_type": "stream",
     "text": [
      "Status code 403 from https://nominatim.openstreetmap.org/search: ERROR - 403 Client Error: Forbidden for url: https://nominatim.openstreetmap.org/search?q=Kp.Jombang%2C+SERPONG%2C+Tangerang+Selatan%2C+Banten%2C+Indonesia&format=jsonv2&addressdetails=1&limit=1\n"
     ]
    },
    {
     "name": "stdout",
     "output_type": "stream",
     "text": [
      "Error with bing: Provide API Key\n",
      "Berhasil: -6.3189062, 106.6683414\n",
      "\n",
      "Mencari koordinat untuk: jl lengkong gudang timur kel. lengkong gudang timur, kec.Serpong\n"
     ]
    },
    {
     "name": "stderr",
     "output_type": "stream",
     "text": [
      "Status code 403 from https://nominatim.openstreetmap.org/search: ERROR - 403 Client Error: Forbidden for url: https://nominatim.openstreetmap.org/search?q=jl+lengkong+gudang+timur+kel.+lengkong+gudang+timur%2C+kec.Serpong%2C+SERPONG%2C+Tangerang+Selatan%2C+Banten%2C+Indonesia&format=jsonv2&addressdetails=1&limit=1\n"
     ]
    },
    {
     "name": "stdout",
     "output_type": "stream",
     "text": [
      "Error with bing: Provide API Key\n",
      "Berhasil: -6.294891700845602, 106.68705740159895\n",
      "\n",
      "Mencari koordinat untuk: Kp JOMBANG\n"
     ]
    },
    {
     "name": "stderr",
     "output_type": "stream",
     "text": [
      "Status code 403 from https://nominatim.openstreetmap.org/search: ERROR - 403 Client Error: Forbidden for url: https://nominatim.openstreetmap.org/search?q=Kp+JOMBANG%2C+SERPONG%2C+Tangerang+Selatan%2C+Banten%2C+Indonesia&format=jsonv2&addressdetails=1&limit=1\n"
     ]
    },
    {
     "name": "stdout",
     "output_type": "stream",
     "text": [
      "Error with bing: Provide API Key\n",
      "Berhasil: -6.3189062, 106.6683414\n",
      "\n",
      "Mencari koordinat untuk: GG Bintaro no. 127 lengkong Wetan rt.002/009\n"
     ]
    },
    {
     "name": "stderr",
     "output_type": "stream",
     "text": [
      "Status code 403 from https://nominatim.openstreetmap.org/search: ERROR - 403 Client Error: Forbidden for url: https://nominatim.openstreetmap.org/search?q=GG+Bintaro+no.+127+lengkong+Wetan+rt.002%2F009%2C+SERPONG%2C+Tangerang+Selatan%2C+Banten%2C+Indonesia&format=jsonv2&addressdetails=1&limit=1\n"
     ]
    },
    {
     "name": "stdout",
     "output_type": "stream",
     "text": [
      "Error with bing: Provide API Key\n",
      "Berhasil: -6.2823872, 106.675847\n",
      "\n",
      "Mencari koordinat untuk: Lengkong wetan no. 87\n"
     ]
    },
    {
     "name": "stderr",
     "output_type": "stream",
     "text": [
      "Status code 403 from https://nominatim.openstreetmap.org/search: ERROR - 403 Client Error: Forbidden for url: https://nominatim.openstreetmap.org/search?q=Lengkong+wetan+no.+87%2C+SERPONG%2C+Tangerang+Selatan%2C+Banten%2C+Indonesia&format=jsonv2&addressdetails=1&limit=1\n"
     ]
    },
    {
     "name": "stdout",
     "output_type": "stream",
     "text": [
      "Error with bing: Provide API Key\n",
      "Berhasil: -6.2823872, 106.675847\n",
      "\n",
      "Mencari koordinat untuk: Nusaloka, jalan Batam J3 no 2\n"
     ]
    },
    {
     "name": "stderr",
     "output_type": "stream",
     "text": [
      "Status code 403 from https://nominatim.openstreetmap.org/search: ERROR - 403 Client Error: Forbidden for url: https://nominatim.openstreetmap.org/search?q=Nusaloka%2C+jalan+Batam+J3+no+2%2C+SERPONG%2C+Tangerang+Selatan%2C+Banten%2C+Indonesia&format=jsonv2&addressdetails=1&limit=1\n"
     ]
    },
    {
     "name": "stdout",
     "output_type": "stream",
     "text": [
      "Error with bing: Provide API Key\n",
      "Berhasil: -6.302315991512643, 106.69193299798849\n",
      "\n",
      "Mencari koordinat untuk: Jl. Kalimantan 8 no. 2 Blok F\n"
     ]
    },
    {
     "name": "stderr",
     "output_type": "stream",
     "text": [
      "Status code 403 from https://nominatim.openstreetmap.org/search: ERROR - 403 Client Error: Forbidden for url: https://nominatim.openstreetmap.org/search?q=Jalan+Kalimantan+8+no.+2+Blok+F%2C+SERPONG%2C+Tangerang+Selatan%2C+Banten%2C+Indonesia&format=jsonv2&addressdetails=1&limit=1\n"
     ]
    },
    {
     "name": "stdout",
     "output_type": "stream",
     "text": [
      "Error with bing: Provide API Key\n",
      "Berhasil: -6.299270007898684, 106.68641502349004\n",
      "\n",
      "Mencari koordinat untuk: Kalimantan VIII Blok F4/47 Sektor 14-4\n"
     ]
    },
    {
     "name": "stderr",
     "output_type": "stream",
     "text": [
      "Status code 403 from https://nominatim.openstreetmap.org/search: ERROR - 403 Client Error: Forbidden for url: https://nominatim.openstreetmap.org/search?q=Kalimantan+VIII+Blok+F4%2F47+Sektor+14-4%2C+SERPONG%2C+Tangerang+Selatan%2C+Banten%2C+Indonesia&format=jsonv2&addressdetails=1&limit=1\n"
     ]
    },
    {
     "name": "stdout",
     "output_type": "stream",
     "text": [
      "Error with bing: Provide API Key\n",
      "Berhasil: -6.299329720763593, 106.68777965333626\n",
      "\n",
      "Mencari koordinat untuk: Kp Cicentang\n"
     ]
    },
    {
     "name": "stderr",
     "output_type": "stream",
     "text": [
      "Status code 403 from https://nominatim.openstreetmap.org/search: ERROR - 403 Client Error: Forbidden for url: https://nominatim.openstreetmap.org/search?q=Kp+Cicentang%2C+SERPONG%2C+Tangerang+Selatan%2C+Banten%2C+Indonesia&format=jsonv2&addressdetails=1&limit=1\n"
     ]
    },
    {
     "name": "stdout",
     "output_type": "stream",
     "text": [
      "Error with bing: Provide API Key\n",
      "Berhasil: -6.3185276, 106.6763173\n",
      "\n",
      "Mencari koordinat untuk: Jl Cemara 4 Blok C 3 RT 008/019\n"
     ]
    },
    {
     "name": "stderr",
     "output_type": "stream",
     "text": [
      "Status code 403 from https://nominatim.openstreetmap.org/search: ERROR - 403 Client Error: Forbidden for url: https://nominatim.openstreetmap.org/search?q=Jalan+Cemara+4+Blok+C+3+008%2F019%2C+SERPONG%2C+Tangerang+Selatan%2C+Banten%2C+Indonesia&format=jsonv2&addressdetails=1&limit=1\n"
     ]
    },
    {
     "name": "stdout",
     "output_type": "stream",
     "text": [
      "Error with bing: Provide API Key\n",
      "Berhasil: -6.267593119418052, 106.65953308653997\n",
      "\n",
      "Mencari koordinat untuk: K0 serpong\n"
     ]
    },
    {
     "name": "stderr",
     "output_type": "stream",
     "text": [
      "Status code 403 from https://nominatim.openstreetmap.org/search: ERROR - 403 Client Error: Forbidden for url: https://nominatim.openstreetmap.org/search?q=K0+serpong%2C+SERPONG%2C+Tangerang+Selatan%2C+Banten%2C+Indonesia&format=jsonv2&addressdetails=1&limit=1\n"
     ]
    },
    {
     "name": "stdout",
     "output_type": "stream",
     "text": [
      "Error with bing: Provide API Key\n",
      "Berhasil: -6.319928566536792, 106.66581833583011\n",
      "\n",
      "Mencari koordinat untuk: Jl salem 1\n"
     ]
    },
    {
     "name": "stderr",
     "output_type": "stream",
     "text": [
      "Status code 403 from https://nominatim.openstreetmap.org/search: ERROR - 403 Client Error: Forbidden for url: https://nominatim.openstreetmap.org/search?q=Jalan+salem+1%2C+SERPONG%2C+Tangerang+Selatan%2C+Banten%2C+Indonesia&format=jsonv2&addressdetails=1&limit=1\n"
     ]
    },
    {
     "name": "stdout",
     "output_type": "stream",
     "text": [
      "Error with bing: Provide API Key\n",
      "Berhasil: -6.322429441563496, 106.66651345814567\n",
      "\n",
      "Mencari koordinat untuk: Kp.serpong\n"
     ]
    },
    {
     "name": "stderr",
     "output_type": "stream",
     "text": [
      "Status code 403 from https://nominatim.openstreetmap.org/search: ERROR - 403 Client Error: Forbidden for url: https://nominatim.openstreetmap.org/search?q=Kp.serpong%2C+SERPONG%2C+Tangerang+Selatan%2C+Banten%2C+Indonesia&format=jsonv2&addressdetails=1&limit=1\n"
     ]
    },
    {
     "name": "stdout",
     "output_type": "stream",
     "text": [
      "Error with bing: Provide API Key\n",
      "Berhasil: -6.319928566536792, 106.66581833583011\n",
      "\n",
      "Mencari koordinat untuk: KAV. SERPONG Jl. CENDANA I NO.97\n"
     ]
    },
    {
     "name": "stderr",
     "output_type": "stream",
     "text": [
      "Status code 403 from https://nominatim.openstreetmap.org/search: ERROR - 403 Client Error: Forbidden for url: https://nominatim.openstreetmap.org/search?q=KAV.+SERPONG+Jalan+CENDANA+I+NO.97%2C+SERPONG%2C+Tangerang+Selatan%2C+Banten%2C+Indonesia&format=jsonv2&addressdetails=1&limit=1\n"
     ]
    },
    {
     "name": "stdout",
     "output_type": "stream",
     "text": [
      "Error with bing: Provide API Key\n",
      "Berhasil: -6.32495724601005, 106.66563298253755\n",
      "\n",
      "Mencari koordinat untuk: Jl. Pasar serpong, Kel. Serpong, kec. Serpong\n"
     ]
    },
    {
     "name": "stderr",
     "output_type": "stream",
     "text": [
      "Status code 403 from https://nominatim.openstreetmap.org/search: ERROR - 403 Client Error: Forbidden for url: https://nominatim.openstreetmap.org/search?q=Jalan+Pasar+serpong%2C+Kel.+Serpong%2C+kec.+Serpong%2C+SERPONG%2C+Tangerang+Selatan%2C+Banten%2C+Indonesia&format=jsonv2&addressdetails=1&limit=1\n"
     ]
    },
    {
     "name": "stdout",
     "output_type": "stream",
     "text": [
      "Error with bing: Provide API Key\n",
      "Berhasil: -6.3217364703687755, 106.66339915011135\n",
      "\n",
      "Mencari koordinat untuk: Jl roda hias no 53\n"
     ]
    },
    {
     "name": "stderr",
     "output_type": "stream",
     "text": [
      "Status code 403 from https://nominatim.openstreetmap.org/search: ERROR - 403 Client Error: Forbidden for url: https://nominatim.openstreetmap.org/search?q=Jalan+roda+hias+no+53%2C+SERPONG%2C+Tangerang+Selatan%2C+Banten%2C+Indonesia&format=jsonv2&addressdetails=1&limit=1\n"
     ]
    },
    {
     "name": "stdout",
     "output_type": "stream",
     "text": [
      "Error with bing: Provide API Key\n",
      "Berhasil: -6.298504991595863, 106.73571092390256\n",
      "\n",
      "Mencari koordinat untuk: Gg. Salem 2 No. 1\n"
     ]
    },
    {
     "name": "stderr",
     "output_type": "stream",
     "text": [
      "Status code 403 from https://nominatim.openstreetmap.org/search: ERROR - 403 Client Error: Forbidden for url: https://nominatim.openstreetmap.org/search?q=Gg.+Salem+2+No.+1%2C+SERPONG%2C+Tangerang+Selatan%2C+Banten%2C+Indonesia&format=jsonv2&addressdetails=1&limit=1\n"
     ]
    },
    {
     "name": "stdout",
     "output_type": "stream",
     "text": [
      "Error with bing: Provide API Key\n",
      "Berhasil: -6.323459300363183, 106.66929117248827\n",
      "\n",
      "Mencari koordinat untuk: Jl. Cilenggang 1\n"
     ]
    },
    {
     "name": "stderr",
     "output_type": "stream",
     "text": [
      "Status code 403 from https://nominatim.openstreetmap.org/search: ERROR - 403 Client Error: Forbidden for url: https://nominatim.openstreetmap.org/search?q=Jalan+Cilenggang+1%2C+SERPONG%2C+Tangerang+Selatan%2C+Banten%2C+Indonesia&format=jsonv2&addressdetails=1&limit=1\n"
     ]
    },
    {
     "name": "stdout",
     "output_type": "stream",
     "text": [
      "Error with bing: Provide API Key\n",
      "Berhasil: -6.30873842238447, 106.66837884704655\n",
      "\n",
      "Mencari koordinat untuk: Jl. Serpong No. 63\n"
     ]
    },
    {
     "name": "stderr",
     "output_type": "stream",
     "text": [
      "Status code 403 from https://nominatim.openstreetmap.org/search: ERROR - 403 Client Error: Forbidden for url: https://nominatim.openstreetmap.org/search?q=Jalan+Serpong+No.+63%2C+SERPONG%2C+Tangerang+Selatan%2C+Banten%2C+Indonesia&format=jsonv2&addressdetails=1&limit=1\n"
     ]
    },
    {
     "name": "stdout",
     "output_type": "stream",
     "text": [
      "Error with bing: Provide API Key\n",
      "Berhasil: -6.3073221080123165, 106.66284839630858\n",
      "\n",
      "Mencari koordinat untuk: Kp. Serpong RT.001/001 No. 1A\n"
     ]
    },
    {
     "name": "stderr",
     "output_type": "stream",
     "text": [
      "Status code 403 from https://nominatim.openstreetmap.org/search: ERROR - 403 Client Error: Forbidden for url: https://nominatim.openstreetmap.org/search?q=Kp.+Serpong+No.+1A%2C+SERPONG%2C+Tangerang+Selatan%2C+Banten%2C+Indonesia&format=jsonv2&addressdetails=1&limit=1\n"
     ]
    },
    {
     "name": "stdout",
     "output_type": "stream",
     "text": [
      "Error with bing: Provide API Key\n",
      "Berhasil: -6.319928566536792, 106.66581833583011\n",
      "\n",
      "Mencari koordinat untuk: Jl. Jati. Gg anjok rt. 04\n"
     ]
    },
    {
     "name": "stderr",
     "output_type": "stream",
     "text": [
      "Status code 403 from https://nominatim.openstreetmap.org/search: ERROR - 403 Client Error: Forbidden for url: https://nominatim.openstreetmap.org/search?q=Jalan+Jati.+Gg+anjok+rt.+04%2C+SERPONG+UTARA%2C+Tangerang+Selatan%2C+Banten%2C+Indonesia&format=jsonv2&addressdetails=1&limit=1\n"
     ]
    },
    {
     "name": "stdout",
     "output_type": "stream",
     "text": [
      "Error with bing: Provide API Key\n",
      "Berhasil: -6.259830010244542, 106.66281812203249\n",
      "\n",
      "Mencari koordinat untuk: VILLA MELATI MAS BLOK G - X\n"
     ]
    },
    {
     "name": "stderr",
     "output_type": "stream",
     "text": [
      "Status code 403 from https://nominatim.openstreetmap.org/search: ERROR - 403 Client Error: Forbidden for url: https://nominatim.openstreetmap.org/search?q=VILLA+MELATI+MAS+BLOK+G+-+X%2C+SERPONG+UTARA%2C+Tangerang+Selatan%2C+Banten%2C+Indonesia&format=jsonv2&addressdetails=1&limit=1\n"
     ]
    },
    {
     "name": "stdout",
     "output_type": "stream",
     "text": [
      "Error with bing: Provide API Key\n",
      "Berhasil: -6.2572, 106.6635\n",
      "\n",
      "Mencari koordinat untuk: Jl jelupang raya\n"
     ]
    },
    {
     "name": "stderr",
     "output_type": "stream",
     "text": [
      "Status code 403 from https://nominatim.openstreetmap.org/search: ERROR - 403 Client Error: Forbidden for url: https://nominatim.openstreetmap.org/search?q=Jalan+jelupang+raya%2C+SERPONG+UTARA%2C+Tangerang+Selatan%2C+Banten%2C+Indonesia&format=jsonv2&addressdetails=1&limit=1\n"
     ]
    },
    {
     "name": "stdout",
     "output_type": "stream",
     "text": [
      "Error with bing: Provide API Key\n",
      "Berhasil: -6.26747287203669, 106.67147777520722\n",
      "\n",
      "Mencari koordinat untuk: Jln melatibmas\n"
     ]
    },
    {
     "name": "stderr",
     "output_type": "stream",
     "text": [
      "Status code 403 from https://nominatim.openstreetmap.org/search: ERROR - 403 Client Error: Forbidden for url: https://nominatim.openstreetmap.org/search?q=Jln+melatibmas%2C+SERPONG+UTARA%2C+Tangerang+Selatan%2C+Banten%2C+Indonesia&format=jsonv2&addressdetails=1&limit=1\n"
     ]
    },
    {
     "name": "stdout",
     "output_type": "stream",
     "text": [
      "Error with bing: Provide API Key\n",
      "Berhasil: -6.2687, 106.6556\n",
      "\n",
      "Mencari koordinat untuk: KP. BUARAN\n"
     ]
    },
    {
     "name": "stderr",
     "output_type": "stream",
     "text": [
      "Status code 403 from https://nominatim.openstreetmap.org/search: ERROR - 403 Client Error: Forbidden for url: https://nominatim.openstreetmap.org/search?q=KP.+BUARAN%2C+SERPONG+UTARA%2C+Tangerang+Selatan%2C+Banten%2C+Indonesia&format=jsonv2&addressdetails=1&limit=1\n"
     ]
    },
    {
     "name": "stdout",
     "output_type": "stream",
     "text": [
      "Error with bing: Provide API Key\n",
      "Berhasil: -6.2455771, 106.6751195\n",
      "\n",
      "Mencari koordinat untuk: Jl. Buaran Barat\n"
     ]
    },
    {
     "name": "stderr",
     "output_type": "stream",
     "text": [
      "Status code 403 from https://nominatim.openstreetmap.org/search: ERROR - 403 Client Error: Forbidden for url: https://nominatim.openstreetmap.org/search?q=Jalan+Buaran+Barat%2C+SERPONG+UTARA%2C+Tangerang+Selatan%2C+Banten%2C+Indonesia&format=jsonv2&addressdetails=1&limit=1\n"
     ]
    },
    {
     "name": "stdout",
     "output_type": "stream",
     "text": [
      "Error with bing: Provide API Key\n",
      "Berhasil: -6.337060846218316, 106.68683262721832\n",
      "\n",
      "Mencari koordinat untuk: Jl buaran barat raya no 3\n"
     ]
    },
    {
     "name": "stderr",
     "output_type": "stream",
     "text": [
      "Status code 403 from https://nominatim.openstreetmap.org/search: ERROR - 403 Client Error: Forbidden for url: https://nominatim.openstreetmap.org/search?q=Jalan+buaran+barat+raya+no+3%2C+SERPONG+UTARA%2C+Tangerang+Selatan%2C+Banten%2C+Indonesia&format=jsonv2&addressdetails=1&limit=1\n"
     ]
    },
    {
     "name": "stdout",
     "output_type": "stream",
     "text": [
      "Error with bing: Provide API Key\n",
      "Berhasil: -6.337060846218316, 106.68683262721832\n",
      "\n",
      "Mencari koordinat untuk: VILLA MELATI MAS VISTA V.20 NO.22 RT.036/008\n"
     ]
    },
    {
     "name": "stderr",
     "output_type": "stream",
     "text": [
      "Status code 403 from https://nominatim.openstreetmap.org/search: ERROR - 403 Client Error: Forbidden for url: https://nominatim.openstreetmap.org/search?q=VILLA+MELATI+MAS+VISTA+V.20+NO.22%2C+SERPONG+UTARA%2C+Tangerang+Selatan%2C+Banten%2C+Indonesia&format=jsonv2&addressdetails=1&limit=1\n"
     ]
    },
    {
     "name": "stdout",
     "output_type": "stream",
     "text": [
      "Error with bing: Provide API Key\n",
      "Berhasil: -6.2662860035273695, 106.66732297589414\n",
      "\n",
      "Mencari koordinat untuk: Kamurang atas\n"
     ]
    },
    {
     "name": "stderr",
     "output_type": "stream",
     "text": [
      "Status code 403 from https://nominatim.openstreetmap.org/search: ERROR - 403 Client Error: Forbidden for url: https://nominatim.openstreetmap.org/search?q=Kamurang+atas%2C+SERPONG+UTARA%2C+Tangerang+Selatan%2C+Banten%2C+Indonesia&format=jsonv2&addressdetails=1&limit=1\n"
     ]
    },
    {
     "name": "stdout",
     "output_type": "stream",
     "text": [
      "Error with bing: Provide API Key\n",
      "Berhasil: -6.2455771, 106.6751195\n",
      "\n",
      "Mencari koordinat untuk: Kamurang Atas RT. 002/001\n"
     ]
    },
    {
     "name": "stderr",
     "output_type": "stream",
     "text": [
      "Status code 403 from https://nominatim.openstreetmap.org/search: ERROR - 403 Client Error: Forbidden for url: https://nominatim.openstreetmap.org/search?q=Kamurang+Atas+002%2F001%2C+SERPONG+UTARA%2C+Tangerang+Selatan%2C+Banten%2C+Indonesia&format=jsonv2&addressdetails=1&limit=1\n"
     ]
    },
    {
     "name": "stdout",
     "output_type": "stream",
     "text": [
      "Error with bing: Provide API Key\n",
      "Berhasil: -6.2455771, 106.6751195\n",
      "\n",
      "Mencari koordinat untuk: Jl. Kayu gede 1\n"
     ]
    },
    {
     "name": "stderr",
     "output_type": "stream",
     "text": [
      "Status code 403 from https://nominatim.openstreetmap.org/search: ERROR - 403 Client Error: Forbidden for url: https://nominatim.openstreetmap.org/search?q=Jalan+Kayu+gede+1%2C+SERPONG+UTARA%2C+Tangerang+Selatan%2C+Banten%2C+Indonesia&format=jsonv2&addressdetails=1&limit=1\n"
     ]
    },
    {
     "name": "stdout",
     "output_type": "stream",
     "text": [
      "Error with bing: Provide API Key\n",
      "Berhasil: -6.232109337019117, 106.68686053315642\n",
      "\n",
      "Mencari koordinat untuk: Ruko orlin arcade JA 25\n"
     ]
    },
    {
     "name": "stderr",
     "output_type": "stream",
     "text": [
      "Status code 403 from https://nominatim.openstreetmap.org/search: ERROR - 403 Client Error: Forbidden for url: https://nominatim.openstreetmap.org/search?q=Ruko+orlin+arcade+JA+25%2C+SERPONG+UTARA%2C+Tangerang+Selatan%2C+Banten%2C+Indonesia&format=jsonv2&addressdetails=1&limit=1\n"
     ]
    },
    {
     "name": "stdout",
     "output_type": "stream",
     "text": [
      "Error with bing: Provide API Key\n",
      "Berhasil: -6.2372603110211315, 106.67800747169088\n",
      "\n",
      "Mencari koordinat untuk: Jl. Kayu Gede\n"
     ]
    },
    {
     "name": "stderr",
     "output_type": "stream",
     "text": [
      "Status code 403 from https://nominatim.openstreetmap.org/search: ERROR - 403 Client Error: Forbidden for url: https://nominatim.openstreetmap.org/search?q=Jalan+Kayu+Gede%2C+SERPONG+UTARA%2C+Tangerang+Selatan%2C+Banten%2C+Indonesia&format=jsonv2&addressdetails=1&limit=1\n"
     ]
    },
    {
     "name": "stdout",
     "output_type": "stream",
     "text": [
      "Error with bing: Provide API Key\n",
      "Berhasil: -6.241097371283503, 106.65462422481203\n",
      "\n",
      "Mencari koordinat untuk: Jl. Pondok Serut no. 2\n"
     ]
    },
    {
     "name": "stderr",
     "output_type": "stream",
     "text": [
      "Status code 403 from https://nominatim.openstreetmap.org/search: ERROR - 403 Client Error: Forbidden for url: https://nominatim.openstreetmap.org/search?q=Jalan+Pondok+Serut+no.+2%2C+SERPONG+UTARA%2C+Tangerang+Selatan%2C+Banten%2C+Indonesia&format=jsonv2&addressdetails=1&limit=1\n"
     ]
    },
    {
     "name": "stdout",
     "output_type": "stream",
     "text": [
      "Error with bing: Provide API Key\n",
      "Berhasil: -6.235333163634311, 106.68265930084854\n",
      "\n",
      "Mencari koordinat untuk: Kp wates pakulonan\n"
     ]
    },
    {
     "name": "stderr",
     "output_type": "stream",
     "text": [
      "Status code 403 from https://nominatim.openstreetmap.org/search: ERROR - 403 Client Error: Forbidden for url: https://nominatim.openstreetmap.org/search?q=Kp+wates+pakulonan%2C+SERPONG+UTARA%2C+Tangerang+Selatan%2C+Banten%2C+Indonesia&format=jsonv2&addressdetails=1&limit=1\n"
     ]
    },
    {
     "name": "stdout",
     "output_type": "stream",
     "text": [
      "Error with bing: Provide API Key\n",
      "Berhasil: -6.253072306148577, 106.65153590730017\n",
      "\n",
      "Mencari koordinat untuk: Alam sutera jelita\n"
     ]
    },
    {
     "name": "stderr",
     "output_type": "stream",
     "text": [
      "Status code 403 from https://nominatim.openstreetmap.org/search: ERROR - 403 Client Error: Forbidden for url: https://nominatim.openstreetmap.org/search?q=Alam+sutera+jelita%2C+SERPONG+UTARA%2C+Tangerang+Selatan%2C+Banten%2C+Indonesia&format=jsonv2&addressdetails=1&limit=1\n"
     ]
    },
    {
     "name": "stdout",
     "output_type": "stream",
     "text": [
      "Error with bing: Provide API Key\n",
      "Berhasil: -6.2505, 106.6626\n",
      "\n",
      "Mencari koordinat untuk: Perum puri serpong 2 blok AH 09 no 18\n"
     ]
    },
    {
     "name": "stderr",
     "output_type": "stream",
     "text": [
      "Status code 403 from https://nominatim.openstreetmap.org/search: ERROR - 403 Client Error: Forbidden for url: https://nominatim.openstreetmap.org/search?q=Perum+puri+serpong+2+blok+AH+09+no+18%2C+SETU%2C+Tangerang+Selatan%2C+Banten%2C+Indonesia&format=jsonv2&addressdetails=1&limit=1\n"
     ]
    },
    {
     "name": "stdout",
     "output_type": "stream",
     "text": [
      "Error with bing: Provide API Key\n",
      "Berhasil: -6.352019881062219, 106.68443203283681\n",
      "\n",
      "Mencari koordinat untuk: Paradise Serpong City Blok J5 No.71\n"
     ]
    },
    {
     "name": "stderr",
     "output_type": "stream",
     "text": [
      "Status code 403 from https://nominatim.openstreetmap.org/search: ERROR - 403 Client Error: Forbidden for url: https://nominatim.openstreetmap.org/search?q=Paradise+Serpong+City+Blok+J5+No.71%2C+SETU%2C+Tangerang+Selatan%2C+Banten%2C+Indonesia&format=jsonv2&addressdetails=1&limit=1\n"
     ]
    },
    {
     "name": "stdout",
     "output_type": "stream",
     "text": [
      "Error with bing: Provide API Key\n",
      "Berhasil: -6.355912, 106.698589\n",
      "\n",
      "Mencari koordinat untuk: Kampung babakan kelapa 2 rt 04 rw 04\n"
     ]
    },
    {
     "name": "stderr",
     "output_type": "stream",
     "text": [
      "Status code 403 from https://nominatim.openstreetmap.org/search: ERROR - 403 Client Error: Forbidden for url: https://nominatim.openstreetmap.org/search?q=Kampung+babakan+kelapa+2+rt+04+rw+04%2C+SETU%2C+Tangerang+Selatan%2C+Banten%2C+Indonesia&format=jsonv2&addressdetails=1&limit=1\n"
     ]
    },
    {
     "name": "stdout",
     "output_type": "stream",
     "text": [
      "Error with bing: Provide API Key\n",
      "Berhasil: -6.3492989, 106.6966405\n",
      "\n",
      "Mencari koordinat untuk: KAMPUNG BABAKAN KELAPA 2 RT 04 RW I04\n"
     ]
    },
    {
     "name": "stderr",
     "output_type": "stream",
     "text": [
      "Status code 403 from https://nominatim.openstreetmap.org/search: ERROR - 403 Client Error: Forbidden for url: https://nominatim.openstreetmap.org/search?q=KAMPUNG+BABAKAN+KELAPA+2+04+I04%2C+SETU%2C+Tangerang+Selatan%2C+Banten%2C+Indonesia&format=jsonv2&addressdetails=1&limit=1\n"
     ]
    },
    {
     "name": "stdout",
     "output_type": "stream",
     "text": [
      "Error with bing: Provide API Key\n",
      "Berhasil: -6.348933631234289, 106.69741030296275\n",
      "\n",
      "Mencari koordinat untuk: Kp babakan\n"
     ]
    },
    {
     "name": "stderr",
     "output_type": "stream",
     "text": [
      "Status code 403 from https://nominatim.openstreetmap.org/search: ERROR - 403 Client Error: Forbidden for url: https://nominatim.openstreetmap.org/search?q=Kp+babakan%2C+SETU%2C+Tangerang+Selatan%2C+Banten%2C+Indonesia&format=jsonv2&addressdetails=1&limit=1\n"
     ]
    },
    {
     "name": "stdout",
     "output_type": "stream",
     "text": [
      "Error with bing: Provide API Key\n",
      "Berhasil: -6.3492989, 106.6966405\n",
      "\n",
      "Mencari koordinat untuk: Kp poncol\n"
     ]
    },
    {
     "name": "stderr",
     "output_type": "stream",
     "text": [
      "Status code 403 from https://nominatim.openstreetmap.org/search: ERROR - 403 Client Error: Forbidden for url: https://nominatim.openstreetmap.org/search?q=Kp+poncol%2C+SETU%2C+Tangerang+Selatan%2C+Banten%2C+Indonesia&format=jsonv2&addressdetails=1&limit=1\n"
     ]
    },
    {
     "name": "stdout",
     "output_type": "stream",
     "text": [
      "Error with bing: Provide API Key\n",
      "Berhasil: -6.34768723723785, 106.69340151275213\n",
      "\n",
      "Mencari koordinat untuk: Kp. Curug No.18\n"
     ]
    },
    {
     "name": "stderr",
     "output_type": "stream",
     "text": [
      "Status code 403 from https://nominatim.openstreetmap.org/search: ERROR - 403 Client Error: Forbidden for url: https://nominatim.openstreetmap.org/search?q=Kp.+Curug+No.18%2C+SETU%2C+Tangerang+Selatan%2C+Banten%2C+Indonesia&format=jsonv2&addressdetails=1&limit=1\n"
     ]
    },
    {
     "name": "stdout",
     "output_type": "stream",
     "text": [
      "Error with bing: Provide API Key\n",
      "Berhasil: -6.3578, 106.692152\n",
      "\n",
      "Mencari koordinat untuk: Kp Curug gg mushola Nasrul khoir RT.005/002\n"
     ]
    },
    {
     "name": "stderr",
     "output_type": "stream",
     "text": [
      "Status code 403 from https://nominatim.openstreetmap.org/search: ERROR - 403 Client Error: Forbidden for url: https://nominatim.openstreetmap.org/search?q=Kp+Curug+gg+mushola+Nasrul+khoir%2C+SETU%2C+Tangerang+Selatan%2C+Banten%2C+Indonesia&format=jsonv2&addressdetails=1&limit=1\n"
     ]
    },
    {
     "name": "stdout",
     "output_type": "stream",
     "text": [
      "Error with bing: Provide API Key\n",
      "Berhasil: -6.2954, 106.6733\n",
      "\n",
      "Mencari koordinat untuk: PERMATA PAMULANG BLOK H-12/01\n"
     ]
    },
    {
     "name": "stderr",
     "output_type": "stream",
     "text": [
      "Status code 403 from https://nominatim.openstreetmap.org/search: ERROR - 403 Client Error: Forbidden for url: https://nominatim.openstreetmap.org/search?q=PERMATA+PAMULANG+BLOK+H-12%2F01%2C+SETU%2C+Tangerang+Selatan%2C+Banten%2C+Indonesia&format=jsonv2&addressdetails=1&limit=1\n"
     ]
    },
    {
     "name": "stdout",
     "output_type": "stream",
     "text": [
      "Error with bing: Provide API Key\n",
      "Berhasil: -6.3504, 106.7126\n",
      "\n",
      "Mencari koordinat untuk: Kp.Kademangan\n"
     ]
    },
    {
     "name": "stderr",
     "output_type": "stream",
     "text": [
      "Status code 403 from https://nominatim.openstreetmap.org/search: ERROR - 403 Client Error: Forbidden for url: https://nominatim.openstreetmap.org/search?q=Kp.Kademangan%2C+SETU%2C+Tangerang+Selatan%2C+Banten%2C+Indonesia&format=jsonv2&addressdetails=1&limit=1\n"
     ]
    },
    {
     "name": "stdout",
     "output_type": "stream",
     "text": [
      "Error with bing: Provide API Key\n",
      "Berhasil: -6.3323142, 106.6670913\n",
      "\n",
      "Mencari koordinat untuk: Kp.Kademangan\n"
     ]
    },
    {
     "name": "stderr",
     "output_type": "stream",
     "text": [
      "Status code 403 from https://nominatim.openstreetmap.org/search: ERROR - 403 Client Error: Forbidden for url: https://nominatim.openstreetmap.org/search?q=Kp.Kademangan%2C+SETU%2C+Tangerang+Selatan%2C+Banten%2C+Indonesia&format=jsonv2&addressdetails=1&limit=1\n"
     ]
    },
    {
     "name": "stdout",
     "output_type": "stream",
     "text": [
      "Error with bing: Provide API Key\n",
      "Berhasil: -6.3323142, 106.6670913\n",
      "\n",
      "Mencari koordinat untuk: KOMP.Amarapura blok B-3 No.6\n"
     ]
    },
    {
     "name": "stderr",
     "output_type": "stream",
     "text": [
      "Status code 403 from https://nominatim.openstreetmap.org/search: ERROR - 403 Client Error: Forbidden for url: https://nominatim.openstreetmap.org/search?q=KOMP.Amarapura+blok+B-3+No.6%2C+SETU%2C+Tangerang+Selatan%2C+Banten%2C+Indonesia&format=jsonv2&addressdetails=1&limit=1\n"
     ]
    },
    {
     "name": "stdout",
     "output_type": "stream",
     "text": [
      "Error with bing: Provide API Key\n",
      "Berhasil: -6.323296817170132, 106.67377150928314\n",
      "\n",
      "Mencari koordinat untuk: Perum griya serpong blok b-1 no 6\n"
     ]
    },
    {
     "name": "stderr",
     "output_type": "stream",
     "text": [
      "Status code 403 from https://nominatim.openstreetmap.org/search: ERROR - 403 Client Error: Forbidden for url: https://nominatim.openstreetmap.org/search?q=Perum+griya+serpong+blok+b-1+no+6%2C+SETU%2C+Tangerang+Selatan%2C+Banten%2C+Indonesia&format=jsonv2&addressdetails=1&limit=1\n"
     ]
    },
    {
     "name": "stdout",
     "output_type": "stream",
     "text": [
      "Error with bing: Provide API Key\n",
      "Berhasil: -6.333302881723881, 106.66217196111671\n",
      "\n",
      "Mencari koordinat untuk: Komp batan\n"
     ]
    },
    {
     "name": "stderr",
     "output_type": "stream",
     "text": [
      "Status code 403 from https://nominatim.openstreetmap.org/search: ERROR - 403 Client Error: Forbidden for url: https://nominatim.openstreetmap.org/search?q=Komp+batan%2C+SETU%2C+Tangerang+Selatan%2C+Banten%2C+Indonesia&format=jsonv2&addressdetails=1&limit=1\n"
     ]
    },
    {
     "name": "stdout",
     "output_type": "stream",
     "text": [
      "Error with bing: Provide API Key\n",
      "Berhasil: -6.3329602, 106.6770834\n",
      "\n",
      "Mencari koordinat untuk: Kp.Kademangan\n"
     ]
    },
    {
     "name": "stderr",
     "output_type": "stream",
     "text": [
      "Status code 403 from https://nominatim.openstreetmap.org/search: ERROR - 403 Client Error: Forbidden for url: https://nominatim.openstreetmap.org/search?q=Kp.Kademangan%2C+SETU%2C+Tangerang+Selatan%2C+Banten%2C+Indonesia&format=jsonv2&addressdetails=1&limit=1\n"
     ]
    },
    {
     "name": "stdout",
     "output_type": "stream",
     "text": [
      "Error with bing: Provide API Key\n",
      "Berhasil: -6.3323142, 106.6670913\n",
      "\n",
      "Mencari koordinat untuk: Kp.kademangan rt.001/003\n"
     ]
    },
    {
     "name": "stderr",
     "output_type": "stream",
     "text": [
      "Status code 403 from https://nominatim.openstreetmap.org/search: ERROR - 403 Client Error: Forbidden for url: https://nominatim.openstreetmap.org/search?q=Kp.kademangan+rt.001%2F003%2C+SETU%2C+Tangerang+Selatan%2C+Banten%2C+Indonesia&format=jsonv2&addressdetails=1&limit=1\n"
     ]
    },
    {
     "name": "stdout",
     "output_type": "stream",
     "text": [
      "Error with bing: Provide API Key\n",
      "Berhasil: -6.3323142, 106.6670913\n",
      "\n",
      "Mencari koordinat untuk: Perum Batan Indah Blok D 29\n"
     ]
    },
    {
     "name": "stderr",
     "output_type": "stream",
     "text": [
      "Status code 403 from https://nominatim.openstreetmap.org/search: ERROR - 403 Client Error: Forbidden for url: https://nominatim.openstreetmap.org/search?q=Perum+Batan+Indah+Blok+D+29%2C+SETU%2C+Tangerang+Selatan%2C+Banten%2C+Indonesia&format=jsonv2&addressdetails=1&limit=1\n"
     ]
    },
    {
     "name": "stdout",
     "output_type": "stream",
     "text": [
      "Error with bing: Provide API Key\n",
      "Berhasil: -6.327666890028709, 106.6696600181375\n",
      "\n",
      "Mencari koordinat untuk: Jl raya kademangan rt. 001/003\n"
     ]
    },
    {
     "name": "stderr",
     "output_type": "stream",
     "text": [
      "Status code 403 from https://nominatim.openstreetmap.org/search: ERROR - 403 Client Error: Forbidden for url: https://nominatim.openstreetmap.org/search?q=Jalan+raya+kademangan+rt.+001%2F003%2C+SETU%2C+Tangerang+Selatan%2C+Banten%2C+Indonesia&format=jsonv2&addressdetails=1&limit=1\n"
     ]
    },
    {
     "name": "stdout",
     "output_type": "stream",
     "text": [
      "Error with bing: Provide API Key\n",
      "Berhasil: -6.334804723166462, 106.66908305856708\n",
      "\n",
      "Mencari koordinat untuk: Jl. H. Madsyari No. 72\n"
     ]
    },
    {
     "name": "stderr",
     "output_type": "stream",
     "text": [
      "Status code 403 from https://nominatim.openstreetmap.org/search: ERROR - 403 Client Error: Forbidden for url: https://nominatim.openstreetmap.org/search?q=Jalan+H.+Madsyari+No.+72%2C+SETU%2C+Tangerang+Selatan%2C+Banten%2C+Indonesia&format=jsonv2&addressdetails=1&limit=1\n"
     ]
    },
    {
     "name": "stdout",
     "output_type": "stream",
     "text": [
      "Error with bing: Provide API Key\n",
      "Berhasil: -6.3329602, 106.6770834\n",
      "\n",
      "Mencari koordinat untuk: Jln. H. Mansyur\n"
     ]
    },
    {
     "name": "stderr",
     "output_type": "stream",
     "text": [
      "Status code 403 from https://nominatim.openstreetmap.org/search: ERROR - 403 Client Error: Forbidden for url: https://nominatim.openstreetmap.org/search?q=Jln.+H.+Mansyur%2C+SETU%2C+Tangerang+Selatan%2C+Banten%2C+Indonesia&format=jsonv2&addressdetails=1&limit=1\n"
     ]
    },
    {
     "name": "stdout",
     "output_type": "stream",
     "text": [
      "Error with bing: Provide API Key\n",
      "Berhasil: -6.3329602, 106.6770834\n",
      "\n",
      "Mencari koordinat untuk: KP KERANGGAN\n"
     ]
    },
    {
     "name": "stderr",
     "output_type": "stream",
     "text": [
      "Status code 403 from https://nominatim.openstreetmap.org/search: ERROR - 403 Client Error: Forbidden for url: https://nominatim.openstreetmap.org/search?q=KP+KERANGGAN%2C+SETU%2C+Tangerang+Selatan%2C+Banten%2C+Indonesia&format=jsonv2&addressdetails=1&limit=1\n"
     ]
    },
    {
     "name": "stdout",
     "output_type": "stream",
     "text": [
      "Error with bing: Provide API Key\n",
      "Berhasil: -6.3393605, 106.655614\n",
      "\n",
      "Mencari koordinat untuk: Jl hk sengkol\n"
     ]
    },
    {
     "name": "stderr",
     "output_type": "stream",
     "text": [
      "Status code 403 from https://nominatim.openstreetmap.org/search: ERROR - 403 Client Error: Forbidden for url: https://nominatim.openstreetmap.org/search?q=Jalan+hk+sengkol%2C+SETU%2C+Tangerang+Selatan%2C+Banten%2C+Indonesia&format=jsonv2&addressdetails=1&limit=1\n"
     ]
    },
    {
     "name": "stdout",
     "output_type": "stream",
     "text": [
      "Error with bing: Provide API Key\n",
      "Berhasil: -6.3329602, 106.6770834\n",
      "\n",
      "Mencari koordinat untuk: Kp.sengkol\n"
     ]
    },
    {
     "name": "stderr",
     "output_type": "stream",
     "text": [
      "Status code 403 from https://nominatim.openstreetmap.org/search: ERROR - 403 Client Error: Forbidden for url: https://nominatim.openstreetmap.org/search?q=Kp.sengkol%2C+SETU%2C+Tangerang+Selatan%2C+Banten%2C+Indonesia&format=jsonv2&addressdetails=1&limit=1\n"
     ]
    },
    {
     "name": "stdout",
     "output_type": "stream",
     "text": [
      "Error with bing: Provide API Key\n",
      "Berhasil: -6.3329602, 106.6770834\n",
      "\n",
      "Mencari koordinat untuk: Jl. HK Sengkol\n"
     ]
    },
    {
     "name": "stderr",
     "output_type": "stream",
     "text": [
      "Status code 403 from https://nominatim.openstreetmap.org/search: ERROR - 403 Client Error: Forbidden for url: https://nominatim.openstreetmap.org/search?q=Jalan+HK+Sengkol%2C+SETU%2C+Tangerang+Selatan%2C+Banten%2C+Indonesia&format=jsonv2&addressdetails=1&limit=1\n"
     ]
    },
    {
     "name": "stdout",
     "output_type": "stream",
     "text": [
      "Error with bing: Provide API Key\n",
      "Berhasil: -6.3329602, 106.6770834\n",
      "\n",
      "Mencari koordinat untuk: Jl pondok aries\n"
     ]
    },
    {
     "name": "stderr",
     "output_type": "stream",
     "text": [
      "Status code 403 from https://nominatim.openstreetmap.org/search: ERROR - 403 Client Error: Forbidden for url: https://nominatim.openstreetmap.org/search?q=Jalan+pondok+aries%2C+SETU%2C+Tangerang+Selatan%2C+Banten%2C+Indonesia&format=jsonv2&addressdetails=1&limit=1\n"
     ]
    },
    {
     "name": "stdout",
     "output_type": "stream",
     "text": [
      "Error with bing: Provide API Key\n",
      "Berhasil: -6.3329602, 106.6770834\n",
      "\n",
      "Mencari koordinat untuk: Puri serpong 1 blok D-1 no 19\n"
     ]
    },
    {
     "name": "stderr",
     "output_type": "stream",
     "text": [
      "Status code 403 from https://nominatim.openstreetmap.org/search: ERROR - 403 Client Error: Forbidden for url: https://nominatim.openstreetmap.org/search?q=Puri+serpong+1+blok+D-1+no+19%2C+SETU%2C+Tangerang+Selatan%2C+Banten%2C+Indonesia&format=jsonv2&addressdetails=1&limit=1\n"
     ]
    },
    {
     "name": "stdout",
     "output_type": "stream",
     "text": [
      "Error with bing: Provide API Key\n",
      "Berhasil: -6.352845917620158, 106.68545403829097\n",
      "\n",
      "Mencari koordinat untuk: Komp Puri Serpong Blok D4 no.7\n"
     ]
    },
    {
     "name": "stderr",
     "output_type": "stream",
     "text": [
      "Status code 403 from https://nominatim.openstreetmap.org/search: ERROR - 403 Client Error: Forbidden for url: https://nominatim.openstreetmap.org/search?q=Komp+Puri+Serpong+Blok+D4+no.7%2C+SETU%2C+Tangerang+Selatan%2C+Banten%2C+Indonesia&format=jsonv2&addressdetails=1&limit=1\n"
     ]
    },
    {
     "name": "stdout",
     "output_type": "stream",
     "text": [
      "Error with bing: Provide API Key\n",
      "Berhasil: -6.349685898213508, 106.6819560186388\n",
      "\n",
      "Mencari koordinat untuk: Kp setu Rt 015/004 keurahan setu\n"
     ]
    },
    {
     "name": "stderr",
     "output_type": "stream",
     "text": [
      "Status code 403 from https://nominatim.openstreetmap.org/search: ERROR - 403 Client Error: Forbidden for url: https://nominatim.openstreetmap.org/search?q=Kp+setu+Rt+015%2F004+keurahan+setu%2C+SETU%2C+Tangerang+Selatan%2C+Banten%2C+Indonesia&format=jsonv2&addressdetails=1&limit=1\n"
     ]
    },
    {
     "name": "stdout",
     "output_type": "stream",
     "text": [
      "Error with bing: Provide API Key\n",
      "Berhasil: -6.343362046274239, 106.67840989147153\n",
      "\n",
      "Berhasil mengupdate 293 dari 293 data koordinat NULL\n",
      "\n",
      "Data telah disimpan ke merchants_tangsel_updated.csv\n"
     ]
    }
   ],
   "source": [
    "import pandas as pd\n",
    "import geocoder\n",
    "import time\n",
    "from typing import Optional, Tuple\n",
    "\n",
    "class MultiGeocodingService:\n",
    "    def __init__(self):\n",
    "        self.providers = ['osm', 'bing', 'arcgis']  # Bisa ditambahkan 'google' jika punya API key\n",
    "        self.delay = 1  # Delay antar request dalam detik\n",
    "    \n",
    "    def clean_address(self, address: str, kecamatan: str) -> str:\n",
    "        \"\"\"\n",
    "        Membersihkan dan memformat alamat untuk meningkatkan akurasi geocoding\n",
    "        \"\"\"\n",
    "        # Standardisasi format jalan\n",
    "        address = address.replace('JL.', 'Jalan')\n",
    "        address = address.replace('JL ', 'Jalan ')\n",
    "        address = address.replace('Jl.', 'Jalan')\n",
    "        address = address.replace('Jl ', 'Jalan ')\n",
    "        \n",
    "        # Hapus detail RT/RW karena bisa mengganggu geocoding\n",
    "        address = ' '.join([x for x in address.split() if not ('RT' in x or 'RW' in x)])\n",
    "        \n",
    "        # Format alamat lengkap\n",
    "        full_address = f\"{address}, {kecamatan}, Tangerang Selatan, Banten, Indonesia\"\n",
    "        return full_address\n",
    "\n",
    "    def get_coordinates(self, address: str, kecamatan: str) -> Optional[Tuple[float, float]]:\n",
    "        \"\"\"\n",
    "        Mencoba mendapatkan koordinat menggunakan multiple providers\n",
    "        \"\"\"\n",
    "        clean_addr = self.clean_address(address, kecamatan)\n",
    "        \n",
    "        for provider in self.providers:\n",
    "            try:\n",
    "                g = geocoder.get(clean_addr, provider=provider)\n",
    "                if g.ok:\n",
    "                    time.sleep(self.delay)\n",
    "                    return (g.lat, g.lng)\n",
    "            except Exception as e:\n",
    "                print(f\"Error with {provider}: {str(e)}\")\n",
    "                continue\n",
    "        \n",
    "        return None\n",
    "\n",
    "def analyze_and_update_coordinates():\n",
    "    \"\"\"\n",
    "    Menganalisis dan mengupdate koordinat menggunakan multiple geocoding services\n",
    "    \"\"\"\n",
    "    try:\n",
    "        # Baca CSV\n",
    "        df = pd.read_csv('merchants_tangsel.csv', \n",
    "                        sep=';',\n",
    "                        encoding='utf-8',\n",
    "                        on_bad_lines='warn')\n",
    "        \n",
    "        print(\"\\n=== ANALISIS DATA AWAL ===\")\n",
    "        print(f\"Total data: {len(df)}\")\n",
    "        \n",
    "        # Bersihkan data koordinat\n",
    "        df['Koordinat'] = df['Koordinat'].astype(str).str.replace('\"', '').str.strip()\n",
    "        \n",
    "        # Pisahkan koordinat\n",
    "        df[['Latitude', 'Longitude']] = df['Koordinat'].str.split(',', expand=True)\n",
    "        \n",
    "        # Bersihkan nilai koordinat - menggunakan raw string untuk menghindari warning\n",
    "        df['Latitude'] = df['Latitude'].str.replace(r'[^\\d.-]', '', regex=True)\n",
    "        df['Longitude'] = df['Longitude'].str.replace(r'[^\\d.-]', '', regex=True)\n",
    "        \n",
    "        # Konversi ke float\n",
    "        df['Latitude'] = pd.to_numeric(df['Latitude'], errors='coerce')\n",
    "        df['Longitude'] = pd.to_numeric(df['Longitude'], errors='coerce')\n",
    "        \n",
    "        # Identifikasi data NULL\n",
    "        null_coords = df[df['Latitude'].isna() | df['Longitude'].isna()].copy()\n",
    "        print(f\"\\nData dengan koordinat NULL: {len(null_coords)}\")\n",
    "        \n",
    "        if len(null_coords) > 0:\n",
    "            print(\"\\nMemulai proses update koordinat...\")\n",
    "            \n",
    "            # Inisialisasi service\n",
    "            geocoder_service = MultiGeocodingService()\n",
    "            updated_count = 0\n",
    "            \n",
    "            # Proses setiap baris NULL\n",
    "            for idx in null_coords.index:\n",
    "                alamat = df.loc[idx, 'Alamat']\n",
    "                kecamatan = df.loc[idx, 'Kecamatan']\n",
    "                \n",
    "                print(f\"\\nMencari koordinat untuk: {alamat}\")\n",
    "                \n",
    "                # Coba dapatkan koordinat\n",
    "                result = geocoder_service.get_coordinates(alamat, kecamatan)\n",
    "                \n",
    "                if result:\n",
    "                    df.loc[idx, 'Latitude'] = result[0]\n",
    "                    df.loc[idx, 'Longitude'] = result[1]\n",
    "                    updated_count += 1\n",
    "                    print(f\"Berhasil: {result[0]}, {result[1]}\")\n",
    "                else:\n",
    "                    print(\"Tidak ditemukan\")\n",
    "            \n",
    "            print(f\"\\nBerhasil mengupdate {updated_count} dari {len(null_coords)} data koordinat NULL\")\n",
    "            \n",
    "            # Update kolom Koordinat\n",
    "            df['Koordinat'] = df.apply(\n",
    "                lambda x: f\"{x['Latitude']}, {x['Longitude']}\" \n",
    "                if pd.notnull(x['Latitude']) and pd.notnull(x['Longitude']) \n",
    "                else x['Koordinat'],\n",
    "                axis=1\n",
    "            )\n",
    "            \n",
    "            # Simpan hasil\n",
    "            df.to_csv('merchants_tangsel_updated.csv', sep=';', index=False)\n",
    "            print(\"\\nData telah disimpan ke merchants_tangsel_updated.csv\")\n",
    "            \n",
    "            # Simpan data yang masih NULL\n",
    "            still_null = df[df['Latitude'].isna() | df['Longitude'].isna()]\n",
    "            if len(still_null) > 0:\n",
    "                still_null.to_csv('koordinat_masih_null.csv', sep=';', index=False)\n",
    "                print(f\"\\nMasih terdapat {len(still_null)} data dengan koordinat NULL\")\n",
    "                print(\"Data tersebut telah disimpan ke koordinat_masih_null.csv\")\n",
    "            \n",
    "    except Exception as e:\n",
    "        print(f\"Error dalam pemrosesan data: {str(e)}\")\n",
    "\n",
    "if __name__ == \"__main__\":\n",
    "    analyze_and_update_coordinates()"
   ]
  },
  {
   "cell_type": "code",
   "execution_count": 28,
   "id": "fd8039bc-e17c-455a-aaad-74900e41e11f",
   "metadata": {},
   "outputs": [
    {
     "name": "stdout",
     "output_type": "stream",
     "text": [
      "\n",
      "=== ANALISIS KOORDINAT DUPLIKAT ===\n",
      "Total data: 1088\n",
      "\n",
      "Data dengan koordinat valid: 1088\n",
      "\n",
      "Ditemukan 197 data dengan koordinat duplikat\n",
      "\n",
      "Contoh data duplikat:\n",
      "    Kecamatan    Kelurahan              Nama Pemilik  \\\n",
      "170   CIPUTAT  SERUA INDAH      ELSA SEPHIANA ZAFIRA   \n",
      "171   CIPUTAT  SERUA INDAH           VICKRI QURAHMAN   \n",
      "752   SERPONG       BUARAN                    SOPYAN   \n",
      "773   SERPONG       CIATER  ZUBAIDAH BUDIPUSPITORINI   \n",
      "850   SERPONG    RAWABUNTU                     HERRY   \n",
      "\n",
      "                                       Alamat  Latitude   Longitude  \\\n",
      "170                           Jl suka Mulya 1 -6.378458  106.703565   \n",
      "171                           Jl suka Mulya 1 -6.378458  106.703565   \n",
      "752                          Jl.raya puspitek -6.378458  106.703565   \n",
      "773                             Kp.rawa macek -6.378458  106.703565   \n",
      "850  Ruko versailles blok fb no 18 sektor 1-6 -6.378458  106.703565   \n",
      "\n",
      "     Duplicate_Group  \n",
      "170                1  \n",
      "171                1  \n",
      "752                1  \n",
      "773                1  \n",
      "850                1  \n",
      "\n",
      "Statistik duplikat:\n",
      "Jumlah koordinat yang muncul beberapa kali:\n",
      "2     26\n",
      "3      9\n",
      "4      4\n",
      "5      4\n",
      "7      3\n",
      "15     2\n",
      "12     1\n",
      "8      1\n",
      "11     1\n",
      "Name: count, dtype: int64\n",
      "\n",
      "Data koordinat duplikat telah disimpan ke koordinat_duplikat.csv\n",
      "\n",
      "Analisis merchant dengan koordinat sama:\n",
      "\n",
      "Grup 1 - 12 merchant:\n",
      "- ELSA SEPHIANA ZAFIRA di Jl suka Mulya 1\n",
      "- VICKRI QURAHMAN di Jl suka Mulya 1\n",
      "- SOPYAN di Jl.raya puspitek\n",
      "- ZUBAIDAH BUDIPUSPITORINI di Kp.rawa macek\n",
      "- HERRY di Ruko versailles blok fb no 18 sektor 1-6\n",
      "- SAEPUL ROHMAN di Jelupang utama no 100\n",
      "- TOPIKUROHMAN di Kp.babakan\n",
      "- SUKI BAHTIAR di Kp.babakan\n",
      "- BARIYAH di Jl. Amd Babakan pocis DS bakti jaya\n",
      "- USIN SURACHMAN di Perumahan amara pura bok 3 no 6\n",
      "- ADI JAYA di Perum amara pura blok 3 no 4\n",
      "- SUPRAPTO HERI SANTOSO di KOMP. Puri Serpong blok d 1 no 19\n",
      "\n",
      "Grup 2 - 2 merchant:\n",
      "- EXCEL FEBRIYAN di JL. GOTONG ROYONG\n",
      "- SARIPUDIN di JL. GOTONG ROYONG\n",
      "\n",
      "Grup 3 - 4 merchant:\n",
      "- TRI PURWADI AKBAR di Jl pinang, Gg likik\n",
      "- TOKO PAMULANG di Griya Pinang Jl.dr.setiabudi no.1\n",
      "- MUHAMMAD ILHAM di Jl Pinang Raya No A14\n",
      "- DIDI WAHYUDI di JL.PINANG\n",
      "\n",
      "Grup 4 - 2 merchant:\n",
      "- PANGKALAN RUDY di Jl. Surya Kencana\n",
      "- RIKI PERTAMA SAKTI di JL. SURYA KENCANA NO. 12A\n",
      "\n",
      "Grup 5 - 15 merchant:\n",
      "- TOKO BIN DAUD 2 di Palapa raya no. 88\n",
      "- Ajat sudrajat di Jl alpukat no 32\n",
      "- Agus alit wijaya di Jl garuda blok E37 ni 20\n",
      "- JEMMY PUTRA di Jalan anta sena blok X1 no 9\n",
      "- MADIN di Kp. Buaran\n",
      "- Suharti di Jl. Cilenggang rt.001/001\n",
      "- AJUDIN di Kp babakan\n",
      "- WARUNG AAN di Kp. Rawa buntu\n",
      "- LPG_STEFHANY di ALAMANDA L NO 16\n",
      "- Kusuma di Jl.pinus raya ruko RDA 5\n",
      "- SURYA FANDI di Kp baru utara\n",
      "- LPG_liana di Jl rawa kutuk no 27\n",
      "- WANDI di Kp dongkal\n",
      "- LPG_IRENG MAULANA di JL.MUTIARA\n",
      "- SUHENDI di Kp babakan\n",
      "\n",
      "Grup 6 - 3 merchant:\n",
      "- WARUNG YADI di Jl buaran no 4-B\n",
      "- M. ARDIANSYAH di Jl lengkong Wetan no 38\n",
      "- GUNAWAN TRATAMA di Kp. Baru utara\n",
      "\n",
      "Grup 7 - 2 merchant:\n",
      "- BERKAH MANDIRI di Kampung babakan kelapa 2 rt 04 rw 04\n",
      "- TOKO BOSZ GAS di Kp babakan\n",
      "\n",
      "Grup 8 - 2 merchant:\n",
      "- ROJIYAH di Bukit pamulang indah B14 no7\n",
      "- DIAH CIPTA RASA di Bukit Pamulang indah B14/7\n",
      "\n",
      "Grup 9 - 2 merchant:\n",
      "- ASNAJA di Kp Setu Viktor\n",
      "- ASEP TRIWIDIYANTO di Kp baru asih\n",
      "\n",
      "Grup 10 - 2 merchant:\n",
      "- TOKO ABID AZRIL di Kp buaran\n",
      "- TOKO BERKAH ANDINDA di JL. H. Jamat, RT.002/005, Kp. Jati Buaran serpong, tangerang selatan\n",
      "\n",
      "Grup 11 - 15 merchant:\n",
      "- KRIS MADONA AZIS di JL KEBON DUREN RT 003 / RW 013\n",
      "- ZAKARIA S di JL OTISTA SASAK TINGGI RT 001/ RW 011\n",
      "- IDA WAHYUNI di Jl KH Dewantoro RT.01 RW.04 Kel. Ciputat\n",
      "- PANGKALAN GAS CIVITA di Jl KH Dewantoro RT.03 RW.03 Kel. Ciputat\n",
      "- TOKO FAHRI di Jln Rawa lele Rt.005 RW.07\n",
      "- RESTU IBU di Jl kh dewantoro\n",
      "- BINTANG TERANG di JLN KP BUARAN RT 004 RW 002\n",
      "- LPG_Santiwidiyasari di Jl parung benying\n",
      "- BAROKAH IN di Jln kp. Buaran no 49\n",
      "- TOKO CEMPAKA di JLN. WR SUPRATMAN RT 002 RW.009\n",
      "- TITIN HERAWATI di Jln. Kp utan\n",
      "- TOKO MAM ERNA di Jln. H tuin no. 29 A\n",
      "- ANWAR di JL. KERTAMUKTI PISANGAN\n",
      "- LIES KUSTIANA di Jl kerosin blok k5\n",
      "- TOKO LUBIS di Jln H toran rT 005 rw.01\n",
      "\n",
      "Grup 12 - 2 merchant:\n",
      "- MAJU MAPAN di Jl. Buaran Barat\n",
      "- SAND DELIVERY di Jl buaran barat raya no 3\n",
      "\n",
      "Grup 13 - 2 merchant:\n",
      "- DUA PUTRA BAROKAH di Ciater Barat\n",
      "- TOKO TIRTA JAYA di Ciater barat\n",
      "\n",
      "Grup 14 - 2 merchant:\n",
      "- SUKIMAN di JALAN TALAS III\n",
      "- TK Harapan di Jl talas 3\n",
      "\n",
      "Grup 15 - 7 merchant:\n",
      "- PANGKALAN GAS 828 di Komp batan\n",
      "- MUSLIKHATUN di Jl. H. Madsyari No. 72\n",
      "- Rahma Dwijayanti di Jln. H. Mansyur\n",
      "- TOKO ABDUL AZIZ di Jl hk sengkol\n",
      "- Jasinan Adiyatna di Kp.sengkol\n",
      "- FIRDAUS GAS di Jl. HK Sengkol\n",
      "- TK. Purnomo di Jl pondok aries\n",
      "\n",
      "Grup 16 - 3 merchant:\n",
      "- FERUZI di Jalan lele raya bambu apus\n",
      "- INDRA TRI BOWO di Jl Lele Kp. Ciledug\n",
      "- TATANG di Jl lele kp ciledug rt 006/rw005\n",
      "\n",
      "Grup 17 - 5 merchant:\n",
      "- LPG_Deas anita di kp kademangan\n",
      "- CHOLIFAHTUN MAHMUDAH di Kp.Kademangan\n",
      "- NENENG NUNUNG di Kp.Kademangan\n",
      "- Brenda, Ms di Kp.Kademangan\n",
      "- SUTIKAH di Kp.kademangan rt.001/003\n",
      "\n",
      "Grup 18 - 2 merchant:\n",
      "- SETYA PURNAMA di JL BUKIT CIREUNDEU A.3/15\n",
      "- DONNY IMANULLAH di JL PONDOK CABE IV\n",
      "\n",
      "Grup 19 - 3 merchant:\n",
      "- MARINA di JL. CIMANDIRI VI\n",
      "- AQILA GAS di Jl Cimandiri\n",
      "- LPG_ABDUL MANAP di JL. CIMANDIRI RT 05 RW 05\n",
      "\n",
      "Grup 20 - 2 merchant:\n",
      "- TOKO FIRDA di Jln talas II RT.003 rw.01\n",
      "- SITI ZUHRIYA di Jl.talas 2\n",
      "\n",
      "Grup 21 - 2 merchant:\n",
      "- Toko Ikhlas di Jl alam asri raya blok k.55 vila Dago\n",
      "- BERKAH TAJIR ABADI di Jl. Alam asri raya Blok K\n",
      "\n",
      "Grup 22 - 4 merchant:\n",
      "- AGUS di Jl. Cilenggang Iii\n",
      "- DEDE di Jl Roda Hias RT 05 RW 02\n",
      "- OUTLET AGEN PT. SARANA PRATAMA MAKMUR ABADI di Jl raya serpong no 114\n",
      "- HIDAYATULLAH di Kp kranggan\n",
      "\n",
      "Grup 23 - 4 merchant:\n",
      "- RAHMI JAYA di Kp. Buaran RT.002/006 Kel. Buaran Kec. Serpong\n",
      "- PANGKALAN GAS ALI SODIKIN di K0 serpong\n",
      "- Tita Ananda Fatmana di Kp.serpong\n",
      "- LPG_Marlilin di Kp. Serpong RT.001/001 No. 1A\n",
      "\n",
      "Grup 24 - 2 merchant:\n",
      "- NUR WAGIANTO di Jl. Cirendeu Indah 2 NO 5\n",
      "- SURAHMAN di Jalan lombok 06/17\n",
      "\n",
      "Grup 25 - 7 merchant:\n",
      "- TOKO ALIVIA di Gardu\n",
      "- TOKO RA'SUL di Jl h saran\n",
      "- TOKO SEGAR di Kp jati\n",
      "- MUHAMMAD RAFLY ANANDYKA EKOPUTRA di JL. H JAMAT\n",
      "- EPI di Jalan Baru\n",
      "- JENAL di Kp.Jombang\n",
      "- BUDI MULYA di Kp JOMBANG\n",
      "\n",
      "Grup 26 - 8 merchant:\n",
      "- NASRUDIN di Jl lelev V\n",
      "- ALIH di Jl. H. Rean\n",
      "- BEBY di Jl. H Rean\n",
      "- AMARY GAS di Jl ciledug barat rt.004/ rw 001\n",
      "- SELVON JAYA di Jl. Abdul aziz, kp bulak barat\n",
      "- EVI GAS & WATER di Jl. Sumber hidup No.69\n",
      "- LILIS SURYANI di Jl. Lobak\n",
      "- DWI WIBOWO di jl kentang RT 04 RW 07 no 105\n",
      "\n",
      "Grup 27 - 3 merchant:\n",
      "- TOKO ALZA di Jl. Legoso Raya\n",
      "- NURHAYATI di Jl legeso raya\n",
      "- TOKO WINARTI di Jl Legoso raya no 74\n",
      "\n",
      "Grup 28 - 5 merchant:\n",
      "- HAKIM GAS di Jl Oscar raya no.101B\n",
      "- B JOHNNY GANDARETA, SH di Jl h rean no 92\n",
      "- AN NUUR di Jl graha indah 2\n",
      "- MAWA BERKAH di Jl h sala no 23\n",
      "- SEGAL BEWARA di GANG HAJI MANAFE\n",
      "\n",
      "Grup 29 - 4 merchant:\n",
      "- TOKO CIATER JAYA di Kp ciater tengah\n",
      "- CATUR ANDI SUTRISNO di Jl. Ciater\n",
      "- MIA GAS di Kp. Ciater tengah\n",
      "- LPG_Anita di Jl.raya Ciater barat\n",
      "\n",
      "Grup 30 - 2 merchant:\n",
      "- ANUGRAH MAS di Jl. Nusa Indah kav 446\n",
      "- BNI di Jl. Nusa indah Kav AA6\n",
      "\n",
      "Grup 31 - 2 merchant:\n",
      "- CILENGGANG GAS di Jl cilenggang 1\n",
      "- RESMININGSIH di Jl. Cilenggang 1\n",
      "\n",
      "Grup 32 - 5 merchant:\n",
      "- MAMAN di Jl. Ir. H. Juanda No. 06\n",
      "- DEDY ARIYANTO di Jl. Otista Raya No. 51\n",
      "- Windiarti di Kp.Cilalung\n",
      "- TOKO MAS ATTO di Kp. Gunung\n",
      "- PANGKALAN UGI di KP. GUNUNG\n",
      "\n",
      "Grup 33 - 3 merchant:\n",
      "- HADI di Jl Raya Serpong GG Roda Hias\n",
      "- TETI di KP SERPONG\n",
      "- MUKTIADI di JL.KP Serpong\n",
      "\n",
      "Grup 34 - 2 merchant:\n",
      "- SUKONO di JL MUSYAWARAH NO 128\n",
      "- FAJAR PRASETIO di JL MUSYAWARAH NO 88\n",
      "\n",
      "Grup 35 - 2 merchant:\n",
      "- ASSYIFFA JAYA di Jl astek Lengkong gudang\n",
      "- RAMI di jl lengkong gudang timur kel. lengkong gudang timur, kec.Serpong\n",
      "\n",
      "Grup 36 - 2 merchant:\n",
      "- ANTONY ELSBT di Jlan kesatriaan no2 B\n",
      "- ELISABET di Jln kesatriaan no2 B\n",
      "\n",
      "Grup 37 - 2 merchant:\n",
      "- Raja Garuda Gas di Lequty Cluster Minimalis Blok D no 3\n",
      "- Anto Maju Berkat di Jl. Raya astek no 69\n",
      "\n",
      "Grup 38 - 3 merchant:\n",
      "- TIGA ADHIGANA PRAKASA di Jl. WR. Supratman, Cemp. Putih\n",
      "- TOKO SURPLUS di Jl wr. Supratman no 51\n",
      "- TIRNO KSTM di Jl. Wr Supratman Rt.07 rw.06\n",
      "\n",
      "Grup 39 - 2 merchant:\n",
      "- Toko afifah di GG Bintaro no. 127 lengkong Wetan rt.002/009\n",
      "- TOKO BERKAH ABADI di Lengkong wetan no. 87\n",
      "\n",
      "Grup 40 - 2 merchant:\n",
      "- Hadi Setiawan di Jl. Bintaro Utama 3 Blok AP No. 67\n",
      "- KOJEG BERKAH di Jalan Masjid Baiturachim No 04\n",
      "\n",
      "Grup 41 - 3 merchant:\n",
      "- PANGKALAN VIA JAYA SEJAHTERA di JLN. KEBON KOPI\n",
      "- ZULKIFLI AHMAD di Jln kebun kopi\n",
      "- DANI di Jl Kebon kopi RT.004 RW.04\n",
      "\n",
      "Grup 42 - 5 merchant:\n",
      "- FATHUR GAS di KP LIO\n",
      "- TOKO TRIWITA BAROKAH di JL. H. SAPRI KAV .1 No.37\n",
      "- MADIH di Kp. Pladen\n",
      "- PANGKALAN GAS PONDOK AREN di Jl. Raya Prima samping apotiksumber berkat\n",
      "- AMELIA di Jl. Karya Usaha No. 37\n",
      "\n",
      "Grup 43 - 2 merchant:\n",
      "- JAMAL di Jl Ceger Raya no. 59 rt 002 rw 001\n",
      "- RONNY HIMAWAN S. di Jl. Ceger Raya No. 57 Rt. 2/Rw. 1\n",
      "\n",
      "Grup 44 - 2 merchant:\n",
      "- SUTANTO di Kp pondok aren rt005/02\n",
      "- SARIP di Kebon Manggis\n",
      "\n",
      "Grup 45 - 7 merchant:\n",
      "- FARIZ FAUZI di JL. PERTANIAN RT.002/021\n",
      "- DALMINI di JL. H. SARMAH\n",
      "- SARIPUDIN di Jl. Rawa bunga IX no. 26\n",
      "- YESSI ANGRAINI di Jl. H. Sarmah\n",
      "- TOKO TABURIN di Jl perumahan maharta 6 , blok A, ruko nomer 1\n",
      "- ZELEVEN di JL. HJ. SARMAH\n",
      "- MULYADI di JL. CAMAT\n",
      "\n",
      "Grup 46 - 2 merchant:\n",
      "- ANDRA di JL. AREN II NO.37, PD. BETUNG\n",
      "- MANDIRI JAYA 1 di KP. PONDOK AREN JL. AREN II NO.5\n",
      "\n",
      "Grup 47 - 2 merchant:\n",
      "- TK. Sadelih di Jl ujung kenari\n",
      "- BAROKAH JAYA di Jln. Ujung kenari RT.003 RW.08\n",
      "\n",
      "Grup 48 - 3 merchant:\n",
      "- SAGITA di Jalan Baru Selatan\n",
      "- GAS YANDI di Jalan Gang Mawi RT 003 RW 002\n",
      "- TITIN di Jalan Bhayangkara I\n",
      "\n",
      "Grup 49 - 2 merchant:\n",
      "- DENI SUTISNA di Jl. Pondok Kacang Barat\n",
      "- SEPTIANI TRI ASTUTI di Jl. Pondok Kacang Barat\n",
      "\n",
      "Grup 50 - 3 merchant:\n",
      "- LIVIA GAS di KP. BUARAN\n",
      "- ENI GAS di Kamurang atas\n",
      "- LPG_Herman di Kamurang Atas RT. 002/001\n",
      "\n",
      "Grup 51 - 11 merchant:\n",
      "- Yuliharto Faisal di Pondok Cipayung Mas Jl. Gelatik Blok E No.5 Tangerang Selatan\n",
      "- NANI WIJAYA di Jl. Bukit Seruaraya, Ruko Grand Serpong Blok A No. 7\n",
      "- RATNAWATI di Jl Suka Mulya IV Blok F 24\n",
      "- SOLIHATUN di Jln garuda\n",
      "- ANGGI AHMAD GOZALI di Jl Lele Raya\n",
      "- ARA DEWIYA RAHMI di Jl Lele Ciledug\n",
      "- LPG_SUMARZI di JL LELE RAYA NO 10\n",
      "- LPG_FAISAL GOZI di JL LELE NO 134\n",
      "- SAEPULLOH di Jl kemiri gang pelita no 33\n",
      "- GAS PODJOK di Jl. Kayu Manis Pd. Cabe Raya\n",
      "- 31 154 01 di Jl Raya Bintaro Sektor IX\n",
      "\n",
      "Statistik Koordinat:\n",
      "\n",
      "Latitude:\n",
      "count    1088.000000\n",
      "mean       -6.301837\n",
      "std         0.046868\n",
      "min        -6.394739\n",
      "25%        -6.332581\n",
      "50%        -6.309482\n",
      "75%        -6.271254\n",
      "max        -6.000000\n",
      "Name: Latitude, dtype: float64\n",
      "\n",
      "Longitude:\n",
      "count    1088.000000\n",
      "mean      106.715906\n",
      "std         0.042782\n",
      "min       106.573849\n",
      "25%       106.688393\n",
      "50%       106.715007\n",
      "75%       106.740033\n",
      "max       107.000000\n",
      "Name: Longitude, dtype: float64\n",
      "\n",
      "Ditemukan 176 data dengan koordinat di luar wilayah Tangerang Selatan\n",
      "Data tersebut telah disimpan ke koordinat_out_of_bounds.csv\n"
     ]
    }
   ],
   "source": [
    "import pandas as pd\n",
    "import numpy as np\n",
    "\n",
    "def analyze_duplicate_coordinates():\n",
    "    \"\"\"\n",
    "    Menganalisis koordinat duplikat dari dataset yang telah diupdate\n",
    "    \"\"\"\n",
    "    try:\n",
    "        # Baca file hasil update\n",
    "        df = pd.read_csv('merchants_tangsel_updated.csv', \n",
    "                        sep=';',\n",
    "                        encoding='utf-8',\n",
    "                        on_bad_lines='warn')\n",
    "        \n",
    "        print(\"\\n=== ANALISIS KOORDINAT DUPLIKAT ===\")\n",
    "        print(f\"Total data: {len(df)}\")\n",
    "        \n",
    "        # Bersihkan data koordinat\n",
    "        df['Koordinat'] = df['Koordinat'].astype(str).str.replace('\"', '').str.strip()\n",
    "        \n",
    "        # Pisahkan koordinat menjadi latitude dan longitude\n",
    "        df[['Latitude', 'Longitude']] = df['Koordinat'].str.split(',', expand=True)\n",
    "        \n",
    "        # Bersihkan nilai latitude dan longitude\n",
    "        df['Latitude'] = df['Latitude'].str.replace(r'[^\\d.-]', '', regex=True)\n",
    "        df['Longitude'] = df['Longitude'].str.replace(r'[^\\d.-]', '', regex=True)\n",
    "        \n",
    "        # Konversi ke float\n",
    "        df['Latitude'] = pd.to_numeric(df['Latitude'], errors='coerce')\n",
    "        df['Longitude'] = pd.to_numeric(df['Longitude'], errors='coerce')\n",
    "        \n",
    "        # Identifikasi data dengan koordinat valid\n",
    "        valid_coords = df[df['Latitude'].notna() & df['Longitude'].notna()].copy()\n",
    "        print(f\"\\nData dengan koordinat valid: {len(valid_coords)}\")\n",
    "        \n",
    "        # Round koordinat ke 6 desimal untuk menghindari perbedaan kecil\n",
    "        valid_coords['Latitude'] = valid_coords['Latitude'].round(6)\n",
    "        valid_coords['Longitude'] = valid_coords['Longitude'].round(6)\n",
    "        \n",
    "        # Cari koordinat duplikat\n",
    "        duplicate_mask = valid_coords.duplicated(subset=['Latitude', 'Longitude'], keep=False)\n",
    "        duplicates = valid_coords[duplicate_mask].sort_values(['Latitude', 'Longitude'])\n",
    "        \n",
    "        print(f\"\\nDitemukan {len(duplicates)} data dengan koordinat duplikat\")\n",
    "        \n",
    "        if len(duplicates) > 0:\n",
    "            # Tambahkan kolom untuk menunjukkan grup duplikat\n",
    "            duplicates['Duplicate_Group'] = duplicates.groupby(['Latitude', 'Longitude']).ngroup() + 1\n",
    "            \n",
    "            # Tampilkan contoh duplikat\n",
    "            print(\"\\nContoh data duplikat:\")\n",
    "            print(duplicates[['Kecamatan', 'Kelurahan', 'Nama Pemilik', 'Alamat', 'Latitude', 'Longitude', 'Duplicate_Group']].head())\n",
    "            \n",
    "            # Hitung statistik duplikat\n",
    "            duplicate_stats = duplicates.groupby(['Latitude', 'Longitude']).size().value_counts()\n",
    "            print(\"\\nStatistik duplikat:\")\n",
    "            print(\"Jumlah koordinat yang muncul beberapa kali:\")\n",
    "            print(duplicate_stats)\n",
    "            \n",
    "            # Simpan data duplikat ke file\n",
    "            duplicates.to_csv('koordinat_duplikat.csv', sep=';', index=False)\n",
    "            print(\"\\nData koordinat duplikat telah disimpan ke koordinat_duplikat.csv\")\n",
    "            \n",
    "            # Analisis jarak antar merchant dengan koordinat sama\n",
    "            print(\"\\nAnalisis merchant dengan koordinat sama:\")\n",
    "            for group in duplicates['Duplicate_Group'].unique():\n",
    "                group_data = duplicates[duplicates['Duplicate_Group'] == group]\n",
    "                print(f\"\\nGrup {group} - {len(group_data)} merchant:\")\n",
    "                for idx, row in group_data.iterrows():\n",
    "                    print(f\"- {row['Nama Pemilik']} di {row['Alamat']}\")\n",
    "        \n",
    "        # Tampilkan statistik tambahan\n",
    "        print(\"\\nStatistik Koordinat:\")\n",
    "        print(\"\\nLatitude:\")\n",
    "        print(valid_coords['Latitude'].describe())\n",
    "        print(\"\\nLongitude:\")\n",
    "        print(valid_coords['Longitude'].describe())\n",
    "        \n",
    "        # Cek range koordinat yang valid untuk wilayah Tangerang Selatan\n",
    "        # Approximate bounding box for Tangerang Selatan\n",
    "        tangsel_bounds = {\n",
    "            'lat_min': -6.35,\n",
    "            'lat_max': -6.25,\n",
    "            'lon_min': 106.65,\n",
    "            'lon_max': 106.85\n",
    "        }\n",
    "        \n",
    "        out_of_bounds = valid_coords[\n",
    "            (valid_coords['Latitude'] < tangsel_bounds['lat_min']) |\n",
    "            (valid_coords['Latitude'] > tangsel_bounds['lat_max']) |\n",
    "            (valid_coords['Longitude'] < tangsel_bounds['lon_min']) |\n",
    "            (valid_coords['Longitude'] > tangsel_bounds['lon_max'])\n",
    "        ]\n",
    "        \n",
    "        if len(out_of_bounds) > 0:\n",
    "            print(f\"\\nDitemukan {len(out_of_bounds)} data dengan koordinat di luar wilayah Tangerang Selatan\")\n",
    "            out_of_bounds.to_csv('koordinat_out_of_bounds.csv', sep=';', index=False)\n",
    "            print(\"Data tersebut telah disimpan ke koordinat_out_of_bounds.csv\")\n",
    "        \n",
    "    except Exception as e:\n",
    "        print(f\"Error dalam analisis data: {str(e)}\")\n",
    "\n",
    "if __name__ == \"__main__\":\n",
    "    analyze_duplicate_coordinates()"
   ]
  },
  {
   "cell_type": "code",
   "execution_count": 1,
   "id": "d42312d5-ef21-4975-ba75-cc733b17385d",
   "metadata": {},
   "outputs": [
    {
     "name": "stdout",
     "output_type": "stream",
     "text": [
      "\n",
      "=== ANALISIS DAN UPDATE KOORDINAT DUPLIKAT ===\n",
      "Total data: 1088\n",
      "\n",
      "Ditemukan 197 data dengan koordinat duplikat\n",
      "\n",
      "Memulai proses update koordinat duplikat...\n",
      "\n",
      "Mengupdate koordinat untuk grup -6.378458, 106.703565\n",
      "Jumlah alamat berbeda: 10\n",
      "\n",
      "Alamat berbeda ditemukan:\n",
      "Original: Jl suka Mulya 1\n",
      "Perlu diupdate: Jl.raya puspitek\n"
     ]
    },
    {
     "name": "stderr",
     "output_type": "stream",
     "text": [
      "Status code 403 from https://nominatim.openstreetmap.org/search: ERROR - 403 Client Error: Forbidden for url: https://nominatim.openstreetmap.org/search?q=Jalanraya+puspitek%2C+SERPONG%2C+Tangerang+Selatan%2C+Banten%2C+Indonesia&format=jsonv2&addressdetails=1&limit=1\n"
     ]
    },
    {
     "name": "stdout",
     "output_type": "stream",
     "text": [
      "Error with bing: Provide API Key\n",
      "Berhasil update: -6.313423460465434, 106.660501996923\n",
      "\n",
      "Alamat berbeda ditemukan:\n",
      "Original: Jl suka Mulya 1\n",
      "Perlu diupdate: Kp.rawa macek\n"
     ]
    },
    {
     "name": "stderr",
     "output_type": "stream",
     "text": [
      "Status code 403 from https://nominatim.openstreetmap.org/search: ERROR - 403 Client Error: Forbidden for url: https://nominatim.openstreetmap.org/search?q=Kp.rawa+macek%2C+SERPONG%2C+Tangerang+Selatan%2C+Banten%2C+Indonesia&format=jsonv2&addressdetails=1&limit=1\n"
     ]
    },
    {
     "name": "stdout",
     "output_type": "stream",
     "text": [
      "Error with bing: Provide API Key\n",
      "Berhasil update: -6.3189062, 106.6683414\n",
      "\n",
      "Alamat berbeda ditemukan:\n",
      "Original: Jl suka Mulya 1\n",
      "Perlu diupdate: Ruko versailles blok fb no 18 sektor 1-6\n"
     ]
    },
    {
     "name": "stderr",
     "output_type": "stream",
     "text": [
      "Status code 403 from https://nominatim.openstreetmap.org/search: ERROR - 403 Client Error: Forbidden for url: https://nominatim.openstreetmap.org/search?q=Ruko+versailles+blok+fb+no+18+sektor+1-6%2C+SERPONG%2C+Tangerang+Selatan%2C+Banten%2C+Indonesia&format=jsonv2&addressdetails=1&limit=1\n"
     ]
    },
    {
     "name": "stdout",
     "output_type": "stream",
     "text": [
      "Error with bing: Provide API Key\n",
      "Berhasil update: -6.307862213024805, 106.67360110519155\n",
      "\n",
      "Alamat berbeda ditemukan:\n",
      "Original: Jl suka Mulya 1\n",
      "Perlu diupdate: Jelupang utama no 100\n"
     ]
    },
    {
     "name": "stderr",
     "output_type": "stream",
     "text": [
      "Status code 403 from https://nominatim.openstreetmap.org/search: ERROR - 403 Client Error: Forbidden for url: https://nominatim.openstreetmap.org/search?q=Jelupang+utama+no+100%2C+SERPONG+UTARA%2C+Tangerang+Selatan%2C+Banten%2C+Indonesia&format=jsonv2&addressdetails=1&limit=1\n"
     ]
    },
    {
     "name": "stdout",
     "output_type": "stream",
     "text": [
      "Error with bing: Provide API Key\n",
      "Berhasil update: -6.2603694601277144, 106.67197909951291\n",
      "\n",
      "Alamat berbeda ditemukan:\n",
      "Original: Jl suka Mulya 1\n",
      "Perlu diupdate: Kp.babakan\n"
     ]
    },
    {
     "name": "stderr",
     "output_type": "stream",
     "text": [
      "Status code 403 from https://nominatim.openstreetmap.org/search: ERROR - 403 Client Error: Forbidden for url: https://nominatim.openstreetmap.org/search?q=Kp.babakan%2C+SETU%2C+Tangerang+Selatan%2C+Banten%2C+Indonesia&format=jsonv2&addressdetails=1&limit=1\n"
     ]
    },
    {
     "name": "stdout",
     "output_type": "stream",
     "text": [
      "Error with bing: Provide API Key\n",
      "Berhasil update: -6.3492989, 106.6966405\n"
     ]
    },
    {
     "name": "stderr",
     "output_type": "stream",
     "text": [
      "Status code 403 from https://nominatim.openstreetmap.org/search: ERROR - 403 Client Error: Forbidden for url: https://nominatim.openstreetmap.org/search?q=Kp.babakan%2C+SETU%2C+Tangerang+Selatan%2C+Banten%2C+Indonesia&format=jsonv2&addressdetails=1&limit=1\n"
     ]
    },
    {
     "name": "stdout",
     "output_type": "stream",
     "text": [
      "Error with bing: Provide API Key\n",
      "Berhasil update: -6.3492989, 106.6966405\n",
      "\n",
      "Alamat berbeda ditemukan:\n",
      "Original: Jl suka Mulya 1\n",
      "Perlu diupdate: Jl. Amd Babakan pocis DS bakti jaya\n"
     ]
    },
    {
     "name": "stderr",
     "output_type": "stream",
     "text": [
      "Status code 403 from https://nominatim.openstreetmap.org/search: ERROR - 403 Client Error: Forbidden for url: https://nominatim.openstreetmap.org/search?q=Jalan+Amd+Babakan+pocis+DS+bakti+jaya%2C+SETU%2C+Tangerang+Selatan%2C+Banten%2C+Indonesia&format=jsonv2&addressdetails=1&limit=1\n"
     ]
    },
    {
     "name": "stdout",
     "output_type": "stream",
     "text": [
      "Error with bing: Provide API Key\n",
      "Berhasil update: -6.3478271985322685, 106.70130241632565\n",
      "\n",
      "Alamat berbeda ditemukan:\n",
      "Original: Jl suka Mulya 1\n",
      "Perlu diupdate: Perumahan amara pura bok 3 no 6\n"
     ]
    },
    {
     "name": "stderr",
     "output_type": "stream",
     "text": [
      "Status code 403 from https://nominatim.openstreetmap.org/search: ERROR - 403 Client Error: Forbidden for url: https://nominatim.openstreetmap.org/search?q=Perumahan+amara+pura+bok+3+no+6%2C+SETU%2C+Tangerang+Selatan%2C+Banten%2C+Indonesia&format=jsonv2&addressdetails=1&limit=1\n"
     ]
    },
    {
     "name": "stdout",
     "output_type": "stream",
     "text": [
      "Error with bing: Provide API Key\n",
      "Berhasil update: -6.340755315656196, 106.66741878104739\n",
      "\n",
      "Alamat berbeda ditemukan:\n",
      "Original: Jl suka Mulya 1\n",
      "Perlu diupdate: Perum amara pura blok 3 no 4\n"
     ]
    },
    {
     "name": "stderr",
     "output_type": "stream",
     "text": [
      "Status code 403 from https://nominatim.openstreetmap.org/search: ERROR - 403 Client Error: Forbidden for url: https://nominatim.openstreetmap.org/search?q=Perum+amara+pura+blok+3+no+4%2C+SETU%2C+Tangerang+Selatan%2C+Banten%2C+Indonesia&format=jsonv2&addressdetails=1&limit=1\n"
     ]
    },
    {
     "name": "stdout",
     "output_type": "stream",
     "text": [
      "Error with bing: Provide API Key\n",
      "Berhasil update: -6.340755315656196, 106.66741878104739\n",
      "\n",
      "Alamat berbeda ditemukan:\n",
      "Original: Jl suka Mulya 1\n",
      "Perlu diupdate: KOMP. Puri Serpong blok d 1 no 19\n"
     ]
    },
    {
     "name": "stderr",
     "output_type": "stream",
     "text": [
      "Status code 403 from https://nominatim.openstreetmap.org/search: ERROR - 403 Client Error: Forbidden for url: https://nominatim.openstreetmap.org/search?q=KOMP.+Puri+Serpong+blok+d+1+no+19%2C+SETU%2C+Tangerang+Selatan%2C+Banten%2C+Indonesia&format=jsonv2&addressdetails=1&limit=1\n"
     ]
    },
    {
     "name": "stdout",
     "output_type": "stream",
     "text": [
      "Error with bing: Provide API Key\n",
      "Berhasil update: -6.352845917620158, 106.68545403829097\n",
      "\n",
      "Mengupdate koordinat untuk grup -6.353632, 106.740142\n",
      "Jumlah alamat berbeda: 4\n",
      "\n",
      "Alamat berbeda ditemukan:\n",
      "Original: Jl pinang, Gg likik\n",
      "Perlu diupdate: Griya Pinang Jl.dr.setiabudi no.1\n"
     ]
    },
    {
     "name": "stderr",
     "output_type": "stream",
     "text": [
      "Status code 403 from https://nominatim.openstreetmap.org/search: ERROR - 403 Client Error: Forbidden for url: https://nominatim.openstreetmap.org/search?q=Griya+Pinang+Jalandr.setiabudi+no.1%2C+PAMULANG%2C+Tangerang+Selatan%2C+Banten%2C+Indonesia&format=jsonv2&addressdetails=1&limit=1\n"
     ]
    },
    {
     "name": "stdout",
     "output_type": "stream",
     "text": [
      "Error with bing: Provide API Key\n",
      "Berhasil update: -6.353631507617187, 106.74014181766236\n",
      "\n",
      "Alamat berbeda ditemukan:\n",
      "Original: Jl pinang, Gg likik\n",
      "Perlu diupdate: Jl Pinang Raya No A14\n"
     ]
    },
    {
     "name": "stderr",
     "output_type": "stream",
     "text": [
      "Status code 403 from https://nominatim.openstreetmap.org/search: ERROR - 403 Client Error: Forbidden for url: https://nominatim.openstreetmap.org/search?q=Jalan+Pinang+Raya+No+A14%2C+PAMULANG%2C+Tangerang+Selatan%2C+Banten%2C+Indonesia&format=jsonv2&addressdetails=1&limit=1\n"
     ]
    },
    {
     "name": "stdout",
     "output_type": "stream",
     "text": [
      "Error with bing: Provide API Key\n",
      "Berhasil update: -6.353631507617187, 106.74014181766236\n",
      "\n",
      "Alamat berbeda ditemukan:\n",
      "Original: Jl pinang, Gg likik\n",
      "Perlu diupdate: JL.PINANG\n"
     ]
    },
    {
     "name": "stderr",
     "output_type": "stream",
     "text": [
      "Status code 403 from https://nominatim.openstreetmap.org/search: ERROR - 403 Client Error: Forbidden for url: https://nominatim.openstreetmap.org/search?q=JalanPINANG%2C+PAMULANG%2C+Tangerang+Selatan%2C+Banten%2C+Indonesia&format=jsonv2&addressdetails=1&limit=1\n"
     ]
    },
    {
     "name": "stdout",
     "output_type": "stream",
     "text": [
      "Error with bing: Provide API Key\n",
      "Berhasil update: -6.353631507617187, 106.74014181766236\n",
      "\n",
      "Mengupdate koordinat untuk grup -6.352401, 106.734224\n",
      "Jumlah alamat berbeda: 2\n",
      "\n",
      "Alamat berbeda ditemukan:\n",
      "Original: Jl. Surya Kencana\n",
      "Perlu diupdate: JL. SURYA KENCANA NO. 12A\n"
     ]
    },
    {
     "name": "stderr",
     "output_type": "stream",
     "text": [
      "Status code 403 from https://nominatim.openstreetmap.org/search: ERROR - 403 Client Error: Forbidden for url: https://nominatim.openstreetmap.org/search?q=Jalan+SURYA+KENCANA+NO.+12A%2C+PAMULANG%2C+Tangerang+Selatan%2C+Banten%2C+Indonesia&format=jsonv2&addressdetails=1&limit=1\n"
     ]
    },
    {
     "name": "stdout",
     "output_type": "stream",
     "text": [
      "Error with bing: Provide API Key\n",
      "Berhasil update: -6.352401265062388, 106.73422417162952\n",
      "\n",
      "Mengupdate koordinat untuk grup -6.350594, 106.690103\n",
      "Jumlah alamat berbeda: 14\n",
      "\n",
      "Alamat berbeda ditemukan:\n",
      "Original: Palapa raya no. 88\n",
      "Perlu diupdate: Jl alpukat no 32\n"
     ]
    },
    {
     "name": "stderr",
     "output_type": "stream",
     "text": [
      "Status code 403 from https://nominatim.openstreetmap.org/search: ERROR - 403 Client Error: Forbidden for url: https://nominatim.openstreetmap.org/search?q=Jalan+alpukat+no+32%2C+PAMULANG%2C+Tangerang+Selatan%2C+Banten%2C+Indonesia&format=jsonv2&addressdetails=1&limit=1\n"
     ]
    },
    {
     "name": "stdout",
     "output_type": "stream",
     "text": [
      "Error with bing: Provide API Key\n",
      "Berhasil update: -6.270473099439627, 106.66623508868099\n",
      "\n",
      "Alamat berbeda ditemukan:\n",
      "Original: Palapa raya no. 88\n",
      "Perlu diupdate: Jl garuda blok E37 ni 20\n"
     ]
    },
    {
     "name": "stderr",
     "output_type": "stream",
     "text": [
      "Status code 403 from https://nominatim.openstreetmap.org/search: ERROR - 403 Client Error: Forbidden for url: https://nominatim.openstreetmap.org/search?q=Jalan+garuda+blok+E37+ni+20%2C+PAMULANG%2C+Tangerang+Selatan%2C+Banten%2C+Indonesia&format=jsonv2&addressdetails=1&limit=1\n"
     ]
    },
    {
     "name": "stdout",
     "output_type": "stream",
     "text": [
      "Error with bing: Provide API Key\n",
      "Berhasil update: -6.324690239429679, 106.715983700243\n",
      "\n",
      "Alamat berbeda ditemukan:\n",
      "Original: Palapa raya no. 88\n",
      "Perlu diupdate: Jalan anta sena blok X1 no 9\n"
     ]
    },
    {
     "name": "stderr",
     "output_type": "stream",
     "text": [
      "Status code 403 from https://nominatim.openstreetmap.org/search: ERROR - 403 Client Error: Forbidden for url: https://nominatim.openstreetmap.org/search?q=Jalan+anta+sena+blok+X1+no+9%2C+PAMULANG%2C+Tangerang+Selatan%2C+Banten%2C+Indonesia&format=jsonv2&addressdetails=1&limit=1\n"
     ]
    },
    {
     "name": "stdout",
     "output_type": "stream",
     "text": [
      "Error with bing: Provide API Key\n",
      "Berhasil update: -6.3562040852178825, 106.72966212347598\n",
      "\n",
      "Alamat berbeda ditemukan:\n",
      "Original: Palapa raya no. 88\n",
      "Perlu diupdate: Kp. Buaran\n"
     ]
    },
    {
     "name": "stderr",
     "output_type": "stream",
     "text": [
      "Status code 403 from https://nominatim.openstreetmap.org/search: ERROR - 403 Client Error: Forbidden for url: https://nominatim.openstreetmap.org/search?q=Kp.+Buaran%2C+SERPONG%2C+Tangerang+Selatan%2C+Banten%2C+Indonesia&format=jsonv2&addressdetails=1&limit=1\n"
     ]
    },
    {
     "name": "stdout",
     "output_type": "stream",
     "text": [
      "Error with bing: Provide API Key\n",
      "Berhasil update: -6.3378002, 106.6989848\n",
      "\n",
      "Alamat berbeda ditemukan:\n",
      "Original: Palapa raya no. 88\n",
      "Perlu diupdate: Jl. Cilenggang rt.001/001\n"
     ]
    },
    {
     "name": "stderr",
     "output_type": "stream",
     "text": [
      "Status code 403 from https://nominatim.openstreetmap.org/search: ERROR - 403 Client Error: Forbidden for url: https://nominatim.openstreetmap.org/search?q=Jalan+Cilenggang+rt.001%2F001%2C+SERPONG%2C+Tangerang+Selatan%2C+Banten%2C+Indonesia&format=jsonv2&addressdetails=1&limit=1\n"
     ]
    },
    {
     "name": "stdout",
     "output_type": "stream",
     "text": [
      "Error with bing: Provide API Key\n",
      "Berhasil update: -6.3053977, 106.6654002\n",
      "\n",
      "Alamat berbeda ditemukan:\n",
      "Original: Palapa raya no. 88\n",
      "Perlu diupdate: Kp babakan\n"
     ]
    },
    {
     "name": "stderr",
     "output_type": "stream",
     "text": [
      "Status code 403 from https://nominatim.openstreetmap.org/search: ERROR - 403 Client Error: Forbidden for url: https://nominatim.openstreetmap.org/search?q=Kp+babakan%2C+SERPONG%2C+Tangerang+Selatan%2C+Banten%2C+Indonesia&format=jsonv2&addressdetails=1&limit=1\n"
     ]
    },
    {
     "name": "stdout",
     "output_type": "stream",
     "text": [
      "Error with bing: Provide API Key\n",
      "Berhasil update: -6.3492989, 106.6966405\n"
     ]
    },
    {
     "name": "stderr",
     "output_type": "stream",
     "text": [
      "Status code 403 from https://nominatim.openstreetmap.org/search: ERROR - 403 Client Error: Forbidden for url: https://nominatim.openstreetmap.org/search?q=Kp+babakan%2C+SETU%2C+Tangerang+Selatan%2C+Banten%2C+Indonesia&format=jsonv2&addressdetails=1&limit=1\n"
     ]
    },
    {
     "name": "stdout",
     "output_type": "stream",
     "text": [
      "Error with bing: Provide API Key\n",
      "Berhasil update: -6.3492989, 106.6966405\n",
      "\n",
      "Alamat berbeda ditemukan:\n",
      "Original: Palapa raya no. 88\n",
      "Perlu diupdate: Kp. Rawa buntu\n"
     ]
    },
    {
     "name": "stderr",
     "output_type": "stream",
     "text": [
      "Status code 403 from https://nominatim.openstreetmap.org/search: ERROR - 403 Client Error: Forbidden for url: https://nominatim.openstreetmap.org/search?q=Kp.+Rawa+buntu%2C+SERPONG%2C+Tangerang+Selatan%2C+Banten%2C+Indonesia&format=jsonv2&addressdetails=1&limit=1\n"
     ]
    },
    {
     "name": "stdout",
     "output_type": "stream",
     "text": [
      "Error with bing: Provide API Key\n",
      "Berhasil update: -6.3109442, 106.678405\n",
      "\n",
      "Alamat berbeda ditemukan:\n",
      "Original: Palapa raya no. 88\n",
      "Perlu diupdate: ALAMANDA L NO 16\n"
     ]
    },
    {
     "name": "stderr",
     "output_type": "stream",
     "text": [
      "Status code 403 from https://nominatim.openstreetmap.org/search: ERROR - 403 Client Error: Forbidden for url: https://nominatim.openstreetmap.org/search?q=ALAMANDA+L+NO+16%2C+SERPONG%2C+Tangerang+Selatan%2C+Banten%2C+Indonesia&format=jsonv2&addressdetails=1&limit=1\n"
     ]
    },
    {
     "name": "stdout",
     "output_type": "stream",
     "text": [
      "Error with bing: Provide API Key\n",
      "Berhasil update: -6.302805997572278, 106.68128496347055\n",
      "\n",
      "Alamat berbeda ditemukan:\n",
      "Original: Palapa raya no. 88\n",
      "Perlu diupdate: Jl.pinus raya ruko RDA 5\n"
     ]
    },
    {
     "name": "stderr",
     "output_type": "stream",
     "text": [
      "Status code 403 from https://nominatim.openstreetmap.org/search: ERROR - 403 Client Error: Forbidden for url: https://nominatim.openstreetmap.org/search?q=Jalanpinus+raya+ruko+RDA+5%2C+SERPONG%2C+Tangerang+Selatan%2C+Banten%2C+Indonesia&format=jsonv2&addressdetails=1&limit=1\n"
     ]
    },
    {
     "name": "stdout",
     "output_type": "stream",
     "text": [
      "Error with bing: Provide API Key\n",
      "Berhasil update: -6.307751697631431, 106.68218165947223\n",
      "\n",
      "Alamat berbeda ditemukan:\n",
      "Original: Palapa raya no. 88\n",
      "Perlu diupdate: Kp baru utara\n"
     ]
    },
    {
     "name": "stderr",
     "output_type": "stream",
     "text": [
      "Status code 403 from https://nominatim.openstreetmap.org/search: ERROR - 403 Client Error: Forbidden for url: https://nominatim.openstreetmap.org/search?q=Kp+baru+utara%2C+SERPONG+UTARA%2C+Tangerang+Selatan%2C+Banten%2C+Indonesia&format=jsonv2&addressdetails=1&limit=1\n"
     ]
    },
    {
     "name": "stdout",
     "output_type": "stream",
     "text": [
      "Error with bing: Provide API Key\n",
      "Berhasil update: -6.2455771, 106.6751195\n",
      "\n",
      "Alamat berbeda ditemukan:\n",
      "Original: Palapa raya no. 88\n",
      "Perlu diupdate: Jl rawa kutuk no 27\n"
     ]
    },
    {
     "name": "stderr",
     "output_type": "stream",
     "text": [
      "Status code 403 from https://nominatim.openstreetmap.org/search: ERROR - 403 Client Error: Forbidden for url: https://nominatim.openstreetmap.org/search?q=Jalan+rawa+kutuk+no+27%2C+SERPONG+UTARA%2C+Tangerang+Selatan%2C+Banten%2C+Indonesia&format=jsonv2&addressdetails=1&limit=1\n"
     ]
    },
    {
     "name": "stdout",
     "output_type": "stream",
     "text": [
      "Error with bing: Provide API Key\n",
      "Berhasil update: -6.253333909555025, 106.66758759257738\n",
      "\n",
      "Alamat berbeda ditemukan:\n",
      "Original: Palapa raya no. 88\n",
      "Perlu diupdate: Kp dongkal\n"
     ]
    },
    {
     "name": "stderr",
     "output_type": "stream",
     "text": [
      "Status code 403 from https://nominatim.openstreetmap.org/search: ERROR - 403 Client Error: Forbidden for url: https://nominatim.openstreetmap.org/search?q=Kp+dongkal%2C+SERPONG+UTARA%2C+Tangerang+Selatan%2C+Banten%2C+Indonesia&format=jsonv2&addressdetails=1&limit=1\n"
     ]
    },
    {
     "name": "stdout",
     "output_type": "stream",
     "text": [
      "Error with bing: Provide API Key\n",
      "Berhasil update: -6.2455771, 106.6751195\n",
      "\n",
      "Alamat berbeda ditemukan:\n",
      "Original: Palapa raya no. 88\n",
      "Perlu diupdate: JL.MUTIARA\n"
     ]
    },
    {
     "name": "stderr",
     "output_type": "stream",
     "text": [
      "Status code 403 from https://nominatim.openstreetmap.org/search: ERROR - 403 Client Error: Forbidden for url: https://nominatim.openstreetmap.org/search?q=JalanMUTIARA%2C+SERPONG+UTARA%2C+Tangerang+Selatan%2C+Banten%2C+Indonesia&format=jsonv2&addressdetails=1&limit=1\n"
     ]
    },
    {
     "name": "stdout",
     "output_type": "stream",
     "text": [
      "Error with bing: Provide API Key\n",
      "Berhasil update: -6.250689502384616, 106.66545611149998\n",
      "\n",
      "Mengupdate koordinat untuk grup -6.350526, 106.689223\n",
      "Jumlah alamat berbeda: 3\n",
      "\n",
      "Alamat berbeda ditemukan:\n",
      "Original: Jl buaran no 4-B\n",
      "Perlu diupdate: Jl lengkong Wetan no 38\n"
     ]
    },
    {
     "name": "stderr",
     "output_type": "stream",
     "text": [
      "Status code 403 from https://nominatim.openstreetmap.org/search: ERROR - 403 Client Error: Forbidden for url: https://nominatim.openstreetmap.org/search?q=Jalan+lengkong+Wetan+no+38%2C+SERPONG+UTARA%2C+Tangerang+Selatan%2C+Banten%2C+Indonesia&format=jsonv2&addressdetails=1&limit=1\n"
     ]
    },
    {
     "name": "stdout",
     "output_type": "stream",
     "text": [
      "Error with bing: Provide API Key\n",
      "Berhasil update: -6.278412705903172, 106.66322630393651\n",
      "\n",
      "Alamat berbeda ditemukan:\n",
      "Original: Jl buaran no 4-B\n",
      "Perlu diupdate: Kp. Baru utara\n"
     ]
    },
    {
     "name": "stderr",
     "output_type": "stream",
     "text": [
      "Status code 403 from https://nominatim.openstreetmap.org/search: ERROR - 403 Client Error: Forbidden for url: https://nominatim.openstreetmap.org/search?q=Kp.+Baru+utara%2C+SERPONG+UTARA%2C+Tangerang+Selatan%2C+Banten%2C+Indonesia&format=jsonv2&addressdetails=1&limit=1\n"
     ]
    },
    {
     "name": "stdout",
     "output_type": "stream",
     "text": [
      "Error with bing: Provide API Key\n",
      "Berhasil update: -6.2455771, 106.6751195\n",
      "\n",
      "Mengupdate koordinat untuk grup -6.349299, 106.69664\n",
      "Jumlah alamat berbeda: 2\n",
      "\n",
      "Alamat berbeda ditemukan:\n",
      "Original: Kampung babakan kelapa 2 rt 04 rw 04\n",
      "Perlu diupdate: Kp babakan\n"
     ]
    },
    {
     "name": "stderr",
     "output_type": "stream",
     "text": [
      "Status code 403 from https://nominatim.openstreetmap.org/search: ERROR - 403 Client Error: Forbidden for url: https://nominatim.openstreetmap.org/search?q=Kp+babakan%2C+SETU%2C+Tangerang+Selatan%2C+Banten%2C+Indonesia&format=jsonv2&addressdetails=1&limit=1\n"
     ]
    },
    {
     "name": "stdout",
     "output_type": "stream",
     "text": [
      "Error with bing: Provide API Key\n",
      "Berhasil update: -6.3492989, 106.6966405\n",
      "\n",
      "Mengupdate koordinat untuk grup -6.348911, 106.739348\n",
      "Jumlah alamat berbeda: 2\n",
      "\n",
      "Alamat berbeda ditemukan:\n",
      "Original: Bukit pamulang indah B14 no7\n",
      "Perlu diupdate: Bukit Pamulang indah B14/7\n"
     ]
    },
    {
     "name": "stderr",
     "output_type": "stream",
     "text": [
      "Status code 403 from https://nominatim.openstreetmap.org/search: ERROR - 403 Client Error: Forbidden for url: https://nominatim.openstreetmap.org/search?q=Bukit+Pamulang+indah+B14%2F7%2C+PAMULANG%2C+Tangerang+Selatan%2C+Banten%2C+Indonesia&format=jsonv2&addressdetails=1&limit=1\n"
     ]
    },
    {
     "name": "stdout",
     "output_type": "stream",
     "text": [
      "Error with bing: Provide API Key\n",
      "Berhasil update: -6.348910907445898, 106.73934799932846\n",
      "\n",
      "Mengupdate koordinat untuk grup -6.348469, 106.671322\n",
      "Jumlah alamat berbeda: 2\n",
      "\n",
      "Alamat berbeda ditemukan:\n",
      "Original: Kp Setu Viktor\n",
      "Perlu diupdate: Kp baru asih\n"
     ]
    },
    {
     "name": "stderr",
     "output_type": "stream",
     "text": [
      "Status code 403 from https://nominatim.openstreetmap.org/search: ERROR - 403 Client Error: Forbidden for url: https://nominatim.openstreetmap.org/search?q=Kp+baru+asih%2C+SETU%2C+Tangerang+Selatan%2C+Banten%2C+Indonesia&format=jsonv2&addressdetails=1&limit=1\n"
     ]
    },
    {
     "name": "stdout",
     "output_type": "stream",
     "text": [
      "Error with bing: Provide API Key\n",
      "Berhasil update: -6.34623, 106.668952\n",
      "\n",
      "Mengupdate koordinat untuk grup -6.3378, 106.698985\n",
      "Jumlah alamat berbeda: 2\n",
      "\n",
      "Alamat berbeda ditemukan:\n",
      "Original: Kp buaran\n",
      "Perlu diupdate: JL. H. Jamat, RT.002/005, Kp. Jati Buaran serpong, tangerang selatan\n"
     ]
    },
    {
     "name": "stderr",
     "output_type": "stream",
     "text": [
      "Status code 403 from https://nominatim.openstreetmap.org/search: ERROR - 403 Client Error: Forbidden for url: https://nominatim.openstreetmap.org/search?q=Jalan+H.+Jamat%2C+Kp.+Jati+Buaran+serpong%2C+tangerang+selatan%2C+SERPONG%2C+Tangerang+Selatan%2C+Banten%2C+Indonesia&format=jsonv2&addressdetails=1&limit=1\n"
     ]
    },
    {
     "name": "stdout",
     "output_type": "stream",
     "text": [
      "Error with bing: Provide API Key\n",
      "Berhasil update: -6.3378002, 106.6989848\n",
      "\n",
      "Mengupdate koordinat untuk grup -6.337608, 106.753381\n",
      "Jumlah alamat berbeda: 15\n",
      "\n",
      "Alamat berbeda ditemukan:\n",
      "Original: JL KEBON DUREN RT 003 / RW 013\n",
      "Perlu diupdate: JL OTISTA SASAK TINGGI RT 001/ RW 011\n"
     ]
    },
    {
     "name": "stderr",
     "output_type": "stream",
     "text": [
      "Status code 403 from https://nominatim.openstreetmap.org/search: ERROR - 403 Client Error: Forbidden for url: https://nominatim.openstreetmap.org/search?q=Jalan+OTISTA+SASAK+TINGGI+001%2F+011%2C+CIPUTAT%2C+Tangerang+Selatan%2C+Banten%2C+Indonesia&format=jsonv2&addressdetails=1&limit=1\n"
     ]
    },
    {
     "name": "stdout",
     "output_type": "stream",
     "text": [
      "Error with bing: Provide API Key\n",
      "Berhasil update: -6.337608473864829, 106.75338063640724\n",
      "\n",
      "Alamat berbeda ditemukan:\n",
      "Original: JL KEBON DUREN RT 003 / RW 013\n",
      "Perlu diupdate: Jl KH Dewantoro RT.01 RW.04 Kel. Ciputat\n"
     ]
    },
    {
     "name": "stderr",
     "output_type": "stream",
     "text": [
      "Status code 403 from https://nominatim.openstreetmap.org/search: ERROR - 403 Client Error: Forbidden for url: https://nominatim.openstreetmap.org/search?q=Jalan+KH+Dewantoro+Kel.+Ciputat%2C+CIPUTAT%2C+Tangerang+Selatan%2C+Banten%2C+Indonesia&format=jsonv2&addressdetails=1&limit=1\n"
     ]
    },
    {
     "name": "stdout",
     "output_type": "stream",
     "text": [
      "Error with bing: Provide API Key\n",
      "Berhasil update: -6.337608473864829, 106.75338063640724\n",
      "\n",
      "Alamat berbeda ditemukan:\n",
      "Original: JL KEBON DUREN RT 003 / RW 013\n",
      "Perlu diupdate: Jl KH Dewantoro RT.03 RW.03 Kel. Ciputat\n"
     ]
    },
    {
     "name": "stderr",
     "output_type": "stream",
     "text": [
      "Status code 403 from https://nominatim.openstreetmap.org/search: ERROR - 403 Client Error: Forbidden for url: https://nominatim.openstreetmap.org/search?q=Jalan+KH+Dewantoro+Kel.+Ciputat%2C+CIPUTAT%2C+Tangerang+Selatan%2C+Banten%2C+Indonesia&format=jsonv2&addressdetails=1&limit=1\n"
     ]
    },
    {
     "name": "stdout",
     "output_type": "stream",
     "text": [
      "Error with bing: Provide API Key\n",
      "Berhasil update: -6.337608473864829, 106.75338063640724\n",
      "\n",
      "Alamat berbeda ditemukan:\n",
      "Original: JL KEBON DUREN RT 003 / RW 013\n",
      "Perlu diupdate: Jln Rawa lele Rt.005 RW.07\n"
     ]
    },
    {
     "name": "stderr",
     "output_type": "stream",
     "text": [
      "Status code 403 from https://nominatim.openstreetmap.org/search: ERROR - 403 Client Error: Forbidden for url: https://nominatim.openstreetmap.org/search?q=Jln+Rawa+lele+Rt.005%2C+CIPUTAT%2C+Tangerang+Selatan%2C+Banten%2C+Indonesia&format=jsonv2&addressdetails=1&limit=1\n"
     ]
    },
    {
     "name": "stdout",
     "output_type": "stream",
     "text": [
      "Error with bing: Provide API Key\n",
      "Berhasil update: -6.337608473864829, 106.75338063640724\n",
      "\n",
      "Alamat berbeda ditemukan:\n",
      "Original: JL KEBON DUREN RT 003 / RW 013\n",
      "Perlu diupdate: Jl kh dewantoro\n"
     ]
    },
    {
     "name": "stderr",
     "output_type": "stream",
     "text": [
      "Status code 403 from https://nominatim.openstreetmap.org/search: ERROR - 403 Client Error: Forbidden for url: https://nominatim.openstreetmap.org/search?q=Jalan+kh+dewantoro%2C+CIPUTAT%2C+Tangerang+Selatan%2C+Banten%2C+Indonesia&format=jsonv2&addressdetails=1&limit=1\n"
     ]
    },
    {
     "name": "stdout",
     "output_type": "stream",
     "text": [
      "Error with bing: Provide API Key\n",
      "Berhasil update: -6.337608473864829, 106.75338063640724\n",
      "\n",
      "Alamat berbeda ditemukan:\n",
      "Original: JL KEBON DUREN RT 003 / RW 013\n",
      "Perlu diupdate: JLN KP BUARAN RT 004 RW 002\n"
     ]
    },
    {
     "name": "stderr",
     "output_type": "stream",
     "text": [
      "Status code Unknown from https://nominatim.openstreetmap.org/search: ERROR - HTTPSConnectionPool(host='nominatim.openstreetmap.org', port=443): Max retries exceeded with url: /search?q=JLN+KP+BUARAN+004+002%2C+CIPUTAT%2C+Tangerang+Selatan%2C+Banten%2C+Indonesia&format=jsonv2&addressdetails=1&limit=1 (Caused by ConnectTimeoutError(<urllib3.connection.HTTPSConnection object at 0x000001A96AF2B680>, 'Connection to nominatim.openstreetmap.org timed out. (connect timeout=5.0)'))\n"
     ]
    },
    {
     "name": "stdout",
     "output_type": "stream",
     "text": [
      "Error with bing: Provide API Key\n",
      "Berhasil update: -6.337608473864829, 106.75338063640724\n",
      "\n",
      "Alamat berbeda ditemukan:\n",
      "Original: JL KEBON DUREN RT 003 / RW 013\n",
      "Perlu diupdate: Jl parung benying\n"
     ]
    },
    {
     "name": "stderr",
     "output_type": "stream",
     "text": [
      "Status code 403 from https://nominatim.openstreetmap.org/search: ERROR - 403 Client Error: Forbidden for url: https://nominatim.openstreetmap.org/search?q=Jalan+parung+benying%2C+CIPUTAT%2C+Tangerang+Selatan%2C+Banten%2C+Indonesia&format=jsonv2&addressdetails=1&limit=1\n"
     ]
    },
    {
     "name": "stdout",
     "output_type": "stream",
     "text": [
      "Error with bing: Provide API Key\n",
      "Berhasil update: -6.337608473864829, 106.75338063640724\n",
      "\n",
      "Alamat berbeda ditemukan:\n",
      "Original: JL KEBON DUREN RT 003 / RW 013\n",
      "Perlu diupdate: Jln kp. Buaran no 49\n"
     ]
    },
    {
     "name": "stderr",
     "output_type": "stream",
     "text": [
      "Status code 403 from https://nominatim.openstreetmap.org/search: ERROR - 403 Client Error: Forbidden for url: https://nominatim.openstreetmap.org/search?q=Jln+kp.+Buaran+no+49%2C+CIPUTAT%2C+Tangerang+Selatan%2C+Banten%2C+Indonesia&format=jsonv2&addressdetails=1&limit=1\n"
     ]
    },
    {
     "name": "stdout",
     "output_type": "stream",
     "text": [
      "Error with bing: Provide API Key\n",
      "Berhasil update: -6.337608473864829, 106.75338063640724\n",
      "\n",
      "Alamat berbeda ditemukan:\n",
      "Original: JL KEBON DUREN RT 003 / RW 013\n",
      "Perlu diupdate: JLN. WR SUPRATMAN RT 002 RW.009\n"
     ]
    },
    {
     "name": "stderr",
     "output_type": "stream",
     "text": [
      "Status code 403 from https://nominatim.openstreetmap.org/search: ERROR - 403 Client Error: Forbidden for url: https://nominatim.openstreetmap.org/search?q=JLN.+WR+SUPRATMAN+002%2C+CIPUTAT+TIMUR%2C+Tangerang+Selatan%2C+Banten%2C+Indonesia&format=jsonv2&addressdetails=1&limit=1\n"
     ]
    },
    {
     "name": "stdout",
     "output_type": "stream",
     "text": [
      "Error with bing: Provide API Key\n",
      "Berhasil update: -6.337608473864829, 106.75338063640724\n",
      "\n",
      "Alamat berbeda ditemukan:\n",
      "Original: JL KEBON DUREN RT 003 / RW 013\n",
      "Perlu diupdate: Jln. Kp utan\n"
     ]
    },
    {
     "name": "stderr",
     "output_type": "stream",
     "text": [
      "Status code 403 from https://nominatim.openstreetmap.org/search: ERROR - 403 Client Error: Forbidden for url: https://nominatim.openstreetmap.org/search?q=Jln.+Kp+utan%2C+CIPUTAT+TIMUR%2C+Tangerang+Selatan%2C+Banten%2C+Indonesia&format=jsonv2&addressdetails=1&limit=1\n"
     ]
    },
    {
     "name": "stdout",
     "output_type": "stream",
     "text": [
      "Error with bing: Provide API Key\n",
      "Berhasil update: -6.337608473864829, 106.75338063640724\n",
      "\n",
      "Alamat berbeda ditemukan:\n",
      "Original: JL KEBON DUREN RT 003 / RW 013\n",
      "Perlu diupdate: Jln. H tuin no. 29 A\n"
     ]
    },
    {
     "name": "stderr",
     "output_type": "stream",
     "text": [
      "Status code 403 from https://nominatim.openstreetmap.org/search: ERROR - 403 Client Error: Forbidden for url: https://nominatim.openstreetmap.org/search?q=Jln.+H+tuin+no.+29+A%2C+CIPUTAT+TIMUR%2C+Tangerang+Selatan%2C+Banten%2C+Indonesia&format=jsonv2&addressdetails=1&limit=1\n"
     ]
    },
    {
     "name": "stdout",
     "output_type": "stream",
     "text": [
      "Error with bing: Provide API Key\n",
      "Berhasil update: -6.337608473864829, 106.75338063640724\n",
      "\n",
      "Alamat berbeda ditemukan:\n",
      "Original: JL KEBON DUREN RT 003 / RW 013\n",
      "Perlu diupdate: JL. KERTAMUKTI PISANGAN\n"
     ]
    },
    {
     "name": "stderr",
     "output_type": "stream",
     "text": [
      "Status code 403 from https://nominatim.openstreetmap.org/search: ERROR - 403 Client Error: Forbidden for url: https://nominatim.openstreetmap.org/search?q=Jalan+PISANGAN%2C+CIPUTAT+TIMUR%2C+Tangerang+Selatan%2C+Banten%2C+Indonesia&format=jsonv2&addressdetails=1&limit=1\n"
     ]
    },
    {
     "name": "stdout",
     "output_type": "stream",
     "text": [
      "Error with bing: Provide API Key\n",
      "Berhasil update: -6.337608473864829, 106.75338063640724\n",
      "\n",
      "Alamat berbeda ditemukan:\n",
      "Original: JL KEBON DUREN RT 003 / RW 013\n",
      "Perlu diupdate: Jl kerosin blok k5\n"
     ]
    },
    {
     "name": "stderr",
     "output_type": "stream",
     "text": [
      "Status code 403 from https://nominatim.openstreetmap.org/search: ERROR - 403 Client Error: Forbidden for url: https://nominatim.openstreetmap.org/search?q=Jalan+kerosin+blok+k5%2C+CIPUTAT+TIMUR%2C+Tangerang+Selatan%2C+Banten%2C+Indonesia&format=jsonv2&addressdetails=1&limit=1\n"
     ]
    },
    {
     "name": "stdout",
     "output_type": "stream",
     "text": [
      "Error with bing: Provide API Key\n",
      "Berhasil update: -6.337608473864829, 106.75338063640724\n",
      "\n",
      "Alamat berbeda ditemukan:\n",
      "Original: JL KEBON DUREN RT 003 / RW 013\n",
      "Perlu diupdate: Jln H toran rT 005 rw.01\n"
     ]
    },
    {
     "name": "stderr",
     "output_type": "stream",
     "text": [
      "Status code 403 from https://nominatim.openstreetmap.org/search: ERROR - 403 Client Error: Forbidden for url: https://nominatim.openstreetmap.org/search?q=Jln+H+toran+rT+005+rw.01%2C+CIPUTAT+TIMUR%2C+Tangerang+Selatan%2C+Banten%2C+Indonesia&format=jsonv2&addressdetails=1&limit=1\n"
     ]
    },
    {
     "name": "stdout",
     "output_type": "stream",
     "text": [
      "Error with bing: Provide API Key\n",
      "Berhasil update: -6.337608473864829, 106.75338063640724\n",
      "\n",
      "Mengupdate koordinat untuk grup -6.337061, 106.686833\n",
      "Jumlah alamat berbeda: 2\n",
      "\n",
      "Alamat berbeda ditemukan:\n",
      "Original: Jl. Buaran Barat\n",
      "Perlu diupdate: Jl buaran barat raya no 3\n"
     ]
    },
    {
     "name": "stderr",
     "output_type": "stream",
     "text": [
      "Status code 403 from https://nominatim.openstreetmap.org/search: ERROR - 403 Client Error: Forbidden for url: https://nominatim.openstreetmap.org/search?q=Jalan+buaran+barat+raya+no+3%2C+SERPONG+UTARA%2C+Tangerang+Selatan%2C+Banten%2C+Indonesia&format=jsonv2&addressdetails=1&limit=1\n"
     ]
    },
    {
     "name": "stdout",
     "output_type": "stream",
     "text": [
      "Error with bing: Provide API Key\n",
      "Berhasil update: -6.337060846218316, 106.68683262721832\n",
      "\n",
      "Mengupdate koordinat untuk grup -6.336298, 106.686882\n",
      "Jumlah alamat berbeda: 2\n",
      "\n",
      "Alamat berbeda ditemukan:\n",
      "Original: Ciater Barat\n",
      "Perlu diupdate: Ciater barat\n"
     ]
    },
    {
     "name": "stderr",
     "output_type": "stream",
     "text": [
      "Status code 403 from https://nominatim.openstreetmap.org/search: ERROR - 403 Client Error: Forbidden for url: https://nominatim.openstreetmap.org/search?q=Ciater+barat%2C+SERPONG%2C+Tangerang+Selatan%2C+Banten%2C+Indonesia&format=jsonv2&addressdetails=1&limit=1\n"
     ]
    },
    {
     "name": "stdout",
     "output_type": "stream",
     "text": [
      "Error with bing: Provide API Key\n",
      "Berhasil update: -6.336298013714485, 106.68688150253581\n",
      "\n",
      "Mengupdate koordinat untuk grup -6.334255, 106.7608\n",
      "Jumlah alamat berbeda: 2\n",
      "\n",
      "Alamat berbeda ditemukan:\n",
      "Original: JALAN TALAS III\n",
      "Perlu diupdate: Jl talas 3\n"
     ]
    },
    {
     "name": "stderr",
     "output_type": "stream",
     "text": [
      "Status code 403 from https://nominatim.openstreetmap.org/search: ERROR - 403 Client Error: Forbidden for url: https://nominatim.openstreetmap.org/search?q=Jalan+talas+3%2C+PAMULANG%2C+Tangerang+Selatan%2C+Banten%2C+Indonesia&format=jsonv2&addressdetails=1&limit=1\n"
     ]
    },
    {
     "name": "stdout",
     "output_type": "stream",
     "text": [
      "Error with bing: Provide API Key\n",
      "Berhasil update: -6.334254613986169, 106.7607999666597\n",
      "\n",
      "Mengupdate koordinat untuk grup -6.33296, 106.677083\n",
      "Jumlah alamat berbeda: 7\n",
      "\n",
      "Alamat berbeda ditemukan:\n",
      "Original: Komp batan\n",
      "Perlu diupdate: Jl. H. Madsyari No. 72\n"
     ]
    },
    {
     "name": "stderr",
     "output_type": "stream",
     "text": [
      "Status code 403 from https://nominatim.openstreetmap.org/search: ERROR - 403 Client Error: Forbidden for url: https://nominatim.openstreetmap.org/search?q=Jalan+H.+Madsyari+No.+72%2C+SETU%2C+Tangerang+Selatan%2C+Banten%2C+Indonesia&format=jsonv2&addressdetails=1&limit=1\n"
     ]
    },
    {
     "name": "stdout",
     "output_type": "stream",
     "text": [
      "Error with bing: Provide API Key\n",
      "Berhasil update: -6.3329602, 106.6770834\n",
      "\n",
      "Alamat berbeda ditemukan:\n",
      "Original: Komp batan\n",
      "Perlu diupdate: Jln. H. Mansyur\n"
     ]
    },
    {
     "name": "stderr",
     "output_type": "stream",
     "text": [
      "Status code 403 from https://nominatim.openstreetmap.org/search: ERROR - 403 Client Error: Forbidden for url: https://nominatim.openstreetmap.org/search?q=Jln.+H.+Mansyur%2C+SETU%2C+Tangerang+Selatan%2C+Banten%2C+Indonesia&format=jsonv2&addressdetails=1&limit=1\n"
     ]
    },
    {
     "name": "stdout",
     "output_type": "stream",
     "text": [
      "Error with bing: Provide API Key\n",
      "Berhasil update: -6.3329602, 106.6770834\n",
      "\n",
      "Alamat berbeda ditemukan:\n",
      "Original: Komp batan\n",
      "Perlu diupdate: Jl hk sengkol\n"
     ]
    },
    {
     "name": "stderr",
     "output_type": "stream",
     "text": [
      "Status code 403 from https://nominatim.openstreetmap.org/search: ERROR - 403 Client Error: Forbidden for url: https://nominatim.openstreetmap.org/search?q=Jalan+hk+sengkol%2C+SETU%2C+Tangerang+Selatan%2C+Banten%2C+Indonesia&format=jsonv2&addressdetails=1&limit=1\n"
     ]
    },
    {
     "name": "stdout",
     "output_type": "stream",
     "text": [
      "Error with bing: Provide API Key\n",
      "Berhasil update: -6.3329602, 106.6770834\n",
      "\n",
      "Alamat berbeda ditemukan:\n",
      "Original: Komp batan\n",
      "Perlu diupdate: Kp.sengkol\n"
     ]
    },
    {
     "name": "stderr",
     "output_type": "stream",
     "text": [
      "Status code 403 from https://nominatim.openstreetmap.org/search: ERROR - 403 Client Error: Forbidden for url: https://nominatim.openstreetmap.org/search?q=Kp.sengkol%2C+SETU%2C+Tangerang+Selatan%2C+Banten%2C+Indonesia&format=jsonv2&addressdetails=1&limit=1\n"
     ]
    },
    {
     "name": "stdout",
     "output_type": "stream",
     "text": [
      "Error with bing: Provide API Key\n",
      "Berhasil update: -6.3329602, 106.6770834\n",
      "\n",
      "Alamat berbeda ditemukan:\n",
      "Original: Komp batan\n",
      "Perlu diupdate: Jl. HK Sengkol\n"
     ]
    },
    {
     "name": "stderr",
     "output_type": "stream",
     "text": [
      "Status code 403 from https://nominatim.openstreetmap.org/search: ERROR - 403 Client Error: Forbidden for url: https://nominatim.openstreetmap.org/search?q=Jalan+HK+Sengkol%2C+SETU%2C+Tangerang+Selatan%2C+Banten%2C+Indonesia&format=jsonv2&addressdetails=1&limit=1\n"
     ]
    },
    {
     "name": "stdout",
     "output_type": "stream",
     "text": [
      "Error with bing: Provide API Key\n",
      "Berhasil update: -6.3329602, 106.6770834\n",
      "\n",
      "Alamat berbeda ditemukan:\n",
      "Original: Komp batan\n",
      "Perlu diupdate: Jl pondok aries\n"
     ]
    },
    {
     "name": "stderr",
     "output_type": "stream",
     "text": [
      "Status code 403 from https://nominatim.openstreetmap.org/search: ERROR - 403 Client Error: Forbidden for url: https://nominatim.openstreetmap.org/search?q=Jalan+pondok+aries%2C+SETU%2C+Tangerang+Selatan%2C+Banten%2C+Indonesia&format=jsonv2&addressdetails=1&limit=1\n"
     ]
    },
    {
     "name": "stdout",
     "output_type": "stream",
     "text": [
      "Error with bing: Provide API Key\n",
      "Berhasil update: -6.3329602, 106.6770834\n",
      "\n",
      "Mengupdate koordinat untuk grup -6.33234, 106.728724\n",
      "Jumlah alamat berbeda: 3\n",
      "\n",
      "Alamat berbeda ditemukan:\n",
      "Original: Jalan lele raya bambu apus\n",
      "Perlu diupdate: Jl Lele Kp. Ciledug\n"
     ]
    },
    {
     "name": "stderr",
     "output_type": "stream",
     "text": [
      "Status code 403 from https://nominatim.openstreetmap.org/search: ERROR - 403 Client Error: Forbidden for url: https://nominatim.openstreetmap.org/search?q=Jalan+Lele+Kp.+Ciledug%2C+PAMULANG%2C+Tangerang+Selatan%2C+Banten%2C+Indonesia&format=jsonv2&addressdetails=1&limit=1\n"
     ]
    },
    {
     "name": "stdout",
     "output_type": "stream",
     "text": [
      "Error with bing: Provide API Key\n",
      "Berhasil update: -6.332340400633365, 106.72872353798854\n",
      "\n",
      "Alamat berbeda ditemukan:\n",
      "Original: Jalan lele raya bambu apus\n",
      "Perlu diupdate: Jl lele kp ciledug rt 006/rw005\n"
     ]
    },
    {
     "name": "stderr",
     "output_type": "stream",
     "text": [
      "Status code 403 from https://nominatim.openstreetmap.org/search: ERROR - 403 Client Error: Forbidden for url: https://nominatim.openstreetmap.org/search?q=Jalan+lele+kp+ciledug+rt+006%2Frw005%2C+PAMULANG%2C+Tangerang+Selatan%2C+Banten%2C+Indonesia&format=jsonv2&addressdetails=1&limit=1\n"
     ]
    },
    {
     "name": "stdout",
     "output_type": "stream",
     "text": [
      "Error with bing: Provide API Key\n",
      "Berhasil update: -6.332340400633365, 106.72872353798854\n",
      "\n",
      "Mengupdate koordinat untuk grup -6.332314, 106.667091\n",
      "Jumlah alamat berbeda: 3\n",
      "\n",
      "Alamat berbeda ditemukan:\n",
      "Original: kp kademangan\n",
      "Perlu diupdate: Kp.Kademangan\n"
     ]
    },
    {
     "name": "stderr",
     "output_type": "stream",
     "text": [
      "Status code 403 from https://nominatim.openstreetmap.org/search: ERROR - 403 Client Error: Forbidden for url: https://nominatim.openstreetmap.org/search?q=Kp.Kademangan%2C+SETU%2C+Tangerang+Selatan%2C+Banten%2C+Indonesia&format=jsonv2&addressdetails=1&limit=1\n"
     ]
    },
    {
     "name": "stdout",
     "output_type": "stream",
     "text": [
      "Error with bing: Provide API Key\n",
      "Berhasil update: -6.3323142, 106.6670913\n"
     ]
    },
    {
     "name": "stderr",
     "output_type": "stream",
     "text": [
      "Status code 403 from https://nominatim.openstreetmap.org/search: ERROR - 403 Client Error: Forbidden for url: https://nominatim.openstreetmap.org/search?q=Kp.Kademangan%2C+SETU%2C+Tangerang+Selatan%2C+Banten%2C+Indonesia&format=jsonv2&addressdetails=1&limit=1\n"
     ]
    },
    {
     "name": "stdout",
     "output_type": "stream",
     "text": [
      "Error with bing: Provide API Key\n",
      "Berhasil update: -6.3323142, 106.6670913\n"
     ]
    },
    {
     "name": "stderr",
     "output_type": "stream",
     "text": [
      "Status code 403 from https://nominatim.openstreetmap.org/search: ERROR - 403 Client Error: Forbidden for url: https://nominatim.openstreetmap.org/search?q=Kp.Kademangan%2C+SETU%2C+Tangerang+Selatan%2C+Banten%2C+Indonesia&format=jsonv2&addressdetails=1&limit=1\n"
     ]
    },
    {
     "name": "stdout",
     "output_type": "stream",
     "text": [
      "Error with bing: Provide API Key\n",
      "Berhasil update: -6.3323142, 106.6670913\n",
      "\n",
      "Alamat berbeda ditemukan:\n",
      "Original: kp kademangan\n",
      "Perlu diupdate: Kp.kademangan rt.001/003\n"
     ]
    },
    {
     "name": "stderr",
     "output_type": "stream",
     "text": [
      "Status code 403 from https://nominatim.openstreetmap.org/search: ERROR - 403 Client Error: Forbidden for url: https://nominatim.openstreetmap.org/search?q=Kp.kademangan+rt.001%2F003%2C+SETU%2C+Tangerang+Selatan%2C+Banten%2C+Indonesia&format=jsonv2&addressdetails=1&limit=1\n"
     ]
    },
    {
     "name": "stdout",
     "output_type": "stream",
     "text": [
      "Error with bing: Provide API Key\n",
      "Berhasil update: -6.3323142, 106.6670913\n",
      "\n",
      "Mengupdate koordinat untuk grup -6.331864, 106.768208\n",
      "Jumlah alamat berbeda: 2\n",
      "\n",
      "Alamat berbeda ditemukan:\n",
      "Original: JL BUKIT CIREUNDEU A.3/15\n",
      "Perlu diupdate: JL PONDOK CABE IV\n"
     ]
    },
    {
     "name": "stderr",
     "output_type": "stream",
     "text": [
      "Status code 403 from https://nominatim.openstreetmap.org/search: ERROR - 403 Client Error: Forbidden for url: https://nominatim.openstreetmap.org/search?q=Jalan+PONDOK+CABE+IV%2C+PAMULANG%2C+Tangerang+Selatan%2C+Banten%2C+Indonesia&format=jsonv2&addressdetails=1&limit=1\n"
     ]
    },
    {
     "name": "stdout",
     "output_type": "stream",
     "text": [
      "Error with bing: Provide API Key\n",
      "Berhasil update: -6.360388137656766, 106.75232482352693\n",
      "\n",
      "Mengupdate koordinat untuk grup -6.331229, 106.755598\n",
      "Jumlah alamat berbeda: 3\n",
      "\n",
      "Alamat berbeda ditemukan:\n",
      "Original: JL. CIMANDIRI VI\n",
      "Perlu diupdate: Jl Cimandiri\n"
     ]
    },
    {
     "name": "stderr",
     "output_type": "stream",
     "text": [
      "Status code 403 from https://nominatim.openstreetmap.org/search: ERROR - 403 Client Error: Forbidden for url: https://nominatim.openstreetmap.org/search?q=Jalan+Cimandiri%2C+CIPUTAT%2C+Tangerang+Selatan%2C+Banten%2C+Indonesia&format=jsonv2&addressdetails=1&limit=1\n"
     ]
    },
    {
     "name": "stdout",
     "output_type": "stream",
     "text": [
      "Error with bing: Provide API Key\n",
      "Berhasil update: -6.331229121855491, 106.75559835058559\n",
      "\n",
      "Alamat berbeda ditemukan:\n",
      "Original: JL. CIMANDIRI VI\n",
      "Perlu diupdate: JL. CIMANDIRI RT 05 RW 05\n"
     ]
    },
    {
     "name": "stderr",
     "output_type": "stream",
     "text": [
      "Status code 403 from https://nominatim.openstreetmap.org/search: ERROR - 403 Client Error: Forbidden for url: https://nominatim.openstreetmap.org/search?q=Jalan+CIMANDIRI+05+05%2C+CIPUTAT%2C+Tangerang+Selatan%2C+Banten%2C+Indonesia&format=jsonv2&addressdetails=1&limit=1\n"
     ]
    },
    {
     "name": "stdout",
     "output_type": "stream",
     "text": [
      "Error with bing: Provide API Key\n",
      "Berhasil update: -6.331229121855491, 106.75559835058559\n",
      "\n",
      "Mengupdate koordinat untuk grup -6.329053, 106.763851\n",
      "Jumlah alamat berbeda: 2\n",
      "\n",
      "Alamat berbeda ditemukan:\n",
      "Original: Jln talas II RT.003 rw.01\n",
      "Perlu diupdate: Jl.talas 2\n"
     ]
    },
    {
     "name": "stderr",
     "output_type": "stream",
     "text": [
      "Status code 403 from https://nominatim.openstreetmap.org/search: ERROR - 403 Client Error: Forbidden for url: https://nominatim.openstreetmap.org/search?q=Jalantalas+2%2C+PAMULANG%2C+Tangerang+Selatan%2C+Banten%2C+Indonesia&format=jsonv2&addressdetails=1&limit=1\n"
     ]
    },
    {
     "name": "stdout",
     "output_type": "stream",
     "text": [
      "Error with bing: Provide API Key\n",
      "Berhasil update: -6.329053178790379, 106.7638510557724\n",
      "\n",
      "Mengupdate koordinat untuk grup -6.328242, 106.714054\n",
      "Jumlah alamat berbeda: 2\n",
      "\n",
      "Alamat berbeda ditemukan:\n",
      "Original: Jl alam asri raya blok k.55 vila Dago\n",
      "Perlu diupdate: Jl. Alam asri raya Blok K\n"
     ]
    },
    {
     "name": "stderr",
     "output_type": "stream",
     "text": [
      "Status code 403 from https://nominatim.openstreetmap.org/search: ERROR - 403 Client Error: Forbidden for url: https://nominatim.openstreetmap.org/search?q=Jalan+Alam+asri+raya+Blok+K%2C+PAMULANG%2C+Tangerang+Selatan%2C+Banten%2C+Indonesia&format=jsonv2&addressdetails=1&limit=1\n"
     ]
    },
    {
     "name": "stdout",
     "output_type": "stream",
     "text": [
      "Error with bing: Provide API Key\n",
      "Berhasil update: -6.3282424357420375, 106.71405428860952\n",
      "\n",
      "Mengupdate koordinat untuk grup -6.325026, 106.66872\n",
      "Jumlah alamat berbeda: 4\n",
      "\n",
      "Alamat berbeda ditemukan:\n",
      "Original: Jl. Cilenggang Iii\n",
      "Perlu diupdate: Jl Roda Hias RT 05 RW 02\n"
     ]
    },
    {
     "name": "stderr",
     "output_type": "stream",
     "text": [
      "Status code 403 from https://nominatim.openstreetmap.org/search: ERROR - 403 Client Error: Forbidden for url: https://nominatim.openstreetmap.org/search?q=Jalan+Roda+Hias+05+02%2C+SERPONG%2C+Tangerang+Selatan%2C+Banten%2C+Indonesia&format=jsonv2&addressdetails=1&limit=1\n"
     ]
    },
    {
     "name": "stdout",
     "output_type": "stream",
     "text": [
      "Error with bing: Provide API Key\n",
      "Berhasil update: -6.297459893998436, 106.73704632871647\n",
      "\n",
      "Alamat berbeda ditemukan:\n",
      "Original: Jl. Cilenggang Iii\n",
      "Perlu diupdate: Jl raya serpong no 114\n"
     ]
    },
    {
     "name": "stderr",
     "output_type": "stream",
     "text": [
      "Status code 403 from https://nominatim.openstreetmap.org/search: ERROR - 403 Client Error: Forbidden for url: https://nominatim.openstreetmap.org/search?q=Jalan+raya+serpong+no+114%2C+SERPONG%2C+Tangerang+Selatan%2C+Banten%2C+Indonesia&format=jsonv2&addressdetails=1&limit=1\n"
     ]
    },
    {
     "name": "stdout",
     "output_type": "stream",
     "text": [
      "Error with bing: Provide API Key\n",
      "Berhasil update: -6.3073221080123165, 106.66284839630858\n",
      "\n",
      "Alamat berbeda ditemukan:\n",
      "Original: Jl. Cilenggang Iii\n",
      "Perlu diupdate: Kp kranggan\n"
     ]
    },
    {
     "name": "stderr",
     "output_type": "stream",
     "text": [
      "Status code 403 from https://nominatim.openstreetmap.org/search: ERROR - 403 Client Error: Forbidden for url: https://nominatim.openstreetmap.org/search?q=Kp+kranggan%2C+SETU%2C+Tangerang+Selatan%2C+Banten%2C+Indonesia&format=jsonv2&addressdetails=1&limit=1\n"
     ]
    },
    {
     "name": "stdout",
     "output_type": "stream",
     "text": [
      "Error with bing: Provide API Key\n",
      "Berhasil update: -6.3393605, 106.655614\n",
      "\n",
      "Mengupdate koordinat untuk grup -6.319929, 106.665818\n",
      "Jumlah alamat berbeda: 4\n",
      "\n",
      "Alamat berbeda ditemukan:\n",
      "Original: Kp. Buaran RT.002/006 Kel. Buaran Kec. Serpong\n",
      "Perlu diupdate: K0 serpong\n"
     ]
    },
    {
     "name": "stderr",
     "output_type": "stream",
     "text": [
      "Status code 403 from https://nominatim.openstreetmap.org/search: ERROR - 403 Client Error: Forbidden for url: https://nominatim.openstreetmap.org/search?q=K0+serpong%2C+SERPONG%2C+Tangerang+Selatan%2C+Banten%2C+Indonesia&format=jsonv2&addressdetails=1&limit=1\n"
     ]
    },
    {
     "name": "stdout",
     "output_type": "stream",
     "text": [
      "Error with bing: Provide API Key\n",
      "Berhasil update: -6.319928566536792, 106.66581833583011\n",
      "\n",
      "Alamat berbeda ditemukan:\n",
      "Original: Kp. Buaran RT.002/006 Kel. Buaran Kec. Serpong\n",
      "Perlu diupdate: Kp.serpong\n"
     ]
    },
    {
     "name": "stderr",
     "output_type": "stream",
     "text": [
      "Status code 403 from https://nominatim.openstreetmap.org/search: ERROR - 403 Client Error: Forbidden for url: https://nominatim.openstreetmap.org/search?q=Kp.serpong%2C+SERPONG%2C+Tangerang+Selatan%2C+Banten%2C+Indonesia&format=jsonv2&addressdetails=1&limit=1\n"
     ]
    },
    {
     "name": "stdout",
     "output_type": "stream",
     "text": [
      "Error with bing: Provide API Key\n",
      "Berhasil update: -6.319928566536792, 106.66581833583011\n",
      "\n",
      "Alamat berbeda ditemukan:\n",
      "Original: Kp. Buaran RT.002/006 Kel. Buaran Kec. Serpong\n",
      "Perlu diupdate: Kp. Serpong RT.001/001 No. 1A\n"
     ]
    },
    {
     "name": "stderr",
     "output_type": "stream",
     "text": [
      "Status code 403 from https://nominatim.openstreetmap.org/search: ERROR - 403 Client Error: Forbidden for url: https://nominatim.openstreetmap.org/search?q=Kp.+Serpong+No.+1A%2C+SERPONG%2C+Tangerang+Selatan%2C+Banten%2C+Indonesia&format=jsonv2&addressdetails=1&limit=1\n"
     ]
    },
    {
     "name": "stdout",
     "output_type": "stream",
     "text": [
      "Error with bing: Provide API Key\n",
      "Berhasil update: -6.319928566536792, 106.66581833583011\n",
      "\n",
      "Mengupdate koordinat untuk grup -6.319616, 106.774455\n",
      "Jumlah alamat berbeda: 2\n",
      "\n",
      "Alamat berbeda ditemukan:\n",
      "Original: Jl. Cirendeu Indah 2 NO 5\n",
      "Perlu diupdate: Jalan lombok 06/17\n"
     ]
    },
    {
     "name": "stderr",
     "output_type": "stream",
     "text": [
      "Status code 403 from https://nominatim.openstreetmap.org/search: ERROR - 403 Client Error: Forbidden for url: https://nominatim.openstreetmap.org/search?q=Jalan+lombok+06%2F17%2C+PAMULANG%2C+Tangerang+Selatan%2C+Banten%2C+Indonesia&format=jsonv2&addressdetails=1&limit=1\n"
     ]
    },
    {
     "name": "stdout",
     "output_type": "stream",
     "text": [
      "Error with bing: Provide API Key\n"
     ]
    },
    {
     "name": "stderr",
     "output_type": "stream",
     "text": [
      "Status code Unknown from https://geocode.arcgis.com/arcgis/rest/services/World/GeocodeServer/find: ERROR - HTTPSConnectionPool(host='geocode.arcgis.com', port=443): Read timed out. (read timeout=5.0)\n"
     ]
    },
    {
     "name": "stdout",
     "output_type": "stream",
     "text": [
      "Gagal mendapatkan koordinat baru untuk: Jalan lombok 06/17\n",
      "\n",
      "Mengupdate koordinat untuk grup -6.318906, 106.668341\n",
      "Jumlah alamat berbeda: 7\n",
      "\n",
      "Alamat berbeda ditemukan:\n",
      "Original: Gardu\n",
      "Perlu diupdate: Jl h saran\n"
     ]
    },
    {
     "name": "stderr",
     "output_type": "stream",
     "text": [
      "Status code 403 from https://nominatim.openstreetmap.org/search: ERROR - 403 Client Error: Forbidden for url: https://nominatim.openstreetmap.org/search?q=Jalan+h+saran%2C+SERPONG%2C+Tangerang+Selatan%2C+Banten%2C+Indonesia&format=jsonv2&addressdetails=1&limit=1\n"
     ]
    },
    {
     "name": "stdout",
     "output_type": "stream",
     "text": [
      "Error with bing: Provide API Key\n",
      "Berhasil update: -6.3189062, 106.6683414\n",
      "\n",
      "Alamat berbeda ditemukan:\n",
      "Original: Gardu\n",
      "Perlu diupdate: Kp jati\n"
     ]
    },
    {
     "name": "stderr",
     "output_type": "stream",
     "text": [
      "Status code 403 from https://nominatim.openstreetmap.org/search: ERROR - 403 Client Error: Forbidden for url: https://nominatim.openstreetmap.org/search?q=Kp+jati%2C+SERPONG%2C+Tangerang+Selatan%2C+Banten%2C+Indonesia&format=jsonv2&addressdetails=1&limit=1\n"
     ]
    },
    {
     "name": "stdout",
     "output_type": "stream",
     "text": [
      "Error with bing: Provide API Key\n",
      "Berhasil update: -6.3189062, 106.6683414\n",
      "\n",
      "Alamat berbeda ditemukan:\n",
      "Original: Gardu\n",
      "Perlu diupdate: JL. H JAMAT\n"
     ]
    },
    {
     "name": "stderr",
     "output_type": "stream",
     "text": [
      "Status code 403 from https://nominatim.openstreetmap.org/search: ERROR - 403 Client Error: Forbidden for url: https://nominatim.openstreetmap.org/search?q=Jalan+H+JAMAT%2C+SERPONG%2C+Tangerang+Selatan%2C+Banten%2C+Indonesia&format=jsonv2&addressdetails=1&limit=1\n"
     ]
    },
    {
     "name": "stdout",
     "output_type": "stream",
     "text": [
      "Error with bing: Provide API Key\n",
      "Berhasil update: -6.3189062, 106.6683414\n",
      "\n",
      "Alamat berbeda ditemukan:\n",
      "Original: Gardu\n",
      "Perlu diupdate: Jalan Baru\n"
     ]
    },
    {
     "name": "stderr",
     "output_type": "stream",
     "text": [
      "Status code 403 from https://nominatim.openstreetmap.org/search: ERROR - 403 Client Error: Forbidden for url: https://nominatim.openstreetmap.org/search?q=Jalan+Baru%2C+SERPONG%2C+Tangerang+Selatan%2C+Banten%2C+Indonesia&format=jsonv2&addressdetails=1&limit=1\n"
     ]
    },
    {
     "name": "stdout",
     "output_type": "stream",
     "text": [
      "Error with bing: Provide API Key\n",
      "Berhasil update: -6.3189062, 106.6683414\n",
      "\n",
      "Alamat berbeda ditemukan:\n",
      "Original: Gardu\n",
      "Perlu diupdate: Kp.Jombang\n"
     ]
    },
    {
     "name": "stderr",
     "output_type": "stream",
     "text": [
      "Status code 403 from https://nominatim.openstreetmap.org/search: ERROR - 403 Client Error: Forbidden for url: https://nominatim.openstreetmap.org/search?q=Kp.Jombang%2C+SERPONG%2C+Tangerang+Selatan%2C+Banten%2C+Indonesia&format=jsonv2&addressdetails=1&limit=1\n"
     ]
    },
    {
     "name": "stdout",
     "output_type": "stream",
     "text": [
      "Error with bing: Provide API Key\n",
      "Berhasil update: -6.3189062, 106.6683414\n",
      "\n",
      "Alamat berbeda ditemukan:\n",
      "Original: Gardu\n",
      "Perlu diupdate: Kp JOMBANG\n"
     ]
    },
    {
     "name": "stderr",
     "output_type": "stream",
     "text": [
      "Status code 403 from https://nominatim.openstreetmap.org/search: ERROR - 403 Client Error: Forbidden for url: https://nominatim.openstreetmap.org/search?q=Kp+JOMBANG%2C+SERPONG%2C+Tangerang+Selatan%2C+Banten%2C+Indonesia&format=jsonv2&addressdetails=1&limit=1\n"
     ]
    },
    {
     "name": "stdout",
     "output_type": "stream",
     "text": [
      "Error with bing: Provide API Key\n",
      "Berhasil update: -6.3189062, 106.6683414\n",
      "\n",
      "Mengupdate koordinat untuk grup -6.318097, 106.731428\n",
      "Jumlah alamat berbeda: 8\n",
      "\n",
      "Alamat berbeda ditemukan:\n",
      "Original: Jl lelev V\n",
      "Perlu diupdate: Jl. H. Rean\n"
     ]
    },
    {
     "name": "stderr",
     "output_type": "stream",
     "text": [
      "Status code 403 from https://nominatim.openstreetmap.org/search: ERROR - 403 Client Error: Forbidden for url: https://nominatim.openstreetmap.org/search?q=Jalan+H.+Rean%2C+PAMULANG%2C+Tangerang+Selatan%2C+Banten%2C+Indonesia&format=jsonv2&addressdetails=1&limit=1\n"
     ]
    },
    {
     "name": "stdout",
     "output_type": "stream",
     "text": [
      "Error with bing: Provide API Key\n",
      "Berhasil update: -6.318097364264928, 106.73142790739055\n",
      "\n",
      "Alamat berbeda ditemukan:\n",
      "Original: Jl lelev V\n",
      "Perlu diupdate: Jl. H Rean\n"
     ]
    },
    {
     "name": "stderr",
     "output_type": "stream",
     "text": [
      "Status code 403 from https://nominatim.openstreetmap.org/search: ERROR - 403 Client Error: Forbidden for url: https://nominatim.openstreetmap.org/search?q=Jalan+H+Rean%2C+PAMULANG%2C+Tangerang+Selatan%2C+Banten%2C+Indonesia&format=jsonv2&addressdetails=1&limit=1\n"
     ]
    },
    {
     "name": "stdout",
     "output_type": "stream",
     "text": [
      "Error with bing: Provide API Key\n",
      "Berhasil update: -6.318097364264928, 106.73142790739055\n",
      "\n",
      "Alamat berbeda ditemukan:\n",
      "Original: Jl lelev V\n",
      "Perlu diupdate: Jl ciledug barat rt.004/ rw 001\n"
     ]
    },
    {
     "name": "stderr",
     "output_type": "stream",
     "text": [
      "Status code 403 from https://nominatim.openstreetmap.org/search: ERROR - 403 Client Error: Forbidden for url: https://nominatim.openstreetmap.org/search?q=Jalan+ciledug+barat+rt.004%2F+rw+001%2C+PAMULANG%2C+Tangerang+Selatan%2C+Banten%2C+Indonesia&format=jsonv2&addressdetails=1&limit=1\n"
     ]
    },
    {
     "name": "stdout",
     "output_type": "stream",
     "text": [
      "Error with bing: Provide API Key\n"
     ]
    },
    {
     "name": "stderr",
     "output_type": "stream",
     "text": [
      "Status code Unknown from https://geocode.arcgis.com/arcgis/rest/services/World/GeocodeServer/find: ERROR - HTTPSConnectionPool(host='geocode.arcgis.com', port=443): Read timed out. (read timeout=5.0)\n"
     ]
    },
    {
     "name": "stdout",
     "output_type": "stream",
     "text": [
      "Gagal mendapatkan koordinat baru untuk: Jl ciledug barat rt.004/ rw 001\n",
      "\n",
      "Alamat berbeda ditemukan:\n",
      "Original: Jl lelev V\n",
      "Perlu diupdate: Jl. Abdul aziz, kp bulak barat\n"
     ]
    },
    {
     "name": "stderr",
     "output_type": "stream",
     "text": [
      "Status code 403 from https://nominatim.openstreetmap.org/search: ERROR - 403 Client Error: Forbidden for url: https://nominatim.openstreetmap.org/search?q=Jalan+Abdul+aziz%2C+kp+bulak+barat%2C+PAMULANG%2C+Tangerang+Selatan%2C+Banten%2C+Indonesia&format=jsonv2&addressdetails=1&limit=1\n"
     ]
    },
    {
     "name": "stdout",
     "output_type": "stream",
     "text": [
      "Error with bing: Provide API Key\n",
      "Berhasil update: -6.318097364264928, 106.73142790739055\n",
      "\n",
      "Alamat berbeda ditemukan:\n",
      "Original: Jl lelev V\n",
      "Perlu diupdate: Jl. Sumber hidup No.69\n"
     ]
    },
    {
     "name": "stderr",
     "output_type": "stream",
     "text": [
      "Status code 403 from https://nominatim.openstreetmap.org/search: ERROR - 403 Client Error: Forbidden for url: https://nominatim.openstreetmap.org/search?q=Jalan+Sumber+hidup+No.69%2C+PAMULANG%2C+Tangerang+Selatan%2C+Banten%2C+Indonesia&format=jsonv2&addressdetails=1&limit=1\n"
     ]
    },
    {
     "name": "stdout",
     "output_type": "stream",
     "text": [
      "Error with bing: Provide API Key\n",
      "Berhasil update: -6.318097364264928, 106.73142790739055\n",
      "\n",
      "Alamat berbeda ditemukan:\n",
      "Original: Jl lelev V\n",
      "Perlu diupdate: Jl. Lobak\n"
     ]
    },
    {
     "name": "stderr",
     "output_type": "stream",
     "text": [
      "Status code 403 from https://nominatim.openstreetmap.org/search: ERROR - 403 Client Error: Forbidden for url: https://nominatim.openstreetmap.org/search?q=Jalan+Lobak%2C+PAMULANG%2C+Tangerang+Selatan%2C+Banten%2C+Indonesia&format=jsonv2&addressdetails=1&limit=1\n"
     ]
    },
    {
     "name": "stdout",
     "output_type": "stream",
     "text": [
      "Error with bing: Provide API Key\n",
      "Berhasil update: -6.318097364264928, 106.73142790739055\n",
      "\n",
      "Alamat berbeda ditemukan:\n",
      "Original: Jl lelev V\n",
      "Perlu diupdate: jl kentang RT 04 RW 07 no 105\n"
     ]
    },
    {
     "name": "stderr",
     "output_type": "stream",
     "text": [
      "Status code 403 from https://nominatim.openstreetmap.org/search: ERROR - 403 Client Error: Forbidden for url: https://nominatim.openstreetmap.org/search?q=jl+kentang+04+07+no+105%2C+PAMULANG%2C+Tangerang+Selatan%2C+Banten%2C+Indonesia&format=jsonv2&addressdetails=1&limit=1\n"
     ]
    },
    {
     "name": "stdout",
     "output_type": "stream",
     "text": [
      "Error with bing: Provide API Key\n",
      "Berhasil update: -6.318097364264928, 106.73142790739055\n",
      "\n",
      "Mengupdate koordinat untuk grup -6.317816, 106.754355\n",
      "Jumlah alamat berbeda: 3\n",
      "\n",
      "Alamat berbeda ditemukan:\n",
      "Original: Jl. Legoso Raya\n",
      "Perlu diupdate: Jl legeso raya\n"
     ]
    },
    {
     "name": "stderr",
     "output_type": "stream",
     "text": [
      "Status code 403 from https://nominatim.openstreetmap.org/search: ERROR - 403 Client Error: Forbidden for url: https://nominatim.openstreetmap.org/search?q=Jalan+legeso+raya%2C+CIPUTAT+TIMUR%2C+Tangerang+Selatan%2C+Banten%2C+Indonesia&format=jsonv2&addressdetails=1&limit=1\n"
     ]
    },
    {
     "name": "stdout",
     "output_type": "stream",
     "text": [
      "Error with bing: Provide API Key\n",
      "Berhasil update: -6.31781612997939, 106.75435544989259\n",
      "\n",
      "Alamat berbeda ditemukan:\n",
      "Original: Jl. Legoso Raya\n",
      "Perlu diupdate: Jl Legoso raya no 74\n"
     ]
    },
    {
     "name": "stderr",
     "output_type": "stream",
     "text": [
      "Status code 403 from https://nominatim.openstreetmap.org/search: ERROR - 403 Client Error: Forbidden for url: https://nominatim.openstreetmap.org/search?q=Jalan+Legoso+raya+no+74%2C+CIPUTAT+TIMUR%2C+Tangerang+Selatan%2C+Banten%2C+Indonesia&format=jsonv2&addressdetails=1&limit=1\n"
     ]
    },
    {
     "name": "stdout",
     "output_type": "stream",
     "text": [
      "Error with bing: Provide API Key\n",
      "Berhasil update: -6.31781612997939, 106.75435544989259\n",
      "\n",
      "Mengupdate koordinat untuk grup -6.316888, 106.740404\n",
      "Jumlah alamat berbeda: 5\n",
      "\n",
      "Alamat berbeda ditemukan:\n",
      "Original: Jl Oscar raya no.101B\n",
      "Perlu diupdate: Jl h rean no 92\n"
     ]
    },
    {
     "name": "stderr",
     "output_type": "stream",
     "text": [
      "Status code 403 from https://nominatim.openstreetmap.org/search: ERROR - 403 Client Error: Forbidden for url: https://nominatim.openstreetmap.org/search?q=Jalan+h+rean+no+92%2C+PAMULANG%2C+Tangerang+Selatan%2C+Banten%2C+Indonesia&format=jsonv2&addressdetails=1&limit=1\n"
     ]
    },
    {
     "name": "stdout",
     "output_type": "stream",
     "text": [
      "Error with bing: Provide API Key\n",
      "Berhasil update: -6.316888, 106.740404\n",
      "\n",
      "Alamat berbeda ditemukan:\n",
      "Original: Jl Oscar raya no.101B\n",
      "Perlu diupdate: Jl graha indah 2\n"
     ]
    },
    {
     "name": "stderr",
     "output_type": "stream",
     "text": [
      "Status code 403 from https://nominatim.openstreetmap.org/search: ERROR - 403 Client Error: Forbidden for url: https://nominatim.openstreetmap.org/search?q=Jalan+graha+indah+2%2C+PAMULANG%2C+Tangerang+Selatan%2C+Banten%2C+Indonesia&format=jsonv2&addressdetails=1&limit=1\n"
     ]
    },
    {
     "name": "stdout",
     "output_type": "stream",
     "text": [
      "Error with bing: Provide API Key\n",
      "Berhasil update: -6.316888, 106.740404\n",
      "\n",
      "Alamat berbeda ditemukan:\n",
      "Original: Jl Oscar raya no.101B\n",
      "Perlu diupdate: Jl h sala no 23\n"
     ]
    },
    {
     "name": "stderr",
     "output_type": "stream",
     "text": [
      "Status code 403 from https://nominatim.openstreetmap.org/search: ERROR - 403 Client Error: Forbidden for url: https://nominatim.openstreetmap.org/search?q=Jalan+h+sala+no+23%2C+PAMULANG%2C+Tangerang+Selatan%2C+Banten%2C+Indonesia&format=jsonv2&addressdetails=1&limit=1\n"
     ]
    },
    {
     "name": "stdout",
     "output_type": "stream",
     "text": [
      "Error with bing: Provide API Key\n",
      "Berhasil update: -6.316888, 106.740404\n",
      "\n",
      "Alamat berbeda ditemukan:\n",
      "Original: Jl Oscar raya no.101B\n",
      "Perlu diupdate: GANG HAJI MANAFE\n"
     ]
    },
    {
     "name": "stderr",
     "output_type": "stream",
     "text": [
      "Status code Unknown from https://nominatim.openstreetmap.org/search: ERROR - HTTPSConnectionPool(host='nominatim.openstreetmap.org', port=443): Read timed out. (read timeout=5.0)\n"
     ]
    },
    {
     "name": "stdout",
     "output_type": "stream",
     "text": [
      "Error with bing: Provide API Key\n",
      "Berhasil update: -6.316888, 106.740404\n",
      "\n",
      "Mengupdate koordinat untuk grup -6.314359, 106.698715\n",
      "Jumlah alamat berbeda: 4\n",
      "\n",
      "Alamat berbeda ditemukan:\n",
      "Original: Kp ciater tengah\n",
      "Perlu diupdate: Jl. Ciater\n"
     ]
    },
    {
     "name": "stderr",
     "output_type": "stream",
     "text": [
      "Status code 403 from https://nominatim.openstreetmap.org/search: ERROR - 403 Client Error: Forbidden for url: https://nominatim.openstreetmap.org/search?q=Jalan+Ciater%2C+SERPONG%2C+Tangerang+Selatan%2C+Banten%2C+Indonesia&format=jsonv2&addressdetails=1&limit=1\n"
     ]
    },
    {
     "name": "stdout",
     "output_type": "stream",
     "text": [
      "Error with bing: Provide API Key\n",
      "Berhasil update: -6.314358865698776, 106.69871489393316\n",
      "\n",
      "Alamat berbeda ditemukan:\n",
      "Original: Kp ciater tengah\n",
      "Perlu diupdate: Kp. Ciater tengah\n"
     ]
    },
    {
     "name": "stderr",
     "output_type": "stream",
     "text": [
      "Status code 403 from https://nominatim.openstreetmap.org/search: ERROR - 403 Client Error: Forbidden for url: https://nominatim.openstreetmap.org/search?q=Kp.+Ciater+tengah%2C+SERPONG%2C+Tangerang+Selatan%2C+Banten%2C+Indonesia&format=jsonv2&addressdetails=1&limit=1\n"
     ]
    },
    {
     "name": "stdout",
     "output_type": "stream",
     "text": [
      "Error with bing: Provide API Key\n",
      "Berhasil update: -6.314358865698776, 106.69871489393316\n",
      "\n",
      "Alamat berbeda ditemukan:\n",
      "Original: Kp ciater tengah\n",
      "Perlu diupdate: Jl.raya Ciater barat\n"
     ]
    },
    {
     "name": "stderr",
     "output_type": "stream",
     "text": [
      "Status code 403 from https://nominatim.openstreetmap.org/search: ERROR - 403 Client Error: Forbidden for url: https://nominatim.openstreetmap.org/search?q=Jalanraya+Ciater+barat%2C+SERPONG%2C+Tangerang+Selatan%2C+Banten%2C+Indonesia&format=jsonv2&addressdetails=1&limit=1\n"
     ]
    },
    {
     "name": "stdout",
     "output_type": "stream",
     "text": [
      "Error with bing: Provide API Key\n",
      "Berhasil update: -6.314358865698776, 106.69871489393316\n",
      "\n",
      "Mengupdate koordinat untuk grup -6.309482, 106.714842\n",
      "Jumlah alamat berbeda: 2\n",
      "\n",
      "Alamat berbeda ditemukan:\n",
      "Original: Jl. Nusa Indah kav 446\n",
      "Perlu diupdate: Jl. Nusa indah Kav AA6\n"
     ]
    },
    {
     "name": "stderr",
     "output_type": "stream",
     "text": [
      "Status code 403 from https://nominatim.openstreetmap.org/search: ERROR - 403 Client Error: Forbidden for url: https://nominatim.openstreetmap.org/search?q=Jalan+Nusa+indah+Kav+AA6%2C+CIPUTAT%2C+Tangerang+Selatan%2C+Banten%2C+Indonesia&format=jsonv2&addressdetails=1&limit=1\n"
     ]
    },
    {
     "name": "stdout",
     "output_type": "stream",
     "text": [
      "Error with bing: Provide API Key\n",
      "Berhasil update: -6.309482364230689, 106.71484150803103\n",
      "\n",
      "Mengupdate koordinat untuk grup -6.308738, 106.668379\n",
      "Jumlah alamat berbeda: 2\n",
      "\n",
      "Alamat berbeda ditemukan:\n",
      "Original: Jl cilenggang 1\n",
      "Perlu diupdate: Jl. Cilenggang 1\n"
     ]
    },
    {
     "name": "stderr",
     "output_type": "stream",
     "text": [
      "Status code 403 from https://nominatim.openstreetmap.org/search: ERROR - 403 Client Error: Forbidden for url: https://nominatim.openstreetmap.org/search?q=Jalan+Cilenggang+1%2C+SERPONG%2C+Tangerang+Selatan%2C+Banten%2C+Indonesia&format=jsonv2&addressdetails=1&limit=1\n"
     ]
    },
    {
     "name": "stdout",
     "output_type": "stream",
     "text": [
      "Error with bing: Provide API Key\n",
      "Berhasil update: -6.30873842238447, 106.66837884704655\n",
      "\n",
      "Mengupdate koordinat untuk grup -6.306871, 106.746873\n",
      "Jumlah alamat berbeda: 5\n",
      "\n",
      "Alamat berbeda ditemukan:\n",
      "Original: Jl. Ir. H. Juanda No. 06\n",
      "Perlu diupdate: Jl. Otista Raya No. 51\n"
     ]
    },
    {
     "name": "stderr",
     "output_type": "stream",
     "text": [
      "Status code 403 from https://nominatim.openstreetmap.org/search: ERROR - 403 Client Error: Forbidden for url: https://nominatim.openstreetmap.org/search?q=Jalan+Otista+Raya+No.+51%2C+CIPUTAT%2C+Tangerang+Selatan%2C+Banten%2C+Indonesia&format=jsonv2&addressdetails=1&limit=1\n"
     ]
    },
    {
     "name": "stdout",
     "output_type": "stream",
     "text": [
      "Error with bing: Provide API Key\n",
      "Berhasil update: -6.3068708, 106.7468727\n",
      "\n",
      "Alamat berbeda ditemukan:\n",
      "Original: Jl. Ir. H. Juanda No. 06\n",
      "Perlu diupdate: Kp.Cilalung\n"
     ]
    },
    {
     "name": "stderr",
     "output_type": "stream",
     "text": [
      "Status code 403 from https://nominatim.openstreetmap.org/search: ERROR - 403 Client Error: Forbidden for url: https://nominatim.openstreetmap.org/search?q=Kp.Cilalung%2C+CIPUTAT%2C+Tangerang+Selatan%2C+Banten%2C+Indonesia&format=jsonv2&addressdetails=1&limit=1\n"
     ]
    },
    {
     "name": "stdout",
     "output_type": "stream",
     "text": [
      "Error with bing: Provide API Key\n",
      "Berhasil update: -6.3068708, 106.7468727\n",
      "\n",
      "Alamat berbeda ditemukan:\n",
      "Original: Jl. Ir. H. Juanda No. 06\n",
      "Perlu diupdate: Kp. Gunung\n"
     ]
    },
    {
     "name": "stderr",
     "output_type": "stream",
     "text": [
      "Status code 403 from https://nominatim.openstreetmap.org/search: ERROR - 403 Client Error: Forbidden for url: https://nominatim.openstreetmap.org/search?q=Kp.+Gunung%2C+CIPUTAT%2C+Tangerang+Selatan%2C+Banten%2C+Indonesia&format=jsonv2&addressdetails=1&limit=1\n"
     ]
    },
    {
     "name": "stdout",
     "output_type": "stream",
     "text": [
      "Error with bing: Provide API Key\n",
      "Berhasil update: -6.3068708, 106.7468727\n",
      "\n",
      "Alamat berbeda ditemukan:\n",
      "Original: Jl. Ir. H. Juanda No. 06\n",
      "Perlu diupdate: KP. GUNUNG\n"
     ]
    },
    {
     "name": "stderr",
     "output_type": "stream",
     "text": [
      "Status code 403 from https://nominatim.openstreetmap.org/search: ERROR - 403 Client Error: Forbidden for url: https://nominatim.openstreetmap.org/search?q=KP.+GUNUNG%2C+CIPUTAT%2C+Tangerang+Selatan%2C+Banten%2C+Indonesia&format=jsonv2&addressdetails=1&limit=1\n"
     ]
    },
    {
     "name": "stdout",
     "output_type": "stream",
     "text": [
      "Error with bing: Provide API Key\n",
      "Berhasil update: -6.3068708, 106.7468727\n",
      "\n",
      "Mengupdate koordinat untuk grup -6.306306, 106.663452\n",
      "Jumlah alamat berbeda: 3\n",
      "\n",
      "Alamat berbeda ditemukan:\n",
      "Original: Jl Raya Serpong GG Roda Hias\n",
      "Perlu diupdate: KP SERPONG\n"
     ]
    },
    {
     "name": "stderr",
     "output_type": "stream",
     "text": [
      "Status code 403 from https://nominatim.openstreetmap.org/search: ERROR - 403 Client Error: Forbidden for url: https://nominatim.openstreetmap.org/search?q=KP+SERPONG%2C+SERPONG%2C+Tangerang+Selatan%2C+Banten%2C+Indonesia&format=jsonv2&addressdetails=1&limit=1\n"
     ]
    },
    {
     "name": "stdout",
     "output_type": "stream",
     "text": [
      "Error with bing: Provide API Key\n",
      "Berhasil update: -6.319928566536792, 106.66581833583011\n",
      "\n",
      "Alamat berbeda ditemukan:\n",
      "Original: Jl Raya Serpong GG Roda Hias\n",
      "Perlu diupdate: JL.KP Serpong\n"
     ]
    },
    {
     "name": "stderr",
     "output_type": "stream",
     "text": [
      "Status code 403 from https://nominatim.openstreetmap.org/search: ERROR - 403 Client Error: Forbidden for url: https://nominatim.openstreetmap.org/search?q=JalanKP+Serpong%2C+SERPONG%2C+Tangerang+Selatan%2C+Banten%2C+Indonesia&format=jsonv2&addressdetails=1&limit=1\n"
     ]
    },
    {
     "name": "stdout",
     "output_type": "stream",
     "text": [
      "Error with bing: Provide API Key\n",
      "Berhasil update: -6.319928566536792, 106.66581833583011\n",
      "\n",
      "Mengupdate koordinat untuk grup -6.303228, 106.719573\n",
      "Jumlah alamat berbeda: 2\n",
      "\n",
      "Alamat berbeda ditemukan:\n",
      "Original: JL MUSYAWARAH NO 128\n",
      "Perlu diupdate: JL MUSYAWARAH NO 88\n"
     ]
    },
    {
     "name": "stderr",
     "output_type": "stream",
     "text": [
      "Status code 403 from https://nominatim.openstreetmap.org/search: ERROR - 403 Client Error: Forbidden for url: https://nominatim.openstreetmap.org/search?q=Jalan+MUSYAWARAH+NO+88%2C+CIPUTAT%2C+Tangerang+Selatan%2C+Banten%2C+Indonesia&format=jsonv2&addressdetails=1&limit=1\n"
     ]
    },
    {
     "name": "stdout",
     "output_type": "stream",
     "text": [
      "Error with bing: Provide API Key\n",
      "Berhasil update: -6.30232198457341, 106.73850788117318\n",
      "\n",
      "Mengupdate koordinat untuk grup -6.294892, 106.687057\n",
      "Jumlah alamat berbeda: 2\n",
      "\n",
      "Alamat berbeda ditemukan:\n",
      "Original: Jl astek Lengkong gudang\n",
      "Perlu diupdate: jl lengkong gudang timur kel. lengkong gudang timur, kec.Serpong\n"
     ]
    },
    {
     "name": "stderr",
     "output_type": "stream",
     "text": [
      "Status code 403 from https://nominatim.openstreetmap.org/search: ERROR - 403 Client Error: Forbidden for url: https://nominatim.openstreetmap.org/search?q=jl+lengkong+gudang+timur+kel.+lengkong+gudang+timur%2C+kec.Serpong%2C+SERPONG%2C+Tangerang+Selatan%2C+Banten%2C+Indonesia&format=jsonv2&addressdetails=1&limit=1\n"
     ]
    },
    {
     "name": "stdout",
     "output_type": "stream",
     "text": [
      "Error with bing: Provide API Key\n",
      "Berhasil update: -6.294891700845602, 106.68705740159895\n",
      "\n",
      "Mengupdate koordinat untuk grup -6.29482, 106.753074\n",
      "Jumlah alamat berbeda: 2\n",
      "\n",
      "Alamat berbeda ditemukan:\n",
      "Original: Jlan kesatriaan no2 B\n",
      "Perlu diupdate: Jln kesatriaan no2 B\n"
     ]
    },
    {
     "name": "stderr",
     "output_type": "stream",
     "text": [
      "Status code 403 from https://nominatim.openstreetmap.org/search: ERROR - 403 Client Error: Forbidden for url: https://nominatim.openstreetmap.org/search?q=Jln+kesatriaan+no2+B%2C+CIPUTAT+TIMUR%2C+Tangerang+Selatan%2C+Banten%2C+Indonesia&format=jsonv2&addressdetails=1&limit=1\n"
     ]
    },
    {
     "name": "stdout",
     "output_type": "stream",
     "text": [
      "Error with bing: Provide API Key\n",
      "Berhasil update: -6.294820013593338, 106.75307370105435\n",
      "\n",
      "Mengupdate koordinat untuk grup -6.291213, 106.687973\n",
      "Jumlah alamat berbeda: 2\n",
      "\n",
      "Alamat berbeda ditemukan:\n",
      "Original: Lequty Cluster Minimalis Blok D no 3\n",
      "Perlu diupdate: Jl. Raya astek no 69\n"
     ]
    },
    {
     "name": "stderr",
     "output_type": "stream",
     "text": [
      "Status code 403 from https://nominatim.openstreetmap.org/search: ERROR - 403 Client Error: Forbidden for url: https://nominatim.openstreetmap.org/search?q=Jalan+Raya+astek+no+69%2C+SERPONG%2C+Tangerang+Selatan%2C+Banten%2C+Indonesia&format=jsonv2&addressdetails=1&limit=1\n"
     ]
    },
    {
     "name": "stdout",
     "output_type": "stream",
     "text": [
      "Error with bing: Provide API Key\n",
      "Berhasil update: -6.294891700845602, 106.68705740159895\n",
      "\n",
      "Mengupdate koordinat untuk grup -6.284975, 106.736408\n",
      "Jumlah alamat berbeda: 3\n",
      "\n",
      "Alamat berbeda ditemukan:\n",
      "Original: Jl. WR. Supratman, Cemp. Putih\n",
      "Perlu diupdate: Jl wr. Supratman no 51\n"
     ]
    },
    {
     "name": "stderr",
     "output_type": "stream",
     "text": [
      "Status code 403 from https://nominatim.openstreetmap.org/search: ERROR - 403 Client Error: Forbidden for url: https://nominatim.openstreetmap.org/search?q=Jalan+wr.+Supratman+no+51%2C+CIPUTAT+TIMUR%2C+Tangerang+Selatan%2C+Banten%2C+Indonesia&format=jsonv2&addressdetails=1&limit=1\n"
     ]
    },
    {
     "name": "stdout",
     "output_type": "stream",
     "text": [
      "Error with bing: Provide API Key\n",
      "Berhasil update: -6.2849751, 106.7364081\n",
      "\n",
      "Alamat berbeda ditemukan:\n",
      "Original: Jl. WR. Supratman, Cemp. Putih\n",
      "Perlu diupdate: Jl. Wr Supratman Rt.07 rw.06\n"
     ]
    },
    {
     "name": "stderr",
     "output_type": "stream",
     "text": [
      "Status code 403 from https://nominatim.openstreetmap.org/search: ERROR - 403 Client Error: Forbidden for url: https://nominatim.openstreetmap.org/search?q=Jalan+Wr+Supratman+Rt.07+rw.06%2C+CIPUTAT+TIMUR%2C+Tangerang+Selatan%2C+Banten%2C+Indonesia&format=jsonv2&addressdetails=1&limit=1\n"
     ]
    },
    {
     "name": "stdout",
     "output_type": "stream",
     "text": [
      "Error with bing: Provide API Key\n",
      "Berhasil update: -6.2849751, 106.7364081\n",
      "\n",
      "Mengupdate koordinat untuk grup -6.282387, 106.675847\n",
      "Jumlah alamat berbeda: 2\n",
      "\n",
      "Alamat berbeda ditemukan:\n",
      "Original: GG Bintaro no. 127 lengkong Wetan rt.002/009\n",
      "Perlu diupdate: Lengkong wetan no. 87\n"
     ]
    },
    {
     "name": "stderr",
     "output_type": "stream",
     "text": [
      "Status code 403 from https://nominatim.openstreetmap.org/search: ERROR - 403 Client Error: Forbidden for url: https://nominatim.openstreetmap.org/search?q=Lengkong+wetan+no.+87%2C+SERPONG%2C+Tangerang+Selatan%2C+Banten%2C+Indonesia&format=jsonv2&addressdetails=1&limit=1\n"
     ]
    },
    {
     "name": "stdout",
     "output_type": "stream",
     "text": [
      "Error with bing: Provide API Key\n",
      "Berhasil update: -6.2823872, 106.675847\n",
      "\n",
      "Mengupdate koordinat untuk grup -6.27027, 106.746692\n",
      "Jumlah alamat berbeda: 2\n",
      "\n",
      "Alamat berbeda ditemukan:\n",
      "Original: Jl. Bintaro Utama 3 Blok AP No. 67\n",
      "Perlu diupdate: Jalan Masjid Baiturachim No 04\n"
     ]
    },
    {
     "name": "stderr",
     "output_type": "stream",
     "text": [
      "Status code 403 from https://nominatim.openstreetmap.org/search: ERROR - 403 Client Error: Forbidden for url: https://nominatim.openstreetmap.org/search?q=Jalan+Masjid+Baiturachim+No+04%2C+PONDOK+AREN%2C+Tangerang+Selatan%2C+Banten%2C+Indonesia&format=jsonv2&addressdetails=1&limit=1\n"
     ]
    },
    {
     "name": "stdout",
     "output_type": "stream",
     "text": [
      "Error with bing: Provide API Key\n",
      "Berhasil update: -6.264131519135148, 106.73858667106305\n",
      "\n",
      "Mengupdate koordinat untuk grup -6.265582, 106.749917\n",
      "Jumlah alamat berbeda: 3\n",
      "\n",
      "Alamat berbeda ditemukan:\n",
      "Original: JLN. KEBON KOPI\n",
      "Perlu diupdate: Jln kebun kopi\n"
     ]
    },
    {
     "name": "stderr",
     "output_type": "stream",
     "text": [
      "Status code 403 from https://nominatim.openstreetmap.org/search: ERROR - 403 Client Error: Forbidden for url: https://nominatim.openstreetmap.org/search?q=Jln+kebun+kopi%2C+PONDOK+AREN%2C+Tangerang+Selatan%2C+Banten%2C+Indonesia&format=jsonv2&addressdetails=1&limit=1\n"
     ]
    },
    {
     "name": "stdout",
     "output_type": "stream",
     "text": [
      "Error with bing: Provide API Key\n",
      "Berhasil update: -6.265582456621202, 106.74991685136233\n",
      "\n",
      "Alamat berbeda ditemukan:\n",
      "Original: JLN. KEBON KOPI\n",
      "Perlu diupdate: Jl Kebon kopi RT.004 RW.04\n"
     ]
    },
    {
     "name": "stderr",
     "output_type": "stream",
     "text": [
      "Status code 403 from https://nominatim.openstreetmap.org/search: ERROR - 403 Client Error: Forbidden for url: https://nominatim.openstreetmap.org/search?q=Jalan+Kebon+kopi%2C+PONDOK+AREN%2C+Tangerang+Selatan%2C+Banten%2C+Indonesia&format=jsonv2&addressdetails=1&limit=1\n"
     ]
    },
    {
     "name": "stdout",
     "output_type": "stream",
     "text": [
      "Error with bing: Provide API Key\n",
      "Berhasil update: -6.265582456621202, 106.74991685136233\n",
      "\n",
      "Mengupdate koordinat untuk grup -6.263128, 106.714039\n",
      "Jumlah alamat berbeda: 5\n",
      "\n",
      "Alamat berbeda ditemukan:\n",
      "Original: KP LIO\n",
      "Perlu diupdate: JL. H. SAPRI KAV .1 No.37\n"
     ]
    },
    {
     "name": "stderr",
     "output_type": "stream",
     "text": [
      "Status code 403 from https://nominatim.openstreetmap.org/search: ERROR - 403 Client Error: Forbidden for url: https://nominatim.openstreetmap.org/search?q=Jalan+H.+SAPRI+KAV+.1+No.37%2C+PONDOK+AREN%2C+Tangerang+Selatan%2C+Banten%2C+Indonesia&format=jsonv2&addressdetails=1&limit=1\n"
     ]
    },
    {
     "name": "stdout",
     "output_type": "stream",
     "text": [
      "Error with bing: Provide API Key\n",
      "Berhasil update: -6.2631282, 106.7140394\n",
      "\n",
      "Alamat berbeda ditemukan:\n",
      "Original: KP LIO\n",
      "Perlu diupdate: Kp. Pladen\n"
     ]
    },
    {
     "name": "stderr",
     "output_type": "stream",
     "text": [
      "Status code 403 from https://nominatim.openstreetmap.org/search: ERROR - 403 Client Error: Forbidden for url: https://nominatim.openstreetmap.org/search?q=Kp.+Pladen%2C+PONDOK+AREN%2C+Tangerang+Selatan%2C+Banten%2C+Indonesia&format=jsonv2&addressdetails=1&limit=1\n"
     ]
    },
    {
     "name": "stdout",
     "output_type": "stream",
     "text": [
      "Error with bing: Provide API Key\n",
      "Berhasil update: -6.2631282, 106.7140394\n",
      "\n",
      "Alamat berbeda ditemukan:\n",
      "Original: KP LIO\n",
      "Perlu diupdate: Jl. Raya Prima samping apotiksumber berkat\n"
     ]
    },
    {
     "name": "stderr",
     "output_type": "stream",
     "text": [
      "Status code 403 from https://nominatim.openstreetmap.org/search: ERROR - 403 Client Error: Forbidden for url: https://nominatim.openstreetmap.org/search?q=Jalan+Raya+Prima+samping+apotiksumber+berkat%2C+PONDOK+AREN%2C+Tangerang+Selatan%2C+Banten%2C+Indonesia&format=jsonv2&addressdetails=1&limit=1\n"
     ]
    },
    {
     "name": "stdout",
     "output_type": "stream",
     "text": [
      "Error with bing: Provide API Key\n",
      "Berhasil update: -6.2631282, 106.7140394\n",
      "\n",
      "Alamat berbeda ditemukan:\n",
      "Original: KP LIO\n",
      "Perlu diupdate: Jl. Karya Usaha No. 37\n"
     ]
    },
    {
     "name": "stderr",
     "output_type": "stream",
     "text": [
      "Status code 403 from https://nominatim.openstreetmap.org/search: ERROR - 403 Client Error: Forbidden for url: https://nominatim.openstreetmap.org/search?q=Jalan+Karya+Usaha+No.+37%2C+PONDOK+AREN%2C+Tangerang+Selatan%2C+Banten%2C+Indonesia&format=jsonv2&addressdetails=1&limit=1\n"
     ]
    },
    {
     "name": "stdout",
     "output_type": "stream",
     "text": [
      "Error with bing: Provide API Key\n",
      "Berhasil update: -6.2631282, 106.7140394\n",
      "\n",
      "Mengupdate koordinat untuk grup -6.262522, 106.730308\n",
      "Jumlah alamat berbeda: 2\n",
      "\n",
      "Alamat berbeda ditemukan:\n",
      "Original: Jl Ceger Raya no. 59 rt 002 rw 001\n",
      "Perlu diupdate: Jl. Ceger Raya No. 57 Rt. 2/Rw. 1\n"
     ]
    },
    {
     "name": "stderr",
     "output_type": "stream",
     "text": [
      "Status code 403 from https://nominatim.openstreetmap.org/search: ERROR - 403 Client Error: Forbidden for url: https://nominatim.openstreetmap.org/search?q=Jalan+Ceger+Raya+No.+57+Rt.+2%2FRw.+1%2C+PONDOK+AREN%2C+Tangerang+Selatan%2C+Banten%2C+Indonesia&format=jsonv2&addressdetails=1&limit=1\n"
     ]
    },
    {
     "name": "stdout",
     "output_type": "stream",
     "text": [
      "Error with bing: Provide API Key\n",
      "Berhasil update: -6.262521913138013, 106.73030819021704\n",
      "\n",
      "Mengupdate koordinat untuk grup -6.26158, 106.695966\n",
      "Jumlah alamat berbeda: 2\n",
      "\n",
      "Alamat berbeda ditemukan:\n",
      "Original: Kp pondok aren rt005/02\n",
      "Perlu diupdate: Kebon Manggis\n"
     ]
    },
    {
     "name": "stderr",
     "output_type": "stream",
     "text": [
      "Status code 403 from https://nominatim.openstreetmap.org/search: ERROR - 403 Client Error: Forbidden for url: https://nominatim.openstreetmap.org/search?q=Kebon+Manggis%2C+PONDOK+AREN%2C+Tangerang+Selatan%2C+Banten%2C+Indonesia&format=jsonv2&addressdetails=1&limit=1\n"
     ]
    },
    {
     "name": "stdout",
     "output_type": "stream",
     "text": [
      "Error with bing: Provide API Key\n",
      "Berhasil update: -6.2488, 106.6954\n",
      "\n",
      "Mengupdate koordinat untuk grup -6.26099, 106.709779\n",
      "Jumlah alamat berbeda: 7\n",
      "\n",
      "Alamat berbeda ditemukan:\n",
      "Original: JL. PERTANIAN RT.002/021\n",
      "Perlu diupdate: JL. H. SARMAH\n"
     ]
    },
    {
     "name": "stderr",
     "output_type": "stream",
     "text": [
      "Status code 403 from https://nominatim.openstreetmap.org/search: ERROR - 403 Client Error: Forbidden for url: https://nominatim.openstreetmap.org/search?q=Jalan+H.+SARMAH%2C+PONDOK+AREN%2C+Tangerang+Selatan%2C+Banten%2C+Indonesia&format=jsonv2&addressdetails=1&limit=1\n"
     ]
    },
    {
     "name": "stdout",
     "output_type": "stream",
     "text": [
      "Error with bing: Provide API Key\n",
      "Berhasil update: -6.260990098290655, 106.70977864279983\n",
      "\n",
      "Alamat berbeda ditemukan:\n",
      "Original: JL. PERTANIAN RT.002/021\n",
      "Perlu diupdate: Jl. Rawa bunga IX no. 26\n"
     ]
    },
    {
     "name": "stderr",
     "output_type": "stream",
     "text": [
      "Status code 403 from https://nominatim.openstreetmap.org/search: ERROR - 403 Client Error: Forbidden for url: https://nominatim.openstreetmap.org/search?q=Jalan+Rawa+bunga+IX+no.+26%2C+PONDOK+AREN%2C+Tangerang+Selatan%2C+Banten%2C+Indonesia&format=jsonv2&addressdetails=1&limit=1\n"
     ]
    },
    {
     "name": "stdout",
     "output_type": "stream",
     "text": [
      "Error with bing: Provide API Key\n",
      "Berhasil update: -6.260990098290655, 106.70977864279983\n",
      "\n",
      "Alamat berbeda ditemukan:\n",
      "Original: JL. PERTANIAN RT.002/021\n",
      "Perlu diupdate: Jl. H. Sarmah\n"
     ]
    },
    {
     "name": "stderr",
     "output_type": "stream",
     "text": [
      "Status code 403 from https://nominatim.openstreetmap.org/search: ERROR - 403 Client Error: Forbidden for url: https://nominatim.openstreetmap.org/search?q=Jalan+H.+Sarmah%2C+PONDOK+AREN%2C+Tangerang+Selatan%2C+Banten%2C+Indonesia&format=jsonv2&addressdetails=1&limit=1\n"
     ]
    },
    {
     "name": "stdout",
     "output_type": "stream",
     "text": [
      "Error with bing: Provide API Key\n",
      "Berhasil update: -6.260990098290655, 106.70977864279983\n",
      "\n",
      "Alamat berbeda ditemukan:\n",
      "Original: JL. PERTANIAN RT.002/021\n",
      "Perlu diupdate: Jl perumahan maharta 6 , blok A, ruko nomer 1\n"
     ]
    },
    {
     "name": "stderr",
     "output_type": "stream",
     "text": [
      "Status code 403 from https://nominatim.openstreetmap.org/search: ERROR - 403 Client Error: Forbidden for url: https://nominatim.openstreetmap.org/search?q=Jalan+perumahan+maharta+6+%2C+blok+A%2C+ruko+nomer+1%2C+PONDOK+AREN%2C+Tangerang+Selatan%2C+Banten%2C+Indonesia&format=jsonv2&addressdetails=1&limit=1\n"
     ]
    },
    {
     "name": "stdout",
     "output_type": "stream",
     "text": [
      "Error with bing: Provide API Key\n",
      "Berhasil update: -6.260990098290655, 106.70977864279983\n",
      "\n",
      "Alamat berbeda ditemukan:\n",
      "Original: JL. PERTANIAN RT.002/021\n",
      "Perlu diupdate: JL. HJ. SARMAH\n"
     ]
    },
    {
     "name": "stderr",
     "output_type": "stream",
     "text": [
      "Status code 403 from https://nominatim.openstreetmap.org/search: ERROR - 403 Client Error: Forbidden for url: https://nominatim.openstreetmap.org/search?q=Jalan+HJ.+SARMAH%2C+PONDOK+AREN%2C+Tangerang+Selatan%2C+Banten%2C+Indonesia&format=jsonv2&addressdetails=1&limit=1\n"
     ]
    },
    {
     "name": "stdout",
     "output_type": "stream",
     "text": [
      "Error with bing: Provide API Key\n",
      "Berhasil update: -6.260990098290655, 106.70977864279983\n",
      "\n",
      "Alamat berbeda ditemukan:\n",
      "Original: JL. PERTANIAN RT.002/021\n",
      "Perlu diupdate: JL. CAMAT\n"
     ]
    },
    {
     "name": "stderr",
     "output_type": "stream",
     "text": [
      "Status code 403 from https://nominatim.openstreetmap.org/search: ERROR - 403 Client Error: Forbidden for url: https://nominatim.openstreetmap.org/search?q=Jalan+CAMAT%2C+PONDOK+AREN%2C+Tangerang+Selatan%2C+Banten%2C+Indonesia&format=jsonv2&addressdetails=1&limit=1\n"
     ]
    },
    {
     "name": "stdout",
     "output_type": "stream",
     "text": [
      "Error with bing: Provide API Key\n",
      "Berhasil update: -6.260990098290655, 106.70977864279983\n",
      "\n",
      "Mengupdate koordinat untuk grup -6.259262, 106.749234\n",
      "Jumlah alamat berbeda: 2\n",
      "\n",
      "Alamat berbeda ditemukan:\n",
      "Original: JL. AREN II NO.37, PD. BETUNG\n",
      "Perlu diupdate: KP. PONDOK AREN JL. AREN II NO.5\n"
     ]
    },
    {
     "name": "stderr",
     "output_type": "stream",
     "text": [
      "Status code 403 from https://nominatim.openstreetmap.org/search: ERROR - 403 Client Error: Forbidden for url: https://nominatim.openstreetmap.org/search?q=KP.+PONDOK+AREN+Jalan+AREN+II+NO.5%2C+PONDOK+AREN%2C+Tangerang+Selatan%2C+Banten%2C+Indonesia&format=jsonv2&addressdetails=1&limit=1\n"
     ]
    },
    {
     "name": "stdout",
     "output_type": "stream",
     "text": [
      "Error with bing: Provide API Key\n",
      "Berhasil update: -6.25926200996325, 106.74923439438044\n",
      "\n",
      "Mengupdate koordinat untuk grup -6.25715, 106.728569\n",
      "Jumlah alamat berbeda: 2\n",
      "\n",
      "Alamat berbeda ditemukan:\n",
      "Original: Jl ujung kenari\n",
      "Perlu diupdate: Jln. Ujung kenari RT.003 RW.08\n"
     ]
    },
    {
     "name": "stderr",
     "output_type": "stream",
     "text": [
      "Status code 403 from https://nominatim.openstreetmap.org/search: ERROR - 403 Client Error: Forbidden for url: https://nominatim.openstreetmap.org/search?q=Jln.+Ujung+kenari%2C+PONDOK+AREN%2C+Tangerang+Selatan%2C+Banten%2C+Indonesia&format=jsonv2&addressdetails=1&limit=1\n"
     ]
    },
    {
     "name": "stdout",
     "output_type": "stream",
     "text": [
      "Error with bing: Provide API Key\n",
      "Berhasil update: -6.257150244659041, 106.72856901563\n",
      "\n",
      "Mengupdate koordinat untuk grup -6.252252, 106.670506\n",
      "Jumlah alamat berbeda: 3\n",
      "\n",
      "Alamat berbeda ditemukan:\n",
      "Original: Jalan Baru Selatan\n",
      "Perlu diupdate: Jalan Gang Mawi RT 003 RW 002\n"
     ]
    },
    {
     "name": "stderr",
     "output_type": "stream",
     "text": [
      "Status code 403 from https://nominatim.openstreetmap.org/search: ERROR - 403 Client Error: Forbidden for url: https://nominatim.openstreetmap.org/search?q=Jalan+Gang+Mawi+003+002%2C+SERPONG+UTARA%2C+Tangerang+Selatan%2C+Banten%2C+Indonesia&format=jsonv2&addressdetails=1&limit=1\n"
     ]
    },
    {
     "name": "stdout",
     "output_type": "stream",
     "text": [
      "Error with bing: Provide API Key\n",
      "Berhasil update: -6.241097371283503, 106.65462422481203\n",
      "\n",
      "Alamat berbeda ditemukan:\n",
      "Original: Jalan Baru Selatan\n",
      "Perlu diupdate: Jalan Bhayangkara I\n"
     ]
    },
    {
     "name": "stderr",
     "output_type": "stream",
     "text": [
      "Status code 403 from https://nominatim.openstreetmap.org/search: ERROR - 403 Client Error: Forbidden for url: https://nominatim.openstreetmap.org/search?q=Jalan+Bhayangkara+I%2C+SERPONG+UTARA%2C+Tangerang+Selatan%2C+Banten%2C+Indonesia&format=jsonv2&addressdetails=1&limit=1\n"
     ]
    },
    {
     "name": "stdout",
     "output_type": "stream",
     "text": [
      "Error with bing: Provide API Key\n",
      "Berhasil update: -6.236208957094359, 106.67231077301588\n",
      "\n",
      "Mengupdate koordinat untuk grup -6.245577, 106.67512\n",
      "Jumlah alamat berbeda: 3\n",
      "\n",
      "Alamat berbeda ditemukan:\n",
      "Original: KP. BUARAN\n",
      "Perlu diupdate: Kamurang atas\n"
     ]
    },
    {
     "name": "stderr",
     "output_type": "stream",
     "text": [
      "Status code 403 from https://nominatim.openstreetmap.org/search: ERROR - 403 Client Error: Forbidden for url: https://nominatim.openstreetmap.org/search?q=Kamurang+atas%2C+SERPONG+UTARA%2C+Tangerang+Selatan%2C+Banten%2C+Indonesia&format=jsonv2&addressdetails=1&limit=1\n"
     ]
    },
    {
     "name": "stdout",
     "output_type": "stream",
     "text": [
      "Error with bing: Provide API Key\n",
      "Berhasil update: -6.2455771, 106.6751195\n",
      "\n",
      "Alamat berbeda ditemukan:\n",
      "Original: KP. BUARAN\n",
      "Perlu diupdate: Kamurang Atas RT. 002/001\n"
     ]
    },
    {
     "name": "stderr",
     "output_type": "stream",
     "text": [
      "Status code 403 from https://nominatim.openstreetmap.org/search: ERROR - 403 Client Error: Forbidden for url: https://nominatim.openstreetmap.org/search?q=Kamurang+Atas+002%2F001%2C+SERPONG+UTARA%2C+Tangerang+Selatan%2C+Banten%2C+Indonesia&format=jsonv2&addressdetails=1&limit=1\n"
     ]
    },
    {
     "name": "stdout",
     "output_type": "stream",
     "text": [
      "Error with bing: Provide API Key\n",
      "Berhasil update: -6.2455771, 106.6751195\n",
      "\n",
      "Mengupdate koordinat untuk grup -6.0, 107.0\n",
      "Jumlah alamat berbeda: 11\n",
      "\n",
      "Alamat berbeda ditemukan:\n",
      "Original: Pondok Cipayung Mas Jl. Gelatik Blok E No.5 Tangerang Selatan\n",
      "Perlu diupdate: Jl. Bukit Seruaraya, Ruko Grand Serpong Blok A No. 7\n"
     ]
    },
    {
     "name": "stderr",
     "output_type": "stream",
     "text": [
      "Status code 403 from https://nominatim.openstreetmap.org/search: ERROR - 403 Client Error: Forbidden for url: https://nominatim.openstreetmap.org/search?q=Jalan+Bukit+Seruaraya%2C+Ruko+Grand+Serpong+Blok+A+No.+7%2C+CIPUTAT%2C+Tangerang+Selatan%2C+Banten%2C+Indonesia&format=jsonv2&addressdetails=1&limit=1\n"
     ]
    },
    {
     "name": "stdout",
     "output_type": "stream",
     "text": [
      "Error with bing: Provide API Key\n",
      "Berhasil update: -6.337608473864829, 106.75338063640724\n",
      "\n",
      "Alamat berbeda ditemukan:\n",
      "Original: Pondok Cipayung Mas Jl. Gelatik Blok E No.5 Tangerang Selatan\n",
      "Perlu diupdate: Jl Suka Mulya IV Blok F 24\n"
     ]
    },
    {
     "name": "stderr",
     "output_type": "stream",
     "text": [
      "Status code 403 from https://nominatim.openstreetmap.org/search: ERROR - 403 Client Error: Forbidden for url: https://nominatim.openstreetmap.org/search?q=Jalan+Suka+Mulya+IV+Blok+F+24%2C+CIPUTAT%2C+Tangerang+Selatan%2C+Banten%2C+Indonesia&format=jsonv2&addressdetails=1&limit=1\n"
     ]
    },
    {
     "name": "stdout",
     "output_type": "stream",
     "text": [
      "Error with bing: Provide API Key\n",
      "Berhasil update: -6.318652991353844, 106.72622101694634\n",
      "\n",
      "Alamat berbeda ditemukan:\n",
      "Original: Pondok Cipayung Mas Jl. Gelatik Blok E No.5 Tangerang Selatan\n",
      "Perlu diupdate: Jln garuda\n"
     ]
    },
    {
     "name": "stderr",
     "output_type": "stream",
     "text": [
      "Status code 403 from https://nominatim.openstreetmap.org/search: ERROR - 403 Client Error: Forbidden for url: https://nominatim.openstreetmap.org/search?q=Jln+garuda%2C+CIPUTAT+TIMUR%2C+Tangerang+Selatan%2C+Banten%2C+Indonesia&format=jsonv2&addressdetails=1&limit=1\n"
     ]
    },
    {
     "name": "stdout",
     "output_type": "stream",
     "text": [
      "Error with bing: Provide API Key\n",
      "Berhasil update: -6.2925966445112165, 106.75695768706179\n",
      "\n",
      "Alamat berbeda ditemukan:\n",
      "Original: Pondok Cipayung Mas Jl. Gelatik Blok E No.5 Tangerang Selatan\n",
      "Perlu diupdate: Jl Lele Raya\n"
     ]
    },
    {
     "name": "stderr",
     "output_type": "stream",
     "text": [
      "Status code 403 from https://nominatim.openstreetmap.org/search: ERROR - 403 Client Error: Forbidden for url: https://nominatim.openstreetmap.org/search?q=Jalan+Lele+Raya%2C+PAMULANG%2C+Tangerang+Selatan%2C+Banten%2C+Indonesia&format=jsonv2&addressdetails=1&limit=1\n"
     ]
    },
    {
     "name": "stdout",
     "output_type": "stream",
     "text": [
      "Error with bing: Provide API Key\n",
      "Berhasil update: -6.332340400633365, 106.72872353798854\n",
      "\n",
      "Alamat berbeda ditemukan:\n",
      "Original: Pondok Cipayung Mas Jl. Gelatik Blok E No.5 Tangerang Selatan\n",
      "Perlu diupdate: Jl Lele Ciledug\n"
     ]
    },
    {
     "name": "stderr",
     "output_type": "stream",
     "text": [
      "Status code 403 from https://nominatim.openstreetmap.org/search: ERROR - 403 Client Error: Forbidden for url: https://nominatim.openstreetmap.org/search?q=Jalan+Lele+Ciledug%2C+PAMULANG%2C+Tangerang+Selatan%2C+Banten%2C+Indonesia&format=jsonv2&addressdetails=1&limit=1\n"
     ]
    },
    {
     "name": "stdout",
     "output_type": "stream",
     "text": [
      "Error with bing: Provide API Key\n",
      "Berhasil update: -6.332340400633365, 106.72872353798854\n",
      "\n",
      "Alamat berbeda ditemukan:\n",
      "Original: Pondok Cipayung Mas Jl. Gelatik Blok E No.5 Tangerang Selatan\n",
      "Perlu diupdate: JL LELE RAYA NO 10\n"
     ]
    },
    {
     "name": "stderr",
     "output_type": "stream",
     "text": [
      "Status code 403 from https://nominatim.openstreetmap.org/search: ERROR - 403 Client Error: Forbidden for url: https://nominatim.openstreetmap.org/search?q=Jalan+LELE+RAYA+NO+10%2C+PAMULANG%2C+Tangerang+Selatan%2C+Banten%2C+Indonesia&format=jsonv2&addressdetails=1&limit=1\n"
     ]
    },
    {
     "name": "stdout",
     "output_type": "stream",
     "text": [
      "Error with bing: Provide API Key\n",
      "Berhasil update: -6.332340400633365, 106.72872353798854\n",
      "\n",
      "Alamat berbeda ditemukan:\n",
      "Original: Pondok Cipayung Mas Jl. Gelatik Blok E No.5 Tangerang Selatan\n",
      "Perlu diupdate: JL LELE NO 134\n"
     ]
    },
    {
     "name": "stderr",
     "output_type": "stream",
     "text": [
      "Status code 403 from https://nominatim.openstreetmap.org/search: ERROR - 403 Client Error: Forbidden for url: https://nominatim.openstreetmap.org/search?q=Jalan+LELE+NO+134%2C+PAMULANG%2C+Tangerang+Selatan%2C+Banten%2C+Indonesia&format=jsonv2&addressdetails=1&limit=1\n"
     ]
    },
    {
     "name": "stdout",
     "output_type": "stream",
     "text": [
      "Error with bing: Provide API Key\n",
      "Berhasil update: -6.332340400633365, 106.72872353798854\n",
      "\n",
      "Alamat berbeda ditemukan:\n",
      "Original: Pondok Cipayung Mas Jl. Gelatik Blok E No.5 Tangerang Selatan\n",
      "Perlu diupdate: Jl kemiri gang pelita no 33\n"
     ]
    },
    {
     "name": "stderr",
     "output_type": "stream",
     "text": [
      "Status code 403 from https://nominatim.openstreetmap.org/search: ERROR - 403 Client Error: Forbidden for url: https://nominatim.openstreetmap.org/search?q=Jalan+kemiri+gang+pelita+no+33%2C+PAMULANG%2C+Tangerang+Selatan%2C+Banten%2C+Indonesia&format=jsonv2&addressdetails=1&limit=1\n"
     ]
    },
    {
     "name": "stdout",
     "output_type": "stream",
     "text": [
      "Error with bing: Provide API Key\n",
      "Berhasil update: -6.35473129968361, 106.75544126309335\n",
      "\n",
      "Alamat berbeda ditemukan:\n",
      "Original: Pondok Cipayung Mas Jl. Gelatik Blok E No.5 Tangerang Selatan\n",
      "Perlu diupdate: Jl. Kayu Manis Pd. Cabe Raya\n"
     ]
    },
    {
     "name": "stderr",
     "output_type": "stream",
     "text": [
      "Status code 403 from https://nominatim.openstreetmap.org/search: ERROR - 403 Client Error: Forbidden for url: https://nominatim.openstreetmap.org/search?q=Jalan+Kayu+Manis+Pd.+Cabe+Raya%2C+PAMULANG%2C+Tangerang+Selatan%2C+Banten%2C+Indonesia&format=jsonv2&addressdetails=1&limit=1\n"
     ]
    },
    {
     "name": "stdout",
     "output_type": "stream",
     "text": [
      "Error with bing: Provide API Key\n",
      "Berhasil update: -6.318097364264928, 106.73142790739055\n",
      "\n",
      "Alamat berbeda ditemukan:\n",
      "Original: Pondok Cipayung Mas Jl. Gelatik Blok E No.5 Tangerang Selatan\n",
      "Perlu diupdate: Jl Raya Bintaro Sektor IX\n"
     ]
    },
    {
     "name": "stderr",
     "output_type": "stream",
     "text": [
      "Status code 403 from https://nominatim.openstreetmap.org/search: ERROR - 403 Client Error: Forbidden for url: https://nominatim.openstreetmap.org/search?q=Jalan+Raya+Bintaro+Sektor+IX%2C+PONDOK+AREN%2C+Tangerang+Selatan%2C+Banten%2C+Indonesia&format=jsonv2&addressdetails=1&limit=1\n"
     ]
    },
    {
     "name": "stdout",
     "output_type": "stream",
     "text": [
      "Error with bing: Provide API Key\n",
      "Berhasil update: -6.267317108825859, 106.75254799496584\n",
      "\n",
      "Berhasil mengupdate 141 data koordinat duplikat\n",
      "\n",
      "Data telah disimpan ke merchants_tangsel_final.csv\n",
      "\n",
      "Statistik akhir:\n",
      "Total data: 1088\n",
      "Data dengan koordinat duplikat tersisa: 149\n",
      "\n",
      "Data koordinat duplikat tersisa telah disimpan ke koordinat_duplikat_tersisa.csv\n"
     ]
    }
   ],
   "source": [
    "import pandas as pd\n",
    "import geocoder\n",
    "import time\n",
    "from typing import Optional, Tuple\n",
    "\n",
    "class MultiGeocodingService:\n",
    "    def __init__(self):\n",
    "        self.providers = ['osm', 'bing', 'arcgis']\n",
    "        self.delay = 1\n",
    "    \n",
    "    def clean_address(self, address: str, kecamatan: str) -> str:\n",
    "        \"\"\"\n",
    "        Membersihkan dan memformat alamat\n",
    "        \"\"\"\n",
    "        # Standardisasi format jalan\n",
    "        address = address.replace('JL.', 'Jalan')\n",
    "        address = address.replace('JL ', 'Jalan ')\n",
    "        address = address.replace('Jl.', 'Jalan')\n",
    "        address = address.replace('Jl ', 'Jalan ')\n",
    "        \n",
    "        # Hapus detail RT/RW\n",
    "        address = ' '.join([x for x in address.split() if not ('RT' in x or 'RW' in x)])\n",
    "        \n",
    "        # Format alamat lengkap\n",
    "        full_address = f\"{address}, {kecamatan}, Tangerang Selatan, Banten, Indonesia\"\n",
    "        return full_address\n",
    "\n",
    "    def get_coordinates(self, address: str, kecamatan: str) -> Optional[Tuple[float, float]]:\n",
    "        \"\"\"\n",
    "        Mendapatkan koordinat dari alamat\n",
    "        \"\"\"\n",
    "        clean_addr = self.clean_address(address, kecamatan)\n",
    "        \n",
    "        for provider in self.providers:\n",
    "            try:\n",
    "                g = geocoder.get(clean_addr, provider=provider)\n",
    "                if g.ok:\n",
    "                    time.sleep(self.delay)\n",
    "                    return (g.lat, g.lng)\n",
    "            except Exception as e:\n",
    "                print(f\"Error with {provider}: {str(e)}\")\n",
    "                continue\n",
    "        \n",
    "        return None\n",
    "\n",
    "def update_duplicate_coordinates():\n",
    "    \"\"\"\n",
    "    Mengupdate koordinat yang duplikat dengan alamat berbeda\n",
    "    \"\"\"\n",
    "    try:\n",
    "        # Baca file hasil update sebelumnya\n",
    "        df = pd.read_csv('merchants_tangsel_updated.csv', \n",
    "                        sep=';',\n",
    "                        encoding='utf-8',\n",
    "                        on_bad_lines='warn')\n",
    "        \n",
    "        print(\"\\n=== ANALISIS DAN UPDATE KOORDINAT DUPLIKAT ===\")\n",
    "        print(f\"Total data: {len(df)}\")\n",
    "        \n",
    "        # Bersihkan data koordinat\n",
    "        df['Koordinat'] = df['Koordinat'].astype(str).str.replace('\"', '').str.strip()\n",
    "        \n",
    "        # Pisahkan koordinat\n",
    "        df[['Latitude', 'Longitude']] = df['Koordinat'].str.split(',', expand=True)\n",
    "        \n",
    "        # Bersihkan nilai koordinat\n",
    "        df['Latitude'] = df['Latitude'].str.replace(r'[^\\d.-]', '', regex=True)\n",
    "        df['Longitude'] = df['Longitude'].str.replace(r'[^\\d.-]', '', regex=True)\n",
    "        \n",
    "        # Konversi ke float\n",
    "        df['Latitude'] = pd.to_numeric(df['Latitude'], errors='coerce')\n",
    "        df['Longitude'] = pd.to_numeric(df['Longitude'], errors='coerce')\n",
    "        \n",
    "        # Round koordinat untuk perbandingan\n",
    "        df['Latitude_rounded'] = df['Latitude'].round(6)\n",
    "        df['Longitude_rounded'] = df['Longitude'].round(6)\n",
    "        \n",
    "        # Identifikasi koordinat duplikat\n",
    "        duplicates = df[df.duplicated(subset=['Latitude_rounded', 'Longitude_rounded'], keep=False)].copy()\n",
    "        \n",
    "        print(f\"\\nDitemukan {len(duplicates)} data dengan koordinat duplikat\")\n",
    "        \n",
    "        if len(duplicates) > 0:\n",
    "            # Inisialisasi geocoding service\n",
    "            geocoder_service = MultiGeocodingService()\n",
    "            updated_count = 0\n",
    "            \n",
    "            # Grup berdasarkan koordinat\n",
    "            duplicate_groups = duplicates.groupby(['Latitude_rounded', 'Longitude_rounded'])\n",
    "            \n",
    "            print(\"\\nMemulai proses update koordinat duplikat...\")\n",
    "            \n",
    "            for (lat, lon), group in duplicate_groups:\n",
    "                # Jika ada alamat berbeda dalam grup yang sama\n",
    "                unique_addresses = group['Alamat'].unique()\n",
    "                \n",
    "                if len(unique_addresses) > 1:\n",
    "                    print(f\"\\nMengupdate koordinat untuk grup {lat}, {lon}\")\n",
    "                    print(f\"Jumlah alamat berbeda: {len(unique_addresses)}\")\n",
    "                    \n",
    "                    # Proses setiap alamat berbeda kecuali yang pertama\n",
    "                    first_address = unique_addresses[0]\n",
    "                    for address in unique_addresses[1:]:\n",
    "                        # Dapatkan index untuk alamat ini\n",
    "                        address_indices = group[group['Alamat'] == address].index\n",
    "                        \n",
    "                        print(f\"\\nAlamat berbeda ditemukan:\")\n",
    "                        print(f\"Original: {first_address}\")\n",
    "                        print(f\"Perlu diupdate: {address}\")\n",
    "                        \n",
    "                        # Cari koordinat baru\n",
    "                        for idx in address_indices:\n",
    "                            kecamatan = df.loc[idx, 'Kecamatan']\n",
    "                            result = geocoder_service.get_coordinates(address, kecamatan)\n",
    "                            \n",
    "                            if result:\n",
    "                                df.loc[idx, 'Latitude'] = result[0]\n",
    "                                df.loc[idx, 'Longitude'] = result[1]\n",
    "                                df.loc[idx, 'Koordinat'] = f\"{result[0]}, {result[1]}\"\n",
    "                                updated_count += 1\n",
    "                                print(f\"Berhasil update: {result[0]}, {result[1]}\")\n",
    "                            else:\n",
    "                                print(f\"Gagal mendapatkan koordinat baru untuk: {address}\")\n",
    "            \n",
    "            print(f\"\\nBerhasil mengupdate {updated_count} data koordinat duplikat\")\n",
    "            \n",
    "            # Simpan hasil\n",
    "            output_file = 'merchants_tangsel_final.csv'\n",
    "            df.drop(['Latitude_rounded', 'Longitude_rounded'], axis=1).to_csv(output_file, sep=';', index=False)\n",
    "            print(f\"\\nData telah disimpan ke {output_file}\")\n",
    "            \n",
    "            # Cek ulang duplikat setelah update\n",
    "            df['Latitude'] = pd.to_numeric(df['Latitude'], errors='coerce')\n",
    "            df['Longitude'] = pd.to_numeric(df['Longitude'], errors='coerce')\n",
    "            final_duplicates = df[df.duplicated(subset=['Latitude', 'Longitude'], keep=False)]\n",
    "            \n",
    "            print(\"\\nStatistik akhir:\")\n",
    "            print(f\"Total data: {len(df)}\")\n",
    "            print(f\"Data dengan koordinat duplikat tersisa: {len(final_duplicates)}\")\n",
    "            \n",
    "            # Simpan data duplikat tersisa (yang memiliki alamat sama)\n",
    "            if len(final_duplicates) > 0:\n",
    "                final_duplicates.to_csv('koordinat_duplikat_tersisa.csv', sep=';', index=False)\n",
    "                print(\"\\nData koordinat duplikat tersisa telah disimpan ke koordinat_duplikat_tersisa.csv\")\n",
    "        \n",
    "    except Exception as e:\n",
    "        print(f\"Error dalam pemrosesan data: {str(e)}\")\n",
    "\n",
    "if __name__ == \"__main__\":\n",
    "    update_duplicate_coordinates()"
   ]
  },
  {
   "cell_type": "code",
   "execution_count": null,
   "id": "f7540f2c-a128-481a-919c-b4f7130a832f",
   "metadata": {},
   "outputs": [],
   "source": []
  }
 ],
 "metadata": {
  "kernelspec": {
   "display_name": "Python [conda env:base] *",
   "language": "python",
   "name": "conda-base-py"
  },
  "language_info": {
   "codemirror_mode": {
    "name": "ipython",
    "version": 3
   },
   "file_extension": ".py",
   "mimetype": "text/x-python",
   "name": "python",
   "nbconvert_exporter": "python",
   "pygments_lexer": "ipython3",
   "version": "3.12.7"
  }
 },
 "nbformat": 4,
 "nbformat_minor": 5
}
